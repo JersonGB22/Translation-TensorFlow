{
  "cells": [
    {
      "cell_type": "markdown",
      "metadata": {
        "id": "ezzKLPtx8S6C"
      },
      "source": [
        "# **Text Translation with LSTM Networks**"
      ]
    },
    {
      "cell_type": "markdown",
      "metadata": {
        "id": "JhhWum6YU8kN"
      },
      "source": [
        "This notebook demonstrates the implementation of an English-to-Spanish text translation model using [LSTM networks](https://www.tensorflow.org/api_docs/python/tf/keras/layers/LSTM) with an [Attention mechanism](https://www.tensorflow.org/api_docs/python/tf/keras/layers/MultiHeadAttention). The model is trained on the [ManyThings dataset](https://www.manythings.org/anki/), specifically the Spanish-English pair, which currently contains 141,543 records.\n",
        "\n",
        "**For a more advanced implementation, please visit my [notebook](https://github.com/JersonGB22/Translation-TensorFlow/blob/main/models_transformers/TranslationEN-ES_MarianMT_ManyThings.ipynb), where a Transformer model is used for text translation, achieving better results.**"
      ]
    },
    {
      "cell_type": "markdown",
      "metadata": {
        "id": "43AY8jCC8cp-"
      },
      "source": [
        "## **Imports**"
      ]
    },
    {
      "cell_type": "code",
      "execution_count": null,
      "metadata": {
        "id": "-nk3W0-mi7Cf"
      },
      "outputs": [],
      "source": [
        "# Download the libraries to evaluate the translation\n",
        "!pip install evaluate -q\n",
        "!pip install sacrebleu -q"
      ]
    },
    {
      "cell_type": "code",
      "execution_count": null,
      "metadata": {
        "id": "c0d_8XPxoi92"
      },
      "outputs": [],
      "source": [
        "import tensorflow as tf\n",
        "from evaluate import load\n",
        "import numpy as np\n",
        "import re\n",
        "import plotly.graph_objects as go\n",
        "from google.colab import drive\n",
        "from IPython.core.display import HTML\n",
        "import textwrap\n",
        "from tqdm.auto import tqdm"
      ]
    },
    {
      "cell_type": "code",
      "execution_count": null,
      "metadata": {
        "colab": {
          "base_uri": "https://localhost:8080/"
        },
        "id": "qixPoWRLkD4g",
        "outputId": "e1ce34a1-6ddb-4ad5-b1f4-1d1752a3cec6"
      },
      "outputs": [
        {
          "name": "stdout",
          "output_type": "stream",
          "text": [
            "2.15.0\n",
            "\u001b[2K     \u001b[90m━━━━━━━━━━━━━━━━━━━━━━━━━━━━━━━━━━━━━━━━\u001b[0m \u001b[32m5.2/5.2 MB\u001b[0m \u001b[31m17.2 MB/s\u001b[0m eta \u001b[36m0:00:00\u001b[0m\n",
            "\u001b[?25h"
          ]
        }
      ],
      "source": [
        "# Installing TensorFlow Text\n",
        "version_tf = tf.__version__\n",
        "print(version_tf)\n",
        "!pip install tensorflow_text==$version_tf -q\n",
        "\n",
        "import tensorflow_text as tf_text"
      ]
    },
    {
      "cell_type": "markdown",
      "metadata": {
        "id": "piIYd5Nl-8SX"
      },
      "source": [
        "## **Parameters**"
      ]
    },
    {
      "cell_type": "code",
      "execution_count": null,
      "metadata": {
        "colab": {
          "base_uri": "https://localhost:8080/"
        },
        "id": "sFOW9rH6TXpW",
        "outputId": "10ec67bb-85dd-4792-f3fb-ce68266bb6a5"
      },
      "outputs": [
        {
          "name": "stdout",
          "output_type": "stream",
          "text": [
            "Mounted at /content/drive/\n"
          ]
        }
      ],
      "source": [
        "drive.mount(\"/content/drive/\")"
      ]
    },
    {
      "cell_type": "code",
      "execution_count": null,
      "metadata": {
        "id": "eG-hJMUdRw6y"
      },
      "outputs": [],
      "source": [
        "batch_size = 128\n",
        "buffer_size = 1024\n",
        "AUTOTUNE = tf.data.AUTOTUNE\n",
        "SEED = 123\n",
        "embedding_dim = 256\n",
        "vocab_size = 25000\n",
        "epochs = 20"
      ]
    },
    {
      "cell_type": "markdown",
      "metadata": {
        "id": "2Jb1Tnf8-6m3"
      },
      "source": [
        "## **Load and Preprocess the Dataset**"
      ]
    },
    {
      "cell_type": "code",
      "execution_count": null,
      "metadata": {
        "id": "qazk7CFqYBlx"
      },
      "outputs": [],
      "source": [
        "data_url = \"https://www.manythings.org/anki/spa-eng.zip\"\n",
        "\n",
        "# Download dataset\n",
        "!wget -q $data_url\n",
        "\n",
        "# Unzip the dataset\n",
        "!unzip -q /content/spa-eng.zip"
      ]
    },
    {
      "cell_type": "markdown",
      "metadata": {
        "id": "GXGcw3UO4dh6"
      },
      "source": [
        "The `contexts` variable contains the records in English, which is the source language in this case, while the `targets` variable contains the records in Spanish, the target language for translation. The initial records are short and progressively increase in length, so the later records are longer."
      ]
    },
    {
      "cell_type": "code",
      "execution_count": null,
      "metadata": {
        "id": "6V-EzdYwYpCM"
      },
      "outputs": [],
      "source": [
        "def load_data(path):\n",
        "  contexts, targets = [], []\n",
        "  with open(path, \"r\") as file:\n",
        "    for line in file:\n",
        "      line = line.split(\"\\t\")\n",
        "      contexts.append(line[0])\n",
        "      targets.append(line[1])\n",
        "  return np.array(contexts), np.array(targets)"
      ]
    },
    {
      "cell_type": "code",
      "execution_count": null,
      "metadata": {
        "colab": {
          "base_uri": "https://localhost:8080/"
        },
        "id": "XrvWaW5CZqNG",
        "outputId": "cd275d15-0c31-424a-815e-68092f1b73f6"
      },
      "outputs": [
        {
          "data": {
            "text/plain": [
              "141543"
            ]
          },
          "execution_count": 8,
          "metadata": {},
          "output_type": "execute_result"
        }
      ],
      "source": [
        "contexts, targets = load_data(\"/content/spa.txt\")\n",
        "len(contexts)"
      ]
    },
    {
      "cell_type": "code",
      "execution_count": null,
      "metadata": {
        "colab": {
          "base_uri": "https://localhost:8080/"
        },
        "id": "bSrzMY0wbz_r",
        "outputId": "0a11ab04-f16c-4082-9bdf-0458d5c1c59b"
      },
      "outputs": [
        {
          "name": "stdout",
          "output_type": "stream",
          "text": [
            "['Go.' 'Go.' 'Go.' 'Go.' 'Hi.' 'Run!' 'Run!' 'Run!' 'Run!' 'Run!']\n",
            "['Ve.' 'Vete.' 'Vaya.' 'Váyase.' 'Hola.' '¡Corre!' '¡Corran!' '¡Huye!'\n",
            " '¡Corra!' '¡Corred!']\n"
          ]
        }
      ],
      "source": [
        "# Viewing the first 10 examples\n",
        "print(contexts[:10])\n",
        "print(targets[:10])"
      ]
    },
    {
      "cell_type": "markdown",
      "metadata": {
        "id": "GcTHo3vVVrv9"
      },
      "source": [
        "### **Text Tokenization**"
      ]
    },
    {
      "cell_type": "markdown",
      "metadata": {
        "id": "EFGIIzBIKw2F"
      },
      "source": [
        "For tokenization, the [TextVectorization](https://www.tensorflow.org/api_docs/python/tf/keras/layers/TextVectorization) layer is used for both English and Spanish sequences. This layer encodes the text into frequency-ordered indices, following the padding token and the unknown token, considering up to `vocab_size`. The `standardize` argument allows for the passing of a text preprocessing function, which includes Unicode normalization using [TensorFlow Text](https://www.tensorflow.org/text). This is particularly useful for splitting compound characters in Spanish that have accents (´), diaeresis (¨), and tilde (~), effectively removing these diacritical marks. Additionally, the `[START]` and `[END]` tokens are appended at the end of this preprocessing step to indicate when the model should start and stop the translation. Finally, with the `ragged=True` argument, sequences are treated as variable-length, dynamically padding them with 0 (padding token) to the length of the longest sequence in the batch."
      ]
    },
    {
      "cell_type": "code",
      "execution_count": null,
      "metadata": {
        "id": "-EQszZ5ANL73"
      },
      "outputs": [],
      "source": [
        "# Create a custom standardization function\n",
        "\n",
        "def preprocessing(text):\n",
        "  # Normalize text to UTF-8 by decomposing composite characters into their basic elements\n",
        "  text = tf_text.normalize_utf8(text, \"NFKD\")\n",
        "  # Convert all text to lowercase\n",
        "  text = tf.strings.lower(text)\n",
        "  # Keep only alphabetic characters and certain punctuation marks\n",
        "  text = tf.strings.regex_replace(text, r\"[-—_/]\", \" \") #For compound words\n",
        "  text = tf.strings.regex_replace(text, r\"[^ a-z0-9.,;:¿?¡!]\", \"\")\n",
        "  # Add spaces around punctuation\n",
        "  text = tf.strings.regex_replace(text, r\"[.,;:¿?¡!]\", r\" \\0 \")\n",
        "  # Remove all redundant white spaces\n",
        "  text = tf.strings.regex_replace(tf.strings.strip(text), r\"\\s+\", \" \")\n",
        "  # Add start and end tokens to the text\n",
        "  text = tf.strings.join([\"[START]\", text, \"[END]\"], separator=\" \")\n",
        "  return text"
      ]
    },
    {
      "cell_type": "code",
      "execution_count": null,
      "metadata": {
        "colab": {
          "base_uri": "https://localhost:8080/"
        },
        "id": "YrGsMRKQSXZA",
        "outputId": "eabf061d-e065-49ce-87ec-f846a8dc18af"
      },
      "outputs": [
        {
          "name": "stdout",
          "output_type": "stream",
          "text": [
            "Unstandardized Context:\n",
            "One day, I woke up to find that God had put hair on my face. I shaved it\n",
            "off. The next day, I found that God had put it back on my face, so I shaved\n",
            "it off again. On the third day, when I found that God had put hair back on\n",
            "my face again, I decided to let God have his way. That's why I have a\n",
            "beard.\n",
            "\n",
            "Standardized Context:\n",
            "[START] one day , i woke up to find that god had put hair on my face . i\n",
            "shaved it off . the next day , i found that god had put it back on my face\n",
            ", so i shaved it off again . on the third day , when i found that god had\n",
            "put hair back on my face again , i decided to let god have his way . thats\n",
            "why i have a beard . [END]\n",
            "\n",
            "\n",
            "Unstandardized Target:\n",
            "Un día, me desperté y vi que Dios me había puesto pelo en la cara. Me lo\n",
            "afeité. Al día siguiente, vi que Dios me lo había vuelto a poner en la\n",
            "cara, así que me lo afeité otra vez. Al tercer día, cuando vi que Dios me\n",
            "había puesto pelo en la cara de nuevo, decidí que Dios se saliera con la\n",
            "suya. Por eso tengo barba.\n",
            "\n",
            "Standardized Target:\n",
            "[START] un dia , me desperte y vi que dios me habia puesto pelo en la cara\n",
            ". me lo afeite . al dia siguiente , vi que dios me lo habia vuelto a poner\n",
            "en la cara , asi que me lo afeite otra vez . al tercer dia , cuando vi que\n",
            "dios me habia puesto pelo en la cara de nuevo , decidi que dios se saliera\n",
            "con la suya . por eso tengo barba . [END]\n"
          ]
        }
      ],
      "source": [
        "# Example of text preprocessing\n",
        "id = -1\n",
        "example_context = tf.constant(contexts[id])\n",
        "example_target = tf.constant(targets[id])\n",
        "\n",
        "print(f\"Unstandardized Context:\\n{textwrap.fill(example_context.numpy().decode('utf-8'), width=75)}\\n\")\n",
        "print(f\"Standardized Context:\\n{textwrap.fill(preprocessing(example_context).numpy().decode('utf-8'), width=75)}\\n\\n\")\n",
        "\n",
        "print(f\"Unstandardized Target:\\n{textwrap.fill(example_target.numpy().decode('utf-8'), width=75)}\\n\")\n",
        "print(f\"Standardized Target:\\n{textwrap.fill(preprocessing(example_target).numpy().decode('utf-8'), width=75)}\")"
      ]
    },
    {
      "cell_type": "code",
      "execution_count": null,
      "metadata": {
        "colab": {
          "base_uri": "https://localhost:8080/"
        },
        "id": "Fyl5gNAH3aqP",
        "outputId": "e918134b-2ebd-4738-a7f4-5e610e0ffa16"
      },
      "outputs": [
        {
          "name": "stdout",
          "output_type": "stream",
          "text": [
            "14189\n"
          ]
        },
        {
          "data": {
            "text/plain": [
              "array(['', '[UNK]', '[START]', '[END]', '.', 'i', 'the', 'to', 'you',\n",
              "       'tom'], dtype='<U17')"
            ]
          },
          "execution_count": 12,
          "metadata": {},
          "output_type": "execute_result"
        }
      ],
      "source": [
        "context_vectorizer = tf.keras.layers.TextVectorization(\n",
        "    max_tokens=vocab_size,\n",
        "    standardize=preprocessing,\n",
        "    ragged=True\n",
        ")\n",
        "context_vectorizer.adapt(contexts)\n",
        "\n",
        "context_vocab = np.array(context_vectorizer.get_vocabulary())\n",
        "context_vocab_size = context_vectorizer.vocabulary_size()\n",
        "print(context_vocab_size)\n",
        "context_vocab[:10]"
      ]
    },
    {
      "cell_type": "code",
      "execution_count": null,
      "metadata": {
        "colab": {
          "base_uri": "https://localhost:8080/"
        },
        "id": "IxpNrfSn5Tud",
        "outputId": "1c03218e-75fd-45b4-b38a-13c62df7aac5"
      },
      "outputs": [
        {
          "name": "stdout",
          "output_type": "stream",
          "text": [
            "25000\n"
          ]
        },
        {
          "data": {
            "text/plain": [
              "array(['', '[UNK]', '[START]', '[END]', '.', 'que', 'de', 'no', 'el',\n",
              "       'tom'], dtype='<U19')"
            ]
          },
          "execution_count": 13,
          "metadata": {},
          "output_type": "execute_result"
        }
      ],
      "source": [
        "target_vectorizer = tf.keras.layers.TextVectorization(\n",
        "    max_tokens=vocab_size,\n",
        "    standardize=preprocessing,\n",
        "    ragged=True\n",
        ")\n",
        "target_vectorizer.adapt(targets)\n",
        "\n",
        "target_vocab = np.array(target_vectorizer.get_vocabulary())\n",
        "target_vocab_size = target_vectorizer.vocabulary_size()\n",
        "print(target_vocab_size)\n",
        "target_vocab[:10]"
      ]
    },
    {
      "cell_type": "markdown",
      "metadata": {
        "id": "qLHbPDquJ0mX"
      },
      "source": [
        "### **Create the training and validation datasets using ``tf.data``**"
      ]
    },
    {
      "cell_type": "code",
      "execution_count": null,
      "metadata": {
        "id": "j-dAUtVNGFSE"
      },
      "outputs": [],
      "source": [
        "def vectorize_text(contexts, targets):\n",
        "  contexts = context_vectorizer(contexts).to_tensor()\n",
        "  targets = target_vectorizer(targets)\n",
        "  targets_in = targets[:, :-1].to_tensor()\n",
        "  targets_out = targets[:, 1:].to_tensor()\n",
        "  return (contexts, targets_in), targets_out"
      ]
    },
    {
      "cell_type": "code",
      "execution_count": null,
      "metadata": {
        "colab": {
          "base_uri": "https://localhost:8080/"
        },
        "id": "-cKKWqJ9KTef",
        "outputId": "11e2cf62-19d0-47c9-c976-d6e25917b0d0"
      },
      "outputs": [
        {
          "name": "stdout",
          "output_type": "stream",
          "text": [
            "139424 2119\n"
          ]
        }
      ],
      "source": [
        "# Take approximately 2000 examples (1.5%) for the evaluation dataset\n",
        "np.random.seed(SEED) #For reproducibility\n",
        "is_train = np.random.uniform(size=(len(targets),)) < 0.985\n",
        "\n",
        "train_dataset= tf.data.Dataset.from_tensor_slices((contexts[is_train], targets[is_train]))\n",
        "val_dataset= tf.data.Dataset.from_tensor_slices((contexts[~is_train], targets[~is_train]))\n",
        "\n",
        "print(len(train_dataset), len(val_dataset))\n",
        "\n",
        "train_dataset = (\n",
        "    train_dataset.\n",
        "    shuffle(buffer_size, seed=SEED).\n",
        "    batch(batch_size).\n",
        "    map(vectorize_text, num_parallel_calls=AUTOTUNE).\n",
        "    prefetch(AUTOTUNE)\n",
        ")\n",
        "\n",
        "val_dataset = (\n",
        "    val_dataset.\n",
        "    batch(batch_size).\n",
        "    map(vectorize_text, num_parallel_calls=AUTOTUNE).\n",
        "    prefetch(AUTOTUNE)\n",
        ")"
      ]
    },
    {
      "cell_type": "code",
      "execution_count": null,
      "metadata": {
        "colab": {
          "base_uri": "https://localhost:8080/"
        },
        "id": "a67sDlx28sAO",
        "outputId": "058c56b4-25bb-43c3-aca4-dbb5d6bc380d"
      },
      "outputs": [
        {
          "name": "stdout",
          "output_type": "stream",
          "text": [
            "tf.Tensor(\n",
            "[[  2   5 632   4   3   0]\n",
            " [  2 362  21   4   3   0]\n",
            " [  2 458 125   3   0   0]\n",
            " [  2 439 125   3   0   0]\n",
            " [  2   5 101 545   4   3]], shape=(5, 6), dtype=int64) \n",
            "\n",
            "tf.Tensor(\n",
            "[[    2   861     4     0     0     0     0]\n",
            " [    2  2394     4     0     0     0     0]\n",
            " [    2    82 14059    81     0     0     0]\n",
            " [    2    82  1361    81     0     0     0]\n",
            " [    2    18  7387     4     0     0     0]], shape=(5, 7), dtype=int64) \n",
            "\n",
            "tf.Tensor(\n",
            "[[  861     4     3     0     0     0     0]\n",
            " [ 2394     4     3     0     0     0     0]\n",
            " [   82 14059    81     3     0     0     0]\n",
            " [   82  1361    81     3     0     0     0]\n",
            " [   18  7387     4     3     0     0     0]], shape=(5, 7), dtype=int64)\n"
          ]
        }
      ],
      "source": [
        "# Viewing a training batch\n",
        "for (inputs, labels_in), labels_out in train_dataset.take(1):\n",
        "  print(inputs[:5], \"\\n\")\n",
        "  print(labels_in[:5], \"\\n\")\n",
        "  print(labels_out[:5])"
      ]
    },
    {
      "cell_type": "markdown",
      "metadata": {
        "id": "ey4FxjBKi6ql"
      },
      "source": [
        "## **Creation and Training of the Model**\n",
        "\n",
        "The model consists of an Encoder that utilizes a bidirectional LSTM to process the context sequence and generate vectors crucial for the decoder, which predicts the next output at each time step. This facilitates smooth information flow within the Encoder. Additionally, it incorporates a Cross-Attention mechanism that enables the decoder to access critical information extracted by the Encoder. The Decoder, in turn, generates predictions for the next token in the target sequence during inference, producing one word at a time and continuously feeding back into the model."
      ]
    },
    {
      "cell_type": "code",
      "execution_count": null,
      "metadata": {
        "id": "ndUIV-atOsw_"
      },
      "outputs": [],
      "source": [
        "def Encoder(vocab_size, units):\n",
        "  model = tf.keras.Sequential([\n",
        "      tf.keras.layers.Embedding(\n",
        "          input_dim=vocab_size,\n",
        "          output_dim=units,\n",
        "          mask_zero=True, #Indicates that the value 0 is a padding value that should be masked\n",
        "          input_shape=(None,)\n",
        "      ),\n",
        "      tf.keras.layers.Bidirectional(\n",
        "          tf.keras.layers.LSTM(units, return_sequences=True),\n",
        "          merge_mode=\"sum\"\n",
        "      )\n",
        "  ], name=\"Encoder\")\n",
        "\n",
        "  return model"
      ]
    },
    {
      "cell_type": "code",
      "execution_count": null,
      "metadata": {
        "id": "AvcrHXVDWMkl"
      },
      "outputs": [],
      "source": [
        "def CrossAttention(units):\n",
        "  encoded_context = tf.keras.Input(shape=(None, units))\n",
        "  encoded_target_in = tf.keras.Input(shape=(None, units))\n",
        "\n",
        "  x = tf.keras.layers.MultiHeadAttention(num_heads=1, key_dim=units)(\n",
        "      query=encoded_target_in,\n",
        "      value=encoded_context\n",
        "  )\n",
        "  x = tf.keras.layers.Add()([encoded_target_in, x])\n",
        "  x = tf.keras.layers.LayerNormalization()(x)\n",
        "\n",
        "  model = tf.keras.Model(\n",
        "      inputs=[encoded_context, encoded_target_in],\n",
        "      outputs=x,\n",
        "      name=\"CrossAttention\"\n",
        "  )\n",
        "  return model\n",
        "\n",
        "\n",
        "@tf.keras.saving.register_keras_serializable()\n",
        "class Decoder(tf.keras.Model):\n",
        "  def __init__(self, vocab_size, units):\n",
        "    super().__init__()\n",
        "\n",
        "    self.embedding = tf.keras.layers.Embedding(\n",
        "        input_dim=vocab_size,\n",
        "        output_dim=units,\n",
        "        mask_zero=True\n",
        "    )\n",
        "\n",
        "    self.pre_attention_lstm = tf.keras.layers.LSTM(\n",
        "        units,\n",
        "        return_sequences=True,\n",
        "        return_state=True\n",
        "    )\n",
        "\n",
        "    self.attention = CrossAttention(units)\n",
        "    self.post_attention_lstm = tf.keras.layers.LSTM(units, return_sequences=True)\n",
        "    self.dense = tf.keras.layers.Dense(vocab_size)\n",
        "\n",
        "  def call(self, encoded_context, target_in, states=None, return_state=False):\n",
        "    x = self.embedding(target_in)\n",
        "    x, last_hs, last_cs = self.pre_attention_lstm(x, initial_state=states) #(All sequence hidden states, last hidden state, last cell state)\n",
        "    x = self.attention([encoded_context, x])\n",
        "    x = self.post_attention_lstm(x)\n",
        "    x = self.dense(x)\n",
        "\n",
        "    if return_state:\n",
        "      return x, [last_hs, last_cs]\n",
        "    else:\n",
        "      return x"
      ]
    },
    {
      "cell_type": "code",
      "execution_count": null,
      "metadata": {
        "id": "-6ZHTxX-sRXK"
      },
      "outputs": [],
      "source": [
        "@tf.keras.saving.register_keras_serializable()\n",
        "class Translator(tf.keras.Model):\n",
        "  def __init__(self, context_vocab_size, target_vocab_size, units):\n",
        "    super().__init__()\n",
        "    self.encoder_model = Encoder(context_vocab_size, units)\n",
        "    self.decoder_model = Decoder(target_vocab_size, units)\n",
        "\n",
        "  def call(self, inputs):\n",
        "    context, target_in = inputs\n",
        "    encoded_context = self.encoder_model(context)\n",
        "    logits = self.decoder_model(encoded_context, target_in)\n",
        "    return logits"
      ]
    },
    {
      "cell_type": "code",
      "execution_count": null,
      "metadata": {
        "colab": {
          "base_uri": "https://localhost:8080/"
        },
        "id": "nxyZJjDDvPob",
        "outputId": "4250012c-dab3-4ea8-f087-57953ba1333b"
      },
      "outputs": [
        {
          "name": "stdout",
          "output_type": "stream",
          "text": [
            "Model: \"translator\"\n",
            "_________________________________________________________________\n",
            " Layer (type)                Output Shape              Param #   \n",
            "=================================================================\n",
            " Encoder (Sequential)        (None, None, 256)         4683008   \n",
            "                                                                 \n",
            " decoder (Decoder)           (None, None, 25000)       14139304  \n",
            "                                                                 \n",
            "=================================================================\n",
            "Total params: 18822312 (71.80 MB)\n",
            "Trainable params: 18822312 (71.80 MB)\n",
            "Non-trainable params: 0 (0.00 Byte)\n",
            "_________________________________________________________________\n"
          ]
        }
      ],
      "source": [
        "tf.keras.backend.clear_session() #Clearing Keras memory\n",
        "tf.random.set_seed(123) #For reproducibility\n",
        "\n",
        "model = Translator(\n",
        "    context_vocab_size=context_vocab_size,\n",
        "    target_vocab_size=target_vocab_size,\n",
        "    units=embedding_dim\n",
        ")\n",
        "\n",
        "model.build([(None, None), (None, None)])\n",
        "model.call([tf.keras.Input(shape=(None,)), tf.keras.Input(shape=(None,))])\n",
        "model.summary()"
      ]
    },
    {
      "cell_type": "markdown",
      "metadata": {
        "id": "Vx1ABNOxJlOM"
      },
      "source": [
        "In this case, during model compilation, it's not feasible to use `SparseCategoricalCrossentropy` with the `ignore_class=0` argument to mask the padding token, as sequence lengths vary between batches. Therefore, a custom loss function and custom accuracy metric are implemented to properly manage padding masking."
      ]
    },
    {
      "cell_type": "code",
      "execution_count": null,
      "metadata": {
        "id": "AlquFLcVBhWK"
      },
      "outputs": [],
      "source": [
        "def masked_loss(labels, logits):\n",
        "  loss_fn = tf.keras.losses.SparseCategoricalCrossentropy(\n",
        "      from_logits=True,\n",
        "      reduction=tf.keras.losses.Reduction.NONE\n",
        "  )\n",
        "\n",
        "  loss = loss_fn(labels, logits)\n",
        "  mask = tf.cast(labels != 0, loss.dtype)\n",
        "  loss *= mask\n",
        "\n",
        "  return tf.reduce_sum(loss) / tf.reduce_sum(mask)\n",
        "\n",
        "\n",
        "def masked_accuracy(y_true, y_pred):\n",
        "  y_pred = tf.cast(tf.argmax(y_pred, axis=-1), y_true.dtype)\n",
        "  mask = tf.cast(y_true != 0, tf.float32)\n",
        "  accuracy = tf.cast(y_true == y_pred, tf.float32)\n",
        "  accuracy *= mask\n",
        "\n",
        "  return tf.reduce_sum(accuracy) / tf.reduce_sum(mask)"
      ]
    },
    {
      "cell_type": "code",
      "execution_count": null,
      "metadata": {
        "id": "0Iv8F1lglgeV"
      },
      "outputs": [],
      "source": [
        "# Model Compilation\n",
        "model.compile(\n",
        "    optimizer=tf.keras.optimizers.Adam(0.001),\n",
        "    loss=masked_loss,\n",
        "    metrics=[masked_accuracy]\n",
        ")"
      ]
    },
    {
      "cell_type": "code",
      "execution_count": null,
      "metadata": {
        "id": "oVbsK5EzTE5e"
      },
      "outputs": [],
      "source": [
        "# Callback to stop training early if accuracy does not increase for 3 epochs\n",
        "callback = tf.keras.callbacks.EarlyStopping(\n",
        "    monitor=\"val_masked_accuracy\",\n",
        "    patience=3,\n",
        "    mode=\"max\",\n",
        "    restore_best_weights=True\n",
        ")"
      ]
    },
    {
      "cell_type": "code",
      "execution_count": null,
      "metadata": {
        "colab": {
          "base_uri": "https://localhost:8080/"
        },
        "id": "CzzhK79wTU0U",
        "outputId": "5b609d8d-6f80-4f03-e391-195cae7a1658"
      },
      "outputs": [
        {
          "name": "stdout",
          "output_type": "stream",
          "text": [
            "Epoch 1/20\n",
            "1090/1090 [==============================] - 186s 147ms/step - loss: 4.4229 - masked_accuracy: 0.3589 - val_loss: 3.3604 - val_masked_accuracy: 0.4883\n",
            "Epoch 2/20\n",
            "1090/1090 [==============================] - 99s 90ms/step - loss: 2.2909 - masked_accuracy: 0.6271 - val_loss: 2.2017 - val_masked_accuracy: 0.6264\n",
            "Epoch 3/20\n",
            "1090/1090 [==============================] - 91s 83ms/step - loss: 1.5942 - masked_accuracy: 0.7099 - val_loss: 1.8618 - val_masked_accuracy: 0.6725\n",
            "Epoch 4/20\n",
            "1090/1090 [==============================] - 87s 80ms/step - loss: 1.2540 - masked_accuracy: 0.7504 - val_loss: 1.6500 - val_masked_accuracy: 0.7002\n",
            "Epoch 5/20\n",
            "1090/1090 [==============================] - 86s 79ms/step - loss: 1.0392 - masked_accuracy: 0.7778 - val_loss: 1.5994 - val_masked_accuracy: 0.7030\n",
            "Epoch 6/20\n",
            "1090/1090 [==============================] - 84s 77ms/step - loss: 0.8861 - masked_accuracy: 0.7991 - val_loss: 1.5859 - val_masked_accuracy: 0.7028\n",
            "Epoch 7/20\n",
            "1090/1090 [==============================] - 84s 77ms/step - loss: 0.7721 - masked_accuracy: 0.8183 - val_loss: 1.5210 - val_masked_accuracy: 0.7156\n",
            "Epoch 8/20\n",
            "1090/1090 [==============================] - 83s 76ms/step - loss: 0.6845 - masked_accuracy: 0.8335 - val_loss: 1.4965 - val_masked_accuracy: 0.7196\n",
            "Epoch 9/20\n",
            "1090/1090 [==============================] - 83s 76ms/step - loss: 0.6166 - masked_accuracy: 0.8459 - val_loss: 1.5073 - val_masked_accuracy: 0.7214\n",
            "Epoch 10/20\n",
            "1090/1090 [==============================] - 85s 78ms/step - loss: 0.5616 - masked_accuracy: 0.8568 - val_loss: 1.4960 - val_masked_accuracy: 0.7264\n",
            "Epoch 11/20\n",
            "1090/1090 [==============================] - 85s 78ms/step - loss: 0.5140 - masked_accuracy: 0.8666 - val_loss: 1.5032 - val_masked_accuracy: 0.7251\n",
            "Epoch 12/20\n",
            "1090/1090 [==============================] - 85s 78ms/step - loss: 0.4736 - masked_accuracy: 0.8750 - val_loss: 1.5125 - val_masked_accuracy: 0.7278\n",
            "Epoch 13/20\n",
            "1090/1090 [==============================] - 85s 78ms/step - loss: 0.4381 - masked_accuracy: 0.8828 - val_loss: 1.5682 - val_masked_accuracy: 0.7220\n",
            "Epoch 14/20\n",
            "1090/1090 [==============================] - 85s 78ms/step - loss: 0.4079 - masked_accuracy: 0.8894 - val_loss: 1.5851 - val_masked_accuracy: 0.7221\n",
            "Epoch 15/20\n",
            "1090/1090 [==============================] - 84s 77ms/step - loss: 0.3795 - masked_accuracy: 0.8958 - val_loss: 1.5791 - val_masked_accuracy: 0.7262\n"
          ]
        }
      ],
      "source": [
        "# Train the model\n",
        "\n",
        "tf.random.set_seed(SEED)\n",
        "history = model.fit(train_dataset, epochs=epochs, validation_data=val_dataset, callbacks=[callback])"
      ]
    },
    {
      "cell_type": "markdown",
      "metadata": {
        "id": "S7cewteBIwua"
      },
      "source": [
        "**Save model**"
      ]
    },
    {
      "cell_type": "code",
      "execution_count": null,
      "metadata": {
        "id": "kHF6iPebtijl"
      },
      "outputs": [],
      "source": [
        "trained_model_path = \"/content/drive/MyDrive/models/TranslationEN-ES_LSTMAttention_ManyThings.keras\""
      ]
    },
    {
      "cell_type": "code",
      "execution_count": null,
      "metadata": {
        "id": "gJ1Ww4BMaIfQ"
      },
      "outputs": [],
      "source": [
        "model.save(trained_model_path)"
      ]
    },
    {
      "cell_type": "markdown",
      "metadata": {
        "id": "WSJL2EanOvQH"
      },
      "source": [
        "## **Model Evaluation**"
      ]
    },
    {
      "cell_type": "markdown",
      "metadata": {
        "id": "wG5frXZ-4_jB"
      },
      "source": [
        "### **With conventional Accuracy**"
      ]
    },
    {
      "cell_type": "code",
      "execution_count": null,
      "metadata": {
        "colab": {
          "base_uri": "https://localhost:8080/"
        },
        "id": "5sygZy4MVBVH",
        "outputId": "959bee47-6af5-4309-9e01-f8f20ae3f9b3"
      },
      "outputs": [
        {
          "name": "stdout",
          "output_type": "stream",
          "text": [
            "[0.5999444723129272, 0.8513826131820679]\n",
            "[1.5124757289886475, 0.727790892124176]\n"
          ]
        }
      ],
      "source": [
        "print(model.evaluate(train_dataset, verbose=0))\n",
        "print(model.evaluate(val_dataset, verbose=0))"
      ]
    },
    {
      "cell_type": "markdown",
      "metadata": {
        "id": "SC8uUYMjMnIC"
      },
      "source": [
        "Conventional accuracy (``train_dataset: 85.14%, val_dataset: 72.78%``) does not accurately reflect the true performance of the translation model, but it serves as a useful approximation during training to assess how well the model is performing. For a more accurate evaluation, the **BLEU** metric will be used."
      ]
    },
    {
      "cell_type": "code",
      "execution_count": null,
      "metadata": {
        "id": "S0Dl-vzNaZD4"
      },
      "outputs": [],
      "source": [
        "# Function to plot the metrics\n",
        "def plot_metrics(history=history, metric=\"loss\", renderer=None, epochs=len(history.history[\"loss\"])):\n",
        "  losses = history.history[metric]\n",
        "  val_losses = history.history[f\"val_{metric}\"]\n",
        "  list_epochs = np.arange(1, epochs+1)\n",
        "  metric = \" \".join([w.capitalize() for w in metric.split(\"_\")])\n",
        "\n",
        "  fig=go.Figure()\n",
        "  fig.add_trace(go.Scatter(x=list_epochs, y=losses, name=metric, line=dict(color=\"blue\", width=2)))\n",
        "  fig.add_trace(go.Scatter(x=list_epochs, y=val_losses, name=f\"Val {metric}\", line=dict(color=\"#FF6600\", width=2)))\n",
        "  fig.update_xaxes(title_text=\"Epoch\")\n",
        "  fig.update_yaxes(title_text=metric)\n",
        "  fig.update_layout(title=f\"Evolution of {metric} across Epochs\",\n",
        "                    title_font=dict(size=20),\n",
        "                    title_x=0.5,\n",
        "                    height=500,\n",
        "                    width=1200)\n",
        "\n",
        "  fig.show(renderer)"
      ]
    },
    {
      "cell_type": "markdown",
      "metadata": {
        "id": "Zbmblu4ZuQoO"
      },
      "source": [
        "**Interactive graphics**"
      ]
    },
    {
      "cell_type": "code",
      "execution_count": null,
      "metadata": {
        "colab": {
          "base_uri": "https://localhost:8080/",
          "height": 1000
        },
        "id": "K9_fscW1bBUJ",
        "outputId": "85ea37ab-5a0f-4eb5-cdcd-c6c3f180e7a3"
      },
      "outputs": [
        {
          "data": {
            "text/html": [
              "<html>\n",
              "<head><meta charset=\"utf-8\" /></head>\n",
              "<body>\n",
              "    <div>            <script src=\"https://cdnjs.cloudflare.com/ajax/libs/mathjax/2.7.5/MathJax.js?config=TeX-AMS-MML_SVG\"></script><script type=\"text/javascript\">if (window.MathJax && window.MathJax.Hub && window.MathJax.Hub.Config) {window.MathJax.Hub.Config({SVG: {font: \"STIX-Web\"}});}</script>                <script type=\"text/javascript\">window.PlotlyConfig = {MathJaxConfig: 'local'};</script>\n",
              "        <script charset=\"utf-8\" src=\"https://cdn.plot.ly/plotly-2.24.1.min.js\"></script>                <div id=\"7a92804f-5a66-44c8-9dc7-1ad21eab64a7\" class=\"plotly-graph-div\" style=\"height:500px; width:1200px;\"></div>            <script type=\"text/javascript\">                                    window.PLOTLYENV=window.PLOTLYENV || {};                                    if (document.getElementById(\"7a92804f-5a66-44c8-9dc7-1ad21eab64a7\")) {                    Plotly.newPlot(                        \"7a92804f-5a66-44c8-9dc7-1ad21eab64a7\",                        [{\"line\":{\"color\":\"blue\",\"width\":2},\"name\":\"Loss\",\"x\":[1,2,3,4,5,6,7,8,9,10,11,12,13,14,15],\"y\":[4.42286491394043,2.2909204959869385,1.5942460298538208,1.253952980041504,1.0392180681228638,0.8861200213432312,0.7720910906791687,0.6844768524169922,0.616605818271637,0.5616010427474976,0.5139713883399963,0.4736151695251465,0.4381488561630249,0.4078533351421356,0.3795233964920044],\"type\":\"scatter\"},{\"line\":{\"color\":\"#FF6600\",\"width\":2},\"name\":\"Val Loss\",\"x\":[1,2,3,4,5,6,7,8,9,10,11,12,13,14,15],\"y\":[3.3604373931884766,2.201697587966919,1.8618252277374268,1.6499613523483276,1.5993924140930176,1.5859137773513794,1.5210133790969849,1.4965260028839111,1.50731360912323,1.495982050895691,1.5031838417053223,1.512475848197937,1.5681861639022827,1.5850627422332764,1.5791079998016357],\"type\":\"scatter\"}],                        {\"template\":{\"data\":{\"histogram2dcontour\":[{\"type\":\"histogram2dcontour\",\"colorbar\":{\"outlinewidth\":0,\"ticks\":\"\"},\"colorscale\":[[0.0,\"#0d0887\"],[0.1111111111111111,\"#46039f\"],[0.2222222222222222,\"#7201a8\"],[0.3333333333333333,\"#9c179e\"],[0.4444444444444444,\"#bd3786\"],[0.5555555555555556,\"#d8576b\"],[0.6666666666666666,\"#ed7953\"],[0.7777777777777778,\"#fb9f3a\"],[0.8888888888888888,\"#fdca26\"],[1.0,\"#f0f921\"]]}],\"choropleth\":[{\"type\":\"choropleth\",\"colorbar\":{\"outlinewidth\":0,\"ticks\":\"\"}}],\"histogram2d\":[{\"type\":\"histogram2d\",\"colorbar\":{\"outlinewidth\":0,\"ticks\":\"\"},\"colorscale\":[[0.0,\"#0d0887\"],[0.1111111111111111,\"#46039f\"],[0.2222222222222222,\"#7201a8\"],[0.3333333333333333,\"#9c179e\"],[0.4444444444444444,\"#bd3786\"],[0.5555555555555556,\"#d8576b\"],[0.6666666666666666,\"#ed7953\"],[0.7777777777777778,\"#fb9f3a\"],[0.8888888888888888,\"#fdca26\"],[1.0,\"#f0f921\"]]}],\"heatmap\":[{\"type\":\"heatmap\",\"colorbar\":{\"outlinewidth\":0,\"ticks\":\"\"},\"colorscale\":[[0.0,\"#0d0887\"],[0.1111111111111111,\"#46039f\"],[0.2222222222222222,\"#7201a8\"],[0.3333333333333333,\"#9c179e\"],[0.4444444444444444,\"#bd3786\"],[0.5555555555555556,\"#d8576b\"],[0.6666666666666666,\"#ed7953\"],[0.7777777777777778,\"#fb9f3a\"],[0.8888888888888888,\"#fdca26\"],[1.0,\"#f0f921\"]]}],\"heatmapgl\":[{\"type\":\"heatmapgl\",\"colorbar\":{\"outlinewidth\":0,\"ticks\":\"\"},\"colorscale\":[[0.0,\"#0d0887\"],[0.1111111111111111,\"#46039f\"],[0.2222222222222222,\"#7201a8\"],[0.3333333333333333,\"#9c179e\"],[0.4444444444444444,\"#bd3786\"],[0.5555555555555556,\"#d8576b\"],[0.6666666666666666,\"#ed7953\"],[0.7777777777777778,\"#fb9f3a\"],[0.8888888888888888,\"#fdca26\"],[1.0,\"#f0f921\"]]}],\"contourcarpet\":[{\"type\":\"contourcarpet\",\"colorbar\":{\"outlinewidth\":0,\"ticks\":\"\"}}],\"contour\":[{\"type\":\"contour\",\"colorbar\":{\"outlinewidth\":0,\"ticks\":\"\"},\"colorscale\":[[0.0,\"#0d0887\"],[0.1111111111111111,\"#46039f\"],[0.2222222222222222,\"#7201a8\"],[0.3333333333333333,\"#9c179e\"],[0.4444444444444444,\"#bd3786\"],[0.5555555555555556,\"#d8576b\"],[0.6666666666666666,\"#ed7953\"],[0.7777777777777778,\"#fb9f3a\"],[0.8888888888888888,\"#fdca26\"],[1.0,\"#f0f921\"]]}],\"surface\":[{\"type\":\"surface\",\"colorbar\":{\"outlinewidth\":0,\"ticks\":\"\"},\"colorscale\":[[0.0,\"#0d0887\"],[0.1111111111111111,\"#46039f\"],[0.2222222222222222,\"#7201a8\"],[0.3333333333333333,\"#9c179e\"],[0.4444444444444444,\"#bd3786\"],[0.5555555555555556,\"#d8576b\"],[0.6666666666666666,\"#ed7953\"],[0.7777777777777778,\"#fb9f3a\"],[0.8888888888888888,\"#fdca26\"],[1.0,\"#f0f921\"]]}],\"mesh3d\":[{\"type\":\"mesh3d\",\"colorbar\":{\"outlinewidth\":0,\"ticks\":\"\"}}],\"scatter\":[{\"fillpattern\":{\"fillmode\":\"overlay\",\"size\":10,\"solidity\":0.2},\"type\":\"scatter\"}],\"parcoords\":[{\"type\":\"parcoords\",\"line\":{\"colorbar\":{\"outlinewidth\":0,\"ticks\":\"\"}}}],\"scatterpolargl\":[{\"type\":\"scatterpolargl\",\"marker\":{\"colorbar\":{\"outlinewidth\":0,\"ticks\":\"\"}}}],\"bar\":[{\"error_x\":{\"color\":\"#2a3f5f\"},\"error_y\":{\"color\":\"#2a3f5f\"},\"marker\":{\"line\":{\"color\":\"#E5ECF6\",\"width\":0.5},\"pattern\":{\"fillmode\":\"overlay\",\"size\":10,\"solidity\":0.2}},\"type\":\"bar\"}],\"scattergeo\":[{\"type\":\"scattergeo\",\"marker\":{\"colorbar\":{\"outlinewidth\":0,\"ticks\":\"\"}}}],\"scatterpolar\":[{\"type\":\"scatterpolar\",\"marker\":{\"colorbar\":{\"outlinewidth\":0,\"ticks\":\"\"}}}],\"histogram\":[{\"marker\":{\"pattern\":{\"fillmode\":\"overlay\",\"size\":10,\"solidity\":0.2}},\"type\":\"histogram\"}],\"scattergl\":[{\"type\":\"scattergl\",\"marker\":{\"colorbar\":{\"outlinewidth\":0,\"ticks\":\"\"}}}],\"scatter3d\":[{\"type\":\"scatter3d\",\"line\":{\"colorbar\":{\"outlinewidth\":0,\"ticks\":\"\"}},\"marker\":{\"colorbar\":{\"outlinewidth\":0,\"ticks\":\"\"}}}],\"scattermapbox\":[{\"type\":\"scattermapbox\",\"marker\":{\"colorbar\":{\"outlinewidth\":0,\"ticks\":\"\"}}}],\"scatterternary\":[{\"type\":\"scatterternary\",\"marker\":{\"colorbar\":{\"outlinewidth\":0,\"ticks\":\"\"}}}],\"scattercarpet\":[{\"type\":\"scattercarpet\",\"marker\":{\"colorbar\":{\"outlinewidth\":0,\"ticks\":\"\"}}}],\"carpet\":[{\"aaxis\":{\"endlinecolor\":\"#2a3f5f\",\"gridcolor\":\"white\",\"linecolor\":\"white\",\"minorgridcolor\":\"white\",\"startlinecolor\":\"#2a3f5f\"},\"baxis\":{\"endlinecolor\":\"#2a3f5f\",\"gridcolor\":\"white\",\"linecolor\":\"white\",\"minorgridcolor\":\"white\",\"startlinecolor\":\"#2a3f5f\"},\"type\":\"carpet\"}],\"table\":[{\"cells\":{\"fill\":{\"color\":\"#EBF0F8\"},\"line\":{\"color\":\"white\"}},\"header\":{\"fill\":{\"color\":\"#C8D4E3\"},\"line\":{\"color\":\"white\"}},\"type\":\"table\"}],\"barpolar\":[{\"marker\":{\"line\":{\"color\":\"#E5ECF6\",\"width\":0.5},\"pattern\":{\"fillmode\":\"overlay\",\"size\":10,\"solidity\":0.2}},\"type\":\"barpolar\"}],\"pie\":[{\"automargin\":true,\"type\":\"pie\"}]},\"layout\":{\"autotypenumbers\":\"strict\",\"colorway\":[\"#636efa\",\"#EF553B\",\"#00cc96\",\"#ab63fa\",\"#FFA15A\",\"#19d3f3\",\"#FF6692\",\"#B6E880\",\"#FF97FF\",\"#FECB52\"],\"font\":{\"color\":\"#2a3f5f\"},\"hovermode\":\"closest\",\"hoverlabel\":{\"align\":\"left\"},\"paper_bgcolor\":\"white\",\"plot_bgcolor\":\"#E5ECF6\",\"polar\":{\"bgcolor\":\"#E5ECF6\",\"angularaxis\":{\"gridcolor\":\"white\",\"linecolor\":\"white\",\"ticks\":\"\"},\"radialaxis\":{\"gridcolor\":\"white\",\"linecolor\":\"white\",\"ticks\":\"\"}},\"ternary\":{\"bgcolor\":\"#E5ECF6\",\"aaxis\":{\"gridcolor\":\"white\",\"linecolor\":\"white\",\"ticks\":\"\"},\"baxis\":{\"gridcolor\":\"white\",\"linecolor\":\"white\",\"ticks\":\"\"},\"caxis\":{\"gridcolor\":\"white\",\"linecolor\":\"white\",\"ticks\":\"\"}},\"coloraxis\":{\"colorbar\":{\"outlinewidth\":0,\"ticks\":\"\"}},\"colorscale\":{\"sequential\":[[0.0,\"#0d0887\"],[0.1111111111111111,\"#46039f\"],[0.2222222222222222,\"#7201a8\"],[0.3333333333333333,\"#9c179e\"],[0.4444444444444444,\"#bd3786\"],[0.5555555555555556,\"#d8576b\"],[0.6666666666666666,\"#ed7953\"],[0.7777777777777778,\"#fb9f3a\"],[0.8888888888888888,\"#fdca26\"],[1.0,\"#f0f921\"]],\"sequentialminus\":[[0.0,\"#0d0887\"],[0.1111111111111111,\"#46039f\"],[0.2222222222222222,\"#7201a8\"],[0.3333333333333333,\"#9c179e\"],[0.4444444444444444,\"#bd3786\"],[0.5555555555555556,\"#d8576b\"],[0.6666666666666666,\"#ed7953\"],[0.7777777777777778,\"#fb9f3a\"],[0.8888888888888888,\"#fdca26\"],[1.0,\"#f0f921\"]],\"diverging\":[[0,\"#8e0152\"],[0.1,\"#c51b7d\"],[0.2,\"#de77ae\"],[0.3,\"#f1b6da\"],[0.4,\"#fde0ef\"],[0.5,\"#f7f7f7\"],[0.6,\"#e6f5d0\"],[0.7,\"#b8e186\"],[0.8,\"#7fbc41\"],[0.9,\"#4d9221\"],[1,\"#276419\"]]},\"xaxis\":{\"gridcolor\":\"white\",\"linecolor\":\"white\",\"ticks\":\"\",\"title\":{\"standoff\":15},\"zerolinecolor\":\"white\",\"automargin\":true,\"zerolinewidth\":2},\"yaxis\":{\"gridcolor\":\"white\",\"linecolor\":\"white\",\"ticks\":\"\",\"title\":{\"standoff\":15},\"zerolinecolor\":\"white\",\"automargin\":true,\"zerolinewidth\":2},\"scene\":{\"xaxis\":{\"backgroundcolor\":\"#E5ECF6\",\"gridcolor\":\"white\",\"linecolor\":\"white\",\"showbackground\":true,\"ticks\":\"\",\"zerolinecolor\":\"white\",\"gridwidth\":2},\"yaxis\":{\"backgroundcolor\":\"#E5ECF6\",\"gridcolor\":\"white\",\"linecolor\":\"white\",\"showbackground\":true,\"ticks\":\"\",\"zerolinecolor\":\"white\",\"gridwidth\":2},\"zaxis\":{\"backgroundcolor\":\"#E5ECF6\",\"gridcolor\":\"white\",\"linecolor\":\"white\",\"showbackground\":true,\"ticks\":\"\",\"zerolinecolor\":\"white\",\"gridwidth\":2}},\"shapedefaults\":{\"line\":{\"color\":\"#2a3f5f\"}},\"annotationdefaults\":{\"arrowcolor\":\"#2a3f5f\",\"arrowhead\":0,\"arrowwidth\":1},\"geo\":{\"bgcolor\":\"white\",\"landcolor\":\"#E5ECF6\",\"subunitcolor\":\"white\",\"showland\":true,\"showlakes\":true,\"lakecolor\":\"white\"},\"title\":{\"x\":0.05},\"mapbox\":{\"style\":\"light\"}}},\"xaxis\":{\"title\":{\"text\":\"Epoch\"}},\"yaxis\":{\"title\":{\"text\":\"Loss\"}},\"title\":{\"text\":\"Evolution of Loss across Epochs\",\"font\":{\"size\":20},\"x\":0.5},\"height\":500,\"width\":1200},                        {\"responsive\": true}                    ).then(function(){\n",
              "                            \n",
              "var gd = document.getElementById('7a92804f-5a66-44c8-9dc7-1ad21eab64a7');\n",
              "var x = new MutationObserver(function (mutations, observer) {{\n",
              "        var display = window.getComputedStyle(gd).display;\n",
              "        if (!display || display === 'none') {{\n",
              "            console.log([gd, 'removed!']);\n",
              "            Plotly.purge(gd);\n",
              "            observer.disconnect();\n",
              "        }}\n",
              "}});\n",
              "\n",
              "// Listen for the removal of the full notebook cells\n",
              "var notebookContainer = gd.closest('#notebook-container');\n",
              "if (notebookContainer) {{\n",
              "    x.observe(notebookContainer, {childList: true});\n",
              "}}\n",
              "\n",
              "// Listen for the clearing of the current output cell\n",
              "var outputEl = gd.closest('.output');\n",
              "if (outputEl) {{\n",
              "    x.observe(outputEl, {childList: true});\n",
              "}}\n",
              "\n",
              "                        })                };                            </script>        </div>\n",
              "</body>\n",
              "</html>"
            ]
          },
          "metadata": {},
          "output_type": "display_data"
        },
        {
          "data": {
            "text/html": [
              "<html>\n",
              "<head><meta charset=\"utf-8\" /></head>\n",
              "<body>\n",
              "    <div>            <script src=\"https://cdnjs.cloudflare.com/ajax/libs/mathjax/2.7.5/MathJax.js?config=TeX-AMS-MML_SVG\"></script><script type=\"text/javascript\">if (window.MathJax && window.MathJax.Hub && window.MathJax.Hub.Config) {window.MathJax.Hub.Config({SVG: {font: \"STIX-Web\"}});}</script>                <script type=\"text/javascript\">window.PlotlyConfig = {MathJaxConfig: 'local'};</script>\n",
              "        <script charset=\"utf-8\" src=\"https://cdn.plot.ly/plotly-2.24.1.min.js\"></script>                <div id=\"b0a15b4c-2b48-47ac-a671-b56918b2cae0\" class=\"plotly-graph-div\" style=\"height:500px; width:1200px;\"></div>            <script type=\"text/javascript\">                                    window.PLOTLYENV=window.PLOTLYENV || {};                                    if (document.getElementById(\"b0a15b4c-2b48-47ac-a671-b56918b2cae0\")) {                    Plotly.newPlot(                        \"b0a15b4c-2b48-47ac-a671-b56918b2cae0\",                        [{\"line\":{\"color\":\"blue\",\"width\":2},\"name\":\"Masked Accuracy\",\"x\":[1,2,3,4,5,6,7,8,9,10,11,12,13,14,15],\"y\":[0.3588563799858093,0.6270943284034729,0.709879457950592,0.7503759264945984,0.7777624130249023,0.7991417646408081,0.8183253407478333,0.8334852457046509,0.8459163308143616,0.8567920923233032,0.8665555715560913,0.8750180006027222,0.8828251361846924,0.8893626928329468,0.8958093523979187],\"type\":\"scatter\"},{\"line\":{\"color\":\"#FF6600\",\"width\":2},\"name\":\"Val Masked Accuracy\",\"x\":[1,2,3,4,5,6,7,8,9,10,11,12,13,14,15],\"y\":[0.4883413016796112,0.6264033913612366,0.6724624037742615,0.7002130150794983,0.7030341625213623,0.7028038501739502,0.7156428098678589,0.7195578217506409,0.7214002013206482,0.7264091372489929,0.7251424789428711,0.727790892124176,0.7219759225845337,0.7221486568450928,0.7261788249015808],\"type\":\"scatter\"}],                        {\"template\":{\"data\":{\"histogram2dcontour\":[{\"type\":\"histogram2dcontour\",\"colorbar\":{\"outlinewidth\":0,\"ticks\":\"\"},\"colorscale\":[[0.0,\"#0d0887\"],[0.1111111111111111,\"#46039f\"],[0.2222222222222222,\"#7201a8\"],[0.3333333333333333,\"#9c179e\"],[0.4444444444444444,\"#bd3786\"],[0.5555555555555556,\"#d8576b\"],[0.6666666666666666,\"#ed7953\"],[0.7777777777777778,\"#fb9f3a\"],[0.8888888888888888,\"#fdca26\"],[1.0,\"#f0f921\"]]}],\"choropleth\":[{\"type\":\"choropleth\",\"colorbar\":{\"outlinewidth\":0,\"ticks\":\"\"}}],\"histogram2d\":[{\"type\":\"histogram2d\",\"colorbar\":{\"outlinewidth\":0,\"ticks\":\"\"},\"colorscale\":[[0.0,\"#0d0887\"],[0.1111111111111111,\"#46039f\"],[0.2222222222222222,\"#7201a8\"],[0.3333333333333333,\"#9c179e\"],[0.4444444444444444,\"#bd3786\"],[0.5555555555555556,\"#d8576b\"],[0.6666666666666666,\"#ed7953\"],[0.7777777777777778,\"#fb9f3a\"],[0.8888888888888888,\"#fdca26\"],[1.0,\"#f0f921\"]]}],\"heatmap\":[{\"type\":\"heatmap\",\"colorbar\":{\"outlinewidth\":0,\"ticks\":\"\"},\"colorscale\":[[0.0,\"#0d0887\"],[0.1111111111111111,\"#46039f\"],[0.2222222222222222,\"#7201a8\"],[0.3333333333333333,\"#9c179e\"],[0.4444444444444444,\"#bd3786\"],[0.5555555555555556,\"#d8576b\"],[0.6666666666666666,\"#ed7953\"],[0.7777777777777778,\"#fb9f3a\"],[0.8888888888888888,\"#fdca26\"],[1.0,\"#f0f921\"]]}],\"heatmapgl\":[{\"type\":\"heatmapgl\",\"colorbar\":{\"outlinewidth\":0,\"ticks\":\"\"},\"colorscale\":[[0.0,\"#0d0887\"],[0.1111111111111111,\"#46039f\"],[0.2222222222222222,\"#7201a8\"],[0.3333333333333333,\"#9c179e\"],[0.4444444444444444,\"#bd3786\"],[0.5555555555555556,\"#d8576b\"],[0.6666666666666666,\"#ed7953\"],[0.7777777777777778,\"#fb9f3a\"],[0.8888888888888888,\"#fdca26\"],[1.0,\"#f0f921\"]]}],\"contourcarpet\":[{\"type\":\"contourcarpet\",\"colorbar\":{\"outlinewidth\":0,\"ticks\":\"\"}}],\"contour\":[{\"type\":\"contour\",\"colorbar\":{\"outlinewidth\":0,\"ticks\":\"\"},\"colorscale\":[[0.0,\"#0d0887\"],[0.1111111111111111,\"#46039f\"],[0.2222222222222222,\"#7201a8\"],[0.3333333333333333,\"#9c179e\"],[0.4444444444444444,\"#bd3786\"],[0.5555555555555556,\"#d8576b\"],[0.6666666666666666,\"#ed7953\"],[0.7777777777777778,\"#fb9f3a\"],[0.8888888888888888,\"#fdca26\"],[1.0,\"#f0f921\"]]}],\"surface\":[{\"type\":\"surface\",\"colorbar\":{\"outlinewidth\":0,\"ticks\":\"\"},\"colorscale\":[[0.0,\"#0d0887\"],[0.1111111111111111,\"#46039f\"],[0.2222222222222222,\"#7201a8\"],[0.3333333333333333,\"#9c179e\"],[0.4444444444444444,\"#bd3786\"],[0.5555555555555556,\"#d8576b\"],[0.6666666666666666,\"#ed7953\"],[0.7777777777777778,\"#fb9f3a\"],[0.8888888888888888,\"#fdca26\"],[1.0,\"#f0f921\"]]}],\"mesh3d\":[{\"type\":\"mesh3d\",\"colorbar\":{\"outlinewidth\":0,\"ticks\":\"\"}}],\"scatter\":[{\"fillpattern\":{\"fillmode\":\"overlay\",\"size\":10,\"solidity\":0.2},\"type\":\"scatter\"}],\"parcoords\":[{\"type\":\"parcoords\",\"line\":{\"colorbar\":{\"outlinewidth\":0,\"ticks\":\"\"}}}],\"scatterpolargl\":[{\"type\":\"scatterpolargl\",\"marker\":{\"colorbar\":{\"outlinewidth\":0,\"ticks\":\"\"}}}],\"bar\":[{\"error_x\":{\"color\":\"#2a3f5f\"},\"error_y\":{\"color\":\"#2a3f5f\"},\"marker\":{\"line\":{\"color\":\"#E5ECF6\",\"width\":0.5},\"pattern\":{\"fillmode\":\"overlay\",\"size\":10,\"solidity\":0.2}},\"type\":\"bar\"}],\"scattergeo\":[{\"type\":\"scattergeo\",\"marker\":{\"colorbar\":{\"outlinewidth\":0,\"ticks\":\"\"}}}],\"scatterpolar\":[{\"type\":\"scatterpolar\",\"marker\":{\"colorbar\":{\"outlinewidth\":0,\"ticks\":\"\"}}}],\"histogram\":[{\"marker\":{\"pattern\":{\"fillmode\":\"overlay\",\"size\":10,\"solidity\":0.2}},\"type\":\"histogram\"}],\"scattergl\":[{\"type\":\"scattergl\",\"marker\":{\"colorbar\":{\"outlinewidth\":0,\"ticks\":\"\"}}}],\"scatter3d\":[{\"type\":\"scatter3d\",\"line\":{\"colorbar\":{\"outlinewidth\":0,\"ticks\":\"\"}},\"marker\":{\"colorbar\":{\"outlinewidth\":0,\"ticks\":\"\"}}}],\"scattermapbox\":[{\"type\":\"scattermapbox\",\"marker\":{\"colorbar\":{\"outlinewidth\":0,\"ticks\":\"\"}}}],\"scatterternary\":[{\"type\":\"scatterternary\",\"marker\":{\"colorbar\":{\"outlinewidth\":0,\"ticks\":\"\"}}}],\"scattercarpet\":[{\"type\":\"scattercarpet\",\"marker\":{\"colorbar\":{\"outlinewidth\":0,\"ticks\":\"\"}}}],\"carpet\":[{\"aaxis\":{\"endlinecolor\":\"#2a3f5f\",\"gridcolor\":\"white\",\"linecolor\":\"white\",\"minorgridcolor\":\"white\",\"startlinecolor\":\"#2a3f5f\"},\"baxis\":{\"endlinecolor\":\"#2a3f5f\",\"gridcolor\":\"white\",\"linecolor\":\"white\",\"minorgridcolor\":\"white\",\"startlinecolor\":\"#2a3f5f\"},\"type\":\"carpet\"}],\"table\":[{\"cells\":{\"fill\":{\"color\":\"#EBF0F8\"},\"line\":{\"color\":\"white\"}},\"header\":{\"fill\":{\"color\":\"#C8D4E3\"},\"line\":{\"color\":\"white\"}},\"type\":\"table\"}],\"barpolar\":[{\"marker\":{\"line\":{\"color\":\"#E5ECF6\",\"width\":0.5},\"pattern\":{\"fillmode\":\"overlay\",\"size\":10,\"solidity\":0.2}},\"type\":\"barpolar\"}],\"pie\":[{\"automargin\":true,\"type\":\"pie\"}]},\"layout\":{\"autotypenumbers\":\"strict\",\"colorway\":[\"#636efa\",\"#EF553B\",\"#00cc96\",\"#ab63fa\",\"#FFA15A\",\"#19d3f3\",\"#FF6692\",\"#B6E880\",\"#FF97FF\",\"#FECB52\"],\"font\":{\"color\":\"#2a3f5f\"},\"hovermode\":\"closest\",\"hoverlabel\":{\"align\":\"left\"},\"paper_bgcolor\":\"white\",\"plot_bgcolor\":\"#E5ECF6\",\"polar\":{\"bgcolor\":\"#E5ECF6\",\"angularaxis\":{\"gridcolor\":\"white\",\"linecolor\":\"white\",\"ticks\":\"\"},\"radialaxis\":{\"gridcolor\":\"white\",\"linecolor\":\"white\",\"ticks\":\"\"}},\"ternary\":{\"bgcolor\":\"#E5ECF6\",\"aaxis\":{\"gridcolor\":\"white\",\"linecolor\":\"white\",\"ticks\":\"\"},\"baxis\":{\"gridcolor\":\"white\",\"linecolor\":\"white\",\"ticks\":\"\"},\"caxis\":{\"gridcolor\":\"white\",\"linecolor\":\"white\",\"ticks\":\"\"}},\"coloraxis\":{\"colorbar\":{\"outlinewidth\":0,\"ticks\":\"\"}},\"colorscale\":{\"sequential\":[[0.0,\"#0d0887\"],[0.1111111111111111,\"#46039f\"],[0.2222222222222222,\"#7201a8\"],[0.3333333333333333,\"#9c179e\"],[0.4444444444444444,\"#bd3786\"],[0.5555555555555556,\"#d8576b\"],[0.6666666666666666,\"#ed7953\"],[0.7777777777777778,\"#fb9f3a\"],[0.8888888888888888,\"#fdca26\"],[1.0,\"#f0f921\"]],\"sequentialminus\":[[0.0,\"#0d0887\"],[0.1111111111111111,\"#46039f\"],[0.2222222222222222,\"#7201a8\"],[0.3333333333333333,\"#9c179e\"],[0.4444444444444444,\"#bd3786\"],[0.5555555555555556,\"#d8576b\"],[0.6666666666666666,\"#ed7953\"],[0.7777777777777778,\"#fb9f3a\"],[0.8888888888888888,\"#fdca26\"],[1.0,\"#f0f921\"]],\"diverging\":[[0,\"#8e0152\"],[0.1,\"#c51b7d\"],[0.2,\"#de77ae\"],[0.3,\"#f1b6da\"],[0.4,\"#fde0ef\"],[0.5,\"#f7f7f7\"],[0.6,\"#e6f5d0\"],[0.7,\"#b8e186\"],[0.8,\"#7fbc41\"],[0.9,\"#4d9221\"],[1,\"#276419\"]]},\"xaxis\":{\"gridcolor\":\"white\",\"linecolor\":\"white\",\"ticks\":\"\",\"title\":{\"standoff\":15},\"zerolinecolor\":\"white\",\"automargin\":true,\"zerolinewidth\":2},\"yaxis\":{\"gridcolor\":\"white\",\"linecolor\":\"white\",\"ticks\":\"\",\"title\":{\"standoff\":15},\"zerolinecolor\":\"white\",\"automargin\":true,\"zerolinewidth\":2},\"scene\":{\"xaxis\":{\"backgroundcolor\":\"#E5ECF6\",\"gridcolor\":\"white\",\"linecolor\":\"white\",\"showbackground\":true,\"ticks\":\"\",\"zerolinecolor\":\"white\",\"gridwidth\":2},\"yaxis\":{\"backgroundcolor\":\"#E5ECF6\",\"gridcolor\":\"white\",\"linecolor\":\"white\",\"showbackground\":true,\"ticks\":\"\",\"zerolinecolor\":\"white\",\"gridwidth\":2},\"zaxis\":{\"backgroundcolor\":\"#E5ECF6\",\"gridcolor\":\"white\",\"linecolor\":\"white\",\"showbackground\":true,\"ticks\":\"\",\"zerolinecolor\":\"white\",\"gridwidth\":2}},\"shapedefaults\":{\"line\":{\"color\":\"#2a3f5f\"}},\"annotationdefaults\":{\"arrowcolor\":\"#2a3f5f\",\"arrowhead\":0,\"arrowwidth\":1},\"geo\":{\"bgcolor\":\"white\",\"landcolor\":\"#E5ECF6\",\"subunitcolor\":\"white\",\"showland\":true,\"showlakes\":true,\"lakecolor\":\"white\"},\"title\":{\"x\":0.05},\"mapbox\":{\"style\":\"light\"}}},\"xaxis\":{\"title\":{\"text\":\"Epoch\"}},\"yaxis\":{\"title\":{\"text\":\"Masked Accuracy\"}},\"title\":{\"text\":\"Evolution of Masked Accuracy across Epochs\",\"font\":{\"size\":20},\"x\":0.5},\"height\":500,\"width\":1200},                        {\"responsive\": true}                    ).then(function(){\n",
              "                            \n",
              "var gd = document.getElementById('b0a15b4c-2b48-47ac-a671-b56918b2cae0');\n",
              "var x = new MutationObserver(function (mutations, observer) {{\n",
              "        var display = window.getComputedStyle(gd).display;\n",
              "        if (!display || display === 'none') {{\n",
              "            console.log([gd, 'removed!']);\n",
              "            Plotly.purge(gd);\n",
              "            observer.disconnect();\n",
              "        }}\n",
              "}});\n",
              "\n",
              "// Listen for the removal of the full notebook cells\n",
              "var notebookContainer = gd.closest('#notebook-container');\n",
              "if (notebookContainer) {{\n",
              "    x.observe(notebookContainer, {childList: true});\n",
              "}}\n",
              "\n",
              "// Listen for the clearing of the current output cell\n",
              "var outputEl = gd.closest('.output');\n",
              "if (outputEl) {{\n",
              "    x.observe(outputEl, {childList: true});\n",
              "}}\n",
              "\n",
              "                        })                };                            </script>        </div>\n",
              "</body>\n",
              "</html>"
            ]
          },
          "metadata": {},
          "output_type": "display_data"
        }
      ],
      "source": [
        "plot_metrics()\n",
        "plot_metrics(metric=\"masked_accuracy\")"
      ]
    },
    {
      "cell_type": "markdown",
      "metadata": {
        "id": "3ZxQzcbFuUaF"
      },
      "source": [
        "**Images for GitHub**"
      ]
    },
    {
      "cell_type": "code",
      "execution_count": null,
      "metadata": {
        "colab": {
          "base_uri": "https://localhost:8080/",
          "height": 1000
        },
        "id": "jU2ln7oba0bo",
        "outputId": "8be1b69a-32b2-4fe3-891e-5fadba5266a6"
      },
      "outputs": [
        {
          "data": {
            "image/png": "[encoded data removed]"
          },
          "metadata": {},
          "output_type": "display_data"
        },
        {
          "data": {
            "image/png": "[encoded data removed]"
          },
          "metadata": {},
          "output_type": "display_data"
        }
      ],
      "source": [
        "plot_metrics(renderer=\"png\")\n",
        "plot_metrics(metric=\"masked_accuracy\", renderer=\"png\")"
      ]
    },
    {
      "cell_type": "markdown",
      "metadata": {
        "id": "tqZEQqTH5E-X"
      },
      "source": [
        "### **With BLEU Score**\n",
        "\n",
        "[BLEU (Bilingual Evaluation Understudy)](https://huggingface.co/spaces/evaluate-metric/bleu) is an algorithm used to evaluate the quality of automatically translated text between languages. It uses a scoring range from 0 to 100, where a score of 100 represents a perfect translation. Evaluations are performed on individual translated segments by comparing them to a set of high-quality reference translations.\n",
        "\n",
        "To facilitate the evaluation of machine translation models using BLEU, [SacreBLEU](https://huggingface.co/spaces/evaluate-metric/sacrebleu) is employed. SacreBLEU is a specific implementation of BLEU within the SacreBLEU library, which provides additional tools and specific adjustments to simplify and standardize the evaluation of machine translations."
      ]
    },
    {
      "cell_type": "code",
      "execution_count": null,
      "metadata": {
        "id": "hjlSK0AUdL0v"
      },
      "outputs": [],
      "source": [
        "val_contexts = contexts[~is_train]\n",
        "val_targets= targets[~is_train]"
      ]
    },
    {
      "cell_type": "code",
      "execution_count": null,
      "metadata": {
        "colab": {
          "base_uri": "https://localhost:8080/"
        },
        "id": "xl4nHVi63Nv1",
        "outputId": "d5a79112-f154-43e1-952d-f8ea737238a6"
      },
      "outputs": [
        {
          "data": {
            "text/plain": [
              "(2, 3)"
            ]
          },
          "execution_count": 31,
          "metadata": {},
          "output_type": "execute_result"
        }
      ],
      "source": [
        "token_start = list(target_vocab).index(\"[START]\")\n",
        "token_end = list(target_vocab).index(\"[END]\")\n",
        "\n",
        "token_start, token_end"
      ]
    },
    {
      "cell_type": "markdown",
      "metadata": {
        "id": "Shjs_D3N8azY"
      },
      "source": [
        "**Class for generating translations from English to Spanish**\n",
        "\n",
        "To determine the best translation, we will consider the last logit (score) of the sequence predicted by the model, as it encapsulates information from the entire sequence. While this method doesn't work perfectly in all cases, it performs well for quick and straightforward translations."
      ]
    },
    {
      "cell_type": "code",
      "execution_count": null,
      "metadata": {
        "id": "fgEJCYu8C5Jt"
      },
      "outputs": [],
      "source": [
        "class GenerateTranslation():\n",
        "  def __init__(self, model, units):\n",
        "    self.model = model\n",
        "    self.units = units\n",
        "    # Mask to discard [UNK] tokens and padding tokens\n",
        "    self.mask = tf.scatter_nd(\n",
        "        indices=[[0], [1]],\n",
        "        updates=[-float(\"inf\"), -float(\"inf\")],\n",
        "        shape=[target_vocab_size]\n",
        "    )\n",
        "\n",
        "  @tf.function #Transforming the function into an optimized computational graph to accelerate prediction\n",
        "  def generate_next_token(self, encoded_context, next_token, states, end, temperature):\n",
        "    logits, states = self.model.decoder_model(encoded_context, next_token, states, return_state=True)\n",
        "    logits = logits[:, -1, :]\n",
        "    temperature = tf.cast(temperature, logits.dtype)\n",
        "\n",
        "    if temperature == 0:\n",
        "      logits += self.mask\n",
        "      next_token = tf.argmax(logits, axis=-1)\n",
        "    else:\n",
        "      logits /= temperature\n",
        "      logits += self.mask\n",
        "      next_token = tf.random.categorical(logits, num_samples=1)[0]\n",
        "\n",
        "    if next_token == token_end:\n",
        "      end = True\n",
        "    logit = tf.gather(logits[0], next_token)\n",
        "\n",
        "    return next_token[None, :], logit, states, end\n",
        "\n",
        "  def translate(self, text, max_length=100, temperature=0.0):\n",
        "    tokens, logits = [], []\n",
        "\n",
        "    context = context_vectorizer([text]).to_tensor()\n",
        "    next_token = tf.constant(token_start, shape=(1, 1))\n",
        "    states = [tf.zeros((1, self.units)), tf.zeros((1, self.units))]\n",
        "    end = False\n",
        "\n",
        "    encoded_context = self.model.encoder_model(context)\n",
        "\n",
        "    for _ in range(max_length):\n",
        "      next_token, logit, states, end = self.generate_next_token(\n",
        "          encoded_context,\n",
        "          next_token,\n",
        "          states,\n",
        "          end,\n",
        "          temperature\n",
        "      )\n",
        "      if end:\n",
        "        break\n",
        "\n",
        "      tokens.append(next_token.numpy().squeeze())\n",
        "      logits.append(logit.numpy()[0])\n",
        "\n",
        "    translated_text = \" \".join(target_vocab[tokens])\n",
        "    translated_text = self.remove_punctuation_spaces(translated_text)\n",
        "\n",
        "    return translated_text, logits[-1]\n",
        "\n",
        "  # Method to generate multiple translations with varying temperatures\n",
        "  def generate_samples(self, text, max_length=100, max_temperature=1.0, n_samples=3, n_best_size=10):\n",
        "    samples = []\n",
        "\n",
        "    for t in np.arange(0, max_temperature+0.2, 0.2):\n",
        "      sample_range = 1 if t == 0 else n_samples\n",
        "\n",
        "      for _ in range(sample_range):\n",
        "        sample, score = self.translate(text, max_length, t)\n",
        "        samples.append({\n",
        "            \"translated_text\": sample,\n",
        "            \"score\": score\n",
        "        })\n",
        "    samples = sorted(samples, key=lambda x: x[\"score\"], reverse=True)[:n_best_size]\n",
        "\n",
        "    return samples\n",
        "\n",
        "  def remove_punctuation_spaces(self, text):\n",
        "    text = re.sub(r\"\\s([.,;:?!])\", r\"\\1\", text)\n",
        "    text = re.sub(r\"([¿¡])\\s\", r\"\\1\", text)\n",
        "    return text"
      ]
    },
    {
      "cell_type": "code",
      "execution_count": null,
      "metadata": {
        "id": "zEim81VWTU44"
      },
      "outputs": [],
      "source": [
        "translate = GenerateTranslation(model, embedding_dim)"
      ]
    },
    {
      "cell_type": "code",
      "execution_count": null,
      "metadata": {
        "colab": {
          "base_uri": "https://localhost:8080/"
        },
        "id": "4CTE_6Os52Yr",
        "outputId": "068fdcd2-854d-4747-a747-0df2ddeb11ee"
      },
      "outputs": [
        {
          "data": {
            "text/plain": [
              "[{'translated_text': 'soy de peru.', 'score': 70.19684},\n",
              " {'translated_text': 'soy de peru.', 'score': 70.19684},\n",
              " {'translated_text': 'soy de peru.', 'score': 70.19684},\n",
              " {'translated_text': 'soy de peru.', 'score': 35.09842},\n",
              " {'translated_text': 'soy de peru.', 'score': 35.09842},\n",
              " {'translated_text': 'soy el peru.', 'score': 32.206764},\n",
              " {'translated_text': 'soy del peru.', 'score': 23.447515},\n",
              " {'translated_text': 'soy de peru.', 'score': 23.398945},\n",
              " {'translated_text': 'soy el peru.', 'score': 21.471176},\n",
              " {'translated_text': 'soy el aullar de peru.', 'score': 18.252928}]"
            ]
          },
          "execution_count": 69,
          "metadata": {},
          "output_type": "execute_result"
        }
      ],
      "source": [
        "# Translation example\n",
        "tf.random.set_seed(123)\n",
        "translate.generate_samples(\"I'm from Peru.\")"
      ]
    },
    {
      "cell_type": "markdown",
      "metadata": {
        "id": "WuxKxsoJ-AU3"
      },
      "source": [
        "**Load the Evaluation Metric**"
      ]
    },
    {
      "cell_type": "code",
      "execution_count": null,
      "metadata": {
        "colab": {
          "base_uri": "https://localhost:8080/",
          "height": 1000,
          "referenced_widgets": [
            "967e7d072c7440b583201fe5e1893992",
            "71c2d835b6804435b587846f33bd2f8b",
            "3bc441bd7c7c4160bfcd2da8e16dccfd",
            "7f72d11760734a51a9d3b87a7fac6deb",
            "326b9a5b12e84d15a1d0e172cd0fe4fa",
            "1f76cef7fbee48d9a5b8569afbeecb26",
            "797e753bf1864ec2a502bfaa1d5ff075",
            "a5c83f64aa6d48dbb6917821d630354d",
            "92521f2c6202423ba4ac403c608ae041",
            "38f413dfc2524180a290b85dffc86a84",
            "e5adabc51b294dd184451a1cb9d6cb68"
          ]
        },
        "id": "bZqEnbZTjat2",
        "outputId": "5903f504-c370-48c7-a9c0-55b35bc442c7"
      },
      "outputs": [
        {
          "data": {
            "application/vnd.jupyter.widget-view+json": {
              "model_id": "967e7d072c7440b583201fe5e1893992",
              "version_major": 2,
              "version_minor": 0
            },
            "text/plain": [
              "Downloading builder script:   0%|          | 0.00/8.15k [00:00<?, ?B/s]"
            ]
          },
          "metadata": {},
          "output_type": "display_data"
        },
        {
          "data": {
            "text/plain": [
              "EvaluationModule(name: \"sacrebleu\", module_type: \"metric\", features: [{'predictions': Value(dtype='string', id='sequence'), 'references': Sequence(feature=Value(dtype='string', id='sequence'), length=-1, id='references')}, {'predictions': Value(dtype='string', id='sequence'), 'references': Value(dtype='string', id='sequence')}], usage: \"\"\"\n",
              "Produces BLEU scores along with its sufficient statistics\n",
              "from a source against one or more references.\n",
              "\n",
              "Args:\n",
              "    predictions (`list` of `str`): list of translations to score. Each translation should be tokenized into a list of tokens.\n",
              "    references (`list` of `list` of `str`): A list of lists of references. The contents of the first sub-list are the references for the first prediction, the contents of the second sub-list are for the second prediction, etc. Note that there must be the same number of references for each prediction (i.e. all sub-lists must be of the same length).\n",
              "    smooth_method (`str`): The smoothing method to use, defaults to `'exp'`. Possible values are:\n",
              "        - `'none'`: no smoothing\n",
              "        - `'floor'`: increment zero counts\n",
              "        - `'add-k'`: increment num/denom by k for n>1\n",
              "        - `'exp'`: exponential decay\n",
              "    smooth_value (`float`): The smoothing value. Only valid when `smooth_method='floor'` (in which case `smooth_value` defaults to `0.1`) or `smooth_method='add-k'` (in which case `smooth_value` defaults to `1`).\n",
              "    tokenize (`str`): Tokenization method to use for BLEU. If not provided, defaults to `'zh'` for Chinese, `'ja-mecab'` for Japanese and `'13a'` (mteval) otherwise. Possible values are:\n",
              "        - `'none'`: No tokenization.\n",
              "        - `'zh'`: Chinese tokenization.\n",
              "        - `'13a'`: mimics the `mteval-v13a` script from Moses.\n",
              "        - `'intl'`: International tokenization, mimics the `mteval-v14` script from Moses\n",
              "        - `'char'`: Language-agnostic character-level tokenization.\n",
              "        - `'ja-mecab'`: Japanese tokenization. Uses the [MeCab tokenizer](https://pypi.org/project/mecab-python3).\n",
              "    lowercase (`bool`): If `True`, lowercases the input, enabling case-insensitivity. Defaults to `False`.\n",
              "    force (`bool`): If `True`, insists that your tokenized input is actually detokenized. Defaults to `False`.\n",
              "    use_effective_order (`bool`): If `True`, stops including n-gram orders for which precision is 0. This should be `True`, if sentence-level BLEU will be computed. Defaults to `False`.\n",
              "\n",
              "Returns:\n",
              "    'score': BLEU score,\n",
              "    'counts': Counts,\n",
              "    'totals': Totals,\n",
              "    'precisions': Precisions,\n",
              "    'bp': Brevity penalty,\n",
              "    'sys_len': predictions length,\n",
              "    'ref_len': reference length,\n",
              "\n",
              "Examples:\n",
              "\n",
              "    Example 1:\n",
              "        >>> predictions = [\"hello there general kenobi\", \"foo bar foobar\"]\n",
              "        >>> references = [[\"hello there general kenobi\", \"hello there !\"], [\"foo bar foobar\", \"foo bar foobar\"]]\n",
              "        >>> sacrebleu = evaluate.load(\"sacrebleu\")\n",
              "        >>> results = sacrebleu.compute(predictions=predictions, references=references)\n",
              "        >>> print(list(results.keys()))\n",
              "        ['score', 'counts', 'totals', 'precisions', 'bp', 'sys_len', 'ref_len']\n",
              "        >>> print(round(results[\"score\"], 1))\n",
              "        100.0\n",
              "\n",
              "    Example 2:\n",
              "        >>> predictions = [\"hello there general kenobi\",\n",
              "        ...                 \"on our way to ankh morpork\"]\n",
              "        >>> references = [[\"hello there general kenobi\", \"hello there !\"],\n",
              "        ...                 [\"goodbye ankh morpork\", \"ankh morpork\"]]\n",
              "        >>> sacrebleu = evaluate.load(\"sacrebleu\")\n",
              "        >>> results = sacrebleu.compute(predictions=predictions,\n",
              "        ...                             references=references)\n",
              "        >>> print(list(results.keys()))\n",
              "        ['score', 'counts', 'totals', 'precisions', 'bp', 'sys_len', 'ref_len']\n",
              "        >>> print(round(results[\"score\"], 1))\n",
              "        39.8\n",
              "\"\"\", stored examples: 0)"
            ]
          },
          "execution_count": 25,
          "metadata": {},
          "output_type": "execute_result"
        }
      ],
      "source": [
        "metric = load(\"sacrebleu\")\n",
        "metric"
      ]
    },
    {
      "cell_type": "markdown",
      "metadata": {
        "id": "SyW-QvM4Z8zN"
      },
      "source": [
        "**Function to calculate BLEU score given a list of texts and a list with their reference or references**"
      ]
    },
    {
      "cell_type": "code",
      "execution_count": null,
      "metadata": {
        "id": "M4cwxssHd1-A"
      },
      "outputs": [],
      "source": [
        "def evaluate_bleu_score(contexts, targets, n_samples=3):\n",
        "  def normalize_target(text):\n",
        "    text = tf_text.normalize_utf8(text, \"NFKD\")\n",
        "    text = tf.strings.lower(text)\n",
        "    text = tf.strings.regex_replace(text, r\"[^ a-z0-9.,;:¿?¡!-]\", \"\")\n",
        "    return text.numpy().decode(\"utf-8\")\n",
        "\n",
        "  predictions, references, scores = [], [], []\n",
        "  for i in tqdm(range(len(contexts))):\n",
        "    prediction = translate.generate_samples(contexts[i], n_samples=n_samples)[0][\"translated_text\"]\n",
        "\n",
        "    reference = targets[i]\n",
        "    if type(reference) == list:\n",
        "      reference = [normalize_target(r) for r in reference]\n",
        "    else:\n",
        "      reference = [normalize_target(reference)]\n",
        "\n",
        "    score = metric.compute(\n",
        "        predictions=[prediction],\n",
        "        references=[reference],\n",
        "        use_effective_order=True\n",
        "    )[\"score\"]\n",
        "\n",
        "    predictions.append(prediction)\n",
        "    references.append(reference)\n",
        "    scores.append(score)\n",
        "\n",
        "  return predictions, references, scores"
      ]
    },
    {
      "cell_type": "code",
      "execution_count": null,
      "metadata": {
        "colab": {
          "base_uri": "https://localhost:8080/",
          "height": 66,
          "referenced_widgets": [
            "4e88044c87644e1698fa0f484a989221",
            "e234055105f94c6384c0f5d5d604cf7d",
            "0dbfb3f3655443ed940a1a3f5a89654d",
            "818ff25c19854c8998da280d78ed4122",
            "26678ed271ff4f3996dd2f1dafa2c15f",
            "9e39290c390841acb1fba18ef8b8b5b4",
            "7396d34983824c438aede81d90c53b3e",
            "71ebfbcc67a248108af5dd6140625e0f",
            "59ac9e8d7fb84198a6d960def8e6eac7",
            "98849de26d464aeebd227dc3cb8e26b6",
            "e336e6856a1849f5ad1114016f043b59"
          ]
        },
        "id": "nH81ZMnMenV4",
        "outputId": "d58c8445-6862-4098-ea99-13f922adfc6b"
      },
      "outputs": [
        {
          "data": {
            "application/vnd.jupyter.widget-view+json": {
              "model_id": "4e88044c87644e1698fa0f484a989221",
              "version_major": 2,
              "version_minor": 0
            },
            "text/plain": [
              "  0%|          | 0/2119 [00:00<?, ?it/s]"
            ]
          },
          "metadata": {},
          "output_type": "display_data"
        },
        {
          "name": "stdout",
          "output_type": "stream",
          "text": [
            "BLEU Score: 37.330135784629014\n"
          ]
        }
      ],
      "source": [
        "# Calculating the BLEU score for the evaluation dataset\n",
        "tf.random.set_seed(SEED)\n",
        "predictions, references, scores = evaluate_bleu_score(\n",
        "    val_contexts,\n",
        "    val_targets\n",
        ")\n",
        "\n",
        "print(f\"BLEU Score: {np.mean(scores)}\")"
      ]
    },
    {
      "cell_type": "code",
      "execution_count": null,
      "metadata": {
        "colab": {
          "base_uri": "https://localhost:8080/"
        },
        "id": "CQPvr6bT-zt3",
        "outputId": "c8559b6f-67ae-4c71-ed04-1e61b9420a36"
      },
      "outputs": [
        {
          "data": {
            "text/plain": [
              "{'score': 33.21515887588383,\n",
              " 'counts': [10424, 5739, 3316, 1853],\n",
              " 'totals': [16572, 14453, 12334, 10223],\n",
              " 'precisions': [62.9012792662322,\n",
              "  39.70801909638137,\n",
              "  26.885033241446408,\n",
              "  18.125794776484398],\n",
              " 'bp': 1.0,\n",
              " 'sys_len': 16572,\n",
              " 'ref_len': 14924}"
            ]
          },
          "execution_count": 56,
          "metadata": {},
          "output_type": "execute_result"
        }
      ],
      "source": [
        "metric.compute(predictions=predictions, references=references)"
      ]
    },
    {
      "cell_type": "markdown",
      "metadata": {
        "id": "C16YXoxGgxDa"
      },
      "source": [
        "The BLEU score of the model on the evaluation dataset is **37.33**. Calculated individually, this value is more accurate due to the use of the `use_effective_order=True` argument, which considers only n-grams that match the length of the evaluated text. In contrast, the joint calculation yields a score of 33.22, which is less precise. This discrepancy occurs because when sequences are shorter than the n-grams considered by the metric, a score of 0 is assigned, even if the prediction and the reference are identical.\n",
        "\n",
        "A BLEU score of 37.33 indicates that the model produces translations of low to medium quality. This score would increase if multiple references were considered for each translated text, as there are often several possible translations when switching between languages. As we will see later when generating translations, the model achieves a perfect score of 100 on short texts, but as texts become longer, its performance decreases, resulting in an overall score of 37.33 on the evaluation dataset."
      ]
    },
    {
      "cell_type": "markdown",
      "metadata": {
        "id": "9NhEDFT-uiav"
      },
      "source": [
        "## **Translate from English to Spanish**"
      ]
    },
    {
      "cell_type": "code",
      "execution_count": null,
      "metadata": {
        "colab": {
          "base_uri": "https://localhost:8080/"
        },
        "id": "KWo6Im5NNN1e",
        "outputId": "e1d365c3-14b7-4dd4-c0e7-8ba55e7a18cc"
      },
      "outputs": [
        {
          "name": "stdout",
          "output_type": "stream",
          "text": [
            "Model: \"translator\"\n",
            "_________________________________________________________________\n",
            " Layer (type)                Output Shape              Param #   \n",
            "=================================================================\n",
            " Encoder (Sequential)        (None, None, 256)         4683008   \n",
            "                                                                 \n",
            " decoder (Decoder)           (None, None, 25000)       14139304  \n",
            "                                                                 \n",
            "=================================================================\n",
            "Total params: 18822312 (71.80 MB)\n",
            "Trainable params: 18822312 (71.80 MB)\n",
            "Non-trainable params: 0 (0.00 Byte)\n",
            "_________________________________________________________________\n"
          ]
        }
      ],
      "source": [
        "# Load the trained model\n",
        "tf.keras.backend.clear_session()\n",
        "\n",
        "model = tf.keras.models.load_model(\n",
        "    trained_model_path,\n",
        "    custom_objects={\n",
        "        \"masked_loss\": masked_loss,\n",
        "        \"masked_accuracy\": masked_accuracy\n",
        "    }\n",
        ")\n",
        "model.call([tf.keras.Input(shape=(None,)), tf.keras.Input(shape=(None,))])\n",
        "model.summary()"
      ]
    },
    {
      "cell_type": "code",
      "execution_count": null,
      "metadata": {
        "id": "W_3dC-l6CnS_"
      },
      "outputs": [],
      "source": [
        "# Function to generate translations and display them in HTML format\n",
        "def display_translation(text, reference=None, n_samples=3):\n",
        "  if reference is not None:\n",
        "    prediction, reference, score = evaluate_bleu_score(\n",
        "        [text],\n",
        "        [reference],\n",
        "        n_samples=n_samples\n",
        "    )\n",
        "\n",
        "    display(HTML(f\"\"\"\n",
        "    <b>English Text:</b> {text}<br>\n",
        "    <b>Spanish Translation:</b> {prediction[0]}<br>\n",
        "    <b>Reference Translations:</b> {reference[0]}<br><br>\n",
        "    <b><span style=\"color: blue\">BLEU Score:</span></b> {round(score[0], 2)}\n",
        "    \"\"\"))\n",
        "  else:\n",
        "    prediction = translate.generate_samples(text, n_samples=n_samples)[0][\"translated_text\"]\n",
        "    display(HTML(f\"\"\"\n",
        "    <b>English Text:</b> {text}<br>\n",
        "    <b>Spanish Translation:</b> {prediction}\n",
        "    \"\"\"))"
      ]
    },
    {
      "cell_type": "code",
      "execution_count": null,
      "metadata": {
        "colab": {
          "base_uri": "https://localhost:8080/",
          "height": 52
        },
        "id": "_iqPYExf7LXg",
        "outputId": "6216a258-24a5-4156-a5dc-965552b2191b"
      },
      "outputs": [
        {
          "data": {
            "text/html": [
              "\n",
              "    <b>English Text:</b> See you later.<br>\n",
              "    <b>Spanish Translation:</b> nos vemos despues.\n",
              "    "
            ],
            "text/plain": [
              "<IPython.core.display.HTML object>"
            ]
          },
          "metadata": {},
          "output_type": "display_data"
        }
      ],
      "source": [
        "# Without references\n",
        "display_translation(\"See you later.\")"
      ]
    },
    {
      "cell_type": "code",
      "execution_count": null,
      "metadata": {
        "colab": {
          "base_uri": "https://localhost:8080/",
          "height": 136,
          "referenced_widgets": [
            "9912d8db32ab4e7e995132086e713dc2",
            "6e0107b72ee54ebabb994fa8d552de97",
            "c424c78e1d3a4c3194861f3c79711f05",
            "661d49054326495197271a921a7587d8",
            "c6e5037b5b2a43e6b0a4c67670d35392",
            "33ddbda9fafd4f0ea7ff29bc91196a6c",
            "63f4f2e6807c475ea5c1ec70175ad4d0",
            "979c44a078c94523a6d6be88f35f026a",
            "376db6ac80794154aeb1c02687f96ed1",
            "d71536a850314a21be9bc849212fe23b",
            "d244b85c7f4145dca8cd4b273be66b99"
          ]
        },
        "id": "2HaR8Bm4z5_m",
        "outputId": "fbba1c32-c1b4-4497-c9a8-539422b7095c"
      },
      "outputs": [
        {
          "data": {
            "application/vnd.jupyter.widget-view+json": {
              "model_id": "9912d8db32ab4e7e995132086e713dc2",
              "version_major": 2,
              "version_minor": 0
            },
            "text/plain": [
              "  0%|          | 0/1 [00:00<?, ?it/s]"
            ]
          },
          "metadata": {},
          "output_type": "display_data"
        },
        {
          "data": {
            "text/html": [
              "\n",
              "    <b>English Text:</b> I was born in Spain.<br>\n",
              "    <b>Spanish Translation:</b> naci en espana.<br>\n",
              "    <b>Reference Translations:</b> ['naci en espana.', 'yo naci en espana']<br><br>\n",
              "    <b><span style=\"color: blue\">BLEU Score:</span></b> 100.0\n",
              "    "
            ],
            "text/plain": [
              "<IPython.core.display.HTML object>"
            ]
          },
          "metadata": {},
          "output_type": "display_data"
        }
      ],
      "source": [
        "display_translation(\n",
        "    text=\"I was born in Spain.\",\n",
        "    reference=[\"Nací en España.\", \"Yo nací en España\"]\n",
        ")"
      ]
    },
    {
      "cell_type": "code",
      "execution_count": null,
      "metadata": {
        "colab": {
          "base_uri": "https://localhost:8080/",
          "height": 136,
          "referenced_widgets": [
            "f0349c3fcc6547baa08412ba9e9226cb",
            "d4564b7618a74d32aa8a2a9b597acfa0",
            "ae23157c99ec4d8785a1b0b64d7da701",
            "3cdcf0cc071c499a9ef39f3dafe09a12",
            "8c821359b7be40c18a3c176ef1b22b1c",
            "756a752940174c9f8e5834aba4851ba6",
            "74cf0d71d9c34f01aee1580a2816672a",
            "455cd170f8fb4870b6ebad027ba5415d",
            "ecf82ae6b01f40888727b50594796ef6",
            "3e98c86877e943118ad2be6e5429e893",
            "52402f1c42fe4cf98111bed16af854e3"
          ]
        },
        "id": "4uxMdsUh4M5B",
        "outputId": "b3d88523-bbca-4359-c2ec-3504ac60abf3"
      },
      "outputs": [
        {
          "data": {
            "application/vnd.jupyter.widget-view+json": {
              "model_id": "f0349c3fcc6547baa08412ba9e9226cb",
              "version_major": 2,
              "version_minor": 0
            },
            "text/plain": [
              "  0%|          | 0/1 [00:00<?, ?it/s]"
            ]
          },
          "metadata": {},
          "output_type": "display_data"
        },
        {
          "data": {
            "text/html": [
              "\n",
              "    <b>English Text:</b> How old are you?<br>\n",
              "    <b>Spanish Translation:</b> ¿cuantos anos tienes?<br>\n",
              "    <b>Reference Translations:</b> ['¿cuantos anos tienes?']<br><br>\n",
              "    <b><span style=\"color: blue\">BLEU Score:</span></b> 100.0\n",
              "    "
            ],
            "text/plain": [
              "<IPython.core.display.HTML object>"
            ]
          },
          "metadata": {},
          "output_type": "display_data"
        }
      ],
      "source": [
        "display_translation(\n",
        "    text=\"How old are you?\",\n",
        "    reference=\"¿Cuántos años tienes?\"\n",
        ")"
      ]
    },
    {
      "cell_type": "code",
      "execution_count": null,
      "metadata": {
        "colab": {
          "base_uri": "https://localhost:8080/",
          "height": 136,
          "referenced_widgets": [
            "28fda7290875450e9ff6414c79136fe8",
            "a34b44a1682b40de871cd49165970a50",
            "1a65c976fc84499cbd75bffe0a96685b",
            "2a90e74e5792491691ea220a34f48c71",
            "324b0e8cfdcb4f1b86fdb498c4771cc8",
            "b4934f8d9a8f420d91dcc271a43fce16",
            "a526a0db70634232885e1e0217f06192",
            "0b70eb41857a4510aa41304e1a499747",
            "d0079dd038634edea1c5c05832924eb3",
            "9f5250e35bb24e6285b6cacb0eea94b6",
            "b4f61cc4fa1642aaaf0059c1391cf9b9"
          ]
        },
        "id": "cQ-PP6hw35gJ",
        "outputId": "c862682c-6677-4429-8c55-331480a21dc9"
      },
      "outputs": [
        {
          "data": {
            "application/vnd.jupyter.widget-view+json": {
              "model_id": "28fda7290875450e9ff6414c79136fe8",
              "version_major": 2,
              "version_minor": 0
            },
            "text/plain": [
              "  0%|          | 0/1 [00:00<?, ?it/s]"
            ]
          },
          "metadata": {},
          "output_type": "display_data"
        },
        {
          "data": {
            "text/html": [
              "\n",
              "    <b>English Text:</b> Where are you from?<br>\n",
              "    <b>Spanish Translation:</b> ¿de donde eres?<br>\n",
              "    <b>Reference Translations:</b> ['¿de que lugar eres?', '¿de donde eres?', '¿de donde sos?']<br><br>\n",
              "    <b><span style=\"color: blue\">BLEU Score:</span></b> 100.0\n",
              "    "
            ],
            "text/plain": [
              "<IPython.core.display.HTML object>"
            ]
          },
          "metadata": {},
          "output_type": "display_data"
        }
      ],
      "source": [
        "display_translation(\n",
        "    text=\"Where are you from?\",\n",
        "    reference=[\"¿De qué lugar eres?\", \"¿De dónde eres?\", \"¿De dónde sos?\"]\n",
        ")"
      ]
    },
    {
      "cell_type": "code",
      "execution_count": null,
      "metadata": {
        "colab": {
          "base_uri": "https://localhost:8080/",
          "height": 136,
          "referenced_widgets": [
            "0258eca4892443ebba3f5cd2106a81a2",
            "e5d5c412687e4526897d7651095a72d8",
            "acae6b2977e8457c906e5820d3abfe54",
            "fd2447e9261a4b5ba9395a3334fa85dd",
            "ff6f476df7274940b345744963ca4503",
            "324d13abf54c445fa482a6077a96e8f0",
            "a146b039512141c3a0c2b57af8e7b869",
            "c1b515c69e5d4e5d84e51f1fd7a5e150",
            "9f2a2d170b764c2ea202d85395b8b113",
            "3504444a721d478883355ca4cbf1bfae",
            "f8bb60843299493499c649e05c7db657"
          ]
        },
        "id": "D34y8EB1srQz",
        "outputId": "ac544bdc-e2f4-406c-be4c-486577619536"
      },
      "outputs": [
        {
          "data": {
            "application/vnd.jupyter.widget-view+json": {
              "model_id": "0258eca4892443ebba3f5cd2106a81a2",
              "version_major": 2,
              "version_minor": 0
            },
            "text/plain": [
              "  0%|          | 0/1 [00:00<?, ?it/s]"
            ]
          },
          "metadata": {},
          "output_type": "display_data"
        },
        {
          "data": {
            "text/html": [
              "\n",
              "    <b>English Text:</b> You did an excellent job!<br>\n",
              "    <b>Spanish Translation:</b> ¡hiciste un trabajo excelente!<br>\n",
              "    <b>Reference Translations:</b> ['¡hiciste un trabajo excelente!']<br><br>\n",
              "    <b><span style=\"color: blue\">BLEU Score:</span></b> 100.0\n",
              "    "
            ],
            "text/plain": [
              "<IPython.core.display.HTML object>"
            ]
          },
          "metadata": {},
          "output_type": "display_data"
        }
      ],
      "source": [
        "display_translation(\n",
        "    text=\"You did an excellent job!\",\n",
        "    reference=\"¡Hiciste un trabajo excelente!\"\n",
        ")"
      ]
    },
    {
      "cell_type": "code",
      "execution_count": null,
      "metadata": {
        "colab": {
          "base_uri": "https://localhost:8080/",
          "height": 136,
          "referenced_widgets": [
            "ef27c22cd4e44309851548f2664593b4",
            "a8d064df75104da2856a42fb8644ea44",
            "292441c7c9a846aa9a032b4ca7a0dee3",
            "7b998daae8fc4653bc608c276b0f1a0d",
            "7a4e50d77351443ebc24c80991ed41b4",
            "c878e1a7b4ac43128b4e76bc432fc438",
            "bfdc36daec824bc7a53784d82c007061",
            "2cce974065d843c2a95636eebf611338",
            "ddb73368a6d94f89b60fcf74094c8e44",
            "8b42c28950a149b5998ce68f75d87026",
            "625ceeff1fbb4b6baef4eced30da6911"
          ]
        },
        "id": "2PhsyRSBPAqP",
        "outputId": "2741eaa8-38be-496f-e893-8589088705c4"
      },
      "outputs": [
        {
          "data": {
            "application/vnd.jupyter.widget-view+json": {
              "model_id": "ef27c22cd4e44309851548f2664593b4",
              "version_major": 2,
              "version_minor": 0
            },
            "text/plain": [
              "  0%|          | 0/1 [00:00<?, ?it/s]"
            ]
          },
          "metadata": {},
          "output_type": "display_data"
        },
        {
          "data": {
            "text/html": [
              "\n",
              "    <b>English Text:</b> I like to learn, that's why I study at the university.<br>\n",
              "    <b>Spanish Translation:</b> me gusta aprender, por eso estudio en la universidad.<br>\n",
              "    <b>Reference Translations:</b> ['me gusta aprender, por eso estudio en la universidad.']<br><br>\n",
              "    <b><span style=\"color: blue\">BLEU Score:</span></b> 100.0\n",
              "    "
            ],
            "text/plain": [
              "<IPython.core.display.HTML object>"
            ]
          },
          "metadata": {},
          "output_type": "display_data"
        }
      ],
      "source": [
        "display_translation(\n",
        "    text=\"I like to learn, that's why I study at the university.\",\n",
        "    reference=\"Me gusta aprender, por eso estudio en la universidad.\"\n",
        ")"
      ]
    },
    {
      "cell_type": "code",
      "execution_count": null,
      "metadata": {
        "colab": {
          "base_uri": "https://localhost:8080/",
          "height": 136,
          "referenced_widgets": [
            "3f50c30d069d4baf86a2346f231d9053",
            "42a5001e552346ecb07b3a3e6d0cf492",
            "e6cd87ae6c4e478a83b9cdee3d3dc7e0",
            "52c8726649204276afe698b5baeba352",
            "b04b9bf343b047969e4f10770789b12d",
            "27b25e84bbd1451e8bb28b464a724d64",
            "62209e6c64da40b88b9da4da6cf7f942",
            "499a866b9c1943de8a645f30fa3e1165",
            "fb715de92a5343d2a386d73374fc063a",
            "a9d79038c375439da2061d52aaaf6545",
            "afba6cc51bbd4c41af91689f4a19e42a"
          ]
        },
        "id": "TD7uPRf7Bo3s",
        "outputId": "35378003-3a5b-467e-cc1f-6814c18ea9ef"
      },
      "outputs": [
        {
          "data": {
            "application/vnd.jupyter.widget-view+json": {
              "model_id": "3f50c30d069d4baf86a2346f231d9053",
              "version_major": 2,
              "version_minor": 0
            },
            "text/plain": [
              "  0%|          | 0/1 [00:00<?, ?it/s]"
            ]
          },
          "metadata": {},
          "output_type": "display_data"
        },
        {
          "data": {
            "text/html": [
              "\n",
              "    <b>English Text:</b> Tomorrow, we will visit our grandparents who live in the countryside.<br>\n",
              "    <b>Spanish Translation:</b> manana vamos a visitar a nuestros abuelos que viven en el campo.<br>\n",
              "    <b>Reference Translations:</b> ['manana visitaremos a nuestros abuelos que viven en el campo.', 'manana vamos a visitar a nuestros abuelos que viven en el campo.']<br><br>\n",
              "    <b><span style=\"color: blue\">BLEU Score:</span></b> 100.0\n",
              "    "
            ],
            "text/plain": [
              "<IPython.core.display.HTML object>"
            ]
          },
          "metadata": {},
          "output_type": "display_data"
        }
      ],
      "source": [
        "display_translation(\n",
        "    text=\"Tomorrow, we will visit our grandparents who live in the countryside.\",\n",
        "    reference=[\n",
        "        \"Mañana visitaremos a nuestros abuelos que viven en el campo.\",\n",
        "        \"Mañana vamos a visitar a nuestros abuelos que viven en el campo.\",\n",
        "    ]\n",
        ")"
      ]
    },
    {
      "cell_type": "code",
      "execution_count": null,
      "metadata": {
        "colab": {
          "base_uri": "https://localhost:8080/",
          "height": 136,
          "referenced_widgets": [
            "0c9573cb1bb64dd18f31e3e7d75b4e15",
            "fe0c685358294bb5b1a77230165ca0be",
            "98a3b77f414e4e2d97018f957e19e56d",
            "bea39d0132fd44bf94d531dcfb93ed29",
            "8f738bbd987942bf8effaa28461bec23",
            "fd3666c46a694661859e05d54c813e9e",
            "7adedcbc77a94d5382e05dacc9de1c7f",
            "8b4d8136f78a40afb3bc85de352c7b04",
            "d1f11df9d9d54e828f3d8ea1c003401a",
            "6f0c3707bb8b4b5381930ac3707bc4a7",
            "c79b7310cb07405b8f07930f4d870e71"
          ]
        },
        "id": "oDXajl8JQglP",
        "outputId": "020e4a10-5cf5-49aa-dde9-4bd2ee022616"
      },
      "outputs": [
        {
          "data": {
            "application/vnd.jupyter.widget-view+json": {
              "model_id": "0c9573cb1bb64dd18f31e3e7d75b4e15",
              "version_major": 2,
              "version_minor": 0
            },
            "text/plain": [
              "  0%|          | 0/1 [00:00<?, ?it/s]"
            ]
          },
          "metadata": {},
          "output_type": "display_data"
        },
        {
          "data": {
            "text/html": [
              "\n",
              "    <b>English Text:</b> Can you please help me with this task, please?<br>\n",
              "    <b>Spanish Translation:</b> ¿puedes ayudarme con esta tarea, por favor?<br>\n",
              "    <b>Reference Translations:</b> ['¿puedes ayudarme con esta tarea, por favor?']<br><br>\n",
              "    <b><span style=\"color: blue\">BLEU Score:</span></b> 100.0\n",
              "    "
            ],
            "text/plain": [
              "<IPython.core.display.HTML object>"
            ]
          },
          "metadata": {},
          "output_type": "display_data"
        }
      ],
      "source": [
        "display_translation(\n",
        "    text=\"Can you please help me with this task, please?\",\n",
        "    reference=\"¿Puedes ayudarme con esta tarea, por favor?\"\n",
        ")"
      ]
    },
    {
      "cell_type": "code",
      "execution_count": null,
      "metadata": {
        "colab": {
          "base_uri": "https://localhost:8080/",
          "height": 136,
          "referenced_widgets": [
            "bdbdc8569edd4b9ab4fa9219b4107a9c",
            "bd3b04a549ee49cc8cbc7e54d004183a",
            "76a15ce356fd4ee6bb3107071f5bce7e",
            "6e16a17ae4444adcbbd377395884e25b",
            "65a2ff2403264c9aa453e61ec2e5b5af",
            "71ff60f893dd4b44b9227bc7b7081bdf",
            "1c0d4904b27742228e7b290657e81aca",
            "060fed3d69c941969872dc2c69880cdf",
            "bbc46eb60e0844e08f014a1192cf9f7d",
            "a1c5c0b9b7a64f7684aaccc7c440a5be",
            "aa2caf672dc5483d92e1a46fbc5e2bc2"
          ]
        },
        "id": "HnGtvujrLScA",
        "outputId": "1a23674c-3d8e-45ef-b036-56b3f1f7b504"
      },
      "outputs": [
        {
          "data": {
            "application/vnd.jupyter.widget-view+json": {
              "model_id": "bdbdc8569edd4b9ab4fa9219b4107a9c",
              "version_major": 2,
              "version_minor": 0
            },
            "text/plain": [
              "  0%|          | 0/1 [00:00<?, ?it/s]"
            ]
          },
          "metadata": {},
          "output_type": "display_data"
        },
        {
          "data": {
            "text/html": [
              "\n",
              "    <b>English Text:</b> I am going to the store to buy some groceries.<br>\n",
              "    <b>Spanish Translation:</b> voy a la tienda a comprar algunas comestibles.<br>\n",
              "    <b>Reference Translations:</b> ['voy a la tienda para comprar algunos alimentos.', 'voy a la tienda a comprar algunas provisiones.']<br><br>\n",
              "    <b><span style=\"color: blue\">BLEU Score:</span></b> 75.06\n",
              "    "
            ],
            "text/plain": [
              "<IPython.core.display.HTML object>"
            ]
          },
          "metadata": {},
          "output_type": "display_data"
        }
      ],
      "source": [
        "display_translation(\n",
        "    text=\"I am going to the store to buy some groceries.\",\n",
        "    reference=[\n",
        "        \"Voy a la tienda para comprar algunos alimentos.\",\n",
        "        \"Voy a la tienda a comprar algunas provisiones.\"\n",
        "    ]\n",
        ")"
      ]
    },
    {
      "cell_type": "code",
      "execution_count": null,
      "metadata": {
        "colab": {
          "base_uri": "https://localhost:8080/",
          "height": 136,
          "referenced_widgets": [
            "9645ab74b29b43ffa08dddf8124f5461",
            "7d3def1ccbc24520b3c28f0c4bbf7c22",
            "8f85f9400d27491087ad39cd02c678a9",
            "66bef2dc371141fe87ac2639ecd0d94e",
            "ad0b0c6e36df45a5adab104d320bdadd",
            "0cc6cc1f9db94e87b8368362ba866bd6",
            "664d0b82250a453589f8184b467dd19c",
            "6bb0228f1df54e31b87b8cad1f04cf04",
            "7b8bda1068c74772a06459831301113c",
            "f0b2effec4574b268874207b3b4e6097",
            "720e4ca276864b8bb6d3f3464f2e6c2b"
          ]
        },
        "id": "10HgOThf-Xbc",
        "outputId": "810a204e-140c-4b4e-fb6c-74ccb75bd6b3"
      },
      "outputs": [
        {
          "data": {
            "application/vnd.jupyter.widget-view+json": {
              "model_id": "9645ab74b29b43ffa08dddf8124f5461",
              "version_major": 2,
              "version_minor": 0
            },
            "text/plain": [
              "  0%|          | 0/1 [00:00<?, ?it/s]"
            ]
          },
          "metadata": {},
          "output_type": "display_data"
        },
        {
          "data": {
            "text/html": [
              "\n",
              "    <b>English Text:</b> When she arrived at the train station, she realized she had forgotten her ticket at home and had to rush back to retrieve it.<br>\n",
              "    <b>Spanish Translation:</b> cuando llego a la estacion de trenes, ella se dio cuenta de donde se habia olvidado su billete y a casa se tuvo que ponerlo de recuperarlo.<br>\n",
              "    <b>Reference Translations:</b> ['cuando llego a la estacion de tren, ella se dio cuenta de que habia olvidado su boleto en casa y tuvo que volver corriendo a buscarlo.']<br><br>\n",
              "    <b><span style=\"color: blue\">BLEU Score:</span></b> 40.1\n",
              "    "
            ],
            "text/plain": [
              "<IPython.core.display.HTML object>"
            ]
          },
          "metadata": {},
          "output_type": "display_data"
        }
      ],
      "source": [
        "# Long text\n",
        "display_translation(\n",
        "    text=\"When she arrived at the train station, she realized she had forgotten her ticket at home and had to rush back to retrieve it.\",\n",
        "    reference=\"Cuando llegó a la estación de tren, ella se dio cuenta de que había olvidado su boleto en casa y tuvo que volver corriendo a buscarlo.\"\n",
        ")"
      ]
    },
    {
      "cell_type": "code",
      "execution_count": null,
      "metadata": {
        "colab": {
          "base_uri": "https://localhost:8080/",
          "height": 136,
          "referenced_widgets": [
            "7ee7491838c047928abc992b6066c991",
            "c28f0c7f24c143e7ae35bbc134d15754",
            "4fc2b9958af54a56812771cca3237621",
            "33d3c998a0ba4e0787fb79a4b5ab0414",
            "6302d2d38a944859a44231c3d6c9495f",
            "6415bfe0abe14772b8cdd571d56f5090",
            "3c0b585d59564158a9da95a4f8efc5ef",
            "406f089c2d234b61bdf7b4d9f8727217",
            "83b5554c33ad4ca486a24db55d4a34d3",
            "8e5b1e8941de449da969e530e8551e57",
            "d943df4b66144e7b94070ca6b046ff96"
          ]
        },
        "id": "BMIamXfxMPUj",
        "outputId": "bd1b066d-ae8b-4157-8eac-91e9e0d49898"
      },
      "outputs": [
        {
          "data": {
            "application/vnd.jupyter.widget-view+json": {
              "model_id": "7ee7491838c047928abc992b6066c991",
              "version_major": 2,
              "version_minor": 0
            },
            "text/plain": [
              "  0%|          | 0/1 [00:00<?, ?it/s]"
            ]
          },
          "metadata": {},
          "output_type": "display_data"
        },
        {
          "data": {
            "text/html": [
              "\n",
              "    <b>English Text:</b> In ten years, he will have his own company, will have become a successful professional worldwide, and will be helping many people in his country.<br>\n",
              "    <b>Spanish Translation:</b> en diez anos, el tenga su propia compania para hubieras convertido en un discurso profesional a toda su pais.<br>\n",
              "    <b>Reference Translations:</b> ['en diez anos, el tendra su propia empresa y se habra convertido en un profesional exitoso en el mundo y ayudara a muchas personas de su pais.']<br><br>\n",
              "    <b><span style=\"color: blue\">BLEU Score:</span></b> 21.27\n",
              "    "
            ],
            "text/plain": [
              "<IPython.core.display.HTML object>"
            ]
          },
          "metadata": {},
          "output_type": "display_data"
        }
      ],
      "source": [
        "# Long text\n",
        "display_translation(\n",
        "    text=\"In ten years, he will have his own company, will have become a successful professional worldwide, and will be helping many people in his country.\",\n",
        "    reference=\"En diez años, él tendrá su propia empresa y se habrá convertido en un profesional exitoso en el mundo y ayudará a muchas personas de su país.\"\n",
        ")"
      ]
    },
    {
      "cell_type": "markdown",
      "metadata": {
        "id": "_ufZpqgDAcQR"
      },
      "source": [
        "**Conclusion:** The model is excellent for translating short to medium-length texts, achieving a BLEU score close to 100. However, its performance decreases as texts become longer. To enhance its robustness with longer texts, it would be beneficial to feed the model with its own predictions using a self-attention mechanism, similar to that used in Transformer networks. This would allow the decoder to examine what it has generated so far and adjust its predictions accordingly."
      ]
    }
  ],
  "metadata": {
    "colab": {
      "provenance": []
    },
    "coursera": {
      "schema_names": [
        "NLPC3-4A"
      ]
    },
    "grader_version": "1",
    "kernelspec": {
      "display_name": "Python 3",
      "name": "python3"
    },
    "language_info": {
      "codemirror_mode": {
        "name": "ipython",
        "version": 3
      },
      "file_extension": ".py",
      "mimetype": "text/x-python",
      "name": "python",
      "nbconvert_exporter": "python",
      "pygments_lexer": "ipython3",
      "version": "3.8.10"
    },
    "widgets": {
      "application/vnd.jupyter.widget-state+json": {
        "0258eca4892443ebba3f5cd2106a81a2": {
          "model_module": "@jupyter-widgets/controls",
          "model_module_version": "1.5.0",
          "model_name": "HBoxModel",
          "state": {
            "_dom_classes": [],
            "_model_module": "@jupyter-widgets/controls",
            "_model_module_version": "1.5.0",
            "_model_name": "HBoxModel",
            "_view_count": null,
            "_view_module": "@jupyter-widgets/controls",
            "_view_module_version": "1.5.0",
            "_view_name": "HBoxView",
            "box_style": "",
            "children": [
              "IPY_MODEL_e5d5c412687e4526897d7651095a72d8",
              "IPY_MODEL_acae6b2977e8457c906e5820d3abfe54",
              "IPY_MODEL_fd2447e9261a4b5ba9395a3334fa85dd"
            ],
            "layout": "IPY_MODEL_ff6f476df7274940b345744963ca4503"
          }
        },
        "060fed3d69c941969872dc2c69880cdf": {
          "model_module": "@jupyter-widgets/base",
          "model_module_version": "1.2.0",
          "model_name": "LayoutModel",
          "state": {
            "_model_module": "@jupyter-widgets/base",
            "_model_module_version": "1.2.0",
            "_model_name": "LayoutModel",
            "_view_count": null,
            "_view_module": "@jupyter-widgets/base",
            "_view_module_version": "1.2.0",
            "_view_name": "LayoutView",
            "align_content": null,
            "align_items": null,
            "align_self": null,
            "border": null,
            "bottom": null,
            "display": null,
            "flex": null,
            "flex_flow": null,
            "grid_area": null,
            "grid_auto_columns": null,
            "grid_auto_flow": null,
            "grid_auto_rows": null,
            "grid_column": null,
            "grid_gap": null,
            "grid_row": null,
            "grid_template_areas": null,
            "grid_template_columns": null,
            "grid_template_rows": null,
            "height": null,
            "justify_content": null,
            "justify_items": null,
            "left": null,
            "margin": null,
            "max_height": null,
            "max_width": null,
            "min_height": null,
            "min_width": null,
            "object_fit": null,
            "object_position": null,
            "order": null,
            "overflow": null,
            "overflow_x": null,
            "overflow_y": null,
            "padding": null,
            "right": null,
            "top": null,
            "visibility": null,
            "width": null
          }
        },
        "0b70eb41857a4510aa41304e1a499747": {
          "model_module": "@jupyter-widgets/base",
          "model_module_version": "1.2.0",
          "model_name": "LayoutModel",
          "state": {
            "_model_module": "@jupyter-widgets/base",
            "_model_module_version": "1.2.0",
            "_model_name": "LayoutModel",
            "_view_count": null,
            "_view_module": "@jupyter-widgets/base",
            "_view_module_version": "1.2.0",
            "_view_name": "LayoutView",
            "align_content": null,
            "align_items": null,
            "align_self": null,
            "border": null,
            "bottom": null,
            "display": null,
            "flex": null,
            "flex_flow": null,
            "grid_area": null,
            "grid_auto_columns": null,
            "grid_auto_flow": null,
            "grid_auto_rows": null,
            "grid_column": null,
            "grid_gap": null,
            "grid_row": null,
            "grid_template_areas": null,
            "grid_template_columns": null,
            "grid_template_rows": null,
            "height": null,
            "justify_content": null,
            "justify_items": null,
            "left": null,
            "margin": null,
            "max_height": null,
            "max_width": null,
            "min_height": null,
            "min_width": null,
            "object_fit": null,
            "object_position": null,
            "order": null,
            "overflow": null,
            "overflow_x": null,
            "overflow_y": null,
            "padding": null,
            "right": null,
            "top": null,
            "visibility": null,
            "width": null
          }
        },
        "0c9573cb1bb64dd18f31e3e7d75b4e15": {
          "model_module": "@jupyter-widgets/controls",
          "model_module_version": "1.5.0",
          "model_name": "HBoxModel",
          "state": {
            "_dom_classes": [],
            "_model_module": "@jupyter-widgets/controls",
            "_model_module_version": "1.5.0",
            "_model_name": "HBoxModel",
            "_view_count": null,
            "_view_module": "@jupyter-widgets/controls",
            "_view_module_version": "1.5.0",
            "_view_name": "HBoxView",
            "box_style": "",
            "children": [
              "IPY_MODEL_fe0c685358294bb5b1a77230165ca0be",
              "IPY_MODEL_98a3b77f414e4e2d97018f957e19e56d",
              "IPY_MODEL_bea39d0132fd44bf94d531dcfb93ed29"
            ],
            "layout": "IPY_MODEL_8f738bbd987942bf8effaa28461bec23"
          }
        },
        "0cc6cc1f9db94e87b8368362ba866bd6": {
          "model_module": "@jupyter-widgets/base",
          "model_module_version": "1.2.0",
          "model_name": "LayoutModel",
          "state": {
            "_model_module": "@jupyter-widgets/base",
            "_model_module_version": "1.2.0",
            "_model_name": "LayoutModel",
            "_view_count": null,
            "_view_module": "@jupyter-widgets/base",
            "_view_module_version": "1.2.0",
            "_view_name": "LayoutView",
            "align_content": null,
            "align_items": null,
            "align_self": null,
            "border": null,
            "bottom": null,
            "display": null,
            "flex": null,
            "flex_flow": null,
            "grid_area": null,
            "grid_auto_columns": null,
            "grid_auto_flow": null,
            "grid_auto_rows": null,
            "grid_column": null,
            "grid_gap": null,
            "grid_row": null,
            "grid_template_areas": null,
            "grid_template_columns": null,
            "grid_template_rows": null,
            "height": null,
            "justify_content": null,
            "justify_items": null,
            "left": null,
            "margin": null,
            "max_height": null,
            "max_width": null,
            "min_height": null,
            "min_width": null,
            "object_fit": null,
            "object_position": null,
            "order": null,
            "overflow": null,
            "overflow_x": null,
            "overflow_y": null,
            "padding": null,
            "right": null,
            "top": null,
            "visibility": null,
            "width": null
          }
        },
        "0dbfb3f3655443ed940a1a3f5a89654d": {
          "model_module": "@jupyter-widgets/controls",
          "model_module_version": "1.5.0",
          "model_name": "FloatProgressModel",
          "state": {
            "_dom_classes": [],
            "_model_module": "@jupyter-widgets/controls",
            "_model_module_version": "1.5.0",
            "_model_name": "FloatProgressModel",
            "_view_count": null,
            "_view_module": "@jupyter-widgets/controls",
            "_view_module_version": "1.5.0",
            "_view_name": "ProgressView",
            "bar_style": "success",
            "description": "",
            "description_tooltip": null,
            "layout": "IPY_MODEL_71ebfbcc67a248108af5dd6140625e0f",
            "max": 2119,
            "min": 0,
            "orientation": "horizontal",
            "style": "IPY_MODEL_59ac9e8d7fb84198a6d960def8e6eac7",
            "value": 2119
          }
        },
        "1a65c976fc84499cbd75bffe0a96685b": {
          "model_module": "@jupyter-widgets/controls",
          "model_module_version": "1.5.0",
          "model_name": "FloatProgressModel",
          "state": {
            "_dom_classes": [],
            "_model_module": "@jupyter-widgets/controls",
            "_model_module_version": "1.5.0",
            "_model_name": "FloatProgressModel",
            "_view_count": null,
            "_view_module": "@jupyter-widgets/controls",
            "_view_module_version": "1.5.0",
            "_view_name": "ProgressView",
            "bar_style": "success",
            "description": "",
            "description_tooltip": null,
            "layout": "IPY_MODEL_0b70eb41857a4510aa41304e1a499747",
            "max": 1,
            "min": 0,
            "orientation": "horizontal",
            "style": "IPY_MODEL_d0079dd038634edea1c5c05832924eb3",
            "value": 1
          }
        },
        "1c0d4904b27742228e7b290657e81aca": {
          "model_module": "@jupyter-widgets/controls",
          "model_module_version": "1.5.0",
          "model_name": "DescriptionStyleModel",
          "state": {
            "_model_module": "@jupyter-widgets/controls",
            "_model_module_version": "1.5.0",
            "_model_name": "DescriptionStyleModel",
            "_view_count": null,
            "_view_module": "@jupyter-widgets/base",
            "_view_module_version": "1.2.0",
            "_view_name": "StyleView",
            "description_width": ""
          }
        },
        "1f76cef7fbee48d9a5b8569afbeecb26": {
          "model_module": "@jupyter-widgets/base",
          "model_module_version": "1.2.0",
          "model_name": "LayoutModel",
          "state": {
            "_model_module": "@jupyter-widgets/base",
            "_model_module_version": "1.2.0",
            "_model_name": "LayoutModel",
            "_view_count": null,
            "_view_module": "@jupyter-widgets/base",
            "_view_module_version": "1.2.0",
            "_view_name": "LayoutView",
            "align_content": null,
            "align_items": null,
            "align_self": null,
            "border": null,
            "bottom": null,
            "display": null,
            "flex": null,
            "flex_flow": null,
            "grid_area": null,
            "grid_auto_columns": null,
            "grid_auto_flow": null,
            "grid_auto_rows": null,
            "grid_column": null,
            "grid_gap": null,
            "grid_row": null,
            "grid_template_areas": null,
            "grid_template_columns": null,
            "grid_template_rows": null,
            "height": null,
            "justify_content": null,
            "justify_items": null,
            "left": null,
            "margin": null,
            "max_height": null,
            "max_width": null,
            "min_height": null,
            "min_width": null,
            "object_fit": null,
            "object_position": null,
            "order": null,
            "overflow": null,
            "overflow_x": null,
            "overflow_y": null,
            "padding": null,
            "right": null,
            "top": null,
            "visibility": null,
            "width": null
          }
        },
        "26678ed271ff4f3996dd2f1dafa2c15f": {
          "model_module": "@jupyter-widgets/base",
          "model_module_version": "1.2.0",
          "model_name": "LayoutModel",
          "state": {
            "_model_module": "@jupyter-widgets/base",
            "_model_module_version": "1.2.0",
            "_model_name": "LayoutModel",
            "_view_count": null,
            "_view_module": "@jupyter-widgets/base",
            "_view_module_version": "1.2.0",
            "_view_name": "LayoutView",
            "align_content": null,
            "align_items": null,
            "align_self": null,
            "border": null,
            "bottom": null,
            "display": null,
            "flex": null,
            "flex_flow": null,
            "grid_area": null,
            "grid_auto_columns": null,
            "grid_auto_flow": null,
            "grid_auto_rows": null,
            "grid_column": null,
            "grid_gap": null,
            "grid_row": null,
            "grid_template_areas": null,
            "grid_template_columns": null,
            "grid_template_rows": null,
            "height": null,
            "justify_content": null,
            "justify_items": null,
            "left": null,
            "margin": null,
            "max_height": null,
            "max_width": null,
            "min_height": null,
            "min_width": null,
            "object_fit": null,
            "object_position": null,
            "order": null,
            "overflow": null,
            "overflow_x": null,
            "overflow_y": null,
            "padding": null,
            "right": null,
            "top": null,
            "visibility": null,
            "width": null
          }
        },
        "27b25e84bbd1451e8bb28b464a724d64": {
          "model_module": "@jupyter-widgets/base",
          "model_module_version": "1.2.0",
          "model_name": "LayoutModel",
          "state": {
            "_model_module": "@jupyter-widgets/base",
            "_model_module_version": "1.2.0",
            "_model_name": "LayoutModel",
            "_view_count": null,
            "_view_module": "@jupyter-widgets/base",
            "_view_module_version": "1.2.0",
            "_view_name": "LayoutView",
            "align_content": null,
            "align_items": null,
            "align_self": null,
            "border": null,
            "bottom": null,
            "display": null,
            "flex": null,
            "flex_flow": null,
            "grid_area": null,
            "grid_auto_columns": null,
            "grid_auto_flow": null,
            "grid_auto_rows": null,
            "grid_column": null,
            "grid_gap": null,
            "grid_row": null,
            "grid_template_areas": null,
            "grid_template_columns": null,
            "grid_template_rows": null,
            "height": null,
            "justify_content": null,
            "justify_items": null,
            "left": null,
            "margin": null,
            "max_height": null,
            "max_width": null,
            "min_height": null,
            "min_width": null,
            "object_fit": null,
            "object_position": null,
            "order": null,
            "overflow": null,
            "overflow_x": null,
            "overflow_y": null,
            "padding": null,
            "right": null,
            "top": null,
            "visibility": null,
            "width": null
          }
        },
        "28fda7290875450e9ff6414c79136fe8": {
          "model_module": "@jupyter-widgets/controls",
          "model_module_version": "1.5.0",
          "model_name": "HBoxModel",
          "state": {
            "_dom_classes": [],
            "_model_module": "@jupyter-widgets/controls",
            "_model_module_version": "1.5.0",
            "_model_name": "HBoxModel",
            "_view_count": null,
            "_view_module": "@jupyter-widgets/controls",
            "_view_module_version": "1.5.0",
            "_view_name": "HBoxView",
            "box_style": "",
            "children": [
              "IPY_MODEL_a34b44a1682b40de871cd49165970a50",
              "IPY_MODEL_1a65c976fc84499cbd75bffe0a96685b",
              "IPY_MODEL_2a90e74e5792491691ea220a34f48c71"
            ],
            "layout": "IPY_MODEL_324b0e8cfdcb4f1b86fdb498c4771cc8"
          }
        },
        "292441c7c9a846aa9a032b4ca7a0dee3": {
          "model_module": "@jupyter-widgets/controls",
          "model_module_version": "1.5.0",
          "model_name": "FloatProgressModel",
          "state": {
            "_dom_classes": [],
            "_model_module": "@jupyter-widgets/controls",
            "_model_module_version": "1.5.0",
            "_model_name": "FloatProgressModel",
            "_view_count": null,
            "_view_module": "@jupyter-widgets/controls",
            "_view_module_version": "1.5.0",
            "_view_name": "ProgressView",
            "bar_style": "success",
            "description": "",
            "description_tooltip": null,
            "layout": "IPY_MODEL_2cce974065d843c2a95636eebf611338",
            "max": 1,
            "min": 0,
            "orientation": "horizontal",
            "style": "IPY_MODEL_ddb73368a6d94f89b60fcf74094c8e44",
            "value": 1
          }
        },
        "2a90e74e5792491691ea220a34f48c71": {
          "model_module": "@jupyter-widgets/controls",
          "model_module_version": "1.5.0",
          "model_name": "HTMLModel",
          "state": {
            "_dom_classes": [],
            "_model_module": "@jupyter-widgets/controls",
            "_model_module_version": "1.5.0",
            "_model_name": "HTMLModel",
            "_view_count": null,
            "_view_module": "@jupyter-widgets/controls",
            "_view_module_version": "1.5.0",
            "_view_name": "HTMLView",
            "description": "",
            "description_tooltip": null,
            "layout": "IPY_MODEL_9f5250e35bb24e6285b6cacb0eea94b6",
            "placeholder": "​",
            "style": "IPY_MODEL_b4f61cc4fa1642aaaf0059c1391cf9b9",
            "value": " 1/1 [00:01&lt;00:00,  1.20s/it]"
          }
        },
        "2cce974065d843c2a95636eebf611338": {
          "model_module": "@jupyter-widgets/base",
          "model_module_version": "1.2.0",
          "model_name": "LayoutModel",
          "state": {
            "_model_module": "@jupyter-widgets/base",
            "_model_module_version": "1.2.0",
            "_model_name": "LayoutModel",
            "_view_count": null,
            "_view_module": "@jupyter-widgets/base",
            "_view_module_version": "1.2.0",
            "_view_name": "LayoutView",
            "align_content": null,
            "align_items": null,
            "align_self": null,
            "border": null,
            "bottom": null,
            "display": null,
            "flex": null,
            "flex_flow": null,
            "grid_area": null,
            "grid_auto_columns": null,
            "grid_auto_flow": null,
            "grid_auto_rows": null,
            "grid_column": null,
            "grid_gap": null,
            "grid_row": null,
            "grid_template_areas": null,
            "grid_template_columns": null,
            "grid_template_rows": null,
            "height": null,
            "justify_content": null,
            "justify_items": null,
            "left": null,
            "margin": null,
            "max_height": null,
            "max_width": null,
            "min_height": null,
            "min_width": null,
            "object_fit": null,
            "object_position": null,
            "order": null,
            "overflow": null,
            "overflow_x": null,
            "overflow_y": null,
            "padding": null,
            "right": null,
            "top": null,
            "visibility": null,
            "width": null
          }
        },
        "324b0e8cfdcb4f1b86fdb498c4771cc8": {
          "model_module": "@jupyter-widgets/base",
          "model_module_version": "1.2.0",
          "model_name": "LayoutModel",
          "state": {
            "_model_module": "@jupyter-widgets/base",
            "_model_module_version": "1.2.0",
            "_model_name": "LayoutModel",
            "_view_count": null,
            "_view_module": "@jupyter-widgets/base",
            "_view_module_version": "1.2.0",
            "_view_name": "LayoutView",
            "align_content": null,
            "align_items": null,
            "align_self": null,
            "border": null,
            "bottom": null,
            "display": null,
            "flex": null,
            "flex_flow": null,
            "grid_area": null,
            "grid_auto_columns": null,
            "grid_auto_flow": null,
            "grid_auto_rows": null,
            "grid_column": null,
            "grid_gap": null,
            "grid_row": null,
            "grid_template_areas": null,
            "grid_template_columns": null,
            "grid_template_rows": null,
            "height": null,
            "justify_content": null,
            "justify_items": null,
            "left": null,
            "margin": null,
            "max_height": null,
            "max_width": null,
            "min_height": null,
            "min_width": null,
            "object_fit": null,
            "object_position": null,
            "order": null,
            "overflow": null,
            "overflow_x": null,
            "overflow_y": null,
            "padding": null,
            "right": null,
            "top": null,
            "visibility": null,
            "width": null
          }
        },
        "324d13abf54c445fa482a6077a96e8f0": {
          "model_module": "@jupyter-widgets/base",
          "model_module_version": "1.2.0",
          "model_name": "LayoutModel",
          "state": {
            "_model_module": "@jupyter-widgets/base",
            "_model_module_version": "1.2.0",
            "_model_name": "LayoutModel",
            "_view_count": null,
            "_view_module": "@jupyter-widgets/base",
            "_view_module_version": "1.2.0",
            "_view_name": "LayoutView",
            "align_content": null,
            "align_items": null,
            "align_self": null,
            "border": null,
            "bottom": null,
            "display": null,
            "flex": null,
            "flex_flow": null,
            "grid_area": null,
            "grid_auto_columns": null,
            "grid_auto_flow": null,
            "grid_auto_rows": null,
            "grid_column": null,
            "grid_gap": null,
            "grid_row": null,
            "grid_template_areas": null,
            "grid_template_columns": null,
            "grid_template_rows": null,
            "height": null,
            "justify_content": null,
            "justify_items": null,
            "left": null,
            "margin": null,
            "max_height": null,
            "max_width": null,
            "min_height": null,
            "min_width": null,
            "object_fit": null,
            "object_position": null,
            "order": null,
            "overflow": null,
            "overflow_x": null,
            "overflow_y": null,
            "padding": null,
            "right": null,
            "top": null,
            "visibility": null,
            "width": null
          }
        },
        "326b9a5b12e84d15a1d0e172cd0fe4fa": {
          "model_module": "@jupyter-widgets/base",
          "model_module_version": "1.2.0",
          "model_name": "LayoutModel",
          "state": {
            "_model_module": "@jupyter-widgets/base",
            "_model_module_version": "1.2.0",
            "_model_name": "LayoutModel",
            "_view_count": null,
            "_view_module": "@jupyter-widgets/base",
            "_view_module_version": "1.2.0",
            "_view_name": "LayoutView",
            "align_content": null,
            "align_items": null,
            "align_self": null,
            "border": null,
            "bottom": null,
            "display": null,
            "flex": null,
            "flex_flow": null,
            "grid_area": null,
            "grid_auto_columns": null,
            "grid_auto_flow": null,
            "grid_auto_rows": null,
            "grid_column": null,
            "grid_gap": null,
            "grid_row": null,
            "grid_template_areas": null,
            "grid_template_columns": null,
            "grid_template_rows": null,
            "height": null,
            "justify_content": null,
            "justify_items": null,
            "left": null,
            "margin": null,
            "max_height": null,
            "max_width": null,
            "min_height": null,
            "min_width": null,
            "object_fit": null,
            "object_position": null,
            "order": null,
            "overflow": null,
            "overflow_x": null,
            "overflow_y": null,
            "padding": null,
            "right": null,
            "top": null,
            "visibility": null,
            "width": null
          }
        },
        "33d3c998a0ba4e0787fb79a4b5ab0414": {
          "model_module": "@jupyter-widgets/controls",
          "model_module_version": "1.5.0",
          "model_name": "HTMLModel",
          "state": {
            "_dom_classes": [],
            "_model_module": "@jupyter-widgets/controls",
            "_model_module_version": "1.5.0",
            "_model_name": "HTMLModel",
            "_view_count": null,
            "_view_module": "@jupyter-widgets/controls",
            "_view_module_version": "1.5.0",
            "_view_name": "HTMLView",
            "description": "",
            "description_tooltip": null,
            "layout": "IPY_MODEL_8e5b1e8941de449da969e530e8551e57",
            "placeholder": "​",
            "style": "IPY_MODEL_d943df4b66144e7b94070ca6b046ff96",
            "value": " 1/1 [00:05&lt;00:00,  5.02s/it]"
          }
        },
        "33ddbda9fafd4f0ea7ff29bc91196a6c": {
          "model_module": "@jupyter-widgets/base",
          "model_module_version": "1.2.0",
          "model_name": "LayoutModel",
          "state": {
            "_model_module": "@jupyter-widgets/base",
            "_model_module_version": "1.2.0",
            "_model_name": "LayoutModel",
            "_view_count": null,
            "_view_module": "@jupyter-widgets/base",
            "_view_module_version": "1.2.0",
            "_view_name": "LayoutView",
            "align_content": null,
            "align_items": null,
            "align_self": null,
            "border": null,
            "bottom": null,
            "display": null,
            "flex": null,
            "flex_flow": null,
            "grid_area": null,
            "grid_auto_columns": null,
            "grid_auto_flow": null,
            "grid_auto_rows": null,
            "grid_column": null,
            "grid_gap": null,
            "grid_row": null,
            "grid_template_areas": null,
            "grid_template_columns": null,
            "grid_template_rows": null,
            "height": null,
            "justify_content": null,
            "justify_items": null,
            "left": null,
            "margin": null,
            "max_height": null,
            "max_width": null,
            "min_height": null,
            "min_width": null,
            "object_fit": null,
            "object_position": null,
            "order": null,
            "overflow": null,
            "overflow_x": null,
            "overflow_y": null,
            "padding": null,
            "right": null,
            "top": null,
            "visibility": null,
            "width": null
          }
        },
        "3504444a721d478883355ca4cbf1bfae": {
          "model_module": "@jupyter-widgets/base",
          "model_module_version": "1.2.0",
          "model_name": "LayoutModel",
          "state": {
            "_model_module": "@jupyter-widgets/base",
            "_model_module_version": "1.2.0",
            "_model_name": "LayoutModel",
            "_view_count": null,
            "_view_module": "@jupyter-widgets/base",
            "_view_module_version": "1.2.0",
            "_view_name": "LayoutView",
            "align_content": null,
            "align_items": null,
            "align_self": null,
            "border": null,
            "bottom": null,
            "display": null,
            "flex": null,
            "flex_flow": null,
            "grid_area": null,
            "grid_auto_columns": null,
            "grid_auto_flow": null,
            "grid_auto_rows": null,
            "grid_column": null,
            "grid_gap": null,
            "grid_row": null,
            "grid_template_areas": null,
            "grid_template_columns": null,
            "grid_template_rows": null,
            "height": null,
            "justify_content": null,
            "justify_items": null,
            "left": null,
            "margin": null,
            "max_height": null,
            "max_width": null,
            "min_height": null,
            "min_width": null,
            "object_fit": null,
            "object_position": null,
            "order": null,
            "overflow": null,
            "overflow_x": null,
            "overflow_y": null,
            "padding": null,
            "right": null,
            "top": null,
            "visibility": null,
            "width": null
          }
        },
        "376db6ac80794154aeb1c02687f96ed1": {
          "model_module": "@jupyter-widgets/controls",
          "model_module_version": "1.5.0",
          "model_name": "ProgressStyleModel",
          "state": {
            "_model_module": "@jupyter-widgets/controls",
            "_model_module_version": "1.5.0",
            "_model_name": "ProgressStyleModel",
            "_view_count": null,
            "_view_module": "@jupyter-widgets/base",
            "_view_module_version": "1.2.0",
            "_view_name": "StyleView",
            "bar_color": null,
            "description_width": ""
          }
        },
        "38f413dfc2524180a290b85dffc86a84": {
          "model_module": "@jupyter-widgets/base",
          "model_module_version": "1.2.0",
          "model_name": "LayoutModel",
          "state": {
            "_model_module": "@jupyter-widgets/base",
            "_model_module_version": "1.2.0",
            "_model_name": "LayoutModel",
            "_view_count": null,
            "_view_module": "@jupyter-widgets/base",
            "_view_module_version": "1.2.0",
            "_view_name": "LayoutView",
            "align_content": null,
            "align_items": null,
            "align_self": null,
            "border": null,
            "bottom": null,
            "display": null,
            "flex": null,
            "flex_flow": null,
            "grid_area": null,
            "grid_auto_columns": null,
            "grid_auto_flow": null,
            "grid_auto_rows": null,
            "grid_column": null,
            "grid_gap": null,
            "grid_row": null,
            "grid_template_areas": null,
            "grid_template_columns": null,
            "grid_template_rows": null,
            "height": null,
            "justify_content": null,
            "justify_items": null,
            "left": null,
            "margin": null,
            "max_height": null,
            "max_width": null,
            "min_height": null,
            "min_width": null,
            "object_fit": null,
            "object_position": null,
            "order": null,
            "overflow": null,
            "overflow_x": null,
            "overflow_y": null,
            "padding": null,
            "right": null,
            "top": null,
            "visibility": null,
            "width": null
          }
        },
        "3bc441bd7c7c4160bfcd2da8e16dccfd": {
          "model_module": "@jupyter-widgets/controls",
          "model_module_version": "1.5.0",
          "model_name": "FloatProgressModel",
          "state": {
            "_dom_classes": [],
            "_model_module": "@jupyter-widgets/controls",
            "_model_module_version": "1.5.0",
            "_model_name": "FloatProgressModel",
            "_view_count": null,
            "_view_module": "@jupyter-widgets/controls",
            "_view_module_version": "1.5.0",
            "_view_name": "ProgressView",
            "bar_style": "success",
            "description": "",
            "description_tooltip": null,
            "layout": "IPY_MODEL_a5c83f64aa6d48dbb6917821d630354d",
            "max": 8146,
            "min": 0,
            "orientation": "horizontal",
            "style": "IPY_MODEL_92521f2c6202423ba4ac403c608ae041",
            "value": 8146
          }
        },
        "3c0b585d59564158a9da95a4f8efc5ef": {
          "model_module": "@jupyter-widgets/controls",
          "model_module_version": "1.5.0",
          "model_name": "DescriptionStyleModel",
          "state": {
            "_model_module": "@jupyter-widgets/controls",
            "_model_module_version": "1.5.0",
            "_model_name": "DescriptionStyleModel",
            "_view_count": null,
            "_view_module": "@jupyter-widgets/base",
            "_view_module_version": "1.2.0",
            "_view_name": "StyleView",
            "description_width": ""
          }
        },
        "3cdcf0cc071c499a9ef39f3dafe09a12": {
          "model_module": "@jupyter-widgets/controls",
          "model_module_version": "1.5.0",
          "model_name": "HTMLModel",
          "state": {
            "_dom_classes": [],
            "_model_module": "@jupyter-widgets/controls",
            "_model_module_version": "1.5.0",
            "_model_name": "HTMLModel",
            "_view_count": null,
            "_view_module": "@jupyter-widgets/controls",
            "_view_module_version": "1.5.0",
            "_view_name": "HTMLView",
            "description": "",
            "description_tooltip": null,
            "layout": "IPY_MODEL_3e98c86877e943118ad2be6e5429e893",
            "placeholder": "​",
            "style": "IPY_MODEL_52402f1c42fe4cf98111bed16af854e3",
            "value": " 1/1 [00:01&lt;00:00,  1.20s/it]"
          }
        },
        "3e98c86877e943118ad2be6e5429e893": {
          "model_module": "@jupyter-widgets/base",
          "model_module_version": "1.2.0",
          "model_name": "LayoutModel",
          "state": {
            "_model_module": "@jupyter-widgets/base",
            "_model_module_version": "1.2.0",
            "_model_name": "LayoutModel",
            "_view_count": null,
            "_view_module": "@jupyter-widgets/base",
            "_view_module_version": "1.2.0",
            "_view_name": "LayoutView",
            "align_content": null,
            "align_items": null,
            "align_self": null,
            "border": null,
            "bottom": null,
            "display": null,
            "flex": null,
            "flex_flow": null,
            "grid_area": null,
            "grid_auto_columns": null,
            "grid_auto_flow": null,
            "grid_auto_rows": null,
            "grid_column": null,
            "grid_gap": null,
            "grid_row": null,
            "grid_template_areas": null,
            "grid_template_columns": null,
            "grid_template_rows": null,
            "height": null,
            "justify_content": null,
            "justify_items": null,
            "left": null,
            "margin": null,
            "max_height": null,
            "max_width": null,
            "min_height": null,
            "min_width": null,
            "object_fit": null,
            "object_position": null,
            "order": null,
            "overflow": null,
            "overflow_x": null,
            "overflow_y": null,
            "padding": null,
            "right": null,
            "top": null,
            "visibility": null,
            "width": null
          }
        },
        "3f50c30d069d4baf86a2346f231d9053": {
          "model_module": "@jupyter-widgets/controls",
          "model_module_version": "1.5.0",
          "model_name": "HBoxModel",
          "state": {
            "_dom_classes": [],
            "_model_module": "@jupyter-widgets/controls",
            "_model_module_version": "1.5.0",
            "_model_name": "HBoxModel",
            "_view_count": null,
            "_view_module": "@jupyter-widgets/controls",
            "_view_module_version": "1.5.0",
            "_view_name": "HBoxView",
            "box_style": "",
            "children": [
              "IPY_MODEL_42a5001e552346ecb07b3a3e6d0cf492",
              "IPY_MODEL_e6cd87ae6c4e478a83b9cdee3d3dc7e0",
              "IPY_MODEL_52c8726649204276afe698b5baeba352"
            ],
            "layout": "IPY_MODEL_b04b9bf343b047969e4f10770789b12d"
          }
        },
        "406f089c2d234b61bdf7b4d9f8727217": {
          "model_module": "@jupyter-widgets/base",
          "model_module_version": "1.2.0",
          "model_name": "LayoutModel",
          "state": {
            "_model_module": "@jupyter-widgets/base",
            "_model_module_version": "1.2.0",
            "_model_name": "LayoutModel",
            "_view_count": null,
            "_view_module": "@jupyter-widgets/base",
            "_view_module_version": "1.2.0",
            "_view_name": "LayoutView",
            "align_content": null,
            "align_items": null,
            "align_self": null,
            "border": null,
            "bottom": null,
            "display": null,
            "flex": null,
            "flex_flow": null,
            "grid_area": null,
            "grid_auto_columns": null,
            "grid_auto_flow": null,
            "grid_auto_rows": null,
            "grid_column": null,
            "grid_gap": null,
            "grid_row": null,
            "grid_template_areas": null,
            "grid_template_columns": null,
            "grid_template_rows": null,
            "height": null,
            "justify_content": null,
            "justify_items": null,
            "left": null,
            "margin": null,
            "max_height": null,
            "max_width": null,
            "min_height": null,
            "min_width": null,
            "object_fit": null,
            "object_position": null,
            "order": null,
            "overflow": null,
            "overflow_x": null,
            "overflow_y": null,
            "padding": null,
            "right": null,
            "top": null,
            "visibility": null,
            "width": null
          }
        },
        "42a5001e552346ecb07b3a3e6d0cf492": {
          "model_module": "@jupyter-widgets/controls",
          "model_module_version": "1.5.0",
          "model_name": "HTMLModel",
          "state": {
            "_dom_classes": [],
            "_model_module": "@jupyter-widgets/controls",
            "_model_module_version": "1.5.0",
            "_model_name": "HTMLModel",
            "_view_count": null,
            "_view_module": "@jupyter-widgets/controls",
            "_view_module_version": "1.5.0",
            "_view_name": "HTMLView",
            "description": "",
            "description_tooltip": null,
            "layout": "IPY_MODEL_27b25e84bbd1451e8bb28b464a724d64",
            "placeholder": "​",
            "style": "IPY_MODEL_62209e6c64da40b88b9da4da6cf7f942",
            "value": "100%"
          }
        },
        "455cd170f8fb4870b6ebad027ba5415d": {
          "model_module": "@jupyter-widgets/base",
          "model_module_version": "1.2.0",
          "model_name": "LayoutModel",
          "state": {
            "_model_module": "@jupyter-widgets/base",
            "_model_module_version": "1.2.0",
            "_model_name": "LayoutModel",
            "_view_count": null,
            "_view_module": "@jupyter-widgets/base",
            "_view_module_version": "1.2.0",
            "_view_name": "LayoutView",
            "align_content": null,
            "align_items": null,
            "align_self": null,
            "border": null,
            "bottom": null,
            "display": null,
            "flex": null,
            "flex_flow": null,
            "grid_area": null,
            "grid_auto_columns": null,
            "grid_auto_flow": null,
            "grid_auto_rows": null,
            "grid_column": null,
            "grid_gap": null,
            "grid_row": null,
            "grid_template_areas": null,
            "grid_template_columns": null,
            "grid_template_rows": null,
            "height": null,
            "justify_content": null,
            "justify_items": null,
            "left": null,
            "margin": null,
            "max_height": null,
            "max_width": null,
            "min_height": null,
            "min_width": null,
            "object_fit": null,
            "object_position": null,
            "order": null,
            "overflow": null,
            "overflow_x": null,
            "overflow_y": null,
            "padding": null,
            "right": null,
            "top": null,
            "visibility": null,
            "width": null
          }
        },
        "499a866b9c1943de8a645f30fa3e1165": {
          "model_module": "@jupyter-widgets/base",
          "model_module_version": "1.2.0",
          "model_name": "LayoutModel",
          "state": {
            "_model_module": "@jupyter-widgets/base",
            "_model_module_version": "1.2.0",
            "_model_name": "LayoutModel",
            "_view_count": null,
            "_view_module": "@jupyter-widgets/base",
            "_view_module_version": "1.2.0",
            "_view_name": "LayoutView",
            "align_content": null,
            "align_items": null,
            "align_self": null,
            "border": null,
            "bottom": null,
            "display": null,
            "flex": null,
            "flex_flow": null,
            "grid_area": null,
            "grid_auto_columns": null,
            "grid_auto_flow": null,
            "grid_auto_rows": null,
            "grid_column": null,
            "grid_gap": null,
            "grid_row": null,
            "grid_template_areas": null,
            "grid_template_columns": null,
            "grid_template_rows": null,
            "height": null,
            "justify_content": null,
            "justify_items": null,
            "left": null,
            "margin": null,
            "max_height": null,
            "max_width": null,
            "min_height": null,
            "min_width": null,
            "object_fit": null,
            "object_position": null,
            "order": null,
            "overflow": null,
            "overflow_x": null,
            "overflow_y": null,
            "padding": null,
            "right": null,
            "top": null,
            "visibility": null,
            "width": null
          }
        },
        "4e88044c87644e1698fa0f484a989221": {
          "model_module": "@jupyter-widgets/controls",
          "model_module_version": "1.5.0",
          "model_name": "HBoxModel",
          "state": {
            "_dom_classes": [],
            "_model_module": "@jupyter-widgets/controls",
            "_model_module_version": "1.5.0",
            "_model_name": "HBoxModel",
            "_view_count": null,
            "_view_module": "@jupyter-widgets/controls",
            "_view_module_version": "1.5.0",
            "_view_name": "HBoxView",
            "box_style": "",
            "children": [
              "IPY_MODEL_e234055105f94c6384c0f5d5d604cf7d",
              "IPY_MODEL_0dbfb3f3655443ed940a1a3f5a89654d",
              "IPY_MODEL_818ff25c19854c8998da280d78ed4122"
            ],
            "layout": "IPY_MODEL_26678ed271ff4f3996dd2f1dafa2c15f"
          }
        },
        "4fc2b9958af54a56812771cca3237621": {
          "model_module": "@jupyter-widgets/controls",
          "model_module_version": "1.5.0",
          "model_name": "FloatProgressModel",
          "state": {
            "_dom_classes": [],
            "_model_module": "@jupyter-widgets/controls",
            "_model_module_version": "1.5.0",
            "_model_name": "FloatProgressModel",
            "_view_count": null,
            "_view_module": "@jupyter-widgets/controls",
            "_view_module_version": "1.5.0",
            "_view_name": "ProgressView",
            "bar_style": "success",
            "description": "",
            "description_tooltip": null,
            "layout": "IPY_MODEL_406f089c2d234b61bdf7b4d9f8727217",
            "max": 1,
            "min": 0,
            "orientation": "horizontal",
            "style": "IPY_MODEL_83b5554c33ad4ca486a24db55d4a34d3",
            "value": 1
          }
        },
        "52402f1c42fe4cf98111bed16af854e3": {
          "model_module": "@jupyter-widgets/controls",
          "model_module_version": "1.5.0",
          "model_name": "DescriptionStyleModel",
          "state": {
            "_model_module": "@jupyter-widgets/controls",
            "_model_module_version": "1.5.0",
            "_model_name": "DescriptionStyleModel",
            "_view_count": null,
            "_view_module": "@jupyter-widgets/base",
            "_view_module_version": "1.2.0",
            "_view_name": "StyleView",
            "description_width": ""
          }
        },
        "52c8726649204276afe698b5baeba352": {
          "model_module": "@jupyter-widgets/controls",
          "model_module_version": "1.5.0",
          "model_name": "HTMLModel",
          "state": {
            "_dom_classes": [],
            "_model_module": "@jupyter-widgets/controls",
            "_model_module_version": "1.5.0",
            "_model_name": "HTMLModel",
            "_view_count": null,
            "_view_module": "@jupyter-widgets/controls",
            "_view_module_version": "1.5.0",
            "_view_name": "HTMLView",
            "description": "",
            "description_tooltip": null,
            "layout": "IPY_MODEL_a9d79038c375439da2061d52aaaf6545",
            "placeholder": "​",
            "style": "IPY_MODEL_afba6cc51bbd4c41af91689f4a19e42a",
            "value": " 1/1 [00:04&lt;00:00,  4.17s/it]"
          }
        },
        "59ac9e8d7fb84198a6d960def8e6eac7": {
          "model_module": "@jupyter-widgets/controls",
          "model_module_version": "1.5.0",
          "model_name": "ProgressStyleModel",
          "state": {
            "_model_module": "@jupyter-widgets/controls",
            "_model_module_version": "1.5.0",
            "_model_name": "ProgressStyleModel",
            "_view_count": null,
            "_view_module": "@jupyter-widgets/base",
            "_view_module_version": "1.2.0",
            "_view_name": "StyleView",
            "bar_color": null,
            "description_width": ""
          }
        },
        "62209e6c64da40b88b9da4da6cf7f942": {
          "model_module": "@jupyter-widgets/controls",
          "model_module_version": "1.5.0",
          "model_name": "DescriptionStyleModel",
          "state": {
            "_model_module": "@jupyter-widgets/controls",
            "_model_module_version": "1.5.0",
            "_model_name": "DescriptionStyleModel",
            "_view_count": null,
            "_view_module": "@jupyter-widgets/base",
            "_view_module_version": "1.2.0",
            "_view_name": "StyleView",
            "description_width": ""
          }
        },
        "625ceeff1fbb4b6baef4eced30da6911": {
          "model_module": "@jupyter-widgets/controls",
          "model_module_version": "1.5.0",
          "model_name": "DescriptionStyleModel",
          "state": {
            "_model_module": "@jupyter-widgets/controls",
            "_model_module_version": "1.5.0",
            "_model_name": "DescriptionStyleModel",
            "_view_count": null,
            "_view_module": "@jupyter-widgets/base",
            "_view_module_version": "1.2.0",
            "_view_name": "StyleView",
            "description_width": ""
          }
        },
        "6302d2d38a944859a44231c3d6c9495f": {
          "model_module": "@jupyter-widgets/base",
          "model_module_version": "1.2.0",
          "model_name": "LayoutModel",
          "state": {
            "_model_module": "@jupyter-widgets/base",
            "_model_module_version": "1.2.0",
            "_model_name": "LayoutModel",
            "_view_count": null,
            "_view_module": "@jupyter-widgets/base",
            "_view_module_version": "1.2.0",
            "_view_name": "LayoutView",
            "align_content": null,
            "align_items": null,
            "align_self": null,
            "border": null,
            "bottom": null,
            "display": null,
            "flex": null,
            "flex_flow": null,
            "grid_area": null,
            "grid_auto_columns": null,
            "grid_auto_flow": null,
            "grid_auto_rows": null,
            "grid_column": null,
            "grid_gap": null,
            "grid_row": null,
            "grid_template_areas": null,
            "grid_template_columns": null,
            "grid_template_rows": null,
            "height": null,
            "justify_content": null,
            "justify_items": null,
            "left": null,
            "margin": null,
            "max_height": null,
            "max_width": null,
            "min_height": null,
            "min_width": null,
            "object_fit": null,
            "object_position": null,
            "order": null,
            "overflow": null,
            "overflow_x": null,
            "overflow_y": null,
            "padding": null,
            "right": null,
            "top": null,
            "visibility": null,
            "width": null
          }
        },
        "63f4f2e6807c475ea5c1ec70175ad4d0": {
          "model_module": "@jupyter-widgets/controls",
          "model_module_version": "1.5.0",
          "model_name": "DescriptionStyleModel",
          "state": {
            "_model_module": "@jupyter-widgets/controls",
            "_model_module_version": "1.5.0",
            "_model_name": "DescriptionStyleModel",
            "_view_count": null,
            "_view_module": "@jupyter-widgets/base",
            "_view_module_version": "1.2.0",
            "_view_name": "StyleView",
            "description_width": ""
          }
        },
        "6415bfe0abe14772b8cdd571d56f5090": {
          "model_module": "@jupyter-widgets/base",
          "model_module_version": "1.2.0",
          "model_name": "LayoutModel",
          "state": {
            "_model_module": "@jupyter-widgets/base",
            "_model_module_version": "1.2.0",
            "_model_name": "LayoutModel",
            "_view_count": null,
            "_view_module": "@jupyter-widgets/base",
            "_view_module_version": "1.2.0",
            "_view_name": "LayoutView",
            "align_content": null,
            "align_items": null,
            "align_self": null,
            "border": null,
            "bottom": null,
            "display": null,
            "flex": null,
            "flex_flow": null,
            "grid_area": null,
            "grid_auto_columns": null,
            "grid_auto_flow": null,
            "grid_auto_rows": null,
            "grid_column": null,
            "grid_gap": null,
            "grid_row": null,
            "grid_template_areas": null,
            "grid_template_columns": null,
            "grid_template_rows": null,
            "height": null,
            "justify_content": null,
            "justify_items": null,
            "left": null,
            "margin": null,
            "max_height": null,
            "max_width": null,
            "min_height": null,
            "min_width": null,
            "object_fit": null,
            "object_position": null,
            "order": null,
            "overflow": null,
            "overflow_x": null,
            "overflow_y": null,
            "padding": null,
            "right": null,
            "top": null,
            "visibility": null,
            "width": null
          }
        },
        "65a2ff2403264c9aa453e61ec2e5b5af": {
          "model_module": "@jupyter-widgets/base",
          "model_module_version": "1.2.0",
          "model_name": "LayoutModel",
          "state": {
            "_model_module": "@jupyter-widgets/base",
            "_model_module_version": "1.2.0",
            "_model_name": "LayoutModel",
            "_view_count": null,
            "_view_module": "@jupyter-widgets/base",
            "_view_module_version": "1.2.0",
            "_view_name": "LayoutView",
            "align_content": null,
            "align_items": null,
            "align_self": null,
            "border": null,
            "bottom": null,
            "display": null,
            "flex": null,
            "flex_flow": null,
            "grid_area": null,
            "grid_auto_columns": null,
            "grid_auto_flow": null,
            "grid_auto_rows": null,
            "grid_column": null,
            "grid_gap": null,
            "grid_row": null,
            "grid_template_areas": null,
            "grid_template_columns": null,
            "grid_template_rows": null,
            "height": null,
            "justify_content": null,
            "justify_items": null,
            "left": null,
            "margin": null,
            "max_height": null,
            "max_width": null,
            "min_height": null,
            "min_width": null,
            "object_fit": null,
            "object_position": null,
            "order": null,
            "overflow": null,
            "overflow_x": null,
            "overflow_y": null,
            "padding": null,
            "right": null,
            "top": null,
            "visibility": null,
            "width": null
          }
        },
        "661d49054326495197271a921a7587d8": {
          "model_module": "@jupyter-widgets/controls",
          "model_module_version": "1.5.0",
          "model_name": "HTMLModel",
          "state": {
            "_dom_classes": [],
            "_model_module": "@jupyter-widgets/controls",
            "_model_module_version": "1.5.0",
            "_model_name": "HTMLModel",
            "_view_count": null,
            "_view_module": "@jupyter-widgets/controls",
            "_view_module_version": "1.5.0",
            "_view_name": "HTMLView",
            "description": "",
            "description_tooltip": null,
            "layout": "IPY_MODEL_d71536a850314a21be9bc849212fe23b",
            "placeholder": "​",
            "style": "IPY_MODEL_d244b85c7f4145dca8cd4b273be66b99",
            "value": " 1/1 [00:01&lt;00:00,  1.08s/it]"
          }
        },
        "664d0b82250a453589f8184b467dd19c": {
          "model_module": "@jupyter-widgets/controls",
          "model_module_version": "1.5.0",
          "model_name": "DescriptionStyleModel",
          "state": {
            "_model_module": "@jupyter-widgets/controls",
            "_model_module_version": "1.5.0",
            "_model_name": "DescriptionStyleModel",
            "_view_count": null,
            "_view_module": "@jupyter-widgets/base",
            "_view_module_version": "1.2.0",
            "_view_name": "StyleView",
            "description_width": ""
          }
        },
        "66bef2dc371141fe87ac2639ecd0d94e": {
          "model_module": "@jupyter-widgets/controls",
          "model_module_version": "1.5.0",
          "model_name": "HTMLModel",
          "state": {
            "_dom_classes": [],
            "_model_module": "@jupyter-widgets/controls",
            "_model_module_version": "1.5.0",
            "_model_name": "HTMLModel",
            "_view_count": null,
            "_view_module": "@jupyter-widgets/controls",
            "_view_module_version": "1.5.0",
            "_view_name": "HTMLView",
            "description": "",
            "description_tooltip": null,
            "layout": "IPY_MODEL_f0b2effec4574b268874207b3b4e6097",
            "placeholder": "​",
            "style": "IPY_MODEL_720e4ca276864b8bb6d3f3464f2e6c2b",
            "value": " 1/1 [00:05&lt;00:00,  5.82s/it]"
          }
        },
        "6bb0228f1df54e31b87b8cad1f04cf04": {
          "model_module": "@jupyter-widgets/base",
          "model_module_version": "1.2.0",
          "model_name": "LayoutModel",
          "state": {
            "_model_module": "@jupyter-widgets/base",
            "_model_module_version": "1.2.0",
            "_model_name": "LayoutModel",
            "_view_count": null,
            "_view_module": "@jupyter-widgets/base",
            "_view_module_version": "1.2.0",
            "_view_name": "LayoutView",
            "align_content": null,
            "align_items": null,
            "align_self": null,
            "border": null,
            "bottom": null,
            "display": null,
            "flex": null,
            "flex_flow": null,
            "grid_area": null,
            "grid_auto_columns": null,
            "grid_auto_flow": null,
            "grid_auto_rows": null,
            "grid_column": null,
            "grid_gap": null,
            "grid_row": null,
            "grid_template_areas": null,
            "grid_template_columns": null,
            "grid_template_rows": null,
            "height": null,
            "justify_content": null,
            "justify_items": null,
            "left": null,
            "margin": null,
            "max_height": null,
            "max_width": null,
            "min_height": null,
            "min_width": null,
            "object_fit": null,
            "object_position": null,
            "order": null,
            "overflow": null,
            "overflow_x": null,
            "overflow_y": null,
            "padding": null,
            "right": null,
            "top": null,
            "visibility": null,
            "width": null
          }
        },
        "6e0107b72ee54ebabb994fa8d552de97": {
          "model_module": "@jupyter-widgets/controls",
          "model_module_version": "1.5.0",
          "model_name": "HTMLModel",
          "state": {
            "_dom_classes": [],
            "_model_module": "@jupyter-widgets/controls",
            "_model_module_version": "1.5.0",
            "_model_name": "HTMLModel",
            "_view_count": null,
            "_view_module": "@jupyter-widgets/controls",
            "_view_module_version": "1.5.0",
            "_view_name": "HTMLView",
            "description": "",
            "description_tooltip": null,
            "layout": "IPY_MODEL_33ddbda9fafd4f0ea7ff29bc91196a6c",
            "placeholder": "​",
            "style": "IPY_MODEL_63f4f2e6807c475ea5c1ec70175ad4d0",
            "value": "100%"
          }
        },
        "6e16a17ae4444adcbbd377395884e25b": {
          "model_module": "@jupyter-widgets/controls",
          "model_module_version": "1.5.0",
          "model_name": "HTMLModel",
          "state": {
            "_dom_classes": [],
            "_model_module": "@jupyter-widgets/controls",
            "_model_module_version": "1.5.0",
            "_model_name": "HTMLModel",
            "_view_count": null,
            "_view_module": "@jupyter-widgets/controls",
            "_view_module_version": "1.5.0",
            "_view_name": "HTMLView",
            "description": "",
            "description_tooltip": null,
            "layout": "IPY_MODEL_a1c5c0b9b7a64f7684aaccc7c440a5be",
            "placeholder": "​",
            "style": "IPY_MODEL_aa2caf672dc5483d92e1a46fbc5e2bc2",
            "value": " 1/1 [00:05&lt;00:00,  5.62s/it]"
          }
        },
        "6f0c3707bb8b4b5381930ac3707bc4a7": {
          "model_module": "@jupyter-widgets/base",
          "model_module_version": "1.2.0",
          "model_name": "LayoutModel",
          "state": {
            "_model_module": "@jupyter-widgets/base",
            "_model_module_version": "1.2.0",
            "_model_name": "LayoutModel",
            "_view_count": null,
            "_view_module": "@jupyter-widgets/base",
            "_view_module_version": "1.2.0",
            "_view_name": "LayoutView",
            "align_content": null,
            "align_items": null,
            "align_self": null,
            "border": null,
            "bottom": null,
            "display": null,
            "flex": null,
            "flex_flow": null,
            "grid_area": null,
            "grid_auto_columns": null,
            "grid_auto_flow": null,
            "grid_auto_rows": null,
            "grid_column": null,
            "grid_gap": null,
            "grid_row": null,
            "grid_template_areas": null,
            "grid_template_columns": null,
            "grid_template_rows": null,
            "height": null,
            "justify_content": null,
            "justify_items": null,
            "left": null,
            "margin": null,
            "max_height": null,
            "max_width": null,
            "min_height": null,
            "min_width": null,
            "object_fit": null,
            "object_position": null,
            "order": null,
            "overflow": null,
            "overflow_x": null,
            "overflow_y": null,
            "padding": null,
            "right": null,
            "top": null,
            "visibility": null,
            "width": null
          }
        },
        "71c2d835b6804435b587846f33bd2f8b": {
          "model_module": "@jupyter-widgets/controls",
          "model_module_version": "1.5.0",
          "model_name": "HTMLModel",
          "state": {
            "_dom_classes": [],
            "_model_module": "@jupyter-widgets/controls",
            "_model_module_version": "1.5.0",
            "_model_name": "HTMLModel",
            "_view_count": null,
            "_view_module": "@jupyter-widgets/controls",
            "_view_module_version": "1.5.0",
            "_view_name": "HTMLView",
            "description": "",
            "description_tooltip": null,
            "layout": "IPY_MODEL_1f76cef7fbee48d9a5b8569afbeecb26",
            "placeholder": "​",
            "style": "IPY_MODEL_797e753bf1864ec2a502bfaa1d5ff075",
            "value": "Downloading builder script: 100%"
          }
        },
        "71ebfbcc67a248108af5dd6140625e0f": {
          "model_module": "@jupyter-widgets/base",
          "model_module_version": "1.2.0",
          "model_name": "LayoutModel",
          "state": {
            "_model_module": "@jupyter-widgets/base",
            "_model_module_version": "1.2.0",
            "_model_name": "LayoutModel",
            "_view_count": null,
            "_view_module": "@jupyter-widgets/base",
            "_view_module_version": "1.2.0",
            "_view_name": "LayoutView",
            "align_content": null,
            "align_items": null,
            "align_self": null,
            "border": null,
            "bottom": null,
            "display": null,
            "flex": null,
            "flex_flow": null,
            "grid_area": null,
            "grid_auto_columns": null,
            "grid_auto_flow": null,
            "grid_auto_rows": null,
            "grid_column": null,
            "grid_gap": null,
            "grid_row": null,
            "grid_template_areas": null,
            "grid_template_columns": null,
            "grid_template_rows": null,
            "height": null,
            "justify_content": null,
            "justify_items": null,
            "left": null,
            "margin": null,
            "max_height": null,
            "max_width": null,
            "min_height": null,
            "min_width": null,
            "object_fit": null,
            "object_position": null,
            "order": null,
            "overflow": null,
            "overflow_x": null,
            "overflow_y": null,
            "padding": null,
            "right": null,
            "top": null,
            "visibility": null,
            "width": null
          }
        },
        "71ff60f893dd4b44b9227bc7b7081bdf": {
          "model_module": "@jupyter-widgets/base",
          "model_module_version": "1.2.0",
          "model_name": "LayoutModel",
          "state": {
            "_model_module": "@jupyter-widgets/base",
            "_model_module_version": "1.2.0",
            "_model_name": "LayoutModel",
            "_view_count": null,
            "_view_module": "@jupyter-widgets/base",
            "_view_module_version": "1.2.0",
            "_view_name": "LayoutView",
            "align_content": null,
            "align_items": null,
            "align_self": null,
            "border": null,
            "bottom": null,
            "display": null,
            "flex": null,
            "flex_flow": null,
            "grid_area": null,
            "grid_auto_columns": null,
            "grid_auto_flow": null,
            "grid_auto_rows": null,
            "grid_column": null,
            "grid_gap": null,
            "grid_row": null,
            "grid_template_areas": null,
            "grid_template_columns": null,
            "grid_template_rows": null,
            "height": null,
            "justify_content": null,
            "justify_items": null,
            "left": null,
            "margin": null,
            "max_height": null,
            "max_width": null,
            "min_height": null,
            "min_width": null,
            "object_fit": null,
            "object_position": null,
            "order": null,
            "overflow": null,
            "overflow_x": null,
            "overflow_y": null,
            "padding": null,
            "right": null,
            "top": null,
            "visibility": null,
            "width": null
          }
        },
        "720e4ca276864b8bb6d3f3464f2e6c2b": {
          "model_module": "@jupyter-widgets/controls",
          "model_module_version": "1.5.0",
          "model_name": "DescriptionStyleModel",
          "state": {
            "_model_module": "@jupyter-widgets/controls",
            "_model_module_version": "1.5.0",
            "_model_name": "DescriptionStyleModel",
            "_view_count": null,
            "_view_module": "@jupyter-widgets/base",
            "_view_module_version": "1.2.0",
            "_view_name": "StyleView",
            "description_width": ""
          }
        },
        "7396d34983824c438aede81d90c53b3e": {
          "model_module": "@jupyter-widgets/controls",
          "model_module_version": "1.5.0",
          "model_name": "DescriptionStyleModel",
          "state": {
            "_model_module": "@jupyter-widgets/controls",
            "_model_module_version": "1.5.0",
            "_model_name": "DescriptionStyleModel",
            "_view_count": null,
            "_view_module": "@jupyter-widgets/base",
            "_view_module_version": "1.2.0",
            "_view_name": "StyleView",
            "description_width": ""
          }
        },
        "74cf0d71d9c34f01aee1580a2816672a": {
          "model_module": "@jupyter-widgets/controls",
          "model_module_version": "1.5.0",
          "model_name": "DescriptionStyleModel",
          "state": {
            "_model_module": "@jupyter-widgets/controls",
            "_model_module_version": "1.5.0",
            "_model_name": "DescriptionStyleModel",
            "_view_count": null,
            "_view_module": "@jupyter-widgets/base",
            "_view_module_version": "1.2.0",
            "_view_name": "StyleView",
            "description_width": ""
          }
        },
        "756a752940174c9f8e5834aba4851ba6": {
          "model_module": "@jupyter-widgets/base",
          "model_module_version": "1.2.0",
          "model_name": "LayoutModel",
          "state": {
            "_model_module": "@jupyter-widgets/base",
            "_model_module_version": "1.2.0",
            "_model_name": "LayoutModel",
            "_view_count": null,
            "_view_module": "@jupyter-widgets/base",
            "_view_module_version": "1.2.0",
            "_view_name": "LayoutView",
            "align_content": null,
            "align_items": null,
            "align_self": null,
            "border": null,
            "bottom": null,
            "display": null,
            "flex": null,
            "flex_flow": null,
            "grid_area": null,
            "grid_auto_columns": null,
            "grid_auto_flow": null,
            "grid_auto_rows": null,
            "grid_column": null,
            "grid_gap": null,
            "grid_row": null,
            "grid_template_areas": null,
            "grid_template_columns": null,
            "grid_template_rows": null,
            "height": null,
            "justify_content": null,
            "justify_items": null,
            "left": null,
            "margin": null,
            "max_height": null,
            "max_width": null,
            "min_height": null,
            "min_width": null,
            "object_fit": null,
            "object_position": null,
            "order": null,
            "overflow": null,
            "overflow_x": null,
            "overflow_y": null,
            "padding": null,
            "right": null,
            "top": null,
            "visibility": null,
            "width": null
          }
        },
        "76a15ce356fd4ee6bb3107071f5bce7e": {
          "model_module": "@jupyter-widgets/controls",
          "model_module_version": "1.5.0",
          "model_name": "FloatProgressModel",
          "state": {
            "_dom_classes": [],
            "_model_module": "@jupyter-widgets/controls",
            "_model_module_version": "1.5.0",
            "_model_name": "FloatProgressModel",
            "_view_count": null,
            "_view_module": "@jupyter-widgets/controls",
            "_view_module_version": "1.5.0",
            "_view_name": "ProgressView",
            "bar_style": "success",
            "description": "",
            "description_tooltip": null,
            "layout": "IPY_MODEL_060fed3d69c941969872dc2c69880cdf",
            "max": 1,
            "min": 0,
            "orientation": "horizontal",
            "style": "IPY_MODEL_bbc46eb60e0844e08f014a1192cf9f7d",
            "value": 1
          }
        },
        "797e753bf1864ec2a502bfaa1d5ff075": {
          "model_module": "@jupyter-widgets/controls",
          "model_module_version": "1.5.0",
          "model_name": "DescriptionStyleModel",
          "state": {
            "_model_module": "@jupyter-widgets/controls",
            "_model_module_version": "1.5.0",
            "_model_name": "DescriptionStyleModel",
            "_view_count": null,
            "_view_module": "@jupyter-widgets/base",
            "_view_module_version": "1.2.0",
            "_view_name": "StyleView",
            "description_width": ""
          }
        },
        "7a4e50d77351443ebc24c80991ed41b4": {
          "model_module": "@jupyter-widgets/base",
          "model_module_version": "1.2.0",
          "model_name": "LayoutModel",
          "state": {
            "_model_module": "@jupyter-widgets/base",
            "_model_module_version": "1.2.0",
            "_model_name": "LayoutModel",
            "_view_count": null,
            "_view_module": "@jupyter-widgets/base",
            "_view_module_version": "1.2.0",
            "_view_name": "LayoutView",
            "align_content": null,
            "align_items": null,
            "align_self": null,
            "border": null,
            "bottom": null,
            "display": null,
            "flex": null,
            "flex_flow": null,
            "grid_area": null,
            "grid_auto_columns": null,
            "grid_auto_flow": null,
            "grid_auto_rows": null,
            "grid_column": null,
            "grid_gap": null,
            "grid_row": null,
            "grid_template_areas": null,
            "grid_template_columns": null,
            "grid_template_rows": null,
            "height": null,
            "justify_content": null,
            "justify_items": null,
            "left": null,
            "margin": null,
            "max_height": null,
            "max_width": null,
            "min_height": null,
            "min_width": null,
            "object_fit": null,
            "object_position": null,
            "order": null,
            "overflow": null,
            "overflow_x": null,
            "overflow_y": null,
            "padding": null,
            "right": null,
            "top": null,
            "visibility": null,
            "width": null
          }
        },
        "7adedcbc77a94d5382e05dacc9de1c7f": {
          "model_module": "@jupyter-widgets/controls",
          "model_module_version": "1.5.0",
          "model_name": "DescriptionStyleModel",
          "state": {
            "_model_module": "@jupyter-widgets/controls",
            "_model_module_version": "1.5.0",
            "_model_name": "DescriptionStyleModel",
            "_view_count": null,
            "_view_module": "@jupyter-widgets/base",
            "_view_module_version": "1.2.0",
            "_view_name": "StyleView",
            "description_width": ""
          }
        },
        "7b8bda1068c74772a06459831301113c": {
          "model_module": "@jupyter-widgets/controls",
          "model_module_version": "1.5.0",
          "model_name": "ProgressStyleModel",
          "state": {
            "_model_module": "@jupyter-widgets/controls",
            "_model_module_version": "1.5.0",
            "_model_name": "ProgressStyleModel",
            "_view_count": null,
            "_view_module": "@jupyter-widgets/base",
            "_view_module_version": "1.2.0",
            "_view_name": "StyleView",
            "bar_color": null,
            "description_width": ""
          }
        },
        "7b998daae8fc4653bc608c276b0f1a0d": {
          "model_module": "@jupyter-widgets/controls",
          "model_module_version": "1.5.0",
          "model_name": "HTMLModel",
          "state": {
            "_dom_classes": [],
            "_model_module": "@jupyter-widgets/controls",
            "_model_module_version": "1.5.0",
            "_model_name": "HTMLModel",
            "_view_count": null,
            "_view_module": "@jupyter-widgets/controls",
            "_view_module_version": "1.5.0",
            "_view_name": "HTMLView",
            "description": "",
            "description_tooltip": null,
            "layout": "IPY_MODEL_8b42c28950a149b5998ce68f75d87026",
            "placeholder": "​",
            "style": "IPY_MODEL_625ceeff1fbb4b6baef4eced30da6911",
            "value": " 1/1 [00:01&lt;00:00,  1.67s/it]"
          }
        },
        "7d3def1ccbc24520b3c28f0c4bbf7c22": {
          "model_module": "@jupyter-widgets/controls",
          "model_module_version": "1.5.0",
          "model_name": "HTMLModel",
          "state": {
            "_dom_classes": [],
            "_model_module": "@jupyter-widgets/controls",
            "_model_module_version": "1.5.0",
            "_model_name": "HTMLModel",
            "_view_count": null,
            "_view_module": "@jupyter-widgets/controls",
            "_view_module_version": "1.5.0",
            "_view_name": "HTMLView",
            "description": "",
            "description_tooltip": null,
            "layout": "IPY_MODEL_0cc6cc1f9db94e87b8368362ba866bd6",
            "placeholder": "​",
            "style": "IPY_MODEL_664d0b82250a453589f8184b467dd19c",
            "value": "100%"
          }
        },
        "7ee7491838c047928abc992b6066c991": {
          "model_module": "@jupyter-widgets/controls",
          "model_module_version": "1.5.0",
          "model_name": "HBoxModel",
          "state": {
            "_dom_classes": [],
            "_model_module": "@jupyter-widgets/controls",
            "_model_module_version": "1.5.0",
            "_model_name": "HBoxModel",
            "_view_count": null,
            "_view_module": "@jupyter-widgets/controls",
            "_view_module_version": "1.5.0",
            "_view_name": "HBoxView",
            "box_style": "",
            "children": [
              "IPY_MODEL_c28f0c7f24c143e7ae35bbc134d15754",
              "IPY_MODEL_4fc2b9958af54a56812771cca3237621",
              "IPY_MODEL_33d3c998a0ba4e0787fb79a4b5ab0414"
            ],
            "layout": "IPY_MODEL_6302d2d38a944859a44231c3d6c9495f"
          }
        },
        "7f72d11760734a51a9d3b87a7fac6deb": {
          "model_module": "@jupyter-widgets/controls",
          "model_module_version": "1.5.0",
          "model_name": "HTMLModel",
          "state": {
            "_dom_classes": [],
            "_model_module": "@jupyter-widgets/controls",
            "_model_module_version": "1.5.0",
            "_model_name": "HTMLModel",
            "_view_count": null,
            "_view_module": "@jupyter-widgets/controls",
            "_view_module_version": "1.5.0",
            "_view_name": "HTMLView",
            "description": "",
            "description_tooltip": null,
            "layout": "IPY_MODEL_38f413dfc2524180a290b85dffc86a84",
            "placeholder": "​",
            "style": "IPY_MODEL_e5adabc51b294dd184451a1cb9d6cb68",
            "value": " 8.15k/8.15k [00:00&lt;00:00, 288kB/s]"
          }
        },
        "818ff25c19854c8998da280d78ed4122": {
          "model_module": "@jupyter-widgets/controls",
          "model_module_version": "1.5.0",
          "model_name": "HTMLModel",
          "state": {
            "_dom_classes": [],
            "_model_module": "@jupyter-widgets/controls",
            "_model_module_version": "1.5.0",
            "_model_name": "HTMLModel",
            "_view_count": null,
            "_view_module": "@jupyter-widgets/controls",
            "_view_module_version": "1.5.0",
            "_view_name": "HTMLView",
            "description": "",
            "description_tooltip": null,
            "layout": "IPY_MODEL_98849de26d464aeebd227dc3cb8e26b6",
            "placeholder": "​",
            "style": "IPY_MODEL_e336e6856a1849f5ad1114016f043b59",
            "value": " 2119/2119 [41:27&lt;00:00,  5.47s/it]"
          }
        },
        "83b5554c33ad4ca486a24db55d4a34d3": {
          "model_module": "@jupyter-widgets/controls",
          "model_module_version": "1.5.0",
          "model_name": "ProgressStyleModel",
          "state": {
            "_model_module": "@jupyter-widgets/controls",
            "_model_module_version": "1.5.0",
            "_model_name": "ProgressStyleModel",
            "_view_count": null,
            "_view_module": "@jupyter-widgets/base",
            "_view_module_version": "1.2.0",
            "_view_name": "StyleView",
            "bar_color": null,
            "description_width": ""
          }
        },
        "8b42c28950a149b5998ce68f75d87026": {
          "model_module": "@jupyter-widgets/base",
          "model_module_version": "1.2.0",
          "model_name": "LayoutModel",
          "state": {
            "_model_module": "@jupyter-widgets/base",
            "_model_module_version": "1.2.0",
            "_model_name": "LayoutModel",
            "_view_count": null,
            "_view_module": "@jupyter-widgets/base",
            "_view_module_version": "1.2.0",
            "_view_name": "LayoutView",
            "align_content": null,
            "align_items": null,
            "align_self": null,
            "border": null,
            "bottom": null,
            "display": null,
            "flex": null,
            "flex_flow": null,
            "grid_area": null,
            "grid_auto_columns": null,
            "grid_auto_flow": null,
            "grid_auto_rows": null,
            "grid_column": null,
            "grid_gap": null,
            "grid_row": null,
            "grid_template_areas": null,
            "grid_template_columns": null,
            "grid_template_rows": null,
            "height": null,
            "justify_content": null,
            "justify_items": null,
            "left": null,
            "margin": null,
            "max_height": null,
            "max_width": null,
            "min_height": null,
            "min_width": null,
            "object_fit": null,
            "object_position": null,
            "order": null,
            "overflow": null,
            "overflow_x": null,
            "overflow_y": null,
            "padding": null,
            "right": null,
            "top": null,
            "visibility": null,
            "width": null
          }
        },
        "8b4d8136f78a40afb3bc85de352c7b04": {
          "model_module": "@jupyter-widgets/base",
          "model_module_version": "1.2.0",
          "model_name": "LayoutModel",
          "state": {
            "_model_module": "@jupyter-widgets/base",
            "_model_module_version": "1.2.0",
            "_model_name": "LayoutModel",
            "_view_count": null,
            "_view_module": "@jupyter-widgets/base",
            "_view_module_version": "1.2.0",
            "_view_name": "LayoutView",
            "align_content": null,
            "align_items": null,
            "align_self": null,
            "border": null,
            "bottom": null,
            "display": null,
            "flex": null,
            "flex_flow": null,
            "grid_area": null,
            "grid_auto_columns": null,
            "grid_auto_flow": null,
            "grid_auto_rows": null,
            "grid_column": null,
            "grid_gap": null,
            "grid_row": null,
            "grid_template_areas": null,
            "grid_template_columns": null,
            "grid_template_rows": null,
            "height": null,
            "justify_content": null,
            "justify_items": null,
            "left": null,
            "margin": null,
            "max_height": null,
            "max_width": null,
            "min_height": null,
            "min_width": null,
            "object_fit": null,
            "object_position": null,
            "order": null,
            "overflow": null,
            "overflow_x": null,
            "overflow_y": null,
            "padding": null,
            "right": null,
            "top": null,
            "visibility": null,
            "width": null
          }
        },
        "8c821359b7be40c18a3c176ef1b22b1c": {
          "model_module": "@jupyter-widgets/base",
          "model_module_version": "1.2.0",
          "model_name": "LayoutModel",
          "state": {
            "_model_module": "@jupyter-widgets/base",
            "_model_module_version": "1.2.0",
            "_model_name": "LayoutModel",
            "_view_count": null,
            "_view_module": "@jupyter-widgets/base",
            "_view_module_version": "1.2.0",
            "_view_name": "LayoutView",
            "align_content": null,
            "align_items": null,
            "align_self": null,
            "border": null,
            "bottom": null,
            "display": null,
            "flex": null,
            "flex_flow": null,
            "grid_area": null,
            "grid_auto_columns": null,
            "grid_auto_flow": null,
            "grid_auto_rows": null,
            "grid_column": null,
            "grid_gap": null,
            "grid_row": null,
            "grid_template_areas": null,
            "grid_template_columns": null,
            "grid_template_rows": null,
            "height": null,
            "justify_content": null,
            "justify_items": null,
            "left": null,
            "margin": null,
            "max_height": null,
            "max_width": null,
            "min_height": null,
            "min_width": null,
            "object_fit": null,
            "object_position": null,
            "order": null,
            "overflow": null,
            "overflow_x": null,
            "overflow_y": null,
            "padding": null,
            "right": null,
            "top": null,
            "visibility": null,
            "width": null
          }
        },
        "8e5b1e8941de449da969e530e8551e57": {
          "model_module": "@jupyter-widgets/base",
          "model_module_version": "1.2.0",
          "model_name": "LayoutModel",
          "state": {
            "_model_module": "@jupyter-widgets/base",
            "_model_module_version": "1.2.0",
            "_model_name": "LayoutModel",
            "_view_count": null,
            "_view_module": "@jupyter-widgets/base",
            "_view_module_version": "1.2.0",
            "_view_name": "LayoutView",
            "align_content": null,
            "align_items": null,
            "align_self": null,
            "border": null,
            "bottom": null,
            "display": null,
            "flex": null,
            "flex_flow": null,
            "grid_area": null,
            "grid_auto_columns": null,
            "grid_auto_flow": null,
            "grid_auto_rows": null,
            "grid_column": null,
            "grid_gap": null,
            "grid_row": null,
            "grid_template_areas": null,
            "grid_template_columns": null,
            "grid_template_rows": null,
            "height": null,
            "justify_content": null,
            "justify_items": null,
            "left": null,
            "margin": null,
            "max_height": null,
            "max_width": null,
            "min_height": null,
            "min_width": null,
            "object_fit": null,
            "object_position": null,
            "order": null,
            "overflow": null,
            "overflow_x": null,
            "overflow_y": null,
            "padding": null,
            "right": null,
            "top": null,
            "visibility": null,
            "width": null
          }
        },
        "8f738bbd987942bf8effaa28461bec23": {
          "model_module": "@jupyter-widgets/base",
          "model_module_version": "1.2.0",
          "model_name": "LayoutModel",
          "state": {
            "_model_module": "@jupyter-widgets/base",
            "_model_module_version": "1.2.0",
            "_model_name": "LayoutModel",
            "_view_count": null,
            "_view_module": "@jupyter-widgets/base",
            "_view_module_version": "1.2.0",
            "_view_name": "LayoutView",
            "align_content": null,
            "align_items": null,
            "align_self": null,
            "border": null,
            "bottom": null,
            "display": null,
            "flex": null,
            "flex_flow": null,
            "grid_area": null,
            "grid_auto_columns": null,
            "grid_auto_flow": null,
            "grid_auto_rows": null,
            "grid_column": null,
            "grid_gap": null,
            "grid_row": null,
            "grid_template_areas": null,
            "grid_template_columns": null,
            "grid_template_rows": null,
            "height": null,
            "justify_content": null,
            "justify_items": null,
            "left": null,
            "margin": null,
            "max_height": null,
            "max_width": null,
            "min_height": null,
            "min_width": null,
            "object_fit": null,
            "object_position": null,
            "order": null,
            "overflow": null,
            "overflow_x": null,
            "overflow_y": null,
            "padding": null,
            "right": null,
            "top": null,
            "visibility": null,
            "width": null
          }
        },
        "8f85f9400d27491087ad39cd02c678a9": {
          "model_module": "@jupyter-widgets/controls",
          "model_module_version": "1.5.0",
          "model_name": "FloatProgressModel",
          "state": {
            "_dom_classes": [],
            "_model_module": "@jupyter-widgets/controls",
            "_model_module_version": "1.5.0",
            "_model_name": "FloatProgressModel",
            "_view_count": null,
            "_view_module": "@jupyter-widgets/controls",
            "_view_module_version": "1.5.0",
            "_view_name": "ProgressView",
            "bar_style": "success",
            "description": "",
            "description_tooltip": null,
            "layout": "IPY_MODEL_6bb0228f1df54e31b87b8cad1f04cf04",
            "max": 1,
            "min": 0,
            "orientation": "horizontal",
            "style": "IPY_MODEL_7b8bda1068c74772a06459831301113c",
            "value": 1
          }
        },
        "92521f2c6202423ba4ac403c608ae041": {
          "model_module": "@jupyter-widgets/controls",
          "model_module_version": "1.5.0",
          "model_name": "ProgressStyleModel",
          "state": {
            "_model_module": "@jupyter-widgets/controls",
            "_model_module_version": "1.5.0",
            "_model_name": "ProgressStyleModel",
            "_view_count": null,
            "_view_module": "@jupyter-widgets/base",
            "_view_module_version": "1.2.0",
            "_view_name": "StyleView",
            "bar_color": null,
            "description_width": ""
          }
        },
        "9645ab74b29b43ffa08dddf8124f5461": {
          "model_module": "@jupyter-widgets/controls",
          "model_module_version": "1.5.0",
          "model_name": "HBoxModel",
          "state": {
            "_dom_classes": [],
            "_model_module": "@jupyter-widgets/controls",
            "_model_module_version": "1.5.0",
            "_model_name": "HBoxModel",
            "_view_count": null,
            "_view_module": "@jupyter-widgets/controls",
            "_view_module_version": "1.5.0",
            "_view_name": "HBoxView",
            "box_style": "",
            "children": [
              "IPY_MODEL_7d3def1ccbc24520b3c28f0c4bbf7c22",
              "IPY_MODEL_8f85f9400d27491087ad39cd02c678a9",
              "IPY_MODEL_66bef2dc371141fe87ac2639ecd0d94e"
            ],
            "layout": "IPY_MODEL_ad0b0c6e36df45a5adab104d320bdadd"
          }
        },
        "967e7d072c7440b583201fe5e1893992": {
          "model_module": "@jupyter-widgets/controls",
          "model_module_version": "1.5.0",
          "model_name": "HBoxModel",
          "state": {
            "_dom_classes": [],
            "_model_module": "@jupyter-widgets/controls",
            "_model_module_version": "1.5.0",
            "_model_name": "HBoxModel",
            "_view_count": null,
            "_view_module": "@jupyter-widgets/controls",
            "_view_module_version": "1.5.0",
            "_view_name": "HBoxView",
            "box_style": "",
            "children": [
              "IPY_MODEL_71c2d835b6804435b587846f33bd2f8b",
              "IPY_MODEL_3bc441bd7c7c4160bfcd2da8e16dccfd",
              "IPY_MODEL_7f72d11760734a51a9d3b87a7fac6deb"
            ],
            "layout": "IPY_MODEL_326b9a5b12e84d15a1d0e172cd0fe4fa"
          }
        },
        "979c44a078c94523a6d6be88f35f026a": {
          "model_module": "@jupyter-widgets/base",
          "model_module_version": "1.2.0",
          "model_name": "LayoutModel",
          "state": {
            "_model_module": "@jupyter-widgets/base",
            "_model_module_version": "1.2.0",
            "_model_name": "LayoutModel",
            "_view_count": null,
            "_view_module": "@jupyter-widgets/base",
            "_view_module_version": "1.2.0",
            "_view_name": "LayoutView",
            "align_content": null,
            "align_items": null,
            "align_self": null,
            "border": null,
            "bottom": null,
            "display": null,
            "flex": null,
            "flex_flow": null,
            "grid_area": null,
            "grid_auto_columns": null,
            "grid_auto_flow": null,
            "grid_auto_rows": null,
            "grid_column": null,
            "grid_gap": null,
            "grid_row": null,
            "grid_template_areas": null,
            "grid_template_columns": null,
            "grid_template_rows": null,
            "height": null,
            "justify_content": null,
            "justify_items": null,
            "left": null,
            "margin": null,
            "max_height": null,
            "max_width": null,
            "min_height": null,
            "min_width": null,
            "object_fit": null,
            "object_position": null,
            "order": null,
            "overflow": null,
            "overflow_x": null,
            "overflow_y": null,
            "padding": null,
            "right": null,
            "top": null,
            "visibility": null,
            "width": null
          }
        },
        "98849de26d464aeebd227dc3cb8e26b6": {
          "model_module": "@jupyter-widgets/base",
          "model_module_version": "1.2.0",
          "model_name": "LayoutModel",
          "state": {
            "_model_module": "@jupyter-widgets/base",
            "_model_module_version": "1.2.0",
            "_model_name": "LayoutModel",
            "_view_count": null,
            "_view_module": "@jupyter-widgets/base",
            "_view_module_version": "1.2.0",
            "_view_name": "LayoutView",
            "align_content": null,
            "align_items": null,
            "align_self": null,
            "border": null,
            "bottom": null,
            "display": null,
            "flex": null,
            "flex_flow": null,
            "grid_area": null,
            "grid_auto_columns": null,
            "grid_auto_flow": null,
            "grid_auto_rows": null,
            "grid_column": null,
            "grid_gap": null,
            "grid_row": null,
            "grid_template_areas": null,
            "grid_template_columns": null,
            "grid_template_rows": null,
            "height": null,
            "justify_content": null,
            "justify_items": null,
            "left": null,
            "margin": null,
            "max_height": null,
            "max_width": null,
            "min_height": null,
            "min_width": null,
            "object_fit": null,
            "object_position": null,
            "order": null,
            "overflow": null,
            "overflow_x": null,
            "overflow_y": null,
            "padding": null,
            "right": null,
            "top": null,
            "visibility": null,
            "width": null
          }
        },
        "98a3b77f414e4e2d97018f957e19e56d": {
          "model_module": "@jupyter-widgets/controls",
          "model_module_version": "1.5.0",
          "model_name": "FloatProgressModel",
          "state": {
            "_dom_classes": [],
            "_model_module": "@jupyter-widgets/controls",
            "_model_module_version": "1.5.0",
            "_model_name": "FloatProgressModel",
            "_view_count": null,
            "_view_module": "@jupyter-widgets/controls",
            "_view_module_version": "1.5.0",
            "_view_name": "ProgressView",
            "bar_style": "success",
            "description": "",
            "description_tooltip": null,
            "layout": "IPY_MODEL_8b4d8136f78a40afb3bc85de352c7b04",
            "max": 1,
            "min": 0,
            "orientation": "horizontal",
            "style": "IPY_MODEL_d1f11df9d9d54e828f3d8ea1c003401a",
            "value": 1
          }
        },
        "9912d8db32ab4e7e995132086e713dc2": {
          "model_module": "@jupyter-widgets/controls",
          "model_module_version": "1.5.0",
          "model_name": "HBoxModel",
          "state": {
            "_dom_classes": [],
            "_model_module": "@jupyter-widgets/controls",
            "_model_module_version": "1.5.0",
            "_model_name": "HBoxModel",
            "_view_count": null,
            "_view_module": "@jupyter-widgets/controls",
            "_view_module_version": "1.5.0",
            "_view_name": "HBoxView",
            "box_style": "",
            "children": [
              "IPY_MODEL_6e0107b72ee54ebabb994fa8d552de97",
              "IPY_MODEL_c424c78e1d3a4c3194861f3c79711f05",
              "IPY_MODEL_661d49054326495197271a921a7587d8"
            ],
            "layout": "IPY_MODEL_c6e5037b5b2a43e6b0a4c67670d35392"
          }
        },
        "9e39290c390841acb1fba18ef8b8b5b4": {
          "model_module": "@jupyter-widgets/base",
          "model_module_version": "1.2.0",
          "model_name": "LayoutModel",
          "state": {
            "_model_module": "@jupyter-widgets/base",
            "_model_module_version": "1.2.0",
            "_model_name": "LayoutModel",
            "_view_count": null,
            "_view_module": "@jupyter-widgets/base",
            "_view_module_version": "1.2.0",
            "_view_name": "LayoutView",
            "align_content": null,
            "align_items": null,
            "align_self": null,
            "border": null,
            "bottom": null,
            "display": null,
            "flex": null,
            "flex_flow": null,
            "grid_area": null,
            "grid_auto_columns": null,
            "grid_auto_flow": null,
            "grid_auto_rows": null,
            "grid_column": null,
            "grid_gap": null,
            "grid_row": null,
            "grid_template_areas": null,
            "grid_template_columns": null,
            "grid_template_rows": null,
            "height": null,
            "justify_content": null,
            "justify_items": null,
            "left": null,
            "margin": null,
            "max_height": null,
            "max_width": null,
            "min_height": null,
            "min_width": null,
            "object_fit": null,
            "object_position": null,
            "order": null,
            "overflow": null,
            "overflow_x": null,
            "overflow_y": null,
            "padding": null,
            "right": null,
            "top": null,
            "visibility": null,
            "width": null
          }
        },
        "9f2a2d170b764c2ea202d85395b8b113": {
          "model_module": "@jupyter-widgets/controls",
          "model_module_version": "1.5.0",
          "model_name": "ProgressStyleModel",
          "state": {
            "_model_module": "@jupyter-widgets/controls",
            "_model_module_version": "1.5.0",
            "_model_name": "ProgressStyleModel",
            "_view_count": null,
            "_view_module": "@jupyter-widgets/base",
            "_view_module_version": "1.2.0",
            "_view_name": "StyleView",
            "bar_color": null,
            "description_width": ""
          }
        },
        "9f5250e35bb24e6285b6cacb0eea94b6": {
          "model_module": "@jupyter-widgets/base",
          "model_module_version": "1.2.0",
          "model_name": "LayoutModel",
          "state": {
            "_model_module": "@jupyter-widgets/base",
            "_model_module_version": "1.2.0",
            "_model_name": "LayoutModel",
            "_view_count": null,
            "_view_module": "@jupyter-widgets/base",
            "_view_module_version": "1.2.0",
            "_view_name": "LayoutView",
            "align_content": null,
            "align_items": null,
            "align_self": null,
            "border": null,
            "bottom": null,
            "display": null,
            "flex": null,
            "flex_flow": null,
            "grid_area": null,
            "grid_auto_columns": null,
            "grid_auto_flow": null,
            "grid_auto_rows": null,
            "grid_column": null,
            "grid_gap": null,
            "grid_row": null,
            "grid_template_areas": null,
            "grid_template_columns": null,
            "grid_template_rows": null,
            "height": null,
            "justify_content": null,
            "justify_items": null,
            "left": null,
            "margin": null,
            "max_height": null,
            "max_width": null,
            "min_height": null,
            "min_width": null,
            "object_fit": null,
            "object_position": null,
            "order": null,
            "overflow": null,
            "overflow_x": null,
            "overflow_y": null,
            "padding": null,
            "right": null,
            "top": null,
            "visibility": null,
            "width": null
          }
        },
        "a146b039512141c3a0c2b57af8e7b869": {
          "model_module": "@jupyter-widgets/controls",
          "model_module_version": "1.5.0",
          "model_name": "DescriptionStyleModel",
          "state": {
            "_model_module": "@jupyter-widgets/controls",
            "_model_module_version": "1.5.0",
            "_model_name": "DescriptionStyleModel",
            "_view_count": null,
            "_view_module": "@jupyter-widgets/base",
            "_view_module_version": "1.2.0",
            "_view_name": "StyleView",
            "description_width": ""
          }
        },
        "a1c5c0b9b7a64f7684aaccc7c440a5be": {
          "model_module": "@jupyter-widgets/base",
          "model_module_version": "1.2.0",
          "model_name": "LayoutModel",
          "state": {
            "_model_module": "@jupyter-widgets/base",
            "_model_module_version": "1.2.0",
            "_model_name": "LayoutModel",
            "_view_count": null,
            "_view_module": "@jupyter-widgets/base",
            "_view_module_version": "1.2.0",
            "_view_name": "LayoutView",
            "align_content": null,
            "align_items": null,
            "align_self": null,
            "border": null,
            "bottom": null,
            "display": null,
            "flex": null,
            "flex_flow": null,
            "grid_area": null,
            "grid_auto_columns": null,
            "grid_auto_flow": null,
            "grid_auto_rows": null,
            "grid_column": null,
            "grid_gap": null,
            "grid_row": null,
            "grid_template_areas": null,
            "grid_template_columns": null,
            "grid_template_rows": null,
            "height": null,
            "justify_content": null,
            "justify_items": null,
            "left": null,
            "margin": null,
            "max_height": null,
            "max_width": null,
            "min_height": null,
            "min_width": null,
            "object_fit": null,
            "object_position": null,
            "order": null,
            "overflow": null,
            "overflow_x": null,
            "overflow_y": null,
            "padding": null,
            "right": null,
            "top": null,
            "visibility": null,
            "width": null
          }
        },
        "a34b44a1682b40de871cd49165970a50": {
          "model_module": "@jupyter-widgets/controls",
          "model_module_version": "1.5.0",
          "model_name": "HTMLModel",
          "state": {
            "_dom_classes": [],
            "_model_module": "@jupyter-widgets/controls",
            "_model_module_version": "1.5.0",
            "_model_name": "HTMLModel",
            "_view_count": null,
            "_view_module": "@jupyter-widgets/controls",
            "_view_module_version": "1.5.0",
            "_view_name": "HTMLView",
            "description": "",
            "description_tooltip": null,
            "layout": "IPY_MODEL_b4934f8d9a8f420d91dcc271a43fce16",
            "placeholder": "​",
            "style": "IPY_MODEL_a526a0db70634232885e1e0217f06192",
            "value": "100%"
          }
        },
        "a526a0db70634232885e1e0217f06192": {
          "model_module": "@jupyter-widgets/controls",
          "model_module_version": "1.5.0",
          "model_name": "DescriptionStyleModel",
          "state": {
            "_model_module": "@jupyter-widgets/controls",
            "_model_module_version": "1.5.0",
            "_model_name": "DescriptionStyleModel",
            "_view_count": null,
            "_view_module": "@jupyter-widgets/base",
            "_view_module_version": "1.2.0",
            "_view_name": "StyleView",
            "description_width": ""
          }
        },
        "a5c83f64aa6d48dbb6917821d630354d": {
          "model_module": "@jupyter-widgets/base",
          "model_module_version": "1.2.0",
          "model_name": "LayoutModel",
          "state": {
            "_model_module": "@jupyter-widgets/base",
            "_model_module_version": "1.2.0",
            "_model_name": "LayoutModel",
            "_view_count": null,
            "_view_module": "@jupyter-widgets/base",
            "_view_module_version": "1.2.0",
            "_view_name": "LayoutView",
            "align_content": null,
            "align_items": null,
            "align_self": null,
            "border": null,
            "bottom": null,
            "display": null,
            "flex": null,
            "flex_flow": null,
            "grid_area": null,
            "grid_auto_columns": null,
            "grid_auto_flow": null,
            "grid_auto_rows": null,
            "grid_column": null,
            "grid_gap": null,
            "grid_row": null,
            "grid_template_areas": null,
            "grid_template_columns": null,
            "grid_template_rows": null,
            "height": null,
            "justify_content": null,
            "justify_items": null,
            "left": null,
            "margin": null,
            "max_height": null,
            "max_width": null,
            "min_height": null,
            "min_width": null,
            "object_fit": null,
            "object_position": null,
            "order": null,
            "overflow": null,
            "overflow_x": null,
            "overflow_y": null,
            "padding": null,
            "right": null,
            "top": null,
            "visibility": null,
            "width": null
          }
        },
        "a8d064df75104da2856a42fb8644ea44": {
          "model_module": "@jupyter-widgets/controls",
          "model_module_version": "1.5.0",
          "model_name": "HTMLModel",
          "state": {
            "_dom_classes": [],
            "_model_module": "@jupyter-widgets/controls",
            "_model_module_version": "1.5.0",
            "_model_name": "HTMLModel",
            "_view_count": null,
            "_view_module": "@jupyter-widgets/controls",
            "_view_module_version": "1.5.0",
            "_view_name": "HTMLView",
            "description": "",
            "description_tooltip": null,
            "layout": "IPY_MODEL_c878e1a7b4ac43128b4e76bc432fc438",
            "placeholder": "​",
            "style": "IPY_MODEL_bfdc36daec824bc7a53784d82c007061",
            "value": "100%"
          }
        },
        "a9d79038c375439da2061d52aaaf6545": {
          "model_module": "@jupyter-widgets/base",
          "model_module_version": "1.2.0",
          "model_name": "LayoutModel",
          "state": {
            "_model_module": "@jupyter-widgets/base",
            "_model_module_version": "1.2.0",
            "_model_name": "LayoutModel",
            "_view_count": null,
            "_view_module": "@jupyter-widgets/base",
            "_view_module_version": "1.2.0",
            "_view_name": "LayoutView",
            "align_content": null,
            "align_items": null,
            "align_self": null,
            "border": null,
            "bottom": null,
            "display": null,
            "flex": null,
            "flex_flow": null,
            "grid_area": null,
            "grid_auto_columns": null,
            "grid_auto_flow": null,
            "grid_auto_rows": null,
            "grid_column": null,
            "grid_gap": null,
            "grid_row": null,
            "grid_template_areas": null,
            "grid_template_columns": null,
            "grid_template_rows": null,
            "height": null,
            "justify_content": null,
            "justify_items": null,
            "left": null,
            "margin": null,
            "max_height": null,
            "max_width": null,
            "min_height": null,
            "min_width": null,
            "object_fit": null,
            "object_position": null,
            "order": null,
            "overflow": null,
            "overflow_x": null,
            "overflow_y": null,
            "padding": null,
            "right": null,
            "top": null,
            "visibility": null,
            "width": null
          }
        },
        "aa2caf672dc5483d92e1a46fbc5e2bc2": {
          "model_module": "@jupyter-widgets/controls",
          "model_module_version": "1.5.0",
          "model_name": "DescriptionStyleModel",
          "state": {
            "_model_module": "@jupyter-widgets/controls",
            "_model_module_version": "1.5.0",
            "_model_name": "DescriptionStyleModel",
            "_view_count": null,
            "_view_module": "@jupyter-widgets/base",
            "_view_module_version": "1.2.0",
            "_view_name": "StyleView",
            "description_width": ""
          }
        },
        "acae6b2977e8457c906e5820d3abfe54": {
          "model_module": "@jupyter-widgets/controls",
          "model_module_version": "1.5.0",
          "model_name": "FloatProgressModel",
          "state": {
            "_dom_classes": [],
            "_model_module": "@jupyter-widgets/controls",
            "_model_module_version": "1.5.0",
            "_model_name": "FloatProgressModel",
            "_view_count": null,
            "_view_module": "@jupyter-widgets/controls",
            "_view_module_version": "1.5.0",
            "_view_name": "ProgressView",
            "bar_style": "success",
            "description": "",
            "description_tooltip": null,
            "layout": "IPY_MODEL_c1b515c69e5d4e5d84e51f1fd7a5e150",
            "max": 1,
            "min": 0,
            "orientation": "horizontal",
            "style": "IPY_MODEL_9f2a2d170b764c2ea202d85395b8b113",
            "value": 1
          }
        },
        "ad0b0c6e36df45a5adab104d320bdadd": {
          "model_module": "@jupyter-widgets/base",
          "model_module_version": "1.2.0",
          "model_name": "LayoutModel",
          "state": {
            "_model_module": "@jupyter-widgets/base",
            "_model_module_version": "1.2.0",
            "_model_name": "LayoutModel",
            "_view_count": null,
            "_view_module": "@jupyter-widgets/base",
            "_view_module_version": "1.2.0",
            "_view_name": "LayoutView",
            "align_content": null,
            "align_items": null,
            "align_self": null,
            "border": null,
            "bottom": null,
            "display": null,
            "flex": null,
            "flex_flow": null,
            "grid_area": null,
            "grid_auto_columns": null,
            "grid_auto_flow": null,
            "grid_auto_rows": null,
            "grid_column": null,
            "grid_gap": null,
            "grid_row": null,
            "grid_template_areas": null,
            "grid_template_columns": null,
            "grid_template_rows": null,
            "height": null,
            "justify_content": null,
            "justify_items": null,
            "left": null,
            "margin": null,
            "max_height": null,
            "max_width": null,
            "min_height": null,
            "min_width": null,
            "object_fit": null,
            "object_position": null,
            "order": null,
            "overflow": null,
            "overflow_x": null,
            "overflow_y": null,
            "padding": null,
            "right": null,
            "top": null,
            "visibility": null,
            "width": null
          }
        },
        "ae23157c99ec4d8785a1b0b64d7da701": {
          "model_module": "@jupyter-widgets/controls",
          "model_module_version": "1.5.0",
          "model_name": "FloatProgressModel",
          "state": {
            "_dom_classes": [],
            "_model_module": "@jupyter-widgets/controls",
            "_model_module_version": "1.5.0",
            "_model_name": "FloatProgressModel",
            "_view_count": null,
            "_view_module": "@jupyter-widgets/controls",
            "_view_module_version": "1.5.0",
            "_view_name": "ProgressView",
            "bar_style": "success",
            "description": "",
            "description_tooltip": null,
            "layout": "IPY_MODEL_455cd170f8fb4870b6ebad027ba5415d",
            "max": 1,
            "min": 0,
            "orientation": "horizontal",
            "style": "IPY_MODEL_ecf82ae6b01f40888727b50594796ef6",
            "value": 1
          }
        },
        "afba6cc51bbd4c41af91689f4a19e42a": {
          "model_module": "@jupyter-widgets/controls",
          "model_module_version": "1.5.0",
          "model_name": "DescriptionStyleModel",
          "state": {
            "_model_module": "@jupyter-widgets/controls",
            "_model_module_version": "1.5.0",
            "_model_name": "DescriptionStyleModel",
            "_view_count": null,
            "_view_module": "@jupyter-widgets/base",
            "_view_module_version": "1.2.0",
            "_view_name": "StyleView",
            "description_width": ""
          }
        },
        "b04b9bf343b047969e4f10770789b12d": {
          "model_module": "@jupyter-widgets/base",
          "model_module_version": "1.2.0",
          "model_name": "LayoutModel",
          "state": {
            "_model_module": "@jupyter-widgets/base",
            "_model_module_version": "1.2.0",
            "_model_name": "LayoutModel",
            "_view_count": null,
            "_view_module": "@jupyter-widgets/base",
            "_view_module_version": "1.2.0",
            "_view_name": "LayoutView",
            "align_content": null,
            "align_items": null,
            "align_self": null,
            "border": null,
            "bottom": null,
            "display": null,
            "flex": null,
            "flex_flow": null,
            "grid_area": null,
            "grid_auto_columns": null,
            "grid_auto_flow": null,
            "grid_auto_rows": null,
            "grid_column": null,
            "grid_gap": null,
            "grid_row": null,
            "grid_template_areas": null,
            "grid_template_columns": null,
            "grid_template_rows": null,
            "height": null,
            "justify_content": null,
            "justify_items": null,
            "left": null,
            "margin": null,
            "max_height": null,
            "max_width": null,
            "min_height": null,
            "min_width": null,
            "object_fit": null,
            "object_position": null,
            "order": null,
            "overflow": null,
            "overflow_x": null,
            "overflow_y": null,
            "padding": null,
            "right": null,
            "top": null,
            "visibility": null,
            "width": null
          }
        },
        "b4934f8d9a8f420d91dcc271a43fce16": {
          "model_module": "@jupyter-widgets/base",
          "model_module_version": "1.2.0",
          "model_name": "LayoutModel",
          "state": {
            "_model_module": "@jupyter-widgets/base",
            "_model_module_version": "1.2.0",
            "_model_name": "LayoutModel",
            "_view_count": null,
            "_view_module": "@jupyter-widgets/base",
            "_view_module_version": "1.2.0",
            "_view_name": "LayoutView",
            "align_content": null,
            "align_items": null,
            "align_self": null,
            "border": null,
            "bottom": null,
            "display": null,
            "flex": null,
            "flex_flow": null,
            "grid_area": null,
            "grid_auto_columns": null,
            "grid_auto_flow": null,
            "grid_auto_rows": null,
            "grid_column": null,
            "grid_gap": null,
            "grid_row": null,
            "grid_template_areas": null,
            "grid_template_columns": null,
            "grid_template_rows": null,
            "height": null,
            "justify_content": null,
            "justify_items": null,
            "left": null,
            "margin": null,
            "max_height": null,
            "max_width": null,
            "min_height": null,
            "min_width": null,
            "object_fit": null,
            "object_position": null,
            "order": null,
            "overflow": null,
            "overflow_x": null,
            "overflow_y": null,
            "padding": null,
            "right": null,
            "top": null,
            "visibility": null,
            "width": null
          }
        },
        "b4f61cc4fa1642aaaf0059c1391cf9b9": {
          "model_module": "@jupyter-widgets/controls",
          "model_module_version": "1.5.0",
          "model_name": "DescriptionStyleModel",
          "state": {
            "_model_module": "@jupyter-widgets/controls",
            "_model_module_version": "1.5.0",
            "_model_name": "DescriptionStyleModel",
            "_view_count": null,
            "_view_module": "@jupyter-widgets/base",
            "_view_module_version": "1.2.0",
            "_view_name": "StyleView",
            "description_width": ""
          }
        },
        "bbc46eb60e0844e08f014a1192cf9f7d": {
          "model_module": "@jupyter-widgets/controls",
          "model_module_version": "1.5.0",
          "model_name": "ProgressStyleModel",
          "state": {
            "_model_module": "@jupyter-widgets/controls",
            "_model_module_version": "1.5.0",
            "_model_name": "ProgressStyleModel",
            "_view_count": null,
            "_view_module": "@jupyter-widgets/base",
            "_view_module_version": "1.2.0",
            "_view_name": "StyleView",
            "bar_color": null,
            "description_width": ""
          }
        },
        "bd3b04a549ee49cc8cbc7e54d004183a": {
          "model_module": "@jupyter-widgets/controls",
          "model_module_version": "1.5.0",
          "model_name": "HTMLModel",
          "state": {
            "_dom_classes": [],
            "_model_module": "@jupyter-widgets/controls",
            "_model_module_version": "1.5.0",
            "_model_name": "HTMLModel",
            "_view_count": null,
            "_view_module": "@jupyter-widgets/controls",
            "_view_module_version": "1.5.0",
            "_view_name": "HTMLView",
            "description": "",
            "description_tooltip": null,
            "layout": "IPY_MODEL_71ff60f893dd4b44b9227bc7b7081bdf",
            "placeholder": "​",
            "style": "IPY_MODEL_1c0d4904b27742228e7b290657e81aca",
            "value": "100%"
          }
        },
        "bdbdc8569edd4b9ab4fa9219b4107a9c": {
          "model_module": "@jupyter-widgets/controls",
          "model_module_version": "1.5.0",
          "model_name": "HBoxModel",
          "state": {
            "_dom_classes": [],
            "_model_module": "@jupyter-widgets/controls",
            "_model_module_version": "1.5.0",
            "_model_name": "HBoxModel",
            "_view_count": null,
            "_view_module": "@jupyter-widgets/controls",
            "_view_module_version": "1.5.0",
            "_view_name": "HBoxView",
            "box_style": "",
            "children": [
              "IPY_MODEL_bd3b04a549ee49cc8cbc7e54d004183a",
              "IPY_MODEL_76a15ce356fd4ee6bb3107071f5bce7e",
              "IPY_MODEL_6e16a17ae4444adcbbd377395884e25b"
            ],
            "layout": "IPY_MODEL_65a2ff2403264c9aa453e61ec2e5b5af"
          }
        },
        "bea39d0132fd44bf94d531dcfb93ed29": {
          "model_module": "@jupyter-widgets/controls",
          "model_module_version": "1.5.0",
          "model_name": "HTMLModel",
          "state": {
            "_dom_classes": [],
            "_model_module": "@jupyter-widgets/controls",
            "_model_module_version": "1.5.0",
            "_model_name": "HTMLModel",
            "_view_count": null,
            "_view_module": "@jupyter-widgets/controls",
            "_view_module_version": "1.5.0",
            "_view_name": "HTMLView",
            "description": "",
            "description_tooltip": null,
            "layout": "IPY_MODEL_6f0c3707bb8b4b5381930ac3707bc4a7",
            "placeholder": "​",
            "style": "IPY_MODEL_c79b7310cb07405b8f07930f4d870e71",
            "value": " 1/1 [00:05&lt;00:00,  5.40s/it]"
          }
        },
        "bfdc36daec824bc7a53784d82c007061": {
          "model_module": "@jupyter-widgets/controls",
          "model_module_version": "1.5.0",
          "model_name": "DescriptionStyleModel",
          "state": {
            "_model_module": "@jupyter-widgets/controls",
            "_model_module_version": "1.5.0",
            "_model_name": "DescriptionStyleModel",
            "_view_count": null,
            "_view_module": "@jupyter-widgets/base",
            "_view_module_version": "1.2.0",
            "_view_name": "StyleView",
            "description_width": ""
          }
        },
        "c1b515c69e5d4e5d84e51f1fd7a5e150": {
          "model_module": "@jupyter-widgets/base",
          "model_module_version": "1.2.0",
          "model_name": "LayoutModel",
          "state": {
            "_model_module": "@jupyter-widgets/base",
            "_model_module_version": "1.2.0",
            "_model_name": "LayoutModel",
            "_view_count": null,
            "_view_module": "@jupyter-widgets/base",
            "_view_module_version": "1.2.0",
            "_view_name": "LayoutView",
            "align_content": null,
            "align_items": null,
            "align_self": null,
            "border": null,
            "bottom": null,
            "display": null,
            "flex": null,
            "flex_flow": null,
            "grid_area": null,
            "grid_auto_columns": null,
            "grid_auto_flow": null,
            "grid_auto_rows": null,
            "grid_column": null,
            "grid_gap": null,
            "grid_row": null,
            "grid_template_areas": null,
            "grid_template_columns": null,
            "grid_template_rows": null,
            "height": null,
            "justify_content": null,
            "justify_items": null,
            "left": null,
            "margin": null,
            "max_height": null,
            "max_width": null,
            "min_height": null,
            "min_width": null,
            "object_fit": null,
            "object_position": null,
            "order": null,
            "overflow": null,
            "overflow_x": null,
            "overflow_y": null,
            "padding": null,
            "right": null,
            "top": null,
            "visibility": null,
            "width": null
          }
        },
        "c28f0c7f24c143e7ae35bbc134d15754": {
          "model_module": "@jupyter-widgets/controls",
          "model_module_version": "1.5.0",
          "model_name": "HTMLModel",
          "state": {
            "_dom_classes": [],
            "_model_module": "@jupyter-widgets/controls",
            "_model_module_version": "1.5.0",
            "_model_name": "HTMLModel",
            "_view_count": null,
            "_view_module": "@jupyter-widgets/controls",
            "_view_module_version": "1.5.0",
            "_view_name": "HTMLView",
            "description": "",
            "description_tooltip": null,
            "layout": "IPY_MODEL_6415bfe0abe14772b8cdd571d56f5090",
            "placeholder": "​",
            "style": "IPY_MODEL_3c0b585d59564158a9da95a4f8efc5ef",
            "value": "100%"
          }
        },
        "c424c78e1d3a4c3194861f3c79711f05": {
          "model_module": "@jupyter-widgets/controls",
          "model_module_version": "1.5.0",
          "model_name": "FloatProgressModel",
          "state": {
            "_dom_classes": [],
            "_model_module": "@jupyter-widgets/controls",
            "_model_module_version": "1.5.0",
            "_model_name": "FloatProgressModel",
            "_view_count": null,
            "_view_module": "@jupyter-widgets/controls",
            "_view_module_version": "1.5.0",
            "_view_name": "ProgressView",
            "bar_style": "success",
            "description": "",
            "description_tooltip": null,
            "layout": "IPY_MODEL_979c44a078c94523a6d6be88f35f026a",
            "max": 1,
            "min": 0,
            "orientation": "horizontal",
            "style": "IPY_MODEL_376db6ac80794154aeb1c02687f96ed1",
            "value": 1
          }
        },
        "c6e5037b5b2a43e6b0a4c67670d35392": {
          "model_module": "@jupyter-widgets/base",
          "model_module_version": "1.2.0",
          "model_name": "LayoutModel",
          "state": {
            "_model_module": "@jupyter-widgets/base",
            "_model_module_version": "1.2.0",
            "_model_name": "LayoutModel",
            "_view_count": null,
            "_view_module": "@jupyter-widgets/base",
            "_view_module_version": "1.2.0",
            "_view_name": "LayoutView",
            "align_content": null,
            "align_items": null,
            "align_self": null,
            "border": null,
            "bottom": null,
            "display": null,
            "flex": null,
            "flex_flow": null,
            "grid_area": null,
            "grid_auto_columns": null,
            "grid_auto_flow": null,
            "grid_auto_rows": null,
            "grid_column": null,
            "grid_gap": null,
            "grid_row": null,
            "grid_template_areas": null,
            "grid_template_columns": null,
            "grid_template_rows": null,
            "height": null,
            "justify_content": null,
            "justify_items": null,
            "left": null,
            "margin": null,
            "max_height": null,
            "max_width": null,
            "min_height": null,
            "min_width": null,
            "object_fit": null,
            "object_position": null,
            "order": null,
            "overflow": null,
            "overflow_x": null,
            "overflow_y": null,
            "padding": null,
            "right": null,
            "top": null,
            "visibility": null,
            "width": null
          }
        },
        "c79b7310cb07405b8f07930f4d870e71": {
          "model_module": "@jupyter-widgets/controls",
          "model_module_version": "1.5.0",
          "model_name": "DescriptionStyleModel",
          "state": {
            "_model_module": "@jupyter-widgets/controls",
            "_model_module_version": "1.5.0",
            "_model_name": "DescriptionStyleModel",
            "_view_count": null,
            "_view_module": "@jupyter-widgets/base",
            "_view_module_version": "1.2.0",
            "_view_name": "StyleView",
            "description_width": ""
          }
        },
        "c878e1a7b4ac43128b4e76bc432fc438": {
          "model_module": "@jupyter-widgets/base",
          "model_module_version": "1.2.0",
          "model_name": "LayoutModel",
          "state": {
            "_model_module": "@jupyter-widgets/base",
            "_model_module_version": "1.2.0",
            "_model_name": "LayoutModel",
            "_view_count": null,
            "_view_module": "@jupyter-widgets/base",
            "_view_module_version": "1.2.0",
            "_view_name": "LayoutView",
            "align_content": null,
            "align_items": null,
            "align_self": null,
            "border": null,
            "bottom": null,
            "display": null,
            "flex": null,
            "flex_flow": null,
            "grid_area": null,
            "grid_auto_columns": null,
            "grid_auto_flow": null,
            "grid_auto_rows": null,
            "grid_column": null,
            "grid_gap": null,
            "grid_row": null,
            "grid_template_areas": null,
            "grid_template_columns": null,
            "grid_template_rows": null,
            "height": null,
            "justify_content": null,
            "justify_items": null,
            "left": null,
            "margin": null,
            "max_height": null,
            "max_width": null,
            "min_height": null,
            "min_width": null,
            "object_fit": null,
            "object_position": null,
            "order": null,
            "overflow": null,
            "overflow_x": null,
            "overflow_y": null,
            "padding": null,
            "right": null,
            "top": null,
            "visibility": null,
            "width": null
          }
        },
        "d0079dd038634edea1c5c05832924eb3": {
          "model_module": "@jupyter-widgets/controls",
          "model_module_version": "1.5.0",
          "model_name": "ProgressStyleModel",
          "state": {
            "_model_module": "@jupyter-widgets/controls",
            "_model_module_version": "1.5.0",
            "_model_name": "ProgressStyleModel",
            "_view_count": null,
            "_view_module": "@jupyter-widgets/base",
            "_view_module_version": "1.2.0",
            "_view_name": "StyleView",
            "bar_color": null,
            "description_width": ""
          }
        },
        "d1f11df9d9d54e828f3d8ea1c003401a": {
          "model_module": "@jupyter-widgets/controls",
          "model_module_version": "1.5.0",
          "model_name": "ProgressStyleModel",
          "state": {
            "_model_module": "@jupyter-widgets/controls",
            "_model_module_version": "1.5.0",
            "_model_name": "ProgressStyleModel",
            "_view_count": null,
            "_view_module": "@jupyter-widgets/base",
            "_view_module_version": "1.2.0",
            "_view_name": "StyleView",
            "bar_color": null,
            "description_width": ""
          }
        },
        "d244b85c7f4145dca8cd4b273be66b99": {
          "model_module": "@jupyter-widgets/controls",
          "model_module_version": "1.5.0",
          "model_name": "DescriptionStyleModel",
          "state": {
            "_model_module": "@jupyter-widgets/controls",
            "_model_module_version": "1.5.0",
            "_model_name": "DescriptionStyleModel",
            "_view_count": null,
            "_view_module": "@jupyter-widgets/base",
            "_view_module_version": "1.2.0",
            "_view_name": "StyleView",
            "description_width": ""
          }
        },
        "d4564b7618a74d32aa8a2a9b597acfa0": {
          "model_module": "@jupyter-widgets/controls",
          "model_module_version": "1.5.0",
          "model_name": "HTMLModel",
          "state": {
            "_dom_classes": [],
            "_model_module": "@jupyter-widgets/controls",
            "_model_module_version": "1.5.0",
            "_model_name": "HTMLModel",
            "_view_count": null,
            "_view_module": "@jupyter-widgets/controls",
            "_view_module_version": "1.5.0",
            "_view_name": "HTMLView",
            "description": "",
            "description_tooltip": null,
            "layout": "IPY_MODEL_756a752940174c9f8e5834aba4851ba6",
            "placeholder": "​",
            "style": "IPY_MODEL_74cf0d71d9c34f01aee1580a2816672a",
            "value": "100%"
          }
        },
        "d71536a850314a21be9bc849212fe23b": {
          "model_module": "@jupyter-widgets/base",
          "model_module_version": "1.2.0",
          "model_name": "LayoutModel",
          "state": {
            "_model_module": "@jupyter-widgets/base",
            "_model_module_version": "1.2.0",
            "_model_name": "LayoutModel",
            "_view_count": null,
            "_view_module": "@jupyter-widgets/base",
            "_view_module_version": "1.2.0",
            "_view_name": "LayoutView",
            "align_content": null,
            "align_items": null,
            "align_self": null,
            "border": null,
            "bottom": null,
            "display": null,
            "flex": null,
            "flex_flow": null,
            "grid_area": null,
            "grid_auto_columns": null,
            "grid_auto_flow": null,
            "grid_auto_rows": null,
            "grid_column": null,
            "grid_gap": null,
            "grid_row": null,
            "grid_template_areas": null,
            "grid_template_columns": null,
            "grid_template_rows": null,
            "height": null,
            "justify_content": null,
            "justify_items": null,
            "left": null,
            "margin": null,
            "max_height": null,
            "max_width": null,
            "min_height": null,
            "min_width": null,
            "object_fit": null,
            "object_position": null,
            "order": null,
            "overflow": null,
            "overflow_x": null,
            "overflow_y": null,
            "padding": null,
            "right": null,
            "top": null,
            "visibility": null,
            "width": null
          }
        },
        "d943df4b66144e7b94070ca6b046ff96": {
          "model_module": "@jupyter-widgets/controls",
          "model_module_version": "1.5.0",
          "model_name": "DescriptionStyleModel",
          "state": {
            "_model_module": "@jupyter-widgets/controls",
            "_model_module_version": "1.5.0",
            "_model_name": "DescriptionStyleModel",
            "_view_count": null,
            "_view_module": "@jupyter-widgets/base",
            "_view_module_version": "1.2.0",
            "_view_name": "StyleView",
            "description_width": ""
          }
        },
        "ddb73368a6d94f89b60fcf74094c8e44": {
          "model_module": "@jupyter-widgets/controls",
          "model_module_version": "1.5.0",
          "model_name": "ProgressStyleModel",
          "state": {
            "_model_module": "@jupyter-widgets/controls",
            "_model_module_version": "1.5.0",
            "_model_name": "ProgressStyleModel",
            "_view_count": null,
            "_view_module": "@jupyter-widgets/base",
            "_view_module_version": "1.2.0",
            "_view_name": "StyleView",
            "bar_color": null,
            "description_width": ""
          }
        },
        "e234055105f94c6384c0f5d5d604cf7d": {
          "model_module": "@jupyter-widgets/controls",
          "model_module_version": "1.5.0",
          "model_name": "HTMLModel",
          "state": {
            "_dom_classes": [],
            "_model_module": "@jupyter-widgets/controls",
            "_model_module_version": "1.5.0",
            "_model_name": "HTMLModel",
            "_view_count": null,
            "_view_module": "@jupyter-widgets/controls",
            "_view_module_version": "1.5.0",
            "_view_name": "HTMLView",
            "description": "",
            "description_tooltip": null,
            "layout": "IPY_MODEL_9e39290c390841acb1fba18ef8b8b5b4",
            "placeholder": "​",
            "style": "IPY_MODEL_7396d34983824c438aede81d90c53b3e",
            "value": "100%"
          }
        },
        "e336e6856a1849f5ad1114016f043b59": {
          "model_module": "@jupyter-widgets/controls",
          "model_module_version": "1.5.0",
          "model_name": "DescriptionStyleModel",
          "state": {
            "_model_module": "@jupyter-widgets/controls",
            "_model_module_version": "1.5.0",
            "_model_name": "DescriptionStyleModel",
            "_view_count": null,
            "_view_module": "@jupyter-widgets/base",
            "_view_module_version": "1.2.0",
            "_view_name": "StyleView",
            "description_width": ""
          }
        },
        "e5adabc51b294dd184451a1cb9d6cb68": {
          "model_module": "@jupyter-widgets/controls",
          "model_module_version": "1.5.0",
          "model_name": "DescriptionStyleModel",
          "state": {
            "_model_module": "@jupyter-widgets/controls",
            "_model_module_version": "1.5.0",
            "_model_name": "DescriptionStyleModel",
            "_view_count": null,
            "_view_module": "@jupyter-widgets/base",
            "_view_module_version": "1.2.0",
            "_view_name": "StyleView",
            "description_width": ""
          }
        },
        "e5d5c412687e4526897d7651095a72d8": {
          "model_module": "@jupyter-widgets/controls",
          "model_module_version": "1.5.0",
          "model_name": "HTMLModel",
          "state": {
            "_dom_classes": [],
            "_model_module": "@jupyter-widgets/controls",
            "_model_module_version": "1.5.0",
            "_model_name": "HTMLModel",
            "_view_count": null,
            "_view_module": "@jupyter-widgets/controls",
            "_view_module_version": "1.5.0",
            "_view_name": "HTMLView",
            "description": "",
            "description_tooltip": null,
            "layout": "IPY_MODEL_324d13abf54c445fa482a6077a96e8f0",
            "placeholder": "​",
            "style": "IPY_MODEL_a146b039512141c3a0c2b57af8e7b869",
            "value": "100%"
          }
        },
        "e6cd87ae6c4e478a83b9cdee3d3dc7e0": {
          "model_module": "@jupyter-widgets/controls",
          "model_module_version": "1.5.0",
          "model_name": "FloatProgressModel",
          "state": {
            "_dom_classes": [],
            "_model_module": "@jupyter-widgets/controls",
            "_model_module_version": "1.5.0",
            "_model_name": "FloatProgressModel",
            "_view_count": null,
            "_view_module": "@jupyter-widgets/controls",
            "_view_module_version": "1.5.0",
            "_view_name": "ProgressView",
            "bar_style": "success",
            "description": "",
            "description_tooltip": null,
            "layout": "IPY_MODEL_499a866b9c1943de8a645f30fa3e1165",
            "max": 1,
            "min": 0,
            "orientation": "horizontal",
            "style": "IPY_MODEL_fb715de92a5343d2a386d73374fc063a",
            "value": 1
          }
        },
        "ecf82ae6b01f40888727b50594796ef6": {
          "model_module": "@jupyter-widgets/controls",
          "model_module_version": "1.5.0",
          "model_name": "ProgressStyleModel",
          "state": {
            "_model_module": "@jupyter-widgets/controls",
            "_model_module_version": "1.5.0",
            "_model_name": "ProgressStyleModel",
            "_view_count": null,
            "_view_module": "@jupyter-widgets/base",
            "_view_module_version": "1.2.0",
            "_view_name": "StyleView",
            "bar_color": null,
            "description_width": ""
          }
        },
        "ef27c22cd4e44309851548f2664593b4": {
          "model_module": "@jupyter-widgets/controls",
          "model_module_version": "1.5.0",
          "model_name": "HBoxModel",
          "state": {
            "_dom_classes": [],
            "_model_module": "@jupyter-widgets/controls",
            "_model_module_version": "1.5.0",
            "_model_name": "HBoxModel",
            "_view_count": null,
            "_view_module": "@jupyter-widgets/controls",
            "_view_module_version": "1.5.0",
            "_view_name": "HBoxView",
            "box_style": "",
            "children": [
              "IPY_MODEL_a8d064df75104da2856a42fb8644ea44",
              "IPY_MODEL_292441c7c9a846aa9a032b4ca7a0dee3",
              "IPY_MODEL_7b998daae8fc4653bc608c276b0f1a0d"
            ],
            "layout": "IPY_MODEL_7a4e50d77351443ebc24c80991ed41b4"
          }
        },
        "f0349c3fcc6547baa08412ba9e9226cb": {
          "model_module": "@jupyter-widgets/controls",
          "model_module_version": "1.5.0",
          "model_name": "HBoxModel",
          "state": {
            "_dom_classes": [],
            "_model_module": "@jupyter-widgets/controls",
            "_model_module_version": "1.5.0",
            "_model_name": "HBoxModel",
            "_view_count": null,
            "_view_module": "@jupyter-widgets/controls",
            "_view_module_version": "1.5.0",
            "_view_name": "HBoxView",
            "box_style": "",
            "children": [
              "IPY_MODEL_d4564b7618a74d32aa8a2a9b597acfa0",
              "IPY_MODEL_ae23157c99ec4d8785a1b0b64d7da701",
              "IPY_MODEL_3cdcf0cc071c499a9ef39f3dafe09a12"
            ],
            "layout": "IPY_MODEL_8c821359b7be40c18a3c176ef1b22b1c"
          }
        },
        "f0b2effec4574b268874207b3b4e6097": {
          "model_module": "@jupyter-widgets/base",
          "model_module_version": "1.2.0",
          "model_name": "LayoutModel",
          "state": {
            "_model_module": "@jupyter-widgets/base",
            "_model_module_version": "1.2.0",
            "_model_name": "LayoutModel",
            "_view_count": null,
            "_view_module": "@jupyter-widgets/base",
            "_view_module_version": "1.2.0",
            "_view_name": "LayoutView",
            "align_content": null,
            "align_items": null,
            "align_self": null,
            "border": null,
            "bottom": null,
            "display": null,
            "flex": null,
            "flex_flow": null,
            "grid_area": null,
            "grid_auto_columns": null,
            "grid_auto_flow": null,
            "grid_auto_rows": null,
            "grid_column": null,
            "grid_gap": null,
            "grid_row": null,
            "grid_template_areas": null,
            "grid_template_columns": null,
            "grid_template_rows": null,
            "height": null,
            "justify_content": null,
            "justify_items": null,
            "left": null,
            "margin": null,
            "max_height": null,
            "max_width": null,
            "min_height": null,
            "min_width": null,
            "object_fit": null,
            "object_position": null,
            "order": null,
            "overflow": null,
            "overflow_x": null,
            "overflow_y": null,
            "padding": null,
            "right": null,
            "top": null,
            "visibility": null,
            "width": null
          }
        },
        "f8bb60843299493499c649e05c7db657": {
          "model_module": "@jupyter-widgets/controls",
          "model_module_version": "1.5.0",
          "model_name": "DescriptionStyleModel",
          "state": {
            "_model_module": "@jupyter-widgets/controls",
            "_model_module_version": "1.5.0",
            "_model_name": "DescriptionStyleModel",
            "_view_count": null,
            "_view_module": "@jupyter-widgets/base",
            "_view_module_version": "1.2.0",
            "_view_name": "StyleView",
            "description_width": ""
          }
        },
        "fb715de92a5343d2a386d73374fc063a": {
          "model_module": "@jupyter-widgets/controls",
          "model_module_version": "1.5.0",
          "model_name": "ProgressStyleModel",
          "state": {
            "_model_module": "@jupyter-widgets/controls",
            "_model_module_version": "1.5.0",
            "_model_name": "ProgressStyleModel",
            "_view_count": null,
            "_view_module": "@jupyter-widgets/base",
            "_view_module_version": "1.2.0",
            "_view_name": "StyleView",
            "bar_color": null,
            "description_width": ""
          }
        },
        "fd2447e9261a4b5ba9395a3334fa85dd": {
          "model_module": "@jupyter-widgets/controls",
          "model_module_version": "1.5.0",
          "model_name": "HTMLModel",
          "state": {
            "_dom_classes": [],
            "_model_module": "@jupyter-widgets/controls",
            "_model_module_version": "1.5.0",
            "_model_name": "HTMLModel",
            "_view_count": null,
            "_view_module": "@jupyter-widgets/controls",
            "_view_module_version": "1.5.0",
            "_view_name": "HTMLView",
            "description": "",
            "description_tooltip": null,
            "layout": "IPY_MODEL_3504444a721d478883355ca4cbf1bfae",
            "placeholder": "​",
            "style": "IPY_MODEL_f8bb60843299493499c649e05c7db657",
            "value": " 1/1 [00:03&lt;00:00,  3.43s/it]"
          }
        },
        "fd3666c46a694661859e05d54c813e9e": {
          "model_module": "@jupyter-widgets/base",
          "model_module_version": "1.2.0",
          "model_name": "LayoutModel",
          "state": {
            "_model_module": "@jupyter-widgets/base",
            "_model_module_version": "1.2.0",
            "_model_name": "LayoutModel",
            "_view_count": null,
            "_view_module": "@jupyter-widgets/base",
            "_view_module_version": "1.2.0",
            "_view_name": "LayoutView",
            "align_content": null,
            "align_items": null,
            "align_self": null,
            "border": null,
            "bottom": null,
            "display": null,
            "flex": null,
            "flex_flow": null,
            "grid_area": null,
            "grid_auto_columns": null,
            "grid_auto_flow": null,
            "grid_auto_rows": null,
            "grid_column": null,
            "grid_gap": null,
            "grid_row": null,
            "grid_template_areas": null,
            "grid_template_columns": null,
            "grid_template_rows": null,
            "height": null,
            "justify_content": null,
            "justify_items": null,
            "left": null,
            "margin": null,
            "max_height": null,
            "max_width": null,
            "min_height": null,
            "min_width": null,
            "object_fit": null,
            "object_position": null,
            "order": null,
            "overflow": null,
            "overflow_x": null,
            "overflow_y": null,
            "padding": null,
            "right": null,
            "top": null,
            "visibility": null,
            "width": null
          }
        },
        "fe0c685358294bb5b1a77230165ca0be": {
          "model_module": "@jupyter-widgets/controls",
          "model_module_version": "1.5.0",
          "model_name": "HTMLModel",
          "state": {
            "_dom_classes": [],
            "_model_module": "@jupyter-widgets/controls",
            "_model_module_version": "1.5.0",
            "_model_name": "HTMLModel",
            "_view_count": null,
            "_view_module": "@jupyter-widgets/controls",
            "_view_module_version": "1.5.0",
            "_view_name": "HTMLView",
            "description": "",
            "description_tooltip": null,
            "layout": "IPY_MODEL_fd3666c46a694661859e05d54c813e9e",
            "placeholder": "​",
            "style": "IPY_MODEL_7adedcbc77a94d5382e05dacc9de1c7f",
            "value": "100%"
          }
        },
        "ff6f476df7274940b345744963ca4503": {
          "model_module": "@jupyter-widgets/base",
          "model_module_version": "1.2.0",
          "model_name": "LayoutModel",
          "state": {
            "_model_module": "@jupyter-widgets/base",
            "_model_module_version": "1.2.0",
            "_model_name": "LayoutModel",
            "_view_count": null,
            "_view_module": "@jupyter-widgets/base",
            "_view_module_version": "1.2.0",
            "_view_name": "LayoutView",
            "align_content": null,
            "align_items": null,
            "align_self": null,
            "border": null,
            "bottom": null,
            "display": null,
            "flex": null,
            "flex_flow": null,
            "grid_area": null,
            "grid_auto_columns": null,
            "grid_auto_flow": null,
            "grid_auto_rows": null,
            "grid_column": null,
            "grid_gap": null,
            "grid_row": null,
            "grid_template_areas": null,
            "grid_template_columns": null,
            "grid_template_rows": null,
            "height": null,
            "justify_content": null,
            "justify_items": null,
            "left": null,
            "margin": null,
            "max_height": null,
            "max_width": null,
            "min_height": null,
            "min_width": null,
            "object_fit": null,
            "object_position": null,
            "order": null,
            "overflow": null,
            "overflow_x": null,
            "overflow_y": null,
            "padding": null,
            "right": null,
            "top": null,
            "visibility": null,
            "width": null
          }
        }
      }
    }
  },
  "nbformat": 4,
  "nbformat_minor": 0
}
