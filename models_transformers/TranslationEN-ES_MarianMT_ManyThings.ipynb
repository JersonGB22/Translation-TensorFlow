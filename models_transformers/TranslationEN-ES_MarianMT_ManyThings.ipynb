{
  "cells": [
    {
      "cell_type": "markdown",
      "metadata": {
        "id": "ezzKLPtx8S6C"
      },
      "source": [
        "# **Text Translation with MarianMT**"
      ]
    },
    {
      "cell_type": "markdown",
      "metadata": {
        "id": "JhhWum6YU8kN"
      },
      "source": [
        "This notebook demonstrates the implementation of a text translation model from English to Spanish using the [``Helsinki-NLP/opus-mt-en-es``](https://huggingface.co/Helsinki-NLP/opus-mt-en-es) model, available on [Hugging Face 🤗](https://huggingface.co/). This model is a variant of [MarianMT](https://huggingface.co/docs/transformers/model_doc/marian) fine-tuned with the [OPUS eng-spa dataset](https://github.com/Helsinki-NLP/Tatoeba-Challenge/blob/master/models/eng-spa/README.md). To further enhance performance and compare results with the [LSTM with Attention model](https://github.com/JersonGB22/Translation-TensorFlow/blob/main/models_lstm/TranslationEN-ES_LSTMAttention_ManyThings.ipynb), a second fine-tuning is performed using the [ManyThings dataset](https://www.manythings.org/anki/), specifically focusing on the Spanish-English pair, which currently contains 141,543 records.\n",
        "\n",
        "Hugging Face is renowned for its platform focused on developing tools and models for natural language processing (NLP). Its open-source library, Transformers, facilitates working with advanced pre-trained NLP models such as BERT, T5, GPT, among others."
      ]
    },
    {
      "cell_type": "markdown",
      "metadata": {
        "id": "43AY8jCC8cp-"
      },
      "source": [
        "## **Imports**"
      ]
    },
    {
      "cell_type": "code",
      "execution_count": null,
      "metadata": {
        "id": "-nk3W0-mi7Cf"
      },
      "outputs": [],
      "source": [
        "# Install the libraries to evaluate the translation\n",
        "!pip install evaluate -q\n",
        "!pip install sacrebleu -q\n",
        "\n",
        "# Install the Hugging Face datasets library\n",
        "!pip install datasets -q"
      ]
    },
    {
      "cell_type": "code",
      "execution_count": 2,
      "metadata": {
        "id": "c0d_8XPxoi92"
      },
      "outputs": [],
      "source": [
        "import tensorflow as tf\n",
        "import os\n",
        "os.environ[\"TF_USE_LEGACY_KERAS\"] = \"1\"\n",
        "\n",
        "from transformers import AutoTokenizer, TFAutoModelForSeq2SeqLM, DataCollatorForSeq2Seq\n",
        "from datasets import Dataset\n",
        "from evaluate import load\n",
        "import numpy as np\n",
        "import re\n",
        "import plotly.graph_objects as go\n",
        "from google.colab import drive\n",
        "from IPython.core.display import HTML\n",
        "import textwrap\n",
        "from tqdm.auto import tqdm"
      ]
    },
    {
      "cell_type": "markdown",
      "metadata": {
        "id": "piIYd5Nl-8SX"
      },
      "source": [
        "## **Parameters**"
      ]
    },
    {
      "cell_type": "code",
      "execution_count": 3,
      "metadata": {
        "colab": {
          "base_uri": "https://localhost:8080/"
        },
        "id": "sFOW9rH6TXpW",
        "outputId": "7363989f-5e05-477e-824a-b4056287a867"
      },
      "outputs": [
        {
          "output_type": "stream",
          "name": "stdout",
          "text": [
            "Mounted at /content/drive/\n"
          ]
        }
      ],
      "source": [
        "drive.mount(\"/content/drive/\")"
      ]
    },
    {
      "cell_type": "code",
      "execution_count": 4,
      "metadata": {
        "id": "eG-hJMUdRw6y"
      },
      "outputs": [],
      "source": [
        "model_name = \"Helsinki-NLP/opus-mt-en-es\"\n",
        "batch_size = 32\n",
        "AUTOTUNE = tf.data.AUTOTUNE\n",
        "SEED = 123\n",
        "epochs = 5"
      ]
    },
    {
      "cell_type": "markdown",
      "metadata": {
        "id": "2Jb1Tnf8-6m3"
      },
      "source": [
        "## **Load and Preprocess the Dataset**"
      ]
    },
    {
      "cell_type": "code",
      "source": [
        "data_url = \"https://www.manythings.org/anki/spa-eng.zip\"\n",
        "\n",
        "# Download dataset\n",
        "!wget -q $data_url\n",
        "\n",
        "# Unzip the dataset\n",
        "!unzip -q /content/spa-eng.zip"
      ],
      "metadata": {
        "id": "qazk7CFqYBlx"
      },
      "execution_count": null,
      "outputs": []
    },
    {
      "cell_type": "markdown",
      "source": [
        "In the dataset, the initial records are short and progressively increase in length, so the later records are longer."
      ],
      "metadata": {
        "id": "GXGcw3UO4dh6"
      }
    },
    {
      "cell_type": "code",
      "source": [
        "def load_data(path):\n",
        "  contexts, targets = [], []\n",
        "  with open(path, \"r\") as file:\n",
        "    for line in file:\n",
        "      line = line.split(\"\\t\")\n",
        "      contexts.append(line[0])\n",
        "      targets.append(line[1])\n",
        "\n",
        "  dataset = Dataset.from_dict({\n",
        "      \"en\": contexts,\n",
        "      \"es\": targets\n",
        "  })\n",
        "  return dataset"
      ],
      "metadata": {
        "id": "6V-EzdYwYpCM"
      },
      "execution_count": null,
      "outputs": []
    },
    {
      "cell_type": "code",
      "source": [
        "dataset = load_data(\"/content/spa.txt\")\n",
        "dataset"
      ],
      "metadata": {
        "colab": {
          "base_uri": "https://localhost:8080/"
        },
        "id": "XrvWaW5CZqNG",
        "outputId": "b497613b-fb15-4957-deb7-e309d8404340"
      },
      "execution_count": null,
      "outputs": [
        {
          "output_type": "execute_result",
          "data": {
            "text/plain": [
              "Dataset({\n",
              "    features: ['en', 'es'],\n",
              "    num_rows: 141543\n",
              "})"
            ]
          },
          "metadata": {},
          "execution_count": 7
        }
      ]
    },
    {
      "cell_type": "code",
      "source": [
        "# Viewing the first 10 examples\n",
        "print(dataset[:10])"
      ],
      "metadata": {
        "colab": {
          "base_uri": "https://localhost:8080/"
        },
        "id": "bSrzMY0wbz_r",
        "outputId": "8297efce-a03b-4956-8ae1-4a93594b36f3"
      },
      "execution_count": null,
      "outputs": [
        {
          "output_type": "stream",
          "name": "stdout",
          "text": [
            "{'en': ['Go.', 'Go.', 'Go.', 'Go.', 'Hi.', 'Run!', 'Run!', 'Run!', 'Run!', 'Run!'], 'es': ['Ve.', 'Vete.', 'Vaya.', 'Váyase.', 'Hola.', '¡Corre!', '¡Corran!', '¡Huye!', '¡Corra!', '¡Corred!']}\n"
          ]
        }
      ]
    },
    {
      "cell_type": "markdown",
      "metadata": {
        "id": "GcTHo3vVVrv9"
      },
      "source": [
        "### **Text Tokenization**"
      ]
    },
    {
      "cell_type": "markdown",
      "metadata": {
        "id": "EFGIIzBIKw2F"
      },
      "source": [
        "The [AutoTokenizer](https://huggingface.co/docs/transformers/model_doc/auto#transformers.AutoTokenizer) from Hugging Face is used for tokenization, allowing the creation of a tokenizer instance based solely on the model's name. In this translation task, both the source and target language texts are tokenized. The tokenizer outputs `input_ids` (tokens of the English text), `attention_mask` (a mask to ignore padding token indices), and `labels` (tokens of the Spanish text, appropriately prepared for training)."
      ]
    },
    {
      "cell_type": "code",
      "source": [
        "tokenizer = AutoTokenizer.from_pretrained(model_name, use_fast=True)\n",
        "tokenizer"
      ],
      "metadata": {
        "colab": {
          "base_uri": "https://localhost:8080/"
        },
        "id": "6bQZY1ugteRi",
        "outputId": "0506b22e-53aa-49fc-da01-7230b45074eb"
      },
      "execution_count": 6,
      "outputs": [
        {
          "output_type": "execute_result",
          "data": {
            "text/plain": [
              "MarianTokenizer(name_or_path='Helsinki-NLP/opus-mt-en-es', vocab_size=65001, model_max_length=512, is_fast=False, padding_side='right', truncation_side='right', special_tokens={'eos_token': '</s>', 'unk_token': '<unk>', 'pad_token': '<pad>'}, clean_up_tokenization_spaces=True),  added_tokens_decoder={\n",
              "\t0: AddedToken(\"</s>\", rstrip=False, lstrip=False, single_word=False, normalized=False, special=True),\n",
              "\t1: AddedToken(\"<unk>\", rstrip=False, lstrip=False, single_word=False, normalized=False, special=True),\n",
              "\t65000: AddedToken(\"<pad>\", rstrip=False, lstrip=False, single_word=False, normalized=False, special=True),\n",
              "}"
            ]
          },
          "metadata": {},
          "execution_count": 6
        }
      ]
    },
    {
      "cell_type": "code",
      "execution_count": null,
      "metadata": {
        "colab": {
          "base_uri": "https://localhost:8080/"
        },
        "id": "YrGsMRKQSXZA",
        "outputId": "7491d5e8-50b5-4608-85f0-8f4dedd14f5a"
      },
      "outputs": [
        {
          "output_type": "stream",
          "name": "stdout",
          "text": [
            "Input Ids:\n",
            "[1079, 502, 2, 33, 30181, 141, 13, 634, 27, 386, 115, 882, 4534, 35, 125, 1883, 3, 33, 36149, 96, 48, 843, 3, 42, 1063, 502, 2, 33, 908, 27, 386, 115, 882, 48, 450, 35, 125, 1883, 2, 147, 33, 36149, 96, 48, 843, 903, 3, 639, 5, 1118, 502, 2, 208, 33, 908, 27, 386, 115, 882, 4534, 450, 35, 125, 1883, 903, 2, 33, 1845, 13, 965, 386, 65, 119, 327, 3, 335, 20, 9, 969, 33, 65, 8, 38410, 3, 0]\n",
            "\n",
            "Tokens:\n",
            "['▁One', '▁day', ',', '▁I', '▁woke', '▁up', '▁to', '▁find', '▁that', '▁God', '▁had', '▁put', '▁hair', '▁on', '▁my', '▁face', '.', '▁I', '▁shave', 'd', '▁it', '▁off', '.', '▁The', '▁next', '▁day', ',', '▁I', '▁found', '▁that', '▁God', '▁had', '▁put', '▁it', '▁back', '▁on', '▁my', '▁face', ',', '▁so', '▁I', '▁shave', 'd', '▁it', '▁off', '▁again', '.', '▁On', '▁the', '▁third', '▁day', ',', '▁when', '▁I', '▁found', '▁that', '▁God', '▁had', '▁put', '▁hair', '▁back', '▁on', '▁my', '▁face', '▁again', ',', '▁I', '▁decided', '▁to', '▁let', '▁God', '▁have', '▁his', '▁way', '.', '▁That', \"'\", 's', '▁why', '▁I', '▁have', '▁a', '▁beard', '.', '</s>']\n",
            "\n",
            "Decoded Text without Special Tokens:\n",
            "One day, I woke up to find that God had put hair on my face. I shaved it off. The next day, I found\n",
            "that God had put it back on my face, so I shaved it off again. On the third day, when I found that\n",
            "God had put hair back on my face again, I decided to let God have his way. That's why I have a\n",
            "beard.\n",
            "\n",
            "Attention Mask:\n",
            "[1, 1, 1, 1, 1, 1, 1, 1, 1, 1, 1, 1, 1, 1, 1, 1, 1, 1, 1, 1, 1, 1, 1, 1, 1, 1, 1, 1, 1, 1, 1, 1, 1, 1, 1, 1, 1, 1, 1, 1, 1, 1, 1, 1, 1, 1, 1, 1, 1, 1, 1, 1, 1, 1, 1, 1, 1, 1, 1, 1, 1, 1, 1, 1, 1, 1, 1, 1, 1, 1, 1, 1, 1, 1, 1, 1, 1, 1, 1, 1, 1, 1, 1, 1, 1]\n",
            "\n",
            "\n",
            "Label:\n",
            "[486, 434, 2, 74, 46521, 11, 2148, 15, 392, 74, 401, 1631, 6682, 12, 6, 3896, 3, 377, 57, 8, 48893, 487, 3, 355, 434, 947, 2, 2148, 15, 392, 74, 57, 401, 8439, 8, 1926, 12, 6, 3896, 2, 192, 15, 74, 57, 8, 48893, 487, 520, 259, 3, 355, 3147, 434, 2, 221, 2148, 15, 392, 74, 401, 1631, 6682, 12, 6, 3896, 4, 507, 2, 27415, 15, 392, 26, 41882, 29, 6, 11323, 3, 193, 338, 1112, 28701, 3, 0]\n",
            "\n",
            "Tokens:\n",
            "['▁Un', '▁día', ',', '▁me', '▁desperté', '▁y', '▁vi', '▁que', '▁Dios', '▁me', '▁había', '▁puesto', '▁pelo', '▁en', '▁la', '▁cara', '.', '▁Me', '▁lo', '▁a', 'feit', 'é', '.', '▁Al', '▁día', '▁siguiente', ',', '▁vi', '▁que', '▁Dios', '▁me', '▁lo', '▁había', '▁vuelto', '▁a', '▁poner', '▁en', '▁la', '▁cara', ',', '▁así', '▁que', '▁me', '▁lo', '▁a', 'feit', 'é', '▁otra', '▁vez', '.', '▁Al', '▁tercer', '▁día', ',', '▁cuando', '▁vi', '▁que', '▁Dios', '▁me', '▁había', '▁puesto', '▁pelo', '▁en', '▁la', '▁cara', '▁de', '▁nuevo', ',', '▁decidí', '▁que', '▁Dios', '▁se', '▁saliera', '▁con', '▁la', '▁suya', '.', '▁Por', '▁eso', '▁tengo', '▁barba', '.', '</s>']\n",
            "\n",
            "Decoded Text without Special Tokens:\n",
            "Un día, me desperté y vi que Dios me había puesto pelo en la cara. Me lo afeité. Al día siguiente,\n",
            "vi que Dios me lo había vuelto a poner en la cara, así que me lo afeité otra vez. Al tercer día,\n",
            "cuando vi que Dios me había puesto pelo en la cara de nuevo, decidí que Dios se saliera con la suya.\n",
            "Por eso tengo barba.\n"
          ]
        }
      ],
      "source": [
        "# Example of tokenization\n",
        "\n",
        "id = -1\n",
        "example = dataset[id]\n",
        "encoding = tokenizer(example[\"en\"], text_target=example[\"es\"])\n",
        "\n",
        "input_ids = encoding[\"input_ids\"]\n",
        "print(f\"Input Ids:\\n{input_ids}\\n\")\n",
        "print(f\"Tokens:\\n{tokenizer.convert_ids_to_tokens(input_ids)}\\n\")\n",
        "print(f\"Decoded Text without Special Tokens:\\n{textwrap.fill(tokenizer.decode(input_ids, skip_special_tokens=True), width=100)}\\n\")\n",
        "print(f\"Attention Mask:\\n{encoding['attention_mask']}\\n\\n\")\n",
        "\n",
        "labels = encoding[\"labels\"]\n",
        "print(f\"Label:\\n{labels}\\n\")\n",
        "print(f\"Tokens:\\n{tokenizer.convert_ids_to_tokens(labels)}\\n\")\n",
        "print(f\"Decoded Text without Special Tokens:\\n{textwrap.fill(tokenizer.decode(labels, skip_special_tokens=True), width=100)}\")"
      ]
    },
    {
      "cell_type": "code",
      "source": [
        "def tokenization_function(dataset):\n",
        "  return tokenizer(dataset[\"en\"], text_target=dataset[\"es\"])"
      ],
      "metadata": {
        "id": "i-oEHblUPJyC"
      },
      "execution_count": null,
      "outputs": []
    },
    {
      "cell_type": "code",
      "source": [
        "dataset = dataset.map(tokenization_function, batched=True)\n",
        "dataset"
      ],
      "metadata": {
        "colab": {
          "base_uri": "https://localhost:8080/",
          "height": 118,
          "referenced_widgets": [
            "7127f61b251a4cdcb21df42ec526468d",
            "709966a0f14942d2aa6b9a71810d61ba",
            "76dd68f74ddf4e479370fc79cc338c8d",
            "575e50037c0b4f58ad66e2d8af3c6fd6",
            "6e198bd5806842df997d81db98b6e541",
            "8c29b83e0e0d4a509231c6b1dd25be35",
            "7ca59951fbad4bd38292b836444fa04a",
            "9145c7c419d6406e97f890e5915c273b",
            "67cd0a565b0645eca9475f2598e06b48",
            "6e8b91cf6a414782bcd382f48c5b797d",
            "220e53f2e49043ba8c263bca670d1a60"
          ]
        },
        "id": "v3coLDuMQALo",
        "outputId": "2e7922e0-a473-423d-d375-95f70f44df6b"
      },
      "execution_count": null,
      "outputs": [
        {
          "output_type": "display_data",
          "data": {
            "text/plain": [
              "Map:   0%|          | 0/141543 [00:00<?, ? examples/s]"
            ],
            "application/vnd.jupyter.widget-view+json": {
              "version_major": 2,
              "version_minor": 0,
              "model_id": "7127f61b251a4cdcb21df42ec526468d"
            }
          },
          "metadata": {}
        },
        {
          "output_type": "execute_result",
          "data": {
            "text/plain": [
              "Dataset({\n",
              "    features: ['en', 'es', 'input_ids', 'attention_mask', 'labels'],\n",
              "    num_rows: 141543\n",
              "})"
            ]
          },
          "metadata": {},
          "execution_count": 13
        }
      ]
    },
    {
      "cell_type": "markdown",
      "metadata": {
        "id": "qLHbPDquJ0mX"
      },
      "source": [
        "### **Create the training and validation datasets using ``tf.data``**"
      ]
    },
    {
      "cell_type": "markdown",
      "source": [
        "**Splitting the dataset into training and validation datasets**"
      ],
      "metadata": {
        "id": "wBNvte_HOYHy"
      }
    },
    {
      "cell_type": "code",
      "source": [
        "# Take approximately 2000 examples (1.5%) for the evaluation dataset\n",
        "np.random.seed(SEED) #For reproducibility\n",
        "is_train = np.random.uniform(size=(len(dataset),)) < 0.985\n",
        "\n",
        "train_dataset = dataset.filter(lambda sample, id: is_train[id], with_indices=True)\n",
        "val_dataset = dataset.filter(lambda sample, id: not is_train[id], with_indices=True)\n",
        "\n",
        "del dataset\n",
        "len(train_dataset), len(val_dataset)"
      ],
      "metadata": {
        "colab": {
          "base_uri": "https://localhost:8080/",
          "height": 98,
          "referenced_widgets": [
            "10d98204022346b2bb9aee3f0b88e56c",
            "3a713a06edca421a9b69dfa5a1f611a2",
            "6c37b528090943818c91e91a1081551b",
            "051918e5e0ad4850b1809b87fe93ca56",
            "1cebf143dd924cf38b75f173f45fa9a6",
            "54c4f33ed62640c8b363fd8f04bc8dcc",
            "b9db2bfeeb4c4aa9ba8b5550e459e31d",
            "5430288cbfe04623a570cc33bd5d1457",
            "8cf620ca3a1f45af8cd173e9ffd268cc",
            "74e41cac40184e01a5b7011483053777",
            "6452ddd333a148c085a2c26b53c2f475",
            "6422096ee74d46e19f3d02fea6bd409e",
            "c2fcdbd36eba416a90272a3e5bc5ef84",
            "efa1589d4c4b42d58cc46b2c437e2793",
            "09fecec8f3454b52804cb8a14b6765f1",
            "3b71fef1e89d4aa3afbae3ffc6136f89",
            "aa818c7f2c454d089cd5c38ed84dacf7",
            "f42db95d8b514b97b3eb44e7cbff87d4",
            "ed1597e9f660483983bc2fdfbb701bf3",
            "fb292cf106a4467a8bf44dd5d45a72d1",
            "c2ef1d628da14710be3ff97cf9bc8dd6",
            "f935f4916bd646debe4e3c6a7fa4d062"
          ]
        },
        "id": "DDu9Vg1WCzw4",
        "outputId": "c86b4673-80c4-4369-dd19-e71953114bc1"
      },
      "execution_count": null,
      "outputs": [
        {
          "output_type": "display_data",
          "data": {
            "text/plain": [
              "Filter:   0%|          | 0/141543 [00:00<?, ? examples/s]"
            ],
            "application/vnd.jupyter.widget-view+json": {
              "version_major": 2,
              "version_minor": 0,
              "model_id": "10d98204022346b2bb9aee3f0b88e56c"
            }
          },
          "metadata": {}
        },
        {
          "output_type": "display_data",
          "data": {
            "text/plain": [
              "Filter:   0%|          | 0/141543 [00:00<?, ? examples/s]"
            ],
            "application/vnd.jupyter.widget-view+json": {
              "version_major": 2,
              "version_minor": 0,
              "model_id": "6422096ee74d46e19f3d02fea6bd409e"
            }
          },
          "metadata": {}
        },
        {
          "output_type": "execute_result",
          "data": {
            "text/plain": [
              "(139424, 2119)"
            ]
          },
          "metadata": {},
          "execution_count": 14
        }
      ]
    },
    {
      "cell_type": "code",
      "source": [
        "# Download the MarianMT model\n",
        "model_base = TFAutoModelForSeq2SeqLM.from_pretrained(model_name)"
      ],
      "metadata": {
        "colab": {
          "base_uri": "https://localhost:8080/",
          "height": 150,
          "referenced_widgets": [
            "a1c72412823a40c89cf52e1939d1abb9",
            "021fce4ed40c46e4ad696442a5fc1953",
            "4d9d0904ead141879cb62290e0a2dfee",
            "05d403bfe5ad4ebeba28a73210ca8db4",
            "f5084c58c921428a9f502020dc3a87ba",
            "9106171caf634385b7fa5672fae0168c",
            "df6006e7f4a945249cd2745ff4a6e51a",
            "fde3a61cf9904a3b8b3e46ced5d6f180",
            "b6af4279a59a43519640800e251e8085",
            "b8074dfd05ff469689cbdd625c16e2aa",
            "e6442a5e21a145db9720a50c2f6f0df8",
            "18fc539967a4432ea22ba7e03ae7077a",
            "ce2b53cbafc2414289796178748e24ac",
            "3f0934bd0e1b4691b3f400afdab8ce66",
            "e21f7ed58b1c4f0a8dae5c70e9921cac",
            "b2629bb8c90a451ba94b3dd453bb748b",
            "3563448a276e497b9fa1664d120a3a05",
            "591a5c5c14274a23ba029cd48ef70295",
            "cfd17b58f9d84b8aade5d94505ca1714",
            "688c495c8d354a26a04328f3fe832f8f",
            "0dbffdb0c9594509add1a106369c8d21",
            "9edc5a0ce1e34fbba1f66c732522d8db"
          ]
        },
        "id": "4miu6tEvYo4J",
        "outputId": "5d442df0-4d9b-47f0-d21d-d416fbf8a882"
      },
      "execution_count": null,
      "outputs": [
        {
          "output_type": "display_data",
          "data": {
            "text/plain": [
              "tf_model.h5:   0%|          | 0.00/313M [00:00<?, ?B/s]"
            ],
            "application/vnd.jupyter.widget-view+json": {
              "version_major": 2,
              "version_minor": 0,
              "model_id": "a1c72412823a40c89cf52e1939d1abb9"
            }
          },
          "metadata": {}
        },
        {
          "output_type": "stream",
          "name": "stderr",
          "text": [
            "All model checkpoint layers were used when initializing TFMarianMTModel.\n",
            "\n",
            "All the layers of TFMarianMTModel were initialized from the model checkpoint at Helsinki-NLP/opus-mt-en-es.\n",
            "If your task is similar to the task the model of the checkpoint was trained on, you can already use TFMarianMTModel for predictions without further training.\n"
          ]
        },
        {
          "output_type": "display_data",
          "data": {
            "text/plain": [
              "generation_config.json:   0%|          | 0.00/293 [00:00<?, ?B/s]"
            ],
            "application/vnd.jupyter.widget-view+json": {
              "version_major": 2,
              "version_minor": 0,
              "model_id": "18fc539967a4432ea22ba7e03ae7077a"
            }
          },
          "metadata": {}
        }
      ]
    },
    {
      "cell_type": "markdown",
      "source": [
        "During training, the `DataCollatorForSeq2Seq` is used to dynamically adjust the input size of the model based on the maximum batch length, appropriately adding padding. This data collator returns `input_ids`, `attention_mask`, `decoder_input_ids` (tokens for the model decoder's input, starting with a padding token followed by labels), and `labels` (where padding tokens are marked with -100 to exclude them from loss calculation during training). Subsequently, the datasets are converted into TensorFlow datasets (`tf.data.Dataset`) using the `prepare_tf_dataset` method, making them ready for training."
      ],
      "metadata": {
        "id": "T9DtOpJQVcOs"
      }
    },
    {
      "cell_type": "code",
      "source": [
        "np.random.seed(SEED)\n",
        "tf.random.set_seed(SEED)\n",
        "\n",
        "data_collator = DataCollatorForSeq2Seq(\n",
        "    tokenizer,\n",
        "    model_base,\n",
        "    return_tensors=\"np\"\n",
        ")\n",
        "\n",
        "train_dataset_tf = model_base.prepare_tf_dataset(\n",
        "    train_dataset,\n",
        "    batch_size=batch_size,\n",
        "    shuffle=True,\n",
        "    collate_fn=data_collator,\n",
        ")\n",
        "\n",
        "val_dataset_tf = model_base.prepare_tf_dataset(\n",
        "    val_dataset,\n",
        "    batch_size=batch_size,\n",
        "    shuffle=False,\n",
        "    collate_fn=data_collator,\n",
        ")"
      ],
      "metadata": {
        "id": "WREWOilkZ986"
      },
      "execution_count": null,
      "outputs": []
    },
    {
      "cell_type": "code",
      "source": [
        "# Viewing a training batch\n",
        "for inputs, labels in train_dataset_tf.take(1):\n",
        "  print(inputs[\"input_ids\"][:2], \"\\n\")\n",
        "  print(inputs[\"attention_mask\"][:2], \"\\n\")\n",
        "  print(inputs[\"decoder_input_ids\"][:2], \"\\n\")\n",
        "  print(labels[:2])"
      ],
      "metadata": {
        "colab": {
          "base_uri": "https://localhost:8080/"
        },
        "id": "eI5o6OXQMM8E",
        "outputId": "09e5b7d9-8217-4e05-ea39-0121ad7f9586"
      },
      "execution_count": null,
      "outputs": [
        {
          "output_type": "stream",
          "name": "stdout",
          "text": [
            "tf.Tensor(\n",
            "[[ 6028    40   172    74    13   113    27   198    21     0 65000 65000\n",
            "  65000 65000 65000 65000 65000]\n",
            " [ 5266    31   105     7 15980    20     9   470  1557     3     0 65000\n",
            "  65000 65000 65000 65000 65000]], shape=(2, 17), dtype=int64) \n",
            "\n",
            "tf.Tensor(\n",
            "[[1 1 1 1 1 1 1 1 1 1 0 0 0 0 0 0 0]\n",
            " [1 1 1 1 1 1 1 1 1 1 1 0 0 0 0 0 0]], shape=(2, 17), dtype=int64) \n",
            "\n",
            "tf.Tensor(\n",
            "[[65000    50  4715    15   448  3263   366   274    21     0 65000 65000\n",
            "  65000 65000 65000 65000]\n",
            " [65000  5266    43   415     4    17  1880  1127     4 15980     3     0\n",
            "  65000 65000 65000 65000]], shape=(2, 16), dtype=int64) \n",
            "\n",
            "tf.Tensor(\n",
            "[[   50  4715    15   448  3263   366   274    21     0  -100  -100  -100\n",
            "   -100  -100  -100  -100]\n",
            " [ 5266    43   415     4    17  1880  1127     4 15980     3     0  -100\n",
            "   -100  -100  -100  -100]], shape=(2, 16), dtype=int64)\n"
          ]
        }
      ]
    },
    {
      "cell_type": "markdown",
      "metadata": {
        "id": "ey4FxjBKi6ql"
      },
      "source": [
        "## **Creation and Training of the Model**\n",
        "\n",
        "In this case, only the GPU of Google Colab is used, not the TPU, because the MarianMT tokenizer is not compatible with the Colab TPU. Additionally, the small size of the dataset (approximately 140K records) and the small size of the model (approximately 68M parameters) are taken advantage of. A custom loss and custom accuracy are also implemented to exclude the padding from labels (-100)."
      ]
    },
    {
      "cell_type": "code",
      "execution_count": null,
      "metadata": {
        "id": "AlquFLcVBhWK"
      },
      "outputs": [],
      "source": [
        "def masked_loss(labels, logits):\n",
        "  loss_fn = tf.keras.losses.SparseCategoricalCrossentropy(\n",
        "      from_logits=True,\n",
        "      reduction=tf.keras.losses.Reduction.NONE\n",
        "  )\n",
        "\n",
        "  loss = loss_fn(tf.nn.relu(labels), logits)\n",
        "  mask = tf.cast(labels != -100, loss.dtype)\n",
        "  loss *= mask\n",
        "\n",
        "  return tf.reduce_sum(loss) / tf.reduce_sum(mask)\n",
        "\n",
        "\n",
        "def masked_accuracy(y_true, y_pred):\n",
        "  y_pred = tf.cast(tf.argmax(y_pred, axis=-1), y_true.dtype)\n",
        "  mask = tf.cast(y_true != -100, tf.float32)\n",
        "  accuracy = tf.cast(y_true == y_pred, tf.float32)\n",
        "  accuracy *= mask\n",
        "\n",
        "  return tf.reduce_sum(accuracy) / tf.reduce_sum(mask)"
      ]
    },
    {
      "cell_type": "code",
      "source": [
        "def create_model():\n",
        "  input_ids = tf.keras.Input((None, ), dtype=tf.int64, name=\"input_ids\")\n",
        "  attention_mask = tf.keras.Input((None, ), dtype=tf.int64, name=\"attention_mask\")\n",
        "  decoder_input_ids = tf.keras.Input((None, ), dtype=tf.int64, name=\"decoder_input_ids\")\n",
        "\n",
        "  x = model_base(\n",
        "      input_ids=input_ids,\n",
        "      attention_mask=attention_mask,\n",
        "      decoder_input_ids=decoder_input_ids\n",
        "  ).logits\n",
        "\n",
        "  model = tf.keras.Model(inputs=[input_ids, attention_mask, decoder_input_ids], outputs=x)\n",
        "\n",
        "  return model"
      ],
      "metadata": {
        "id": "Ij86NnyAg55C"
      },
      "execution_count": null,
      "outputs": []
    },
    {
      "cell_type": "code",
      "source": [
        "tf.keras.backend.clear_session() #Clearing Keras memory\n",
        "tf.random.set_seed(123)\n",
        "\n",
        "model = create_model()\n",
        "model.summary()"
      ],
      "metadata": {
        "colab": {
          "base_uri": "https://localhost:8080/"
        },
        "id": "6g-Bgx5lkbtY",
        "outputId": "86ee72ef-3617-4180-a13d-1f5eeedad360"
      },
      "execution_count": null,
      "outputs": [
        {
          "output_type": "stream",
          "name": "stdout",
          "text": [
            "Model: \"model\"\n",
            "__________________________________________________________________________________________________\n",
            " Layer (type)                Output Shape                 Param #   Connected to                  \n",
            "==================================================================================================\n",
            " input_ids (InputLayer)      [(None, None)]               0         []                            \n",
            "                                                                                                  \n",
            " attention_mask (InputLayer  [(None, None)]               0         []                            \n",
            " )                                                                                                \n",
            "                                                                                                  \n",
            " decoder_input_ids (InputLa  [(None, None)]               0         []                            \n",
            " yer)                                                                                             \n",
            "                                                                                                  \n",
            " tf_marian_mt_model (TFMari  TFSeq2SeqLMOutput(loss=Non   7800829   ['input_ids[0][0]',           \n",
            " anMTModel)                  e, logits=(None, None, 650   7          'attention_mask[0][0]',      \n",
            "                             01),                                    'decoder_input_ids[0][0]']   \n",
            "                              past_key_values=(((None,                                            \n",
            "                             8, None, 64),                                                        \n",
            "                              (None, 8, None, 64),                                                \n",
            "                              (None, 8, None, 64),                                                \n",
            "                              (None, 8, None, 64)),                                               \n",
            "                              ((None, 8, None, 64),                                               \n",
            "                              (None, 8, None, 64),                                                \n",
            "                              (None, 8, None, 64),                                                \n",
            "                              (None, 8, None, 64)),                                               \n",
            "                              ((None, 8, None, 64),                                               \n",
            "                              (None, 8, None, 64),                                                \n",
            "                              (None, 8, None, 64),                                                \n",
            "                              (None, 8, None, 64)),                                               \n",
            "                              ((None, 8, None, 64),                                               \n",
            "                              (None, 8, None, 64),                                                \n",
            "                              (None, 8, None, 64),                                                \n",
            "                              (None, 8, None, 64)),                                               \n",
            "                              ((None, 8, None, 64),                                               \n",
            "                              (None, 8, None, 64),                                                \n",
            "                              (None, 8, None, 64),                                                \n",
            "                              (None, 8, None, 64)),                                               \n",
            "                              ((None, 8, None, 64),                                               \n",
            "                              (None, 8, None, 64),                                                \n",
            "                              (None, 8, None, 64),                                                \n",
            "                              (None, 8, None, 64))),                                              \n",
            "                              decoder_hidden_states=Non                                           \n",
            "                             e, decoder_attentions=None                                           \n",
            "                             , cross_attentions=None, e                                           \n",
            "                             ncoder_last_hidden_state=(                                           \n",
            "                             None, None, 512),                                                    \n",
            "                              encoder_hidden_states=Non                                           \n",
            "                             e, encoder_attentions=None                                           \n",
            "                             )                                                                    \n",
            "                                                                                                  \n",
            "==================================================================================================\n",
            "Total params: 78008297 (297.58 MB)\n",
            "Trainable params: 77943296 (297.33 MB)\n",
            "Non-trainable params: 65001 (253.91 KB)\n",
            "__________________________________________________________________________________________________\n"
          ]
        }
      ]
    },
    {
      "cell_type": "code",
      "execution_count": null,
      "metadata": {
        "id": "0Iv8F1lglgeV"
      },
      "outputs": [],
      "source": [
        "# Model Compilation\n",
        "model.compile(\n",
        "    optimizer=tf.keras.optimizers.AdamW(2e-5, weight_decay=0.01),\n",
        "    loss=masked_loss,\n",
        "    metrics=[masked_accuracy]\n",
        ")"
      ]
    },
    {
      "cell_type": "code",
      "execution_count": null,
      "metadata": {
        "id": "oVbsK5EzTE5e"
      },
      "outputs": [],
      "source": [
        "# Callback to stop training early if accuracy does not increase for 2 epochs\n",
        "callback = tf.keras.callbacks.EarlyStopping(\n",
        "    monitor=\"val_masked_accuracy\",\n",
        "    patience=2,\n",
        "    mode=\"max\",\n",
        "    restore_best_weights=True\n",
        ")"
      ]
    },
    {
      "cell_type": "code",
      "source": [
        "# Train the model\n",
        "\n",
        "tf.random.set_seed(SEED)\n",
        "history = model.fit(train_dataset_tf, epochs=epochs, validation_data=val_dataset_tf, callbacks=[callback])"
      ],
      "metadata": {
        "colab": {
          "base_uri": "https://localhost:8080/"
        },
        "id": "wImo0ya3gmoh",
        "outputId": "e7e6ed5d-28b0-4d19-e672-664aad522156"
      },
      "execution_count": null,
      "outputs": [
        {
          "output_type": "stream",
          "name": "stdout",
          "text": [
            "Epoch 1/5\n",
            "4357/4357 [==============================] - 1458s 313ms/step - loss: 0.5498 - masked_accuracy: 0.8534 - val_loss: 0.5031 - val_masked_accuracy: 0.8607\n",
            "Epoch 2/5\n",
            "4357/4357 [==============================] - 1359s 312ms/step - loss: 0.4624 - masked_accuracy: 0.8688 - val_loss: 0.5049 - val_masked_accuracy: 0.8596\n",
            "Epoch 3/5\n",
            "4357/4357 [==============================] - 1353s 311ms/step - loss: 0.4080 - masked_accuracy: 0.8796 - val_loss: 0.5134 - val_masked_accuracy: 0.8604\n"
          ]
        }
      ]
    },
    {
      "cell_type": "markdown",
      "metadata": {
        "id": "S7cewteBIwua"
      },
      "source": [
        "**Save model**"
      ]
    },
    {
      "cell_type": "code",
      "execution_count": 7,
      "metadata": {
        "id": "kHF6iPebtijl"
      },
      "outputs": [],
      "source": [
        "trained_model_path = \"/content/drive/MyDrive/models/TranslationEN-ES_MarianMT_ManyThings\""
      ]
    },
    {
      "cell_type": "code",
      "execution_count": null,
      "metadata": {
        "id": "gJ1Ww4BMaIfQ"
      },
      "outputs": [],
      "source": [
        "model_base.save_pretrained(trained_model_path)"
      ]
    },
    {
      "cell_type": "markdown",
      "metadata": {
        "id": "WSJL2EanOvQH"
      },
      "source": [
        "## **Model Evaluation**"
      ]
    },
    {
      "cell_type": "markdown",
      "source": [
        "### **With conventional Accuracy**"
      ],
      "metadata": {
        "id": "wG5frXZ-4_jB"
      }
    },
    {
      "cell_type": "code",
      "execution_count": null,
      "metadata": {
        "id": "5sygZy4MVBVH",
        "colab": {
          "base_uri": "https://localhost:8080/"
        },
        "outputId": "daf6c1b1-4d7c-44cc-f5cf-6f4d51608a7a"
      },
      "outputs": [
        {
          "output_type": "stream",
          "name": "stdout",
          "text": [
            "[0.4156530201435089, 0.8793366551399231]\n",
            "[0.50312340259552, 0.860670804977417]\n"
          ]
        }
      ],
      "source": [
        "print(model.evaluate(train_dataset_tf, verbose=0))\n",
        "print(model.evaluate(val_dataset_tf, verbose=0))"
      ]
    },
    {
      "cell_type": "markdown",
      "source": [
        "Conventional accuracy (``train_dataset: 87.93%, val_dataset: 86.07%``) does not accurately reflect the true performance of the translation model, but it serves as a useful approximation during training to assess how well the model is performing. For a more accurate evaluation, the **BLEU** metric will be used."
      ],
      "metadata": {
        "id": "SC8uUYMjMnIC"
      }
    },
    {
      "cell_type": "code",
      "execution_count": null,
      "metadata": {
        "id": "S0Dl-vzNaZD4"
      },
      "outputs": [],
      "source": [
        "# Function to plot the metrics\n",
        "def plot_metrics(history=history, metric=\"loss\", renderer=None, epochs=len(history.history[\"loss\"])):\n",
        "  losses = history.history[metric]\n",
        "  val_losses = history.history[f\"val_{metric}\"]\n",
        "  list_epochs = np.arange(1, epochs+1)\n",
        "  metric = \" \".join([w.capitalize() for w in metric.split(\"_\")])\n",
        "\n",
        "  fig=go.Figure()\n",
        "  fig.add_trace(go.Scatter(x=list_epochs, y=losses, name=metric, line=dict(color=\"blue\", width=2)))\n",
        "  fig.add_trace(go.Scatter(x=list_epochs, y=val_losses, name=f\"Val {metric}\", line=dict(color=\"#FF6600\", width=2)))\n",
        "  fig.update_xaxes(title_text=\"Epoch\")\n",
        "  fig.update_yaxes(title_text=metric)\n",
        "  fig.update_layout(title=f\"Evolution of {metric} across Epochs\",\n",
        "                    title_font=dict(size=20),\n",
        "                    title_x=0.5,\n",
        "                    height=500,\n",
        "                    width=1200)\n",
        "\n",
        "  fig.show(renderer)"
      ]
    },
    {
      "cell_type": "markdown",
      "metadata": {
        "id": "Zbmblu4ZuQoO"
      },
      "source": [
        "**Interactive graphics**"
      ]
    },
    {
      "cell_type": "code",
      "execution_count": null,
      "metadata": {
        "colab": {
          "base_uri": "https://localhost:8080/",
          "height": 1000
        },
        "id": "K9_fscW1bBUJ",
        "outputId": "9712506b-93df-4ced-cccf-0d448c20636a"
      },
      "outputs": [
        {
          "output_type": "display_data",
          "data": {
            "text/html": [
              "<html>\n",
              "<head><meta charset=\"utf-8\" /></head>\n",
              "<body>\n",
              "    <div>            <script src=\"https://cdnjs.cloudflare.com/ajax/libs/mathjax/2.7.5/MathJax.js?config=TeX-AMS-MML_SVG\"></script><script type=\"text/javascript\">if (window.MathJax && window.MathJax.Hub && window.MathJax.Hub.Config) {window.MathJax.Hub.Config({SVG: {font: \"STIX-Web\"}});}</script>                <script type=\"text/javascript\">window.PlotlyConfig = {MathJaxConfig: 'local'};</script>\n",
              "        <script charset=\"utf-8\" src=\"https://cdn.plot.ly/plotly-2.24.1.min.js\"></script>                <div id=\"6ed66864-b0a8-45d6-87ff-43cc54f84418\" class=\"plotly-graph-div\" style=\"height:500px; width:1200px;\"></div>            <script type=\"text/javascript\">                                    window.PLOTLYENV=window.PLOTLYENV || {};                                    if (document.getElementById(\"6ed66864-b0a8-45d6-87ff-43cc54f84418\")) {                    Plotly.newPlot(                        \"6ed66864-b0a8-45d6-87ff-43cc54f84418\",                        [{\"line\":{\"color\":\"blue\",\"width\":2},\"name\":\"Loss\",\"x\":[1,2,3],\"y\":[0.5497573018074036,0.46240848302841187,0.40795987844467163],\"type\":\"scatter\"},{\"line\":{\"color\":\"#FF6600\",\"width\":2},\"name\":\"Val Loss\",\"x\":[1,2,3],\"y\":[0.5031233429908752,0.5049073100090027,0.5133824944496155],\"type\":\"scatter\"}],                        {\"template\":{\"data\":{\"histogram2dcontour\":[{\"type\":\"histogram2dcontour\",\"colorbar\":{\"outlinewidth\":0,\"ticks\":\"\"},\"colorscale\":[[0.0,\"#0d0887\"],[0.1111111111111111,\"#46039f\"],[0.2222222222222222,\"#7201a8\"],[0.3333333333333333,\"#9c179e\"],[0.4444444444444444,\"#bd3786\"],[0.5555555555555556,\"#d8576b\"],[0.6666666666666666,\"#ed7953\"],[0.7777777777777778,\"#fb9f3a\"],[0.8888888888888888,\"#fdca26\"],[1.0,\"#f0f921\"]]}],\"choropleth\":[{\"type\":\"choropleth\",\"colorbar\":{\"outlinewidth\":0,\"ticks\":\"\"}}],\"histogram2d\":[{\"type\":\"histogram2d\",\"colorbar\":{\"outlinewidth\":0,\"ticks\":\"\"},\"colorscale\":[[0.0,\"#0d0887\"],[0.1111111111111111,\"#46039f\"],[0.2222222222222222,\"#7201a8\"],[0.3333333333333333,\"#9c179e\"],[0.4444444444444444,\"#bd3786\"],[0.5555555555555556,\"#d8576b\"],[0.6666666666666666,\"#ed7953\"],[0.7777777777777778,\"#fb9f3a\"],[0.8888888888888888,\"#fdca26\"],[1.0,\"#f0f921\"]]}],\"heatmap\":[{\"type\":\"heatmap\",\"colorbar\":{\"outlinewidth\":0,\"ticks\":\"\"},\"colorscale\":[[0.0,\"#0d0887\"],[0.1111111111111111,\"#46039f\"],[0.2222222222222222,\"#7201a8\"],[0.3333333333333333,\"#9c179e\"],[0.4444444444444444,\"#bd3786\"],[0.5555555555555556,\"#d8576b\"],[0.6666666666666666,\"#ed7953\"],[0.7777777777777778,\"#fb9f3a\"],[0.8888888888888888,\"#fdca26\"],[1.0,\"#f0f921\"]]}],\"heatmapgl\":[{\"type\":\"heatmapgl\",\"colorbar\":{\"outlinewidth\":0,\"ticks\":\"\"},\"colorscale\":[[0.0,\"#0d0887\"],[0.1111111111111111,\"#46039f\"],[0.2222222222222222,\"#7201a8\"],[0.3333333333333333,\"#9c179e\"],[0.4444444444444444,\"#bd3786\"],[0.5555555555555556,\"#d8576b\"],[0.6666666666666666,\"#ed7953\"],[0.7777777777777778,\"#fb9f3a\"],[0.8888888888888888,\"#fdca26\"],[1.0,\"#f0f921\"]]}],\"contourcarpet\":[{\"type\":\"contourcarpet\",\"colorbar\":{\"outlinewidth\":0,\"ticks\":\"\"}}],\"contour\":[{\"type\":\"contour\",\"colorbar\":{\"outlinewidth\":0,\"ticks\":\"\"},\"colorscale\":[[0.0,\"#0d0887\"],[0.1111111111111111,\"#46039f\"],[0.2222222222222222,\"#7201a8\"],[0.3333333333333333,\"#9c179e\"],[0.4444444444444444,\"#bd3786\"],[0.5555555555555556,\"#d8576b\"],[0.6666666666666666,\"#ed7953\"],[0.7777777777777778,\"#fb9f3a\"],[0.8888888888888888,\"#fdca26\"],[1.0,\"#f0f921\"]]}],\"surface\":[{\"type\":\"surface\",\"colorbar\":{\"outlinewidth\":0,\"ticks\":\"\"},\"colorscale\":[[0.0,\"#0d0887\"],[0.1111111111111111,\"#46039f\"],[0.2222222222222222,\"#7201a8\"],[0.3333333333333333,\"#9c179e\"],[0.4444444444444444,\"#bd3786\"],[0.5555555555555556,\"#d8576b\"],[0.6666666666666666,\"#ed7953\"],[0.7777777777777778,\"#fb9f3a\"],[0.8888888888888888,\"#fdca26\"],[1.0,\"#f0f921\"]]}],\"mesh3d\":[{\"type\":\"mesh3d\",\"colorbar\":{\"outlinewidth\":0,\"ticks\":\"\"}}],\"scatter\":[{\"fillpattern\":{\"fillmode\":\"overlay\",\"size\":10,\"solidity\":0.2},\"type\":\"scatter\"}],\"parcoords\":[{\"type\":\"parcoords\",\"line\":{\"colorbar\":{\"outlinewidth\":0,\"ticks\":\"\"}}}],\"scatterpolargl\":[{\"type\":\"scatterpolargl\",\"marker\":{\"colorbar\":{\"outlinewidth\":0,\"ticks\":\"\"}}}],\"bar\":[{\"error_x\":{\"color\":\"#2a3f5f\"},\"error_y\":{\"color\":\"#2a3f5f\"},\"marker\":{\"line\":{\"color\":\"#E5ECF6\",\"width\":0.5},\"pattern\":{\"fillmode\":\"overlay\",\"size\":10,\"solidity\":0.2}},\"type\":\"bar\"}],\"scattergeo\":[{\"type\":\"scattergeo\",\"marker\":{\"colorbar\":{\"outlinewidth\":0,\"ticks\":\"\"}}}],\"scatterpolar\":[{\"type\":\"scatterpolar\",\"marker\":{\"colorbar\":{\"outlinewidth\":0,\"ticks\":\"\"}}}],\"histogram\":[{\"marker\":{\"pattern\":{\"fillmode\":\"overlay\",\"size\":10,\"solidity\":0.2}},\"type\":\"histogram\"}],\"scattergl\":[{\"type\":\"scattergl\",\"marker\":{\"colorbar\":{\"outlinewidth\":0,\"ticks\":\"\"}}}],\"scatter3d\":[{\"type\":\"scatter3d\",\"line\":{\"colorbar\":{\"outlinewidth\":0,\"ticks\":\"\"}},\"marker\":{\"colorbar\":{\"outlinewidth\":0,\"ticks\":\"\"}}}],\"scattermapbox\":[{\"type\":\"scattermapbox\",\"marker\":{\"colorbar\":{\"outlinewidth\":0,\"ticks\":\"\"}}}],\"scatterternary\":[{\"type\":\"scatterternary\",\"marker\":{\"colorbar\":{\"outlinewidth\":0,\"ticks\":\"\"}}}],\"scattercarpet\":[{\"type\":\"scattercarpet\",\"marker\":{\"colorbar\":{\"outlinewidth\":0,\"ticks\":\"\"}}}],\"carpet\":[{\"aaxis\":{\"endlinecolor\":\"#2a3f5f\",\"gridcolor\":\"white\",\"linecolor\":\"white\",\"minorgridcolor\":\"white\",\"startlinecolor\":\"#2a3f5f\"},\"baxis\":{\"endlinecolor\":\"#2a3f5f\",\"gridcolor\":\"white\",\"linecolor\":\"white\",\"minorgridcolor\":\"white\",\"startlinecolor\":\"#2a3f5f\"},\"type\":\"carpet\"}],\"table\":[{\"cells\":{\"fill\":{\"color\":\"#EBF0F8\"},\"line\":{\"color\":\"white\"}},\"header\":{\"fill\":{\"color\":\"#C8D4E3\"},\"line\":{\"color\":\"white\"}},\"type\":\"table\"}],\"barpolar\":[{\"marker\":{\"line\":{\"color\":\"#E5ECF6\",\"width\":0.5},\"pattern\":{\"fillmode\":\"overlay\",\"size\":10,\"solidity\":0.2}},\"type\":\"barpolar\"}],\"pie\":[{\"automargin\":true,\"type\":\"pie\"}]},\"layout\":{\"autotypenumbers\":\"strict\",\"colorway\":[\"#636efa\",\"#EF553B\",\"#00cc96\",\"#ab63fa\",\"#FFA15A\",\"#19d3f3\",\"#FF6692\",\"#B6E880\",\"#FF97FF\",\"#FECB52\"],\"font\":{\"color\":\"#2a3f5f\"},\"hovermode\":\"closest\",\"hoverlabel\":{\"align\":\"left\"},\"paper_bgcolor\":\"white\",\"plot_bgcolor\":\"#E5ECF6\",\"polar\":{\"bgcolor\":\"#E5ECF6\",\"angularaxis\":{\"gridcolor\":\"white\",\"linecolor\":\"white\",\"ticks\":\"\"},\"radialaxis\":{\"gridcolor\":\"white\",\"linecolor\":\"white\",\"ticks\":\"\"}},\"ternary\":{\"bgcolor\":\"#E5ECF6\",\"aaxis\":{\"gridcolor\":\"white\",\"linecolor\":\"white\",\"ticks\":\"\"},\"baxis\":{\"gridcolor\":\"white\",\"linecolor\":\"white\",\"ticks\":\"\"},\"caxis\":{\"gridcolor\":\"white\",\"linecolor\":\"white\",\"ticks\":\"\"}},\"coloraxis\":{\"colorbar\":{\"outlinewidth\":0,\"ticks\":\"\"}},\"colorscale\":{\"sequential\":[[0.0,\"#0d0887\"],[0.1111111111111111,\"#46039f\"],[0.2222222222222222,\"#7201a8\"],[0.3333333333333333,\"#9c179e\"],[0.4444444444444444,\"#bd3786\"],[0.5555555555555556,\"#d8576b\"],[0.6666666666666666,\"#ed7953\"],[0.7777777777777778,\"#fb9f3a\"],[0.8888888888888888,\"#fdca26\"],[1.0,\"#f0f921\"]],\"sequentialminus\":[[0.0,\"#0d0887\"],[0.1111111111111111,\"#46039f\"],[0.2222222222222222,\"#7201a8\"],[0.3333333333333333,\"#9c179e\"],[0.4444444444444444,\"#bd3786\"],[0.5555555555555556,\"#d8576b\"],[0.6666666666666666,\"#ed7953\"],[0.7777777777777778,\"#fb9f3a\"],[0.8888888888888888,\"#fdca26\"],[1.0,\"#f0f921\"]],\"diverging\":[[0,\"#8e0152\"],[0.1,\"#c51b7d\"],[0.2,\"#de77ae\"],[0.3,\"#f1b6da\"],[0.4,\"#fde0ef\"],[0.5,\"#f7f7f7\"],[0.6,\"#e6f5d0\"],[0.7,\"#b8e186\"],[0.8,\"#7fbc41\"],[0.9,\"#4d9221\"],[1,\"#276419\"]]},\"xaxis\":{\"gridcolor\":\"white\",\"linecolor\":\"white\",\"ticks\":\"\",\"title\":{\"standoff\":15},\"zerolinecolor\":\"white\",\"automargin\":true,\"zerolinewidth\":2},\"yaxis\":{\"gridcolor\":\"white\",\"linecolor\":\"white\",\"ticks\":\"\",\"title\":{\"standoff\":15},\"zerolinecolor\":\"white\",\"automargin\":true,\"zerolinewidth\":2},\"scene\":{\"xaxis\":{\"backgroundcolor\":\"#E5ECF6\",\"gridcolor\":\"white\",\"linecolor\":\"white\",\"showbackground\":true,\"ticks\":\"\",\"zerolinecolor\":\"white\",\"gridwidth\":2},\"yaxis\":{\"backgroundcolor\":\"#E5ECF6\",\"gridcolor\":\"white\",\"linecolor\":\"white\",\"showbackground\":true,\"ticks\":\"\",\"zerolinecolor\":\"white\",\"gridwidth\":2},\"zaxis\":{\"backgroundcolor\":\"#E5ECF6\",\"gridcolor\":\"white\",\"linecolor\":\"white\",\"showbackground\":true,\"ticks\":\"\",\"zerolinecolor\":\"white\",\"gridwidth\":2}},\"shapedefaults\":{\"line\":{\"color\":\"#2a3f5f\"}},\"annotationdefaults\":{\"arrowcolor\":\"#2a3f5f\",\"arrowhead\":0,\"arrowwidth\":1},\"geo\":{\"bgcolor\":\"white\",\"landcolor\":\"#E5ECF6\",\"subunitcolor\":\"white\",\"showland\":true,\"showlakes\":true,\"lakecolor\":\"white\"},\"title\":{\"x\":0.05},\"mapbox\":{\"style\":\"light\"}}},\"xaxis\":{\"title\":{\"text\":\"Epoch\"}},\"yaxis\":{\"title\":{\"text\":\"Loss\"}},\"title\":{\"text\":\"Evolution of Loss across Epochs\",\"font\":{\"size\":20},\"x\":0.5},\"height\":500,\"width\":1200},                        {\"responsive\": true}                    ).then(function(){\n",
              "                            \n",
              "var gd = document.getElementById('6ed66864-b0a8-45d6-87ff-43cc54f84418');\n",
              "var x = new MutationObserver(function (mutations, observer) {{\n",
              "        var display = window.getComputedStyle(gd).display;\n",
              "        if (!display || display === 'none') {{\n",
              "            console.log([gd, 'removed!']);\n",
              "            Plotly.purge(gd);\n",
              "            observer.disconnect();\n",
              "        }}\n",
              "}});\n",
              "\n",
              "// Listen for the removal of the full notebook cells\n",
              "var notebookContainer = gd.closest('#notebook-container');\n",
              "if (notebookContainer) {{\n",
              "    x.observe(notebookContainer, {childList: true});\n",
              "}}\n",
              "\n",
              "// Listen for the clearing of the current output cell\n",
              "var outputEl = gd.closest('.output');\n",
              "if (outputEl) {{\n",
              "    x.observe(outputEl, {childList: true});\n",
              "}}\n",
              "\n",
              "                        })                };                            </script>        </div>\n",
              "</body>\n",
              "</html>"
            ]
          },
          "metadata": {}
        },
        {
          "output_type": "display_data",
          "data": {
            "text/html": [
              "<html>\n",
              "<head><meta charset=\"utf-8\" /></head>\n",
              "<body>\n",
              "    <div>            <script src=\"https://cdnjs.cloudflare.com/ajax/libs/mathjax/2.7.5/MathJax.js?config=TeX-AMS-MML_SVG\"></script><script type=\"text/javascript\">if (window.MathJax && window.MathJax.Hub && window.MathJax.Hub.Config) {window.MathJax.Hub.Config({SVG: {font: \"STIX-Web\"}});}</script>                <script type=\"text/javascript\">window.PlotlyConfig = {MathJaxConfig: 'local'};</script>\n",
              "        <script charset=\"utf-8\" src=\"https://cdn.plot.ly/plotly-2.24.1.min.js\"></script>                <div id=\"9e77be7d-e0fd-4a3b-b4e3-fb7bd773c745\" class=\"plotly-graph-div\" style=\"height:500px; width:1200px;\"></div>            <script type=\"text/javascript\">                                    window.PLOTLYENV=window.PLOTLYENV || {};                                    if (document.getElementById(\"9e77be7d-e0fd-4a3b-b4e3-fb7bd773c745\")) {                    Plotly.newPlot(                        \"9e77be7d-e0fd-4a3b-b4e3-fb7bd773c745\",                        [{\"line\":{\"color\":\"blue\",\"width\":2},\"name\":\"Masked Accuracy\",\"x\":[1,2,3],\"y\":[0.8533812761306763,0.868780255317688,0.8796375393867493],\"type\":\"scatter\"},{\"line\":{\"color\":\"#FF6600\",\"width\":2},\"name\":\"Val Masked Accuracy\",\"x\":[1,2,3],\"y\":[0.860670804977417,0.8596240878105164,0.8603653907775879],\"type\":\"scatter\"}],                        {\"template\":{\"data\":{\"histogram2dcontour\":[{\"type\":\"histogram2dcontour\",\"colorbar\":{\"outlinewidth\":0,\"ticks\":\"\"},\"colorscale\":[[0.0,\"#0d0887\"],[0.1111111111111111,\"#46039f\"],[0.2222222222222222,\"#7201a8\"],[0.3333333333333333,\"#9c179e\"],[0.4444444444444444,\"#bd3786\"],[0.5555555555555556,\"#d8576b\"],[0.6666666666666666,\"#ed7953\"],[0.7777777777777778,\"#fb9f3a\"],[0.8888888888888888,\"#fdca26\"],[1.0,\"#f0f921\"]]}],\"choropleth\":[{\"type\":\"choropleth\",\"colorbar\":{\"outlinewidth\":0,\"ticks\":\"\"}}],\"histogram2d\":[{\"type\":\"histogram2d\",\"colorbar\":{\"outlinewidth\":0,\"ticks\":\"\"},\"colorscale\":[[0.0,\"#0d0887\"],[0.1111111111111111,\"#46039f\"],[0.2222222222222222,\"#7201a8\"],[0.3333333333333333,\"#9c179e\"],[0.4444444444444444,\"#bd3786\"],[0.5555555555555556,\"#d8576b\"],[0.6666666666666666,\"#ed7953\"],[0.7777777777777778,\"#fb9f3a\"],[0.8888888888888888,\"#fdca26\"],[1.0,\"#f0f921\"]]}],\"heatmap\":[{\"type\":\"heatmap\",\"colorbar\":{\"outlinewidth\":0,\"ticks\":\"\"},\"colorscale\":[[0.0,\"#0d0887\"],[0.1111111111111111,\"#46039f\"],[0.2222222222222222,\"#7201a8\"],[0.3333333333333333,\"#9c179e\"],[0.4444444444444444,\"#bd3786\"],[0.5555555555555556,\"#d8576b\"],[0.6666666666666666,\"#ed7953\"],[0.7777777777777778,\"#fb9f3a\"],[0.8888888888888888,\"#fdca26\"],[1.0,\"#f0f921\"]]}],\"heatmapgl\":[{\"type\":\"heatmapgl\",\"colorbar\":{\"outlinewidth\":0,\"ticks\":\"\"},\"colorscale\":[[0.0,\"#0d0887\"],[0.1111111111111111,\"#46039f\"],[0.2222222222222222,\"#7201a8\"],[0.3333333333333333,\"#9c179e\"],[0.4444444444444444,\"#bd3786\"],[0.5555555555555556,\"#d8576b\"],[0.6666666666666666,\"#ed7953\"],[0.7777777777777778,\"#fb9f3a\"],[0.8888888888888888,\"#fdca26\"],[1.0,\"#f0f921\"]]}],\"contourcarpet\":[{\"type\":\"contourcarpet\",\"colorbar\":{\"outlinewidth\":0,\"ticks\":\"\"}}],\"contour\":[{\"type\":\"contour\",\"colorbar\":{\"outlinewidth\":0,\"ticks\":\"\"},\"colorscale\":[[0.0,\"#0d0887\"],[0.1111111111111111,\"#46039f\"],[0.2222222222222222,\"#7201a8\"],[0.3333333333333333,\"#9c179e\"],[0.4444444444444444,\"#bd3786\"],[0.5555555555555556,\"#d8576b\"],[0.6666666666666666,\"#ed7953\"],[0.7777777777777778,\"#fb9f3a\"],[0.8888888888888888,\"#fdca26\"],[1.0,\"#f0f921\"]]}],\"surface\":[{\"type\":\"surface\",\"colorbar\":{\"outlinewidth\":0,\"ticks\":\"\"},\"colorscale\":[[0.0,\"#0d0887\"],[0.1111111111111111,\"#46039f\"],[0.2222222222222222,\"#7201a8\"],[0.3333333333333333,\"#9c179e\"],[0.4444444444444444,\"#bd3786\"],[0.5555555555555556,\"#d8576b\"],[0.6666666666666666,\"#ed7953\"],[0.7777777777777778,\"#fb9f3a\"],[0.8888888888888888,\"#fdca26\"],[1.0,\"#f0f921\"]]}],\"mesh3d\":[{\"type\":\"mesh3d\",\"colorbar\":{\"outlinewidth\":0,\"ticks\":\"\"}}],\"scatter\":[{\"fillpattern\":{\"fillmode\":\"overlay\",\"size\":10,\"solidity\":0.2},\"type\":\"scatter\"}],\"parcoords\":[{\"type\":\"parcoords\",\"line\":{\"colorbar\":{\"outlinewidth\":0,\"ticks\":\"\"}}}],\"scatterpolargl\":[{\"type\":\"scatterpolargl\",\"marker\":{\"colorbar\":{\"outlinewidth\":0,\"ticks\":\"\"}}}],\"bar\":[{\"error_x\":{\"color\":\"#2a3f5f\"},\"error_y\":{\"color\":\"#2a3f5f\"},\"marker\":{\"line\":{\"color\":\"#E5ECF6\",\"width\":0.5},\"pattern\":{\"fillmode\":\"overlay\",\"size\":10,\"solidity\":0.2}},\"type\":\"bar\"}],\"scattergeo\":[{\"type\":\"scattergeo\",\"marker\":{\"colorbar\":{\"outlinewidth\":0,\"ticks\":\"\"}}}],\"scatterpolar\":[{\"type\":\"scatterpolar\",\"marker\":{\"colorbar\":{\"outlinewidth\":0,\"ticks\":\"\"}}}],\"histogram\":[{\"marker\":{\"pattern\":{\"fillmode\":\"overlay\",\"size\":10,\"solidity\":0.2}},\"type\":\"histogram\"}],\"scattergl\":[{\"type\":\"scattergl\",\"marker\":{\"colorbar\":{\"outlinewidth\":0,\"ticks\":\"\"}}}],\"scatter3d\":[{\"type\":\"scatter3d\",\"line\":{\"colorbar\":{\"outlinewidth\":0,\"ticks\":\"\"}},\"marker\":{\"colorbar\":{\"outlinewidth\":0,\"ticks\":\"\"}}}],\"scattermapbox\":[{\"type\":\"scattermapbox\",\"marker\":{\"colorbar\":{\"outlinewidth\":0,\"ticks\":\"\"}}}],\"scatterternary\":[{\"type\":\"scatterternary\",\"marker\":{\"colorbar\":{\"outlinewidth\":0,\"ticks\":\"\"}}}],\"scattercarpet\":[{\"type\":\"scattercarpet\",\"marker\":{\"colorbar\":{\"outlinewidth\":0,\"ticks\":\"\"}}}],\"carpet\":[{\"aaxis\":{\"endlinecolor\":\"#2a3f5f\",\"gridcolor\":\"white\",\"linecolor\":\"white\",\"minorgridcolor\":\"white\",\"startlinecolor\":\"#2a3f5f\"},\"baxis\":{\"endlinecolor\":\"#2a3f5f\",\"gridcolor\":\"white\",\"linecolor\":\"white\",\"minorgridcolor\":\"white\",\"startlinecolor\":\"#2a3f5f\"},\"type\":\"carpet\"}],\"table\":[{\"cells\":{\"fill\":{\"color\":\"#EBF0F8\"},\"line\":{\"color\":\"white\"}},\"header\":{\"fill\":{\"color\":\"#C8D4E3\"},\"line\":{\"color\":\"white\"}},\"type\":\"table\"}],\"barpolar\":[{\"marker\":{\"line\":{\"color\":\"#E5ECF6\",\"width\":0.5},\"pattern\":{\"fillmode\":\"overlay\",\"size\":10,\"solidity\":0.2}},\"type\":\"barpolar\"}],\"pie\":[{\"automargin\":true,\"type\":\"pie\"}]},\"layout\":{\"autotypenumbers\":\"strict\",\"colorway\":[\"#636efa\",\"#EF553B\",\"#00cc96\",\"#ab63fa\",\"#FFA15A\",\"#19d3f3\",\"#FF6692\",\"#B6E880\",\"#FF97FF\",\"#FECB52\"],\"font\":{\"color\":\"#2a3f5f\"},\"hovermode\":\"closest\",\"hoverlabel\":{\"align\":\"left\"},\"paper_bgcolor\":\"white\",\"plot_bgcolor\":\"#E5ECF6\",\"polar\":{\"bgcolor\":\"#E5ECF6\",\"angularaxis\":{\"gridcolor\":\"white\",\"linecolor\":\"white\",\"ticks\":\"\"},\"radialaxis\":{\"gridcolor\":\"white\",\"linecolor\":\"white\",\"ticks\":\"\"}},\"ternary\":{\"bgcolor\":\"#E5ECF6\",\"aaxis\":{\"gridcolor\":\"white\",\"linecolor\":\"white\",\"ticks\":\"\"},\"baxis\":{\"gridcolor\":\"white\",\"linecolor\":\"white\",\"ticks\":\"\"},\"caxis\":{\"gridcolor\":\"white\",\"linecolor\":\"white\",\"ticks\":\"\"}},\"coloraxis\":{\"colorbar\":{\"outlinewidth\":0,\"ticks\":\"\"}},\"colorscale\":{\"sequential\":[[0.0,\"#0d0887\"],[0.1111111111111111,\"#46039f\"],[0.2222222222222222,\"#7201a8\"],[0.3333333333333333,\"#9c179e\"],[0.4444444444444444,\"#bd3786\"],[0.5555555555555556,\"#d8576b\"],[0.6666666666666666,\"#ed7953\"],[0.7777777777777778,\"#fb9f3a\"],[0.8888888888888888,\"#fdca26\"],[1.0,\"#f0f921\"]],\"sequentialminus\":[[0.0,\"#0d0887\"],[0.1111111111111111,\"#46039f\"],[0.2222222222222222,\"#7201a8\"],[0.3333333333333333,\"#9c179e\"],[0.4444444444444444,\"#bd3786\"],[0.5555555555555556,\"#d8576b\"],[0.6666666666666666,\"#ed7953\"],[0.7777777777777778,\"#fb9f3a\"],[0.8888888888888888,\"#fdca26\"],[1.0,\"#f0f921\"]],\"diverging\":[[0,\"#8e0152\"],[0.1,\"#c51b7d\"],[0.2,\"#de77ae\"],[0.3,\"#f1b6da\"],[0.4,\"#fde0ef\"],[0.5,\"#f7f7f7\"],[0.6,\"#e6f5d0\"],[0.7,\"#b8e186\"],[0.8,\"#7fbc41\"],[0.9,\"#4d9221\"],[1,\"#276419\"]]},\"xaxis\":{\"gridcolor\":\"white\",\"linecolor\":\"white\",\"ticks\":\"\",\"title\":{\"standoff\":15},\"zerolinecolor\":\"white\",\"automargin\":true,\"zerolinewidth\":2},\"yaxis\":{\"gridcolor\":\"white\",\"linecolor\":\"white\",\"ticks\":\"\",\"title\":{\"standoff\":15},\"zerolinecolor\":\"white\",\"automargin\":true,\"zerolinewidth\":2},\"scene\":{\"xaxis\":{\"backgroundcolor\":\"#E5ECF6\",\"gridcolor\":\"white\",\"linecolor\":\"white\",\"showbackground\":true,\"ticks\":\"\",\"zerolinecolor\":\"white\",\"gridwidth\":2},\"yaxis\":{\"backgroundcolor\":\"#E5ECF6\",\"gridcolor\":\"white\",\"linecolor\":\"white\",\"showbackground\":true,\"ticks\":\"\",\"zerolinecolor\":\"white\",\"gridwidth\":2},\"zaxis\":{\"backgroundcolor\":\"#E5ECF6\",\"gridcolor\":\"white\",\"linecolor\":\"white\",\"showbackground\":true,\"ticks\":\"\",\"zerolinecolor\":\"white\",\"gridwidth\":2}},\"shapedefaults\":{\"line\":{\"color\":\"#2a3f5f\"}},\"annotationdefaults\":{\"arrowcolor\":\"#2a3f5f\",\"arrowhead\":0,\"arrowwidth\":1},\"geo\":{\"bgcolor\":\"white\",\"landcolor\":\"#E5ECF6\",\"subunitcolor\":\"white\",\"showland\":true,\"showlakes\":true,\"lakecolor\":\"white\"},\"title\":{\"x\":0.05},\"mapbox\":{\"style\":\"light\"}}},\"xaxis\":{\"title\":{\"text\":\"Epoch\"}},\"yaxis\":{\"title\":{\"text\":\"Masked Accuracy\"}},\"title\":{\"text\":\"Evolution of Masked Accuracy across Epochs\",\"font\":{\"size\":20},\"x\":0.5},\"height\":500,\"width\":1200},                        {\"responsive\": true}                    ).then(function(){\n",
              "                            \n",
              "var gd = document.getElementById('9e77be7d-e0fd-4a3b-b4e3-fb7bd773c745');\n",
              "var x = new MutationObserver(function (mutations, observer) {{\n",
              "        var display = window.getComputedStyle(gd).display;\n",
              "        if (!display || display === 'none') {{\n",
              "            console.log([gd, 'removed!']);\n",
              "            Plotly.purge(gd);\n",
              "            observer.disconnect();\n",
              "        }}\n",
              "}});\n",
              "\n",
              "// Listen for the removal of the full notebook cells\n",
              "var notebookContainer = gd.closest('#notebook-container');\n",
              "if (notebookContainer) {{\n",
              "    x.observe(notebookContainer, {childList: true});\n",
              "}}\n",
              "\n",
              "// Listen for the clearing of the current output cell\n",
              "var outputEl = gd.closest('.output');\n",
              "if (outputEl) {{\n",
              "    x.observe(outputEl, {childList: true});\n",
              "}}\n",
              "\n",
              "                        })                };                            </script>        </div>\n",
              "</body>\n",
              "</html>"
            ]
          },
          "metadata": {}
        }
      ],
      "source": [
        "plot_metrics()\n",
        "plot_metrics(metric=\"masked_accuracy\")"
      ]
    },
    {
      "cell_type": "markdown",
      "metadata": {
        "id": "3ZxQzcbFuUaF"
      },
      "source": [
        "**Images for GitHub**"
      ]
    },
    {
      "cell_type": "code",
      "execution_count": null,
      "metadata": {
        "colab": {
          "base_uri": "https://localhost:8080/",
          "height": 1000
        },
        "id": "jU2ln7oba0bo",
        "outputId": "4ba4abff-4227-4706-f512-7a573facb34f"
      },
      "outputs": [
        {
          "output_type": "display_data",
          "data": {
            "image/png": "[encoded data removed]"
          },
          "metadata": {}
        },
        {
          "output_type": "display_data",
          "data": {
            "image/png": "[encoded data removed]"
          },
          "metadata": {}
        }
      ],
      "source": [
        "plot_metrics(renderer=\"png\")\n",
        "plot_metrics(metric=\"masked_accuracy\", renderer=\"png\")"
      ]
    },
    {
      "cell_type": "markdown",
      "source": [
        "### **With BLEU Score**\n",
        "\n",
        "[BLEU (Bilingual Evaluation Understudy)](https://huggingface.co/spaces/evaluate-metric/bleu) is an algorithm used to evaluate the quality of automatically translated text between languages. It uses a scoring range from 0 to 100, where a score of 100 represents a perfect translation. Evaluations are performed on individual translated segments by comparing them to a set of high-quality reference translations.\n",
        "\n",
        "To facilitate the evaluation of machine translation models using BLEU, [SacreBLEU](https://huggingface.co/spaces/evaluate-metric/sacrebleu) is employed. SacreBLEU is a specific implementation of BLEU within the SacreBLEU library, which provides additional tools and specific adjustments to simplify and standardize the evaluation of machine translations."
      ],
      "metadata": {
        "id": "tqZEQqTH5E-X"
      }
    },
    {
      "cell_type": "markdown",
      "source": [
        "**Load the Evaluation Metric**"
      ],
      "metadata": {
        "id": "WuxKxsoJ-AU3"
      }
    },
    {
      "cell_type": "code",
      "execution_count": 8,
      "metadata": {
        "colab": {
          "base_uri": "https://localhost:8080/",
          "height": 1000,
          "referenced_widgets": [
            "b74b46b78aba417a9368e405b499d777",
            "4fee809cdd2c42b8b3cb3f19b62cd0eb",
            "6a7d4469f0fc4f25a8bcffd6db60c76a",
            "cddfda38580f437181c99608e2a7dde1",
            "84769cf08c6949d282f67a407f9f22fc",
            "6fe626dfe5e44808bcda8b4b5ab41566",
            "c48d111d8b9b4b76873acefdc1ec7afc",
            "8879790729b64a59a2bbf4b7f0bc40e0",
            "19bf1805d5044701b5446d5de83cc253",
            "706202a19f7744f7960d77a5a03232ad",
            "4c6741e4600345b3ac1ffacf1935107d"
          ]
        },
        "id": "bZqEnbZTjat2",
        "outputId": "d72f2427-f179-4570-e868-1b0b3eb4d86b"
      },
      "outputs": [
        {
          "output_type": "display_data",
          "data": {
            "text/plain": [
              "Downloading builder script:   0%|          | 0.00/8.15k [00:00<?, ?B/s]"
            ],
            "application/vnd.jupyter.widget-view+json": {
              "version_major": 2,
              "version_minor": 0,
              "model_id": "b74b46b78aba417a9368e405b499d777"
            }
          },
          "metadata": {}
        },
        {
          "output_type": "execute_result",
          "data": {
            "text/plain": [
              "EvaluationModule(name: \"sacrebleu\", module_type: \"metric\", features: [{'predictions': Value(dtype='string', id='sequence'), 'references': Sequence(feature=Value(dtype='string', id='sequence'), length=-1, id='references')}, {'predictions': Value(dtype='string', id='sequence'), 'references': Value(dtype='string', id='sequence')}], usage: \"\"\"\n",
              "Produces BLEU scores along with its sufficient statistics\n",
              "from a source against one or more references.\n",
              "\n",
              "Args:\n",
              "    predictions (`list` of `str`): list of translations to score. Each translation should be tokenized into a list of tokens.\n",
              "    references (`list` of `list` of `str`): A list of lists of references. The contents of the first sub-list are the references for the first prediction, the contents of the second sub-list are for the second prediction, etc. Note that there must be the same number of references for each prediction (i.e. all sub-lists must be of the same length).\n",
              "    smooth_method (`str`): The smoothing method to use, defaults to `'exp'`. Possible values are:\n",
              "        - `'none'`: no smoothing\n",
              "        - `'floor'`: increment zero counts\n",
              "        - `'add-k'`: increment num/denom by k for n>1\n",
              "        - `'exp'`: exponential decay\n",
              "    smooth_value (`float`): The smoothing value. Only valid when `smooth_method='floor'` (in which case `smooth_value` defaults to `0.1`) or `smooth_method='add-k'` (in which case `smooth_value` defaults to `1`).\n",
              "    tokenize (`str`): Tokenization method to use for BLEU. If not provided, defaults to `'zh'` for Chinese, `'ja-mecab'` for Japanese and `'13a'` (mteval) otherwise. Possible values are:\n",
              "        - `'none'`: No tokenization.\n",
              "        - `'zh'`: Chinese tokenization.\n",
              "        - `'13a'`: mimics the `mteval-v13a` script from Moses.\n",
              "        - `'intl'`: International tokenization, mimics the `mteval-v14` script from Moses\n",
              "        - `'char'`: Language-agnostic character-level tokenization.\n",
              "        - `'ja-mecab'`: Japanese tokenization. Uses the [MeCab tokenizer](https://pypi.org/project/mecab-python3).\n",
              "    lowercase (`bool`): If `True`, lowercases the input, enabling case-insensitivity. Defaults to `False`.\n",
              "    force (`bool`): If `True`, insists that your tokenized input is actually detokenized. Defaults to `False`.\n",
              "    use_effective_order (`bool`): If `True`, stops including n-gram orders for which precision is 0. This should be `True`, if sentence-level BLEU will be computed. Defaults to `False`.\n",
              "\n",
              "Returns:\n",
              "    'score': BLEU score,\n",
              "    'counts': Counts,\n",
              "    'totals': Totals,\n",
              "    'precisions': Precisions,\n",
              "    'bp': Brevity penalty,\n",
              "    'sys_len': predictions length,\n",
              "    'ref_len': reference length,\n",
              "\n",
              "Examples:\n",
              "\n",
              "    Example 1:\n",
              "        >>> predictions = [\"hello there general kenobi\", \"foo bar foobar\"]\n",
              "        >>> references = [[\"hello there general kenobi\", \"hello there !\"], [\"foo bar foobar\", \"foo bar foobar\"]]\n",
              "        >>> sacrebleu = evaluate.load(\"sacrebleu\")\n",
              "        >>> results = sacrebleu.compute(predictions=predictions, references=references)\n",
              "        >>> print(list(results.keys()))\n",
              "        ['score', 'counts', 'totals', 'precisions', 'bp', 'sys_len', 'ref_len']\n",
              "        >>> print(round(results[\"score\"], 1))\n",
              "        100.0\n",
              "\n",
              "    Example 2:\n",
              "        >>> predictions = [\"hello there general kenobi\",\n",
              "        ...                 \"on our way to ankh morpork\"]\n",
              "        >>> references = [[\"hello there general kenobi\", \"hello there !\"],\n",
              "        ...                 [\"goodbye ankh morpork\", \"ankh morpork\"]]\n",
              "        >>> sacrebleu = evaluate.load(\"sacrebleu\")\n",
              "        >>> results = sacrebleu.compute(predictions=predictions,\n",
              "        ...                             references=references)\n",
              "        >>> print(list(results.keys()))\n",
              "        ['score', 'counts', 'totals', 'precisions', 'bp', 'sys_len', 'ref_len']\n",
              "        >>> print(round(results[\"score\"], 1))\n",
              "        39.8\n",
              "\"\"\", stored examples: 0)"
            ]
          },
          "metadata": {},
          "execution_count": 8
        }
      ],
      "source": [
        "metric = load(\"sacrebleu\")\n",
        "metric"
      ]
    },
    {
      "cell_type": "markdown",
      "source": [
        "**Function to calculate BLEU score given a list of texts and a list with their reference or references**"
      ],
      "metadata": {
        "id": "SyW-QvM4Z8zN"
      }
    },
    {
      "cell_type": "code",
      "execution_count": null,
      "metadata": {
        "id": "M4cwxssHd1-A"
      },
      "outputs": [],
      "source": [
        "def evaluate_bleu_score(dataset):\n",
        "  list_predictions, list_references, list_scores = [], [], []\n",
        "\n",
        "  for i in tqdm(range(0, len(dataset[\"en\"]), batch_size)):\n",
        "    contexts = dataset[\"en\"][i: i+batch_size]\n",
        "    targets = dataset[\"es\"][i: i+batch_size]\n",
        "\n",
        "    inputs = tokenizer(contexts, padding=True, pad_to_multiple_of=32, return_tensors=\"tf\")\n",
        "    predictions = model_base.generate(**inputs, max_length=256)\n",
        "    predictions = tokenizer.batch_decode(predictions, skip_special_tokens=True)\n",
        "\n",
        "    # Add a space to the right of the ¿¡ signs, as the metric does not tokenize them properly\n",
        "    predictions = [re.sub(r\"([¿¡])\", r\"\\1 \", p) for p in predictions]\n",
        "    references = [[re.sub(r\"([¿¡])\", r\"\\1 \", t)] for t in targets]\n",
        "\n",
        "    scores = [\n",
        "        metric.compute(predictions=[pred], references=[ref], use_effective_order=True)[\"score\"]\n",
        "        for pred, ref in zip(predictions, references)\n",
        "    ]\n",
        "\n",
        "    list_predictions += predictions\n",
        "    list_references += references\n",
        "    list_scores += scores\n",
        "\n",
        "  return list_predictions, list_references, list_scores"
      ]
    },
    {
      "cell_type": "code",
      "source": [
        "# Calculating the BLEU score for the evaluation dataset\n",
        "predictions, references, scores = evaluate_bleu_score(val_dataset)\n",
        "print(f\"BLEU Score: {np.mean(scores)}\")"
      ],
      "metadata": {
        "colab": {
          "base_uri": "https://localhost:8080/",
          "height": 66,
          "referenced_widgets": [
            "d41f1a7466054ef18008f27280b46863",
            "7d581cddb73d4f609962a1e53baf164e",
            "962f6167c2654f8d8f843f3b2f024f11",
            "bed4d365f2094dc69b7536883e822571",
            "17edf9cade424454a9dcf50435ff01ca",
            "f28a9bc80a0e4713a9df3f36ccf16b9c",
            "84777657dad14f648fef51ac89444386",
            "06951e368daf451bb9cd6b4e9b280d8d",
            "68f2c4d719f24b07bbf66ca4d16146bd",
            "5848d9b95efa45e5915c7aa8523fc646",
            "2f2ffe6ad5a6404cbed00592bf63b398"
          ]
        },
        "id": "86dc-kgc6cFu",
        "outputId": "80c81dcc-797a-4521-ee38-0c6fdbc52c00"
      },
      "execution_count": null,
      "outputs": [
        {
          "output_type": "display_data",
          "data": {
            "text/plain": [
              "  0%|          | 0/67 [00:00<?, ?it/s]"
            ],
            "application/vnd.jupyter.widget-view+json": {
              "version_major": 2,
              "version_minor": 0,
              "model_id": "d41f1a7466054ef18008f27280b46863"
            }
          },
          "metadata": {}
        },
        {
          "output_type": "stream",
          "name": "stdout",
          "text": [
            "BLEU Score: 57.686828873112006\n"
          ]
        }
      ]
    },
    {
      "cell_type": "code",
      "source": [
        "metric.compute(predictions=predictions, references=references)"
      ],
      "metadata": {
        "colab": {
          "base_uri": "https://localhost:8080/"
        },
        "id": "hiabW1oHydzT",
        "outputId": "d314fb38-6ce7-4728-ebc3-46bf5e4513cd"
      },
      "execution_count": null,
      "outputs": [
        {
          "output_type": "execute_result",
          "data": {
            "text/plain": [
              "{'score': 58.22083109192648,\n",
              " 'counts': [12191, 8286, 5739, 3902],\n",
              " 'totals': [15220, 13101, 10982, 8871],\n",
              " 'precisions': [80.09855453350855,\n",
              "  63.24708037554385,\n",
              "  52.25824075760335,\n",
              "  43.98602186901139],\n",
              " 'bp': 0.9966547537070007,\n",
              " 'sys_len': 15220,\n",
              " 'ref_len': 15271}"
            ]
          },
          "metadata": {},
          "execution_count": 139
        }
      ]
    },
    {
      "cell_type": "markdown",
      "source": [
        "The BLEU score of the model on the evaluation dataset is **57.69**. This value, calculated individually, is more accurate due to the use of the argument `use_effective_order=True`, which only considers n-grams that match the length of the evaluated text. On the other hand, the aggregate calculation yields a score of **58.22**, which is slightly less precise. This discrepancy occurs because when sequences are shorter than the n-grams considered by the metric, a score of 0 is assigned, even if the prediction and the reference are identical.\n",
        "\n",
        "A BLEU score of 57.69 indicates that the model produces translations of medium to high quality. It is important to note that this score might be higher if the evaluation dataset had multiple references for each entry, as there are often several possible translations when switching languages, especially for very long texts. As we will see later when generating translations, the model is excellent even with long or very long texts, suggesting that its BLEU score should reflect high quality.\n",
        "\n",
        "In comparison to the LSTM with Attention model (BLEU score of 37.33), which was only good for short or medium texts, the Transformer model shows a significant improvement."
      ],
      "metadata": {
        "id": "C16YXoxGgxDa"
      }
    },
    {
      "cell_type": "markdown",
      "metadata": {
        "id": "9NhEDFT-uiav"
      },
      "source": [
        "## **Translate from English to Spanish**"
      ]
    },
    {
      "cell_type": "code",
      "execution_count": 9,
      "metadata": {
        "colab": {
          "base_uri": "https://localhost:8080/"
        },
        "id": "KWo6Im5NNN1e",
        "outputId": "a6ab8bdf-cbf7-4e16-896d-84446a8c026d"
      },
      "outputs": [
        {
          "output_type": "stream",
          "name": "stderr",
          "text": [
            "All model checkpoint layers were used when initializing TFMarianMTModel.\n",
            "\n",
            "All the layers of TFMarianMTModel were initialized from the model checkpoint at /content/drive/MyDrive/models/TranslationEN-ES_MarianMT_ManyThings.\n",
            "If your task is similar to the task the model of the checkpoint was trained on, you can already use TFMarianMTModel for predictions without further training.\n"
          ]
        }
      ],
      "source": [
        "# Load the trained model\n",
        "tf.keras.backend.clear_session()\n",
        "model = TFAutoModelForSeq2SeqLM.from_pretrained(trained_model_path)"
      ]
    },
    {
      "cell_type": "code",
      "source": [
        "# Function to generate translations and display them in HTML format\n",
        "def display_translation(text, reference=None, max_length=256):\n",
        "  inputs = tokenizer([text], return_tensors=\"tf\")\n",
        "  pred = model.generate(**inputs, max_length=max_length)\n",
        "  pred = tokenizer.decode(pred[0], skip_special_tokens=True)\n",
        "\n",
        "  if reference is not None:\n",
        "    score = metric.compute(\n",
        "        predictions=[re.sub(r\"([¿¡])\", r\"\\1 \", pred)],\n",
        "        references=[[re.sub(r\"([¿¡])\", r\"\\1 \", ref) for ref in reference]],\n",
        "        use_effective_order=True\n",
        "    )[\"score\"]\n",
        "\n",
        "    display(HTML(f\"\"\"\n",
        "    <div style=\"width: 700px;\">\n",
        "      <b>English Text:</b> {text}<br><br>\n",
        "      <b>Spanish Translation:</b> {pred}<br><br>\n",
        "      <b>Reference Translations:</b> {reference}<br><br>\n",
        "      <b><span style=\"color: blue\">BLEU Score:</span></b> {round(score, 2)}\n",
        "    </div>\n",
        "    \"\"\"))\n",
        "\n",
        "  else:\n",
        "    display(HTML(f\"\"\"\n",
        "    <div style=\"width: 700px;\">\n",
        "      <b>English Text:</b> {text}<br><br>\n",
        "      <b>Spanish Translation:</b> {pred}\n",
        "    </div>\n",
        "    \"\"\"))"
      ],
      "metadata": {
        "id": "W_3dC-l6CnS_"
      },
      "execution_count": 23,
      "outputs": []
    },
    {
      "cell_type": "code",
      "source": [
        "# Without references\n",
        "display_translation(\"See you later.\")"
      ],
      "metadata": {
        "colab": {
          "base_uri": "https://localhost:8080/",
          "height": 69
        },
        "id": "_iqPYExf7LXg",
        "outputId": "da501867-3d89-4328-be39-28d4e96c6dae"
      },
      "execution_count": 33,
      "outputs": [
        {
          "output_type": "display_data",
          "data": {
            "text/plain": [
              "<IPython.core.display.HTML object>"
            ],
            "text/html": [
              "\n",
              "    <div style=\"width: 700px;\">\n",
              "      <b>English Text:</b> See you later.<br><br>\n",
              "      <b>Spanish Translation:</b> Hasta luego.\n",
              "    </div>\n",
              "    "
            ]
          },
          "metadata": {}
        }
      ]
    },
    {
      "cell_type": "code",
      "source": [
        "display_translation(\n",
        "    text=\"I was born in Spain.\",\n",
        "    reference=[\"Nací en España.\", \"Yo nací en España\"]\n",
        ")"
      ],
      "metadata": {
        "colab": {
          "base_uri": "https://localhost:8080/",
          "height": 139
        },
        "id": "2HaR8Bm4z5_m",
        "outputId": "6982249d-12a5-4b94-9a9f-e1cdf72b2826"
      },
      "execution_count": 32,
      "outputs": [
        {
          "output_type": "display_data",
          "data": {
            "text/plain": [
              "<IPython.core.display.HTML object>"
            ],
            "text/html": [
              "\n",
              "    <div style=\"width: 700px;\">\n",
              "      <b>English Text:</b> I was born in Spain.<br><br>\n",
              "      <b>Spanish Translation:</b> Nací en España.<br><br>\n",
              "      <b>Reference Translations:</b> ['Nací en España.', 'Yo nací en España']<br><br>\n",
              "      <b><span style=\"color: blue\">BLEU Score:</span></b> 100.0\n",
              "    </div>\n",
              "    "
            ]
          },
          "metadata": {}
        }
      ]
    },
    {
      "cell_type": "code",
      "source": [
        "display_translation(\n",
        "    text=\"How old are you?\",\n",
        "    reference=[\"¿Cuántos años tienes?\"]\n",
        ")"
      ],
      "metadata": {
        "colab": {
          "base_uri": "https://localhost:8080/",
          "height": 139
        },
        "id": "4uxMdsUh4M5B",
        "outputId": "c15da80b-f218-41e9-f9b3-d85b61720787"
      },
      "execution_count": 31,
      "outputs": [
        {
          "output_type": "display_data",
          "data": {
            "text/plain": [
              "<IPython.core.display.HTML object>"
            ],
            "text/html": [
              "\n",
              "    <div style=\"width: 700px;\">\n",
              "      <b>English Text:</b> How old are you?<br><br>\n",
              "      <b>Spanish Translation:</b> ¿Cuántos años tienes?<br><br>\n",
              "      <b>Reference Translations:</b> ['¿Cuántos años tienes?']<br><br>\n",
              "      <b><span style=\"color: blue\">BLEU Score:</span></b> 100.0\n",
              "    </div>\n",
              "    "
            ]
          },
          "metadata": {}
        }
      ]
    },
    {
      "cell_type": "code",
      "source": [
        "display_translation(\n",
        "    text=\"Where are you from?\",\n",
        "    reference=[\"¿De qué lugar eres?\", \"¿De dónde eres?\", \"¿De dónde sos?\"]\n",
        ")"
      ],
      "metadata": {
        "colab": {
          "base_uri": "https://localhost:8080/",
          "height": 139
        },
        "id": "cQ-PP6hw35gJ",
        "outputId": "97fb62e4-86b3-4caf-b7b9-a20d62bbcfdf"
      },
      "execution_count": 30,
      "outputs": [
        {
          "output_type": "display_data",
          "data": {
            "text/plain": [
              "<IPython.core.display.HTML object>"
            ],
            "text/html": [
              "\n",
              "    <div style=\"width: 700px;\">\n",
              "      <b>English Text:</b> Where are you from?<br><br>\n",
              "      <b>Spanish Translation:</b> ¿De dónde eres?<br><br>\n",
              "      <b>Reference Translations:</b> ['¿De qué lugar eres?', '¿De dónde eres?', '¿De dónde sos?']<br><br>\n",
              "      <b><span style=\"color: blue\">BLEU Score:</span></b> 100.0\n",
              "    </div>\n",
              "    "
            ]
          },
          "metadata": {}
        }
      ]
    },
    {
      "cell_type": "code",
      "source": [
        "display_translation(\n",
        "    text=\"You did an excellent job!\",\n",
        "    reference=[\"¡Hiciste un excelente trabajo!\"]\n",
        ")"
      ],
      "metadata": {
        "colab": {
          "base_uri": "https://localhost:8080/",
          "height": 139
        },
        "id": "D34y8EB1srQz",
        "outputId": "49c4f952-1006-4dfd-a286-20be583f78c2"
      },
      "execution_count": 29,
      "outputs": [
        {
          "output_type": "display_data",
          "data": {
            "text/plain": [
              "<IPython.core.display.HTML object>"
            ],
            "text/html": [
              "\n",
              "    <div style=\"width: 700px;\">\n",
              "      <b>English Text:</b> You did an excellent job!<br><br>\n",
              "      <b>Spanish Translation:</b> ¡Hiciste un excelente trabajo!<br><br>\n",
              "      <b>Reference Translations:</b> ['¡Hiciste un excelente trabajo!']<br><br>\n",
              "      <b><span style=\"color: blue\">BLEU Score:</span></b> 100.0\n",
              "    </div>\n",
              "    "
            ]
          },
          "metadata": {}
        }
      ]
    },
    {
      "cell_type": "code",
      "source": [
        "display_translation(\n",
        "    text=\"I like to learn, that's why I study at the university.\",\n",
        "    reference=[\"Me gusta aprender, por eso estudio en la universidad.\"]\n",
        ")"
      ],
      "metadata": {
        "colab": {
          "base_uri": "https://localhost:8080/",
          "height": 139
        },
        "id": "2PhsyRSBPAqP",
        "outputId": "f7d6098f-2a86-4163-df33-9cafd7f6d10d"
      },
      "execution_count": 28,
      "outputs": [
        {
          "output_type": "display_data",
          "data": {
            "text/plain": [
              "<IPython.core.display.HTML object>"
            ],
            "text/html": [
              "\n",
              "    <div style=\"width: 700px;\">\n",
              "      <b>English Text:</b> I like to learn, that's why I study at the university.<br><br>\n",
              "      <b>Spanish Translation:</b> Me gusta aprender, por eso estudio en la universidad.<br><br>\n",
              "      <b>Reference Translations:</b> ['Me gusta aprender, por eso estudio en la universidad.']<br><br>\n",
              "      <b><span style=\"color: blue\">BLEU Score:</span></b> 100.0\n",
              "    </div>\n",
              "    "
            ]
          },
          "metadata": {}
        }
      ]
    },
    {
      "cell_type": "code",
      "source": [
        "display_translation(\n",
        "    text=\"Tomorrow, we will visit our grandparents who live in the countryside.\",\n",
        "    reference=[\n",
        "        \"Mañana visitaremos a nuestros abuelos que viven en el campo.\",\n",
        "        \"Mañana vamos a visitar a nuestros abuelos que viven en el campo.\",\n",
        "    ]\n",
        ")"
      ],
      "metadata": {
        "colab": {
          "base_uri": "https://localhost:8080/",
          "height": 156
        },
        "id": "TD7uPRf7Bo3s",
        "outputId": "0e0b4048-8a1d-4a89-9256-6c005e556c0a"
      },
      "execution_count": 27,
      "outputs": [
        {
          "output_type": "display_data",
          "data": {
            "text/plain": [
              "<IPython.core.display.HTML object>"
            ],
            "text/html": [
              "\n",
              "    <div style=\"width: 700px;\">\n",
              "      <b>English Text:</b> Tomorrow, we will visit our grandparents who live in the countryside.<br><br>\n",
              "      <b>Spanish Translation:</b> Mañana visitaremos a nuestros abuelos que viven en el campo.<br><br>\n",
              "      <b>Reference Translations:</b> ['Mañana visitaremos a nuestros abuelos que viven en el campo.', 'Mañana vamos a visitar a nuestros abuelos que viven en el campo.']<br><br>\n",
              "      <b><span style=\"color: blue\">BLEU Score:</span></b> 100.0\n",
              "    </div>\n",
              "    "
            ]
          },
          "metadata": {}
        }
      ]
    },
    {
      "cell_type": "code",
      "source": [
        "display_translation(\n",
        "    text=\"In what ways can artificial intelligence improve healthcare delivery and patient outcomes?\",\n",
        "    reference=[\"¿De qué maneras la inteligencia artificial puede mejorar la atención médica y los resultados de los pacientes?\"]\n",
        ")"
      ],
      "metadata": {
        "colab": {
          "base_uri": "https://localhost:8080/",
          "height": 173
        },
        "id": "oDXajl8JQglP",
        "outputId": "19c1d777-9c82-4c87-e5ea-4779f7364dfe"
      },
      "execution_count": 82,
      "outputs": [
        {
          "output_type": "display_data",
          "data": {
            "text/plain": [
              "<IPython.core.display.HTML object>"
            ],
            "text/html": [
              "\n",
              "    <div style=\"width: 700px;\">\n",
              "      <b>English Text:</b> In what ways can artificial intelligence improve healthcare delivery and patient outcomes?<br><br>\n",
              "      <b>Spanish Translation:</b> ¿De qué maneras la inteligencia artificial puede mejorar la atención médica y los resultados de los pacientes?<br><br>\n",
              "      <b>Reference Translations:</b> ['¿De qué maneras la inteligencia artificial puede mejorar la atención médica y los resultados de los pacientes?']<br><br>\n",
              "      <b><span style=\"color: blue\">BLEU Score:</span></b> 100.0\n",
              "    </div>\n",
              "    "
            ]
          },
          "metadata": {}
        }
      ]
    },
    {
      "cell_type": "code",
      "source": [
        "display_translation(\n",
        "    text=\"I enjoy watching horror movies and science fiction series in my free time.\",\n",
        "    reference=[\"Me gusta ver películas de terror y series de ciencia ficción en mi tiempo libre.\"]\n",
        ")"
      ],
      "metadata": {
        "colab": {
          "base_uri": "https://localhost:8080/",
          "height": 139
        },
        "id": "WWLRRQ65szni",
        "outputId": "1b2055a6-7584-46d5-bb6d-b2c648a0b41f"
      },
      "execution_count": 74,
      "outputs": [
        {
          "output_type": "display_data",
          "data": {
            "text/plain": [
              "<IPython.core.display.HTML object>"
            ],
            "text/html": [
              "\n",
              "    <div style=\"width: 700px;\">\n",
              "      <b>English Text:</b> I enjoy watching horror movies and science fiction series in my free time.<br><br>\n",
              "      <b>Spanish Translation:</b> Me gusta ver películas de terror y series de ciencia ficción en mi tiempo libre.<br><br>\n",
              "      <b>Reference Translations:</b> ['Me gusta ver películas de terror y series de ciencia ficción en mi tiempo libre.']<br><br>\n",
              "      <b><span style=\"color: blue\">BLEU Score:</span></b> 100.0\n",
              "    </div>\n",
              "    "
            ]
          },
          "metadata": {}
        }
      ]
    },
    {
      "cell_type": "markdown",
      "source": [
        "**Long Texts**"
      ],
      "metadata": {
        "id": "917AMmnAeng4"
      }
    },
    {
      "cell_type": "code",
      "source": [
        "display_translation(\n",
        "    text=\"When she arrived at the train station, she realized she had forgotten her ticket at home and had to rush back to retrieve it.\",\n",
        "    reference=[\n",
        "        \"Cuando llegó a la estación de tren, ella se dio cuenta de que había olvidado su boleto en casa y tuvo que volver corriendo a buscarlo.\",\n",
        "        \"Cuando llegó a la estación de tren, se dio cuenta de que había olvidado su boleto en casa y tuvo que volver corriendo para recuperarlo.\",\n",
        "        \"Al llegar a la estación de tren, se dio cuenta de que había dejado su billete en casa y tuvo que regresar apresuradamente para buscarlo.\"\n",
        "    ]\n",
        ")"
      ],
      "metadata": {
        "colab": {
          "base_uri": "https://localhost:8080/",
          "height": 225
        },
        "id": "10HgOThf-Xbc",
        "outputId": "0d1d3a95-efc7-42d5-d697-95ea583405ab"
      },
      "execution_count": 50,
      "outputs": [
        {
          "output_type": "display_data",
          "data": {
            "text/plain": [
              "<IPython.core.display.HTML object>"
            ],
            "text/html": [
              "\n",
              "    <div style=\"width: 700px;\">\n",
              "      <b>English Text:</b> When she arrived at the train station, she realized she had forgotten her ticket at home and had to rush back to retrieve it.<br><br>\n",
              "      <b>Spanish Translation:</b> Cuando llegó a la estación de tren, se dio cuenta de que había olvidado su boleto en casa y tuvo que volver corriendo para recuperarlo.<br><br>\n",
              "      <b>Reference Translations:</b> ['Cuando llegó a la estación de tren, ella se dio cuenta de que había olvidado su boleto en casa y tuvo que volver corriendo a buscarlo.', 'Cuando llegó a la estación de tren, se dio cuenta de que había olvidado su boleto en casa y tuvo que volver corriendo para recuperarlo.', 'Al llegar a la estación de tren, se dio cuenta de que había dejado su billete en casa y tuvo que regresar apresuradamente para buscarlo.']<br><br>\n",
              "      <b><span style=\"color: blue\">BLEU Score:</span></b> 100.0\n",
              "    </div>\n",
              "    "
            ]
          },
          "metadata": {}
        }
      ]
    },
    {
      "cell_type": "markdown",
      "source": [
        "To accurately calculate the BLEU score for long text translations, multiple references are needed. Otherwise, it can result in situations like the following example: there is only one reference, but the translation is equivalent and very good, yet it only achieves a score of 51.45 when it should be 100 or very close to it."
      ],
      "metadata": {
        "id": "ZzahgFT6hy9Q"
      }
    },
    {
      "cell_type": "code",
      "source": [
        "display_translation(\n",
        "    text=\"In ten years, he will have his own company, will have become a successful professional worldwide, and will be helping many people in his country.\",\n",
        "    reference=[\"En diez años, él tendrá su propia empresa, se habrá convertido en un profesional exitoso a nivel mundial y estará ayudando a muchas personas en su país.\"]\n",
        ")"
      ],
      "metadata": {
        "colab": {
          "base_uri": "https://localhost:8080/",
          "height": 191
        },
        "id": "BMIamXfxMPUj",
        "outputId": "72265d62-bfe3-4fee-8546-a849c95b92c2"
      },
      "execution_count": 51,
      "outputs": [
        {
          "output_type": "display_data",
          "data": {
            "text/plain": [
              "<IPython.core.display.HTML object>"
            ],
            "text/html": [
              "\n",
              "    <div style=\"width: 700px;\">\n",
              "      <b>English Text:</b> In ten years, he will have his own company, will have become a successful professional worldwide, and will be helping many people in his country.<br><br>\n",
              "      <b>Spanish Translation:</b> En diez años, él tendrá su propia compañía, se habrá convertido en un exitoso profesional en todo el mundo, y estará ayudando a mucha gente en su país.<br><br>\n",
              "      <b>Reference Translations:</b> ['En diez años, él tendrá su propia empresa, se habrá convertido en un profesional exitoso a nivel mundial y estará ayudando a muchas personas en su país.']<br><br>\n",
              "      <b><span style=\"color: blue\">BLEU Score:</span></b> 51.45\n",
              "    </div>\n",
              "    "
            ]
          },
          "metadata": {}
        }
      ]
    },
    {
      "cell_type": "code",
      "source": [
        "display_translation(\n",
        "    text=\"Globalization has interconnected economies around the world, fostering trade, cultural exchange, and international cooperation.\",\n",
        "    reference=[\n",
        "        \"La globalización ha interconectado las economías de todo el mundo, fomentando el comercio, el intercambio cultural y la cooperación internacional.\",\n",
        "        \"La globalización ha interconectado las economías alrededor del mundo, fomentando el comercio, el intercambio cultural y la cooperación internacional.\",\n",
        "        \"La globalización ha conectado las economías a nivel mundial, promoviendo el comercio, el intercambio cultural y la cooperación internacional.\"\n",
        "    ]\n",
        ")"
      ],
      "metadata": {
        "colab": {
          "base_uri": "https://localhost:8080/",
          "height": 243
        },
        "id": "j7k03Eg6dIuh",
        "outputId": "17f0478b-92ec-4fcd-f9f0-97131900869a"
      },
      "execution_count": 55,
      "outputs": [
        {
          "output_type": "display_data",
          "data": {
            "text/plain": [
              "<IPython.core.display.HTML object>"
            ],
            "text/html": [
              "\n",
              "    <div style=\"width: 700px;\">\n",
              "      <b>English Text:</b> Globalization has interconnected economies around the world, fostering trade, cultural exchange, and international cooperation.<br><br>\n",
              "      <b>Spanish Translation:</b> La globalización ha interconectado las economías de todo el mundo, fomentando el comercio, el intercambio cultural y la cooperación internacional.<br><br>\n",
              "      <b>Reference Translations:</b> ['La globalización ha interconectado las economías de todo el mundo, fomentando el comercio, el intercambio cultural y la cooperación internacional.', 'La globalización ha interconectado las economías alrededor del mundo, fomentando el comercio, el intercambio cultural y la cooperación internacional.', 'La globalización ha conectado las economías a nivel mundial, promoviendo el comercio, el intercambio cultural y la cooperación internacional.']<br><br>\n",
              "      <b><span style=\"color: blue\">BLEU Score:</span></b> 100.0\n",
              "    </div>\n",
              "    "
            ]
          },
          "metadata": {}
        }
      ]
    },
    {
      "cell_type": "code",
      "source": [
        "display_translation(\n",
        "    text=\"Social media platforms have reshaped communication patterns, connecting people globally while also raising concerns about privacy and digital security.\",\n",
        "    reference=[\n",
        "        \"Las plataformas de redes sociales han transformado los patrones de comunicación, conectando a las personas a nivel global pero también generando preocupaciones sobre la privacidad y la seguridad digital.\",\n",
        "        \"Las plataformas de redes sociales han remodelado los patrones de comunicación, conectando a las personas globalmente mientras también suscitan preocupaciones sobre la privacidad y la seguridad digital.\",\n",
        "        \"Las redes sociales han transformado los patrones de comunicación, conectando a las personas a nivel global, al mismo tiempo que plantean preocupaciones sobre la privacidad y la seguridad digital.\"\n",
        "    ]\n",
        ")"
      ],
      "metadata": {
        "colab": {
          "base_uri": "https://localhost:8080/",
          "height": 295
        },
        "id": "Qrm3jGb4kUj5",
        "outputId": "67120d59-e082-4455-f7ee-fa7a071d4e1c"
      },
      "execution_count": 59,
      "outputs": [
        {
          "output_type": "display_data",
          "data": {
            "text/plain": [
              "<IPython.core.display.HTML object>"
            ],
            "text/html": [
              "\n",
              "    <div style=\"width: 700px;\">\n",
              "      <b>English Text:</b> Social media platforms have reshaped communication patterns, connecting people globally while also raising concerns about privacy and digital security.<br><br>\n",
              "      <b>Spanish Translation:</b> Las plataformas de redes sociales han remodelado los patrones de comunicación, conectando a las personas globalmente, al mismo tiempo que plantean preocupaciones sobre privacidad y seguridad digital.<br><br>\n",
              "      <b>Reference Translations:</b> ['Las plataformas de redes sociales han transformado los patrones de comunicación, conectando a las personas a nivel global pero también generando preocupaciones sobre la privacidad y la seguridad digital.', 'Las plataformas de redes sociales han remodelado los patrones de comunicación, conectando a las personas globalmente mientras también suscitan preocupaciones sobre la privacidad y la seguridad digital.', 'Las redes sociales han transformado los patrones de comunicación, conectando a las personas a nivel global, al mismo tiempo que plantean preocupaciones sobre la privacidad y la seguridad digital.']<br><br>\n",
              "      <b><span style=\"color: blue\">BLEU Score:</span></b> 83.91\n",
              "    </div>\n",
              "    "
            ]
          },
          "metadata": {}
        }
      ]
    },
    {
      "cell_type": "code",
      "source": [
        "display_translation(\n",
        "    text=\"The future of artificial intelligence is both thrilling and uncertain! Advancements in AI are revolutionizing industries across the globe, but ethical concerns remain a pressing issue.\",\n",
        "    reference=[\n",
        "        \"¡El futuro de la inteligencia artificial es emocionante y al mismo tiempo incierto! Los avances en IA están revolucionando industrias en todo el mundo, pero las preocupaciones éticas siguen siendo una cuestión apremiante.\",\n",
        "        \"El futuro de la inteligencia artificial es tanto emocionante como incierto! Los avances en IA están transformando industrias en todo el mundo, pero las preocupaciones éticas siguen siendo un asunto urgente.\",\n",
        "        \"¡El futuro de la inteligencia artificial es emocionante e incierto! Los avances en IA están revolucionando industrias en todo el mundo, pero las preocupaciones éticas siguen siendo una preocupación apremiante.\"\n",
        "    ]\n",
        ")"
      ],
      "metadata": {
        "colab": {
          "base_uri": "https://localhost:8080/",
          "height": 295
        },
        "id": "ktTralV2qrJh",
        "outputId": "d0e7d353-5faf-4f73-92af-c0b08c8fa001"
      },
      "execution_count": 65,
      "outputs": [
        {
          "output_type": "display_data",
          "data": {
            "text/plain": [
              "<IPython.core.display.HTML object>"
            ],
            "text/html": [
              "\n",
              "    <div style=\"width: 700px;\">\n",
              "      <b>English Text:</b> The future of artificial intelligence is both thrilling and uncertain! Advancements in AI are revolutionizing industries across the globe, but ethical concerns remain a pressing issue.<br><br>\n",
              "      <b>Spanish Translation:</b> ¡El futuro de la inteligencia artificial es emocionante e incierto! Los avances en IA están revolucionando industrias en todo el mundo, pero las preocupaciones éticas siguen siendo un asunto apremiante.<br><br>\n",
              "      <b>Reference Translations:</b> ['¡El futuro de la inteligencia artificial es emocionante y al mismo tiempo incierto! Los avances en IA están revolucionando industrias en todo el mundo, pero las preocupaciones éticas siguen siendo una cuestión apremiante.', 'El futuro de la inteligencia artificial es tanto emocionante como incierto! Los avances en IA están transformando industrias en todo el mundo, pero las preocupaciones éticas siguen siendo un asunto urgente.', '¡El futuro de la inteligencia artificial es emocionante e incierto! Los avances en IA están revolucionando industrias en todo el mundo, pero las preocupaciones éticas siguen siendo una preocupación apremiante.']<br><br>\n",
              "      <b><span style=\"color: blue\">BLEU Score:</span></b> 96.03\n",
              "    </div>\n",
              "    "
            ]
          },
          "metadata": {}
        }
      ]
    },
    {
      "cell_type": "markdown",
      "source": [
        "**Very long texts**\n",
        "\n",
        "For these texts, the BLEU score will no longer be calculated, as a large number of references would be required. However, as will be seen below, the translation is excellent!"
      ],
      "metadata": {
        "id": "zIVn_ep7W4TJ"
      }
    },
    {
      "cell_type": "code",
      "source": [
        "display_translation(\n",
        "    text=\"The trip had been planned for months, and now it was finally happening. John and his family were embarking on a cross-country road trip, a journey that promised adventure and discovery. They had mapped out their route, with stops at various national parks, historical landmarks, and charming small towns. Each day brought new experiences: hiking through dense forests, marveling at the vastness of the Grand Canyon, and exploring the cultural heritage of different regions. They stayed in cozy cabins, tried local cuisines, and met people with fascinating stories. One memorable night, they camped under the stars in a remote area, the sky a canvas of twinkling lights that seemed to stretch on forever. As they sat around the campfire, roasting marshmallows and sharing stories, John felt a deep bond with his family, strengthened by the shared experiences and the beauty of the world around them. This trip was more than just a vacation; it was a journey of growth, learning, and togetherness that they would remember for the rest of their lives.\"\n",
        ")"
      ],
      "metadata": {
        "colab": {
          "base_uri": "https://localhost:8080/",
          "height": 399
        },
        "id": "xkyLzG6soWfZ",
        "outputId": "2e2e8cc8-813f-43e8-febf-722c81a4af6d"
      },
      "execution_count": 60,
      "outputs": [
        {
          "output_type": "display_data",
          "data": {
            "text/plain": [
              "<IPython.core.display.HTML object>"
            ],
            "text/html": [
              "\n",
              "    <div style=\"width: 700px;\">\n",
              "      <b>English Text:</b> The trip had been planned for months, and now it was finally happening. John and his family were embarking on a cross-country road trip, a journey that promised adventure and discovery. They had mapped out their route, with stops at various national parks, historical landmarks, and charming small towns. Each day brought new experiences: hiking through dense forests, marveling at the vastness of the Grand Canyon, and exploring the cultural heritage of different regions. They stayed in cozy cabins, tried local cuisines, and met people with fascinating stories. One memorable night, they camped under the stars in a remote area, the sky a canvas of twinkling lights that seemed to stretch on forever. As they sat around the campfire, roasting marshmallows and sharing stories, John felt a deep bond with his family, strengthened by the shared experiences and the beauty of the world around them. This trip was more than just a vacation; it was a journey of growth, learning, and togetherness that they would remember for the rest of their lives.<br><br>\n",
              "      <b>Spanish Translation:</b> El viaje había sido planeado durante meses, y ahora finalmente estaba sucediendo. John y su familia se estaban embarcando en un viaje de carretera de fondo, un viaje que prometía aventuras y descubrimiento. Ellos habían mapeado su ruta, con paradas en varios parques nacionales, monumentos históricos y pequeñas ciudades encantadoras. Todos los días trajeron nuevas experiencias: caminatas por bosques densos, maravillados por la inmensidad del Gran Cañón, y explorando el patrimonio cultural de diferentes regiones. Ellos se quedaron en cabañas acogedoras, probaron cocina local y se encontraron con gente con historias fascinantes. Una noche memorable, ellos acamparon bajo las estrellas en una zona remota, el cielo un lienzo de luces parpadeantes que parecían estirarse para siempre. Mientras ellos se sentaban alrededor de la fogata, asar malvaviscos e intercambiar historias, John sintió un profundo vínculo con su familia, fortalecido por las experiencias compartidas y la belleza del mundo a su alrededor. Este viaje fue más que solo unas vacaciones; fue un viaje de crecimiento, aprendizaje y unión que recordarían por el resto de sus vidas.\n",
              "    </div>\n",
              "    "
            ]
          },
          "metadata": {}
        }
      ]
    },
    {
      "cell_type": "code",
      "source": [
        "display_translation(\n",
        "    text=\"In the heart of the forest, where the ancient trees stood tall and proud, a hidden world thrived in the shadows. This was a place untouched by the passage of time, where nature reigned supreme and the delicate balance of the ecosystem remained unbroken. The air was filled with the sounds of wildlife, from the chirping of birds to the rustling of leaves as small creatures scurried about. Sunlight filtered through the dense canopy, casting dappled patterns on the forest floor. It was a serene and magical environment, a stark contrast to the bustling human world outside. Here, amidst the towering trees and lush undergrowth, one could find a sense of peace and solitude. As they wandered deeper into the forest, they discovered hidden streams and glades, places where the beauty of nature was on full display. Each step taken revealed new wonders, from the vibrant colors of wildflowers to the intricate designs of spider webs glistening with dew. This forest was a sanctuary, a reminder of the natural world's enduring beauty and resilience.\"\n",
        ")"
      ],
      "metadata": {
        "colab": {
          "base_uri": "https://localhost:8080/",
          "height": 399
        },
        "id": "uP0-VsmSavbc",
        "outputId": "4b4688bd-fc5d-4325-e5f0-453613335f74"
      },
      "execution_count": 61,
      "outputs": [
        {
          "output_type": "display_data",
          "data": {
            "text/plain": [
              "<IPython.core.display.HTML object>"
            ],
            "text/html": [
              "\n",
              "    <div style=\"width: 700px;\">\n",
              "      <b>English Text:</b> In the heart of the forest, where the ancient trees stood tall and proud, a hidden world thrived in the shadows. This was a place untouched by the passage of time, where nature reigned supreme and the delicate balance of the ecosystem remained unbroken. The air was filled with the sounds of wildlife, from the chirping of birds to the rustling of leaves as small creatures scurried about. Sunlight filtered through the dense canopy, casting dappled patterns on the forest floor. It was a serene and magical environment, a stark contrast to the bustling human world outside. Here, amidst the towering trees and lush undergrowth, one could find a sense of peace and solitude. As they wandered deeper into the forest, they discovered hidden streams and glades, places where the beauty of nature was on full display. Each step taken revealed new wonders, from the vibrant colors of wildflowers to the intricate designs of spider webs glistening with dew. This forest was a sanctuary, a reminder of the natural world's enduring beauty and resilience.<br><br>\n",
              "      <b>Spanish Translation:</b> En el corazón del bosque, donde los árboles antiguos se levantaban altos y orgullosos, un mundo oculto florecía en las sombras. Este era un lugar sin tocar por el paso del tiempo, donde reinaba la naturaleza suprema y el delicado equilibrio del ecosistema seguía sin romperse. El aire estaba lleno de sonidos de vida silvestre, desde el chirrido de pájaros hasta el crujido de hojas mientras pequeñas criaturas corrían alrededor. La luz del sol se filtraba a través del denso dosel, echando patrones de manzanos en el suelo del bosque. Era un entorno sereno y mágico, un marcado contraste con el bullicioso mundo humano exterior. Aquí, en medio de los árboles imponentes y el floreciente sotobosque, se podía encontrar una sensación de paz y soledad. Mientras vagaban más profundamente por el bosque, descubrieron arroyos y claros ocultos, lugares donde la belleza de la naturaleza estaba en plena exhibición. Cada paso dado reveló nuevas maravillas, desde los colores vibrantes de flores silvestres hasta los intrincados diseños de redes de araña brillando con rocío. Este bosque era un santuario, un recuerdo de la perdurable belleza y resistencia del mundo natural.\n",
              "    </div>\n",
              "    "
            ]
          },
          "metadata": {}
        }
      ]
    },
    {
      "cell_type": "code",
      "source": [
        "display_translation(\n",
        "    text=\"\"\"The Renaissance was a fervent period of European cultural, artistic, political, and economic \"rebirth\" following the Middle Ages. Generally described as taking place from the 14th century to the 17th century, the Renaissance promoted the rediscovery of classical philosophy, literature, and art. Some of the greatest thinkers, authors, statesmen, scientists, and artists in human history thrived during this era, while global exploration opened up new lands and cultures to European commerce. The Renaissance is credited with bridging the gap between the Middle Ages and modern-day civilization. It began in Florence, Italy, in the 14th century and spread to the rest of Europe in the following centuries. The movement had a profound impact on art, architecture, science, and literature. Artists such as Leonardo da Vinci and Michelangelo created works that are still revered today. The Renaissance also saw the invention of the printing press, which allowed for the spread of knowledge and ideas to a wider audience. This period of history laid the groundwork for many aspects of modern society.\"\"\"\n",
        ")"
      ],
      "metadata": {
        "colab": {
          "base_uri": "https://localhost:8080/",
          "height": 416
        },
        "id": "Z-jnEdmlbQov",
        "outputId": "a3279b15-651c-499b-b7b4-e574f87d111d"
      },
      "execution_count": 62,
      "outputs": [
        {
          "output_type": "display_data",
          "data": {
            "text/plain": [
              "<IPython.core.display.HTML object>"
            ],
            "text/html": [
              "\n",
              "    <div style=\"width: 700px;\">\n",
              "      <b>English Text:</b> The Renaissance was a fervent period of European cultural, artistic, political, and economic \"rebirth\" following the Middle Ages. Generally described as taking place from the 14th century to the 17th century, the Renaissance promoted the rediscovery of classical philosophy, literature, and art. Some of the greatest thinkers, authors, statesmen, scientists, and artists in human history thrived during this era, while global exploration opened up new lands and cultures to European commerce. The Renaissance is credited with bridging the gap between the Middle Ages and modern-day civilization. It began in Florence, Italy, in the 14th century and spread to the rest of Europe in the following centuries. The movement had a profound impact on art, architecture, science, and literature. Artists such as Leonardo da Vinci and Michelangelo created works that are still revered today. The Renaissance also saw the invention of the printing press, which allowed for the spread of knowledge and ideas to a wider audience. This period of history laid the groundwork for many aspects of modern society.<br><br>\n",
              "      <b>Spanish Translation:</b> El Renacimiento fue un período de ferviente \"renacer\" cultural, artístico, político y económico europeo después de la Edad Media. Generalmente se describió como el que tuvo lugar desde el siglo XIV hasta el siglo XVII, el Renacimiento promovió el redescubrimiento de la filosofía, la literatura y el arte clásicos. Algunos de los más grandes pensadores, autores, estadistas, científicos y artistas de la historia humana prosperó durante esta era, mientras que la exploración global abrió nuevas tierras y culturas al comercio europeo. El Renacimiento se atribuye a cerrar la brecha entre la Edad Media y la civilización moderna. Empezó en Florencia, Italia, en el siglo XIV, y se extendió al resto de Europa en los siglos siguientes. El movimiento tuvo un profundo impacto en el arte, la arquitectura, la ciencia y la literatura. Artistas como Leonardo da Vinci y Miguel Ángel crearon obras que todavía son veneradas hoy en día. El Renacimiento también vio la invención de la imprenta, lo que permitió extender el conocimiento y las ideas a un público más amplio. Este período de historia sentó las bases para muchos aspectos de la sociedad moderna.\n",
              "    </div>\n",
              "    "
            ]
          },
          "metadata": {}
        }
      ]
    },
    {
      "cell_type": "markdown",
      "metadata": {
        "id": "_ufZpqgDAcQR"
      },
      "source": [
        "**Conclusion:**\n",
        "\n",
        "The model is excellent for English to Spanish translations, covering from short texts to very long ones, and achieving a high BLEU score in its translations. Its performance might improve even further with models that have more parameters and with larger datasets with multiple references. In this way, it could even translate entire pages of text with high quality. However, for translating a few paragraphs, the model is already more than sufficient and excellent."
      ]
    }
  ],
  "metadata": {
    "colab": {
      "provenance": [],
      "gpuType": "T4"
    },
    "coursera": {
      "schema_names": [
        "NLPC3-4A"
      ]
    },
    "grader_version": "1",
    "kernelspec": {
      "display_name": "Python 3",
      "name": "python3"
    },
    "language_info": {
      "codemirror_mode": {
        "name": "ipython",
        "version": 3
      },
      "file_extension": ".py",
      "mimetype": "text/x-python",
      "name": "python",
      "nbconvert_exporter": "python",
      "pygments_lexer": "ipython3",
      "version": "3.8.10"
    },
    "widgets": {
      "application/vnd.jupyter.widget-state+json": {
        "a1c72412823a40c89cf52e1939d1abb9": {
          "model_module": "@jupyter-widgets/controls",
          "model_name": "HBoxModel",
          "model_module_version": "1.5.0",
          "state": {
            "_dom_classes": [],
            "_model_module": "@jupyter-widgets/controls",
            "_model_module_version": "1.5.0",
            "_model_name": "HBoxModel",
            "_view_count": null,
            "_view_module": "@jupyter-widgets/controls",
            "_view_module_version": "1.5.0",
            "_view_name": "HBoxView",
            "box_style": "",
            "children": [
              "IPY_MODEL_021fce4ed40c46e4ad696442a5fc1953",
              "IPY_MODEL_4d9d0904ead141879cb62290e0a2dfee",
              "IPY_MODEL_05d403bfe5ad4ebeba28a73210ca8db4"
            ],
            "layout": "IPY_MODEL_f5084c58c921428a9f502020dc3a87ba"
          }
        },
        "021fce4ed40c46e4ad696442a5fc1953": {
          "model_module": "@jupyter-widgets/controls",
          "model_name": "HTMLModel",
          "model_module_version": "1.5.0",
          "state": {
            "_dom_classes": [],
            "_model_module": "@jupyter-widgets/controls",
            "_model_module_version": "1.5.0",
            "_model_name": "HTMLModel",
            "_view_count": null,
            "_view_module": "@jupyter-widgets/controls",
            "_view_module_version": "1.5.0",
            "_view_name": "HTMLView",
            "description": "",
            "description_tooltip": null,
            "layout": "IPY_MODEL_9106171caf634385b7fa5672fae0168c",
            "placeholder": "​",
            "style": "IPY_MODEL_df6006e7f4a945249cd2745ff4a6e51a",
            "value": "tf_model.h5: 100%"
          }
        },
        "4d9d0904ead141879cb62290e0a2dfee": {
          "model_module": "@jupyter-widgets/controls",
          "model_name": "FloatProgressModel",
          "model_module_version": "1.5.0",
          "state": {
            "_dom_classes": [],
            "_model_module": "@jupyter-widgets/controls",
            "_model_module_version": "1.5.0",
            "_model_name": "FloatProgressModel",
            "_view_count": null,
            "_view_module": "@jupyter-widgets/controls",
            "_view_module_version": "1.5.0",
            "_view_name": "ProgressView",
            "bar_style": "success",
            "description": "",
            "description_tooltip": null,
            "layout": "IPY_MODEL_fde3a61cf9904a3b8b3e46ced5d6f180",
            "max": 312580600,
            "min": 0,
            "orientation": "horizontal",
            "style": "IPY_MODEL_b6af4279a59a43519640800e251e8085",
            "value": 312580600
          }
        },
        "05d403bfe5ad4ebeba28a73210ca8db4": {
          "model_module": "@jupyter-widgets/controls",
          "model_name": "HTMLModel",
          "model_module_version": "1.5.0",
          "state": {
            "_dom_classes": [],
            "_model_module": "@jupyter-widgets/controls",
            "_model_module_version": "1.5.0",
            "_model_name": "HTMLModel",
            "_view_count": null,
            "_view_module": "@jupyter-widgets/controls",
            "_view_module_version": "1.5.0",
            "_view_name": "HTMLView",
            "description": "",
            "description_tooltip": null,
            "layout": "IPY_MODEL_b8074dfd05ff469689cbdd625c16e2aa",
            "placeholder": "​",
            "style": "IPY_MODEL_e6442a5e21a145db9720a50c2f6f0df8",
            "value": " 313M/313M [00:11&lt;00:00, 20.5MB/s]"
          }
        },
        "f5084c58c921428a9f502020dc3a87ba": {
          "model_module": "@jupyter-widgets/base",
          "model_name": "LayoutModel",
          "model_module_version": "1.2.0",
          "state": {
            "_model_module": "@jupyter-widgets/base",
            "_model_module_version": "1.2.0",
            "_model_name": "LayoutModel",
            "_view_count": null,
            "_view_module": "@jupyter-widgets/base",
            "_view_module_version": "1.2.0",
            "_view_name": "LayoutView",
            "align_content": null,
            "align_items": null,
            "align_self": null,
            "border": null,
            "bottom": null,
            "display": null,
            "flex": null,
            "flex_flow": null,
            "grid_area": null,
            "grid_auto_columns": null,
            "grid_auto_flow": null,
            "grid_auto_rows": null,
            "grid_column": null,
            "grid_gap": null,
            "grid_row": null,
            "grid_template_areas": null,
            "grid_template_columns": null,
            "grid_template_rows": null,
            "height": null,
            "justify_content": null,
            "justify_items": null,
            "left": null,
            "margin": null,
            "max_height": null,
            "max_width": null,
            "min_height": null,
            "min_width": null,
            "object_fit": null,
            "object_position": null,
            "order": null,
            "overflow": null,
            "overflow_x": null,
            "overflow_y": null,
            "padding": null,
            "right": null,
            "top": null,
            "visibility": null,
            "width": null
          }
        },
        "9106171caf634385b7fa5672fae0168c": {
          "model_module": "@jupyter-widgets/base",
          "model_name": "LayoutModel",
          "model_module_version": "1.2.0",
          "state": {
            "_model_module": "@jupyter-widgets/base",
            "_model_module_version": "1.2.0",
            "_model_name": "LayoutModel",
            "_view_count": null,
            "_view_module": "@jupyter-widgets/base",
            "_view_module_version": "1.2.0",
            "_view_name": "LayoutView",
            "align_content": null,
            "align_items": null,
            "align_self": null,
            "border": null,
            "bottom": null,
            "display": null,
            "flex": null,
            "flex_flow": null,
            "grid_area": null,
            "grid_auto_columns": null,
            "grid_auto_flow": null,
            "grid_auto_rows": null,
            "grid_column": null,
            "grid_gap": null,
            "grid_row": null,
            "grid_template_areas": null,
            "grid_template_columns": null,
            "grid_template_rows": null,
            "height": null,
            "justify_content": null,
            "justify_items": null,
            "left": null,
            "margin": null,
            "max_height": null,
            "max_width": null,
            "min_height": null,
            "min_width": null,
            "object_fit": null,
            "object_position": null,
            "order": null,
            "overflow": null,
            "overflow_x": null,
            "overflow_y": null,
            "padding": null,
            "right": null,
            "top": null,
            "visibility": null,
            "width": null
          }
        },
        "df6006e7f4a945249cd2745ff4a6e51a": {
          "model_module": "@jupyter-widgets/controls",
          "model_name": "DescriptionStyleModel",
          "model_module_version": "1.5.0",
          "state": {
            "_model_module": "@jupyter-widgets/controls",
            "_model_module_version": "1.5.0",
            "_model_name": "DescriptionStyleModel",
            "_view_count": null,
            "_view_module": "@jupyter-widgets/base",
            "_view_module_version": "1.2.0",
            "_view_name": "StyleView",
            "description_width": ""
          }
        },
        "fde3a61cf9904a3b8b3e46ced5d6f180": {
          "model_module": "@jupyter-widgets/base",
          "model_name": "LayoutModel",
          "model_module_version": "1.2.0",
          "state": {
            "_model_module": "@jupyter-widgets/base",
            "_model_module_version": "1.2.0",
            "_model_name": "LayoutModel",
            "_view_count": null,
            "_view_module": "@jupyter-widgets/base",
            "_view_module_version": "1.2.0",
            "_view_name": "LayoutView",
            "align_content": null,
            "align_items": null,
            "align_self": null,
            "border": null,
            "bottom": null,
            "display": null,
            "flex": null,
            "flex_flow": null,
            "grid_area": null,
            "grid_auto_columns": null,
            "grid_auto_flow": null,
            "grid_auto_rows": null,
            "grid_column": null,
            "grid_gap": null,
            "grid_row": null,
            "grid_template_areas": null,
            "grid_template_columns": null,
            "grid_template_rows": null,
            "height": null,
            "justify_content": null,
            "justify_items": null,
            "left": null,
            "margin": null,
            "max_height": null,
            "max_width": null,
            "min_height": null,
            "min_width": null,
            "object_fit": null,
            "object_position": null,
            "order": null,
            "overflow": null,
            "overflow_x": null,
            "overflow_y": null,
            "padding": null,
            "right": null,
            "top": null,
            "visibility": null,
            "width": null
          }
        },
        "b6af4279a59a43519640800e251e8085": {
          "model_module": "@jupyter-widgets/controls",
          "model_name": "ProgressStyleModel",
          "model_module_version": "1.5.0",
          "state": {
            "_model_module": "@jupyter-widgets/controls",
            "_model_module_version": "1.5.0",
            "_model_name": "ProgressStyleModel",
            "_view_count": null,
            "_view_module": "@jupyter-widgets/base",
            "_view_module_version": "1.2.0",
            "_view_name": "StyleView",
            "bar_color": null,
            "description_width": ""
          }
        },
        "b8074dfd05ff469689cbdd625c16e2aa": {
          "model_module": "@jupyter-widgets/base",
          "model_name": "LayoutModel",
          "model_module_version": "1.2.0",
          "state": {
            "_model_module": "@jupyter-widgets/base",
            "_model_module_version": "1.2.0",
            "_model_name": "LayoutModel",
            "_view_count": null,
            "_view_module": "@jupyter-widgets/base",
            "_view_module_version": "1.2.0",
            "_view_name": "LayoutView",
            "align_content": null,
            "align_items": null,
            "align_self": null,
            "border": null,
            "bottom": null,
            "display": null,
            "flex": null,
            "flex_flow": null,
            "grid_area": null,
            "grid_auto_columns": null,
            "grid_auto_flow": null,
            "grid_auto_rows": null,
            "grid_column": null,
            "grid_gap": null,
            "grid_row": null,
            "grid_template_areas": null,
            "grid_template_columns": null,
            "grid_template_rows": null,
            "height": null,
            "justify_content": null,
            "justify_items": null,
            "left": null,
            "margin": null,
            "max_height": null,
            "max_width": null,
            "min_height": null,
            "min_width": null,
            "object_fit": null,
            "object_position": null,
            "order": null,
            "overflow": null,
            "overflow_x": null,
            "overflow_y": null,
            "padding": null,
            "right": null,
            "top": null,
            "visibility": null,
            "width": null
          }
        },
        "e6442a5e21a145db9720a50c2f6f0df8": {
          "model_module": "@jupyter-widgets/controls",
          "model_name": "DescriptionStyleModel",
          "model_module_version": "1.5.0",
          "state": {
            "_model_module": "@jupyter-widgets/controls",
            "_model_module_version": "1.5.0",
            "_model_name": "DescriptionStyleModel",
            "_view_count": null,
            "_view_module": "@jupyter-widgets/base",
            "_view_module_version": "1.2.0",
            "_view_name": "StyleView",
            "description_width": ""
          }
        },
        "18fc539967a4432ea22ba7e03ae7077a": {
          "model_module": "@jupyter-widgets/controls",
          "model_name": "HBoxModel",
          "model_module_version": "1.5.0",
          "state": {
            "_dom_classes": [],
            "_model_module": "@jupyter-widgets/controls",
            "_model_module_version": "1.5.0",
            "_model_name": "HBoxModel",
            "_view_count": null,
            "_view_module": "@jupyter-widgets/controls",
            "_view_module_version": "1.5.0",
            "_view_name": "HBoxView",
            "box_style": "",
            "children": [
              "IPY_MODEL_ce2b53cbafc2414289796178748e24ac",
              "IPY_MODEL_3f0934bd0e1b4691b3f400afdab8ce66",
              "IPY_MODEL_e21f7ed58b1c4f0a8dae5c70e9921cac"
            ],
            "layout": "IPY_MODEL_b2629bb8c90a451ba94b3dd453bb748b"
          }
        },
        "ce2b53cbafc2414289796178748e24ac": {
          "model_module": "@jupyter-widgets/controls",
          "model_name": "HTMLModel",
          "model_module_version": "1.5.0",
          "state": {
            "_dom_classes": [],
            "_model_module": "@jupyter-widgets/controls",
            "_model_module_version": "1.5.0",
            "_model_name": "HTMLModel",
            "_view_count": null,
            "_view_module": "@jupyter-widgets/controls",
            "_view_module_version": "1.5.0",
            "_view_name": "HTMLView",
            "description": "",
            "description_tooltip": null,
            "layout": "IPY_MODEL_3563448a276e497b9fa1664d120a3a05",
            "placeholder": "​",
            "style": "IPY_MODEL_591a5c5c14274a23ba029cd48ef70295",
            "value": "generation_config.json: 100%"
          }
        },
        "3f0934bd0e1b4691b3f400afdab8ce66": {
          "model_module": "@jupyter-widgets/controls",
          "model_name": "FloatProgressModel",
          "model_module_version": "1.5.0",
          "state": {
            "_dom_classes": [],
            "_model_module": "@jupyter-widgets/controls",
            "_model_module_version": "1.5.0",
            "_model_name": "FloatProgressModel",
            "_view_count": null,
            "_view_module": "@jupyter-widgets/controls",
            "_view_module_version": "1.5.0",
            "_view_name": "ProgressView",
            "bar_style": "success",
            "description": "",
            "description_tooltip": null,
            "layout": "IPY_MODEL_cfd17b58f9d84b8aade5d94505ca1714",
            "max": 293,
            "min": 0,
            "orientation": "horizontal",
            "style": "IPY_MODEL_688c495c8d354a26a04328f3fe832f8f",
            "value": 293
          }
        },
        "e21f7ed58b1c4f0a8dae5c70e9921cac": {
          "model_module": "@jupyter-widgets/controls",
          "model_name": "HTMLModel",
          "model_module_version": "1.5.0",
          "state": {
            "_dom_classes": [],
            "_model_module": "@jupyter-widgets/controls",
            "_model_module_version": "1.5.0",
            "_model_name": "HTMLModel",
            "_view_count": null,
            "_view_module": "@jupyter-widgets/controls",
            "_view_module_version": "1.5.0",
            "_view_name": "HTMLView",
            "description": "",
            "description_tooltip": null,
            "layout": "IPY_MODEL_0dbffdb0c9594509add1a106369c8d21",
            "placeholder": "​",
            "style": "IPY_MODEL_9edc5a0ce1e34fbba1f66c732522d8db",
            "value": " 293/293 [00:00&lt;00:00, 17.5kB/s]"
          }
        },
        "b2629bb8c90a451ba94b3dd453bb748b": {
          "model_module": "@jupyter-widgets/base",
          "model_name": "LayoutModel",
          "model_module_version": "1.2.0",
          "state": {
            "_model_module": "@jupyter-widgets/base",
            "_model_module_version": "1.2.0",
            "_model_name": "LayoutModel",
            "_view_count": null,
            "_view_module": "@jupyter-widgets/base",
            "_view_module_version": "1.2.0",
            "_view_name": "LayoutView",
            "align_content": null,
            "align_items": null,
            "align_self": null,
            "border": null,
            "bottom": null,
            "display": null,
            "flex": null,
            "flex_flow": null,
            "grid_area": null,
            "grid_auto_columns": null,
            "grid_auto_flow": null,
            "grid_auto_rows": null,
            "grid_column": null,
            "grid_gap": null,
            "grid_row": null,
            "grid_template_areas": null,
            "grid_template_columns": null,
            "grid_template_rows": null,
            "height": null,
            "justify_content": null,
            "justify_items": null,
            "left": null,
            "margin": null,
            "max_height": null,
            "max_width": null,
            "min_height": null,
            "min_width": null,
            "object_fit": null,
            "object_position": null,
            "order": null,
            "overflow": null,
            "overflow_x": null,
            "overflow_y": null,
            "padding": null,
            "right": null,
            "top": null,
            "visibility": null,
            "width": null
          }
        },
        "3563448a276e497b9fa1664d120a3a05": {
          "model_module": "@jupyter-widgets/base",
          "model_name": "LayoutModel",
          "model_module_version": "1.2.0",
          "state": {
            "_model_module": "@jupyter-widgets/base",
            "_model_module_version": "1.2.0",
            "_model_name": "LayoutModel",
            "_view_count": null,
            "_view_module": "@jupyter-widgets/base",
            "_view_module_version": "1.2.0",
            "_view_name": "LayoutView",
            "align_content": null,
            "align_items": null,
            "align_self": null,
            "border": null,
            "bottom": null,
            "display": null,
            "flex": null,
            "flex_flow": null,
            "grid_area": null,
            "grid_auto_columns": null,
            "grid_auto_flow": null,
            "grid_auto_rows": null,
            "grid_column": null,
            "grid_gap": null,
            "grid_row": null,
            "grid_template_areas": null,
            "grid_template_columns": null,
            "grid_template_rows": null,
            "height": null,
            "justify_content": null,
            "justify_items": null,
            "left": null,
            "margin": null,
            "max_height": null,
            "max_width": null,
            "min_height": null,
            "min_width": null,
            "object_fit": null,
            "object_position": null,
            "order": null,
            "overflow": null,
            "overflow_x": null,
            "overflow_y": null,
            "padding": null,
            "right": null,
            "top": null,
            "visibility": null,
            "width": null
          }
        },
        "591a5c5c14274a23ba029cd48ef70295": {
          "model_module": "@jupyter-widgets/controls",
          "model_name": "DescriptionStyleModel",
          "model_module_version": "1.5.0",
          "state": {
            "_model_module": "@jupyter-widgets/controls",
            "_model_module_version": "1.5.0",
            "_model_name": "DescriptionStyleModel",
            "_view_count": null,
            "_view_module": "@jupyter-widgets/base",
            "_view_module_version": "1.2.0",
            "_view_name": "StyleView",
            "description_width": ""
          }
        },
        "cfd17b58f9d84b8aade5d94505ca1714": {
          "model_module": "@jupyter-widgets/base",
          "model_name": "LayoutModel",
          "model_module_version": "1.2.0",
          "state": {
            "_model_module": "@jupyter-widgets/base",
            "_model_module_version": "1.2.0",
            "_model_name": "LayoutModel",
            "_view_count": null,
            "_view_module": "@jupyter-widgets/base",
            "_view_module_version": "1.2.0",
            "_view_name": "LayoutView",
            "align_content": null,
            "align_items": null,
            "align_self": null,
            "border": null,
            "bottom": null,
            "display": null,
            "flex": null,
            "flex_flow": null,
            "grid_area": null,
            "grid_auto_columns": null,
            "grid_auto_flow": null,
            "grid_auto_rows": null,
            "grid_column": null,
            "grid_gap": null,
            "grid_row": null,
            "grid_template_areas": null,
            "grid_template_columns": null,
            "grid_template_rows": null,
            "height": null,
            "justify_content": null,
            "justify_items": null,
            "left": null,
            "margin": null,
            "max_height": null,
            "max_width": null,
            "min_height": null,
            "min_width": null,
            "object_fit": null,
            "object_position": null,
            "order": null,
            "overflow": null,
            "overflow_x": null,
            "overflow_y": null,
            "padding": null,
            "right": null,
            "top": null,
            "visibility": null,
            "width": null
          }
        },
        "688c495c8d354a26a04328f3fe832f8f": {
          "model_module": "@jupyter-widgets/controls",
          "model_name": "ProgressStyleModel",
          "model_module_version": "1.5.0",
          "state": {
            "_model_module": "@jupyter-widgets/controls",
            "_model_module_version": "1.5.0",
            "_model_name": "ProgressStyleModel",
            "_view_count": null,
            "_view_module": "@jupyter-widgets/base",
            "_view_module_version": "1.2.0",
            "_view_name": "StyleView",
            "bar_color": null,
            "description_width": ""
          }
        },
        "0dbffdb0c9594509add1a106369c8d21": {
          "model_module": "@jupyter-widgets/base",
          "model_name": "LayoutModel",
          "model_module_version": "1.2.0",
          "state": {
            "_model_module": "@jupyter-widgets/base",
            "_model_module_version": "1.2.0",
            "_model_name": "LayoutModel",
            "_view_count": null,
            "_view_module": "@jupyter-widgets/base",
            "_view_module_version": "1.2.0",
            "_view_name": "LayoutView",
            "align_content": null,
            "align_items": null,
            "align_self": null,
            "border": null,
            "bottom": null,
            "display": null,
            "flex": null,
            "flex_flow": null,
            "grid_area": null,
            "grid_auto_columns": null,
            "grid_auto_flow": null,
            "grid_auto_rows": null,
            "grid_column": null,
            "grid_gap": null,
            "grid_row": null,
            "grid_template_areas": null,
            "grid_template_columns": null,
            "grid_template_rows": null,
            "height": null,
            "justify_content": null,
            "justify_items": null,
            "left": null,
            "margin": null,
            "max_height": null,
            "max_width": null,
            "min_height": null,
            "min_width": null,
            "object_fit": null,
            "object_position": null,
            "order": null,
            "overflow": null,
            "overflow_x": null,
            "overflow_y": null,
            "padding": null,
            "right": null,
            "top": null,
            "visibility": null,
            "width": null
          }
        },
        "9edc5a0ce1e34fbba1f66c732522d8db": {
          "model_module": "@jupyter-widgets/controls",
          "model_name": "DescriptionStyleModel",
          "model_module_version": "1.5.0",
          "state": {
            "_model_module": "@jupyter-widgets/controls",
            "_model_module_version": "1.5.0",
            "_model_name": "DescriptionStyleModel",
            "_view_count": null,
            "_view_module": "@jupyter-widgets/base",
            "_view_module_version": "1.2.0",
            "_view_name": "StyleView",
            "description_width": ""
          }
        },
        "7127f61b251a4cdcb21df42ec526468d": {
          "model_module": "@jupyter-widgets/controls",
          "model_name": "HBoxModel",
          "model_module_version": "1.5.0",
          "state": {
            "_dom_classes": [],
            "_model_module": "@jupyter-widgets/controls",
            "_model_module_version": "1.5.0",
            "_model_name": "HBoxModel",
            "_view_count": null,
            "_view_module": "@jupyter-widgets/controls",
            "_view_module_version": "1.5.0",
            "_view_name": "HBoxView",
            "box_style": "",
            "children": [
              "IPY_MODEL_709966a0f14942d2aa6b9a71810d61ba",
              "IPY_MODEL_76dd68f74ddf4e479370fc79cc338c8d",
              "IPY_MODEL_575e50037c0b4f58ad66e2d8af3c6fd6"
            ],
            "layout": "IPY_MODEL_6e198bd5806842df997d81db98b6e541"
          }
        },
        "709966a0f14942d2aa6b9a71810d61ba": {
          "model_module": "@jupyter-widgets/controls",
          "model_name": "HTMLModel",
          "model_module_version": "1.5.0",
          "state": {
            "_dom_classes": [],
            "_model_module": "@jupyter-widgets/controls",
            "_model_module_version": "1.5.0",
            "_model_name": "HTMLModel",
            "_view_count": null,
            "_view_module": "@jupyter-widgets/controls",
            "_view_module_version": "1.5.0",
            "_view_name": "HTMLView",
            "description": "",
            "description_tooltip": null,
            "layout": "IPY_MODEL_8c29b83e0e0d4a509231c6b1dd25be35",
            "placeholder": "​",
            "style": "IPY_MODEL_7ca59951fbad4bd38292b836444fa04a",
            "value": "Map: 100%"
          }
        },
        "76dd68f74ddf4e479370fc79cc338c8d": {
          "model_module": "@jupyter-widgets/controls",
          "model_name": "FloatProgressModel",
          "model_module_version": "1.5.0",
          "state": {
            "_dom_classes": [],
            "_model_module": "@jupyter-widgets/controls",
            "_model_module_version": "1.5.0",
            "_model_name": "FloatProgressModel",
            "_view_count": null,
            "_view_module": "@jupyter-widgets/controls",
            "_view_module_version": "1.5.0",
            "_view_name": "ProgressView",
            "bar_style": "success",
            "description": "",
            "description_tooltip": null,
            "layout": "IPY_MODEL_9145c7c419d6406e97f890e5915c273b",
            "max": 141543,
            "min": 0,
            "orientation": "horizontal",
            "style": "IPY_MODEL_67cd0a565b0645eca9475f2598e06b48",
            "value": 141543
          }
        },
        "575e50037c0b4f58ad66e2d8af3c6fd6": {
          "model_module": "@jupyter-widgets/controls",
          "model_name": "HTMLModel",
          "model_module_version": "1.5.0",
          "state": {
            "_dom_classes": [],
            "_model_module": "@jupyter-widgets/controls",
            "_model_module_version": "1.5.0",
            "_model_name": "HTMLModel",
            "_view_count": null,
            "_view_module": "@jupyter-widgets/controls",
            "_view_module_version": "1.5.0",
            "_view_name": "HTMLView",
            "description": "",
            "description_tooltip": null,
            "layout": "IPY_MODEL_6e8b91cf6a414782bcd382f48c5b797d",
            "placeholder": "​",
            "style": "IPY_MODEL_220e53f2e49043ba8c263bca670d1a60",
            "value": " 141543/141543 [00:19&lt;00:00, 6529.05 examples/s]"
          }
        },
        "6e198bd5806842df997d81db98b6e541": {
          "model_module": "@jupyter-widgets/base",
          "model_name": "LayoutModel",
          "model_module_version": "1.2.0",
          "state": {
            "_model_module": "@jupyter-widgets/base",
            "_model_module_version": "1.2.0",
            "_model_name": "LayoutModel",
            "_view_count": null,
            "_view_module": "@jupyter-widgets/base",
            "_view_module_version": "1.2.0",
            "_view_name": "LayoutView",
            "align_content": null,
            "align_items": null,
            "align_self": null,
            "border": null,
            "bottom": null,
            "display": null,
            "flex": null,
            "flex_flow": null,
            "grid_area": null,
            "grid_auto_columns": null,
            "grid_auto_flow": null,
            "grid_auto_rows": null,
            "grid_column": null,
            "grid_gap": null,
            "grid_row": null,
            "grid_template_areas": null,
            "grid_template_columns": null,
            "grid_template_rows": null,
            "height": null,
            "justify_content": null,
            "justify_items": null,
            "left": null,
            "margin": null,
            "max_height": null,
            "max_width": null,
            "min_height": null,
            "min_width": null,
            "object_fit": null,
            "object_position": null,
            "order": null,
            "overflow": null,
            "overflow_x": null,
            "overflow_y": null,
            "padding": null,
            "right": null,
            "top": null,
            "visibility": null,
            "width": null
          }
        },
        "8c29b83e0e0d4a509231c6b1dd25be35": {
          "model_module": "@jupyter-widgets/base",
          "model_name": "LayoutModel",
          "model_module_version": "1.2.0",
          "state": {
            "_model_module": "@jupyter-widgets/base",
            "_model_module_version": "1.2.0",
            "_model_name": "LayoutModel",
            "_view_count": null,
            "_view_module": "@jupyter-widgets/base",
            "_view_module_version": "1.2.0",
            "_view_name": "LayoutView",
            "align_content": null,
            "align_items": null,
            "align_self": null,
            "border": null,
            "bottom": null,
            "display": null,
            "flex": null,
            "flex_flow": null,
            "grid_area": null,
            "grid_auto_columns": null,
            "grid_auto_flow": null,
            "grid_auto_rows": null,
            "grid_column": null,
            "grid_gap": null,
            "grid_row": null,
            "grid_template_areas": null,
            "grid_template_columns": null,
            "grid_template_rows": null,
            "height": null,
            "justify_content": null,
            "justify_items": null,
            "left": null,
            "margin": null,
            "max_height": null,
            "max_width": null,
            "min_height": null,
            "min_width": null,
            "object_fit": null,
            "object_position": null,
            "order": null,
            "overflow": null,
            "overflow_x": null,
            "overflow_y": null,
            "padding": null,
            "right": null,
            "top": null,
            "visibility": null,
            "width": null
          }
        },
        "7ca59951fbad4bd38292b836444fa04a": {
          "model_module": "@jupyter-widgets/controls",
          "model_name": "DescriptionStyleModel",
          "model_module_version": "1.5.0",
          "state": {
            "_model_module": "@jupyter-widgets/controls",
            "_model_module_version": "1.5.0",
            "_model_name": "DescriptionStyleModel",
            "_view_count": null,
            "_view_module": "@jupyter-widgets/base",
            "_view_module_version": "1.2.0",
            "_view_name": "StyleView",
            "description_width": ""
          }
        },
        "9145c7c419d6406e97f890e5915c273b": {
          "model_module": "@jupyter-widgets/base",
          "model_name": "LayoutModel",
          "model_module_version": "1.2.0",
          "state": {
            "_model_module": "@jupyter-widgets/base",
            "_model_module_version": "1.2.0",
            "_model_name": "LayoutModel",
            "_view_count": null,
            "_view_module": "@jupyter-widgets/base",
            "_view_module_version": "1.2.0",
            "_view_name": "LayoutView",
            "align_content": null,
            "align_items": null,
            "align_self": null,
            "border": null,
            "bottom": null,
            "display": null,
            "flex": null,
            "flex_flow": null,
            "grid_area": null,
            "grid_auto_columns": null,
            "grid_auto_flow": null,
            "grid_auto_rows": null,
            "grid_column": null,
            "grid_gap": null,
            "grid_row": null,
            "grid_template_areas": null,
            "grid_template_columns": null,
            "grid_template_rows": null,
            "height": null,
            "justify_content": null,
            "justify_items": null,
            "left": null,
            "margin": null,
            "max_height": null,
            "max_width": null,
            "min_height": null,
            "min_width": null,
            "object_fit": null,
            "object_position": null,
            "order": null,
            "overflow": null,
            "overflow_x": null,
            "overflow_y": null,
            "padding": null,
            "right": null,
            "top": null,
            "visibility": null,
            "width": null
          }
        },
        "67cd0a565b0645eca9475f2598e06b48": {
          "model_module": "@jupyter-widgets/controls",
          "model_name": "ProgressStyleModel",
          "model_module_version": "1.5.0",
          "state": {
            "_model_module": "@jupyter-widgets/controls",
            "_model_module_version": "1.5.0",
            "_model_name": "ProgressStyleModel",
            "_view_count": null,
            "_view_module": "@jupyter-widgets/base",
            "_view_module_version": "1.2.0",
            "_view_name": "StyleView",
            "bar_color": null,
            "description_width": ""
          }
        },
        "6e8b91cf6a414782bcd382f48c5b797d": {
          "model_module": "@jupyter-widgets/base",
          "model_name": "LayoutModel",
          "model_module_version": "1.2.0",
          "state": {
            "_model_module": "@jupyter-widgets/base",
            "_model_module_version": "1.2.0",
            "_model_name": "LayoutModel",
            "_view_count": null,
            "_view_module": "@jupyter-widgets/base",
            "_view_module_version": "1.2.0",
            "_view_name": "LayoutView",
            "align_content": null,
            "align_items": null,
            "align_self": null,
            "border": null,
            "bottom": null,
            "display": null,
            "flex": null,
            "flex_flow": null,
            "grid_area": null,
            "grid_auto_columns": null,
            "grid_auto_flow": null,
            "grid_auto_rows": null,
            "grid_column": null,
            "grid_gap": null,
            "grid_row": null,
            "grid_template_areas": null,
            "grid_template_columns": null,
            "grid_template_rows": null,
            "height": null,
            "justify_content": null,
            "justify_items": null,
            "left": null,
            "margin": null,
            "max_height": null,
            "max_width": null,
            "min_height": null,
            "min_width": null,
            "object_fit": null,
            "object_position": null,
            "order": null,
            "overflow": null,
            "overflow_x": null,
            "overflow_y": null,
            "padding": null,
            "right": null,
            "top": null,
            "visibility": null,
            "width": null
          }
        },
        "220e53f2e49043ba8c263bca670d1a60": {
          "model_module": "@jupyter-widgets/controls",
          "model_name": "DescriptionStyleModel",
          "model_module_version": "1.5.0",
          "state": {
            "_model_module": "@jupyter-widgets/controls",
            "_model_module_version": "1.5.0",
            "_model_name": "DescriptionStyleModel",
            "_view_count": null,
            "_view_module": "@jupyter-widgets/base",
            "_view_module_version": "1.2.0",
            "_view_name": "StyleView",
            "description_width": ""
          }
        },
        "10d98204022346b2bb9aee3f0b88e56c": {
          "model_module": "@jupyter-widgets/controls",
          "model_name": "HBoxModel",
          "model_module_version": "1.5.0",
          "state": {
            "_dom_classes": [],
            "_model_module": "@jupyter-widgets/controls",
            "_model_module_version": "1.5.0",
            "_model_name": "HBoxModel",
            "_view_count": null,
            "_view_module": "@jupyter-widgets/controls",
            "_view_module_version": "1.5.0",
            "_view_name": "HBoxView",
            "box_style": "",
            "children": [
              "IPY_MODEL_3a713a06edca421a9b69dfa5a1f611a2",
              "IPY_MODEL_6c37b528090943818c91e91a1081551b",
              "IPY_MODEL_051918e5e0ad4850b1809b87fe93ca56"
            ],
            "layout": "IPY_MODEL_1cebf143dd924cf38b75f173f45fa9a6"
          }
        },
        "3a713a06edca421a9b69dfa5a1f611a2": {
          "model_module": "@jupyter-widgets/controls",
          "model_name": "HTMLModel",
          "model_module_version": "1.5.0",
          "state": {
            "_dom_classes": [],
            "_model_module": "@jupyter-widgets/controls",
            "_model_module_version": "1.5.0",
            "_model_name": "HTMLModel",
            "_view_count": null,
            "_view_module": "@jupyter-widgets/controls",
            "_view_module_version": "1.5.0",
            "_view_name": "HTMLView",
            "description": "",
            "description_tooltip": null,
            "layout": "IPY_MODEL_54c4f33ed62640c8b363fd8f04bc8dcc",
            "placeholder": "​",
            "style": "IPY_MODEL_b9db2bfeeb4c4aa9ba8b5550e459e31d",
            "value": "Filter: 100%"
          }
        },
        "6c37b528090943818c91e91a1081551b": {
          "model_module": "@jupyter-widgets/controls",
          "model_name": "FloatProgressModel",
          "model_module_version": "1.5.0",
          "state": {
            "_dom_classes": [],
            "_model_module": "@jupyter-widgets/controls",
            "_model_module_version": "1.5.0",
            "_model_name": "FloatProgressModel",
            "_view_count": null,
            "_view_module": "@jupyter-widgets/controls",
            "_view_module_version": "1.5.0",
            "_view_name": "ProgressView",
            "bar_style": "success",
            "description": "",
            "description_tooltip": null,
            "layout": "IPY_MODEL_5430288cbfe04623a570cc33bd5d1457",
            "max": 141543,
            "min": 0,
            "orientation": "horizontal",
            "style": "IPY_MODEL_8cf620ca3a1f45af8cd173e9ffd268cc",
            "value": 141543
          }
        },
        "051918e5e0ad4850b1809b87fe93ca56": {
          "model_module": "@jupyter-widgets/controls",
          "model_name": "HTMLModel",
          "model_module_version": "1.5.0",
          "state": {
            "_dom_classes": [],
            "_model_module": "@jupyter-widgets/controls",
            "_model_module_version": "1.5.0",
            "_model_name": "HTMLModel",
            "_view_count": null,
            "_view_module": "@jupyter-widgets/controls",
            "_view_module_version": "1.5.0",
            "_view_name": "HTMLView",
            "description": "",
            "description_tooltip": null,
            "layout": "IPY_MODEL_74e41cac40184e01a5b7011483053777",
            "placeholder": "​",
            "style": "IPY_MODEL_6452ddd333a148c085a2c26b53c2f475",
            "value": " 141543/141543 [00:08&lt;00:00, 11595.41 examples/s]"
          }
        },
        "1cebf143dd924cf38b75f173f45fa9a6": {
          "model_module": "@jupyter-widgets/base",
          "model_name": "LayoutModel",
          "model_module_version": "1.2.0",
          "state": {
            "_model_module": "@jupyter-widgets/base",
            "_model_module_version": "1.2.0",
            "_model_name": "LayoutModel",
            "_view_count": null,
            "_view_module": "@jupyter-widgets/base",
            "_view_module_version": "1.2.0",
            "_view_name": "LayoutView",
            "align_content": null,
            "align_items": null,
            "align_self": null,
            "border": null,
            "bottom": null,
            "display": null,
            "flex": null,
            "flex_flow": null,
            "grid_area": null,
            "grid_auto_columns": null,
            "grid_auto_flow": null,
            "grid_auto_rows": null,
            "grid_column": null,
            "grid_gap": null,
            "grid_row": null,
            "grid_template_areas": null,
            "grid_template_columns": null,
            "grid_template_rows": null,
            "height": null,
            "justify_content": null,
            "justify_items": null,
            "left": null,
            "margin": null,
            "max_height": null,
            "max_width": null,
            "min_height": null,
            "min_width": null,
            "object_fit": null,
            "object_position": null,
            "order": null,
            "overflow": null,
            "overflow_x": null,
            "overflow_y": null,
            "padding": null,
            "right": null,
            "top": null,
            "visibility": null,
            "width": null
          }
        },
        "54c4f33ed62640c8b363fd8f04bc8dcc": {
          "model_module": "@jupyter-widgets/base",
          "model_name": "LayoutModel",
          "model_module_version": "1.2.0",
          "state": {
            "_model_module": "@jupyter-widgets/base",
            "_model_module_version": "1.2.0",
            "_model_name": "LayoutModel",
            "_view_count": null,
            "_view_module": "@jupyter-widgets/base",
            "_view_module_version": "1.2.0",
            "_view_name": "LayoutView",
            "align_content": null,
            "align_items": null,
            "align_self": null,
            "border": null,
            "bottom": null,
            "display": null,
            "flex": null,
            "flex_flow": null,
            "grid_area": null,
            "grid_auto_columns": null,
            "grid_auto_flow": null,
            "grid_auto_rows": null,
            "grid_column": null,
            "grid_gap": null,
            "grid_row": null,
            "grid_template_areas": null,
            "grid_template_columns": null,
            "grid_template_rows": null,
            "height": null,
            "justify_content": null,
            "justify_items": null,
            "left": null,
            "margin": null,
            "max_height": null,
            "max_width": null,
            "min_height": null,
            "min_width": null,
            "object_fit": null,
            "object_position": null,
            "order": null,
            "overflow": null,
            "overflow_x": null,
            "overflow_y": null,
            "padding": null,
            "right": null,
            "top": null,
            "visibility": null,
            "width": null
          }
        },
        "b9db2bfeeb4c4aa9ba8b5550e459e31d": {
          "model_module": "@jupyter-widgets/controls",
          "model_name": "DescriptionStyleModel",
          "model_module_version": "1.5.0",
          "state": {
            "_model_module": "@jupyter-widgets/controls",
            "_model_module_version": "1.5.0",
            "_model_name": "DescriptionStyleModel",
            "_view_count": null,
            "_view_module": "@jupyter-widgets/base",
            "_view_module_version": "1.2.0",
            "_view_name": "StyleView",
            "description_width": ""
          }
        },
        "5430288cbfe04623a570cc33bd5d1457": {
          "model_module": "@jupyter-widgets/base",
          "model_name": "LayoutModel",
          "model_module_version": "1.2.0",
          "state": {
            "_model_module": "@jupyter-widgets/base",
            "_model_module_version": "1.2.0",
            "_model_name": "LayoutModel",
            "_view_count": null,
            "_view_module": "@jupyter-widgets/base",
            "_view_module_version": "1.2.0",
            "_view_name": "LayoutView",
            "align_content": null,
            "align_items": null,
            "align_self": null,
            "border": null,
            "bottom": null,
            "display": null,
            "flex": null,
            "flex_flow": null,
            "grid_area": null,
            "grid_auto_columns": null,
            "grid_auto_flow": null,
            "grid_auto_rows": null,
            "grid_column": null,
            "grid_gap": null,
            "grid_row": null,
            "grid_template_areas": null,
            "grid_template_columns": null,
            "grid_template_rows": null,
            "height": null,
            "justify_content": null,
            "justify_items": null,
            "left": null,
            "margin": null,
            "max_height": null,
            "max_width": null,
            "min_height": null,
            "min_width": null,
            "object_fit": null,
            "object_position": null,
            "order": null,
            "overflow": null,
            "overflow_x": null,
            "overflow_y": null,
            "padding": null,
            "right": null,
            "top": null,
            "visibility": null,
            "width": null
          }
        },
        "8cf620ca3a1f45af8cd173e9ffd268cc": {
          "model_module": "@jupyter-widgets/controls",
          "model_name": "ProgressStyleModel",
          "model_module_version": "1.5.0",
          "state": {
            "_model_module": "@jupyter-widgets/controls",
            "_model_module_version": "1.5.0",
            "_model_name": "ProgressStyleModel",
            "_view_count": null,
            "_view_module": "@jupyter-widgets/base",
            "_view_module_version": "1.2.0",
            "_view_name": "StyleView",
            "bar_color": null,
            "description_width": ""
          }
        },
        "74e41cac40184e01a5b7011483053777": {
          "model_module": "@jupyter-widgets/base",
          "model_name": "LayoutModel",
          "model_module_version": "1.2.0",
          "state": {
            "_model_module": "@jupyter-widgets/base",
            "_model_module_version": "1.2.0",
            "_model_name": "LayoutModel",
            "_view_count": null,
            "_view_module": "@jupyter-widgets/base",
            "_view_module_version": "1.2.0",
            "_view_name": "LayoutView",
            "align_content": null,
            "align_items": null,
            "align_self": null,
            "border": null,
            "bottom": null,
            "display": null,
            "flex": null,
            "flex_flow": null,
            "grid_area": null,
            "grid_auto_columns": null,
            "grid_auto_flow": null,
            "grid_auto_rows": null,
            "grid_column": null,
            "grid_gap": null,
            "grid_row": null,
            "grid_template_areas": null,
            "grid_template_columns": null,
            "grid_template_rows": null,
            "height": null,
            "justify_content": null,
            "justify_items": null,
            "left": null,
            "margin": null,
            "max_height": null,
            "max_width": null,
            "min_height": null,
            "min_width": null,
            "object_fit": null,
            "object_position": null,
            "order": null,
            "overflow": null,
            "overflow_x": null,
            "overflow_y": null,
            "padding": null,
            "right": null,
            "top": null,
            "visibility": null,
            "width": null
          }
        },
        "6452ddd333a148c085a2c26b53c2f475": {
          "model_module": "@jupyter-widgets/controls",
          "model_name": "DescriptionStyleModel",
          "model_module_version": "1.5.0",
          "state": {
            "_model_module": "@jupyter-widgets/controls",
            "_model_module_version": "1.5.0",
            "_model_name": "DescriptionStyleModel",
            "_view_count": null,
            "_view_module": "@jupyter-widgets/base",
            "_view_module_version": "1.2.0",
            "_view_name": "StyleView",
            "description_width": ""
          }
        },
        "6422096ee74d46e19f3d02fea6bd409e": {
          "model_module": "@jupyter-widgets/controls",
          "model_name": "HBoxModel",
          "model_module_version": "1.5.0",
          "state": {
            "_dom_classes": [],
            "_model_module": "@jupyter-widgets/controls",
            "_model_module_version": "1.5.0",
            "_model_name": "HBoxModel",
            "_view_count": null,
            "_view_module": "@jupyter-widgets/controls",
            "_view_module_version": "1.5.0",
            "_view_name": "HBoxView",
            "box_style": "",
            "children": [
              "IPY_MODEL_c2fcdbd36eba416a90272a3e5bc5ef84",
              "IPY_MODEL_efa1589d4c4b42d58cc46b2c437e2793",
              "IPY_MODEL_09fecec8f3454b52804cb8a14b6765f1"
            ],
            "layout": "IPY_MODEL_3b71fef1e89d4aa3afbae3ffc6136f89"
          }
        },
        "c2fcdbd36eba416a90272a3e5bc5ef84": {
          "model_module": "@jupyter-widgets/controls",
          "model_name": "HTMLModel",
          "model_module_version": "1.5.0",
          "state": {
            "_dom_classes": [],
            "_model_module": "@jupyter-widgets/controls",
            "_model_module_version": "1.5.0",
            "_model_name": "HTMLModel",
            "_view_count": null,
            "_view_module": "@jupyter-widgets/controls",
            "_view_module_version": "1.5.0",
            "_view_name": "HTMLView",
            "description": "",
            "description_tooltip": null,
            "layout": "IPY_MODEL_aa818c7f2c454d089cd5c38ed84dacf7",
            "placeholder": "​",
            "style": "IPY_MODEL_f42db95d8b514b97b3eb44e7cbff87d4",
            "value": "Filter: 100%"
          }
        },
        "efa1589d4c4b42d58cc46b2c437e2793": {
          "model_module": "@jupyter-widgets/controls",
          "model_name": "FloatProgressModel",
          "model_module_version": "1.5.0",
          "state": {
            "_dom_classes": [],
            "_model_module": "@jupyter-widgets/controls",
            "_model_module_version": "1.5.0",
            "_model_name": "FloatProgressModel",
            "_view_count": null,
            "_view_module": "@jupyter-widgets/controls",
            "_view_module_version": "1.5.0",
            "_view_name": "ProgressView",
            "bar_style": "success",
            "description": "",
            "description_tooltip": null,
            "layout": "IPY_MODEL_ed1597e9f660483983bc2fdfbb701bf3",
            "max": 141543,
            "min": 0,
            "orientation": "horizontal",
            "style": "IPY_MODEL_fb292cf106a4467a8bf44dd5d45a72d1",
            "value": 141543
          }
        },
        "09fecec8f3454b52804cb8a14b6765f1": {
          "model_module": "@jupyter-widgets/controls",
          "model_name": "HTMLModel",
          "model_module_version": "1.5.0",
          "state": {
            "_dom_classes": [],
            "_model_module": "@jupyter-widgets/controls",
            "_model_module_version": "1.5.0",
            "_model_name": "HTMLModel",
            "_view_count": null,
            "_view_module": "@jupyter-widgets/controls",
            "_view_module_version": "1.5.0",
            "_view_name": "HTMLView",
            "description": "",
            "description_tooltip": null,
            "layout": "IPY_MODEL_c2ef1d628da14710be3ff97cf9bc8dd6",
            "placeholder": "​",
            "style": "IPY_MODEL_f935f4916bd646debe4e3c6a7fa4d062",
            "value": " 141543/141543 [00:04&lt;00:00, 37566.16 examples/s]"
          }
        },
        "3b71fef1e89d4aa3afbae3ffc6136f89": {
          "model_module": "@jupyter-widgets/base",
          "model_name": "LayoutModel",
          "model_module_version": "1.2.0",
          "state": {
            "_model_module": "@jupyter-widgets/base",
            "_model_module_version": "1.2.0",
            "_model_name": "LayoutModel",
            "_view_count": null,
            "_view_module": "@jupyter-widgets/base",
            "_view_module_version": "1.2.0",
            "_view_name": "LayoutView",
            "align_content": null,
            "align_items": null,
            "align_self": null,
            "border": null,
            "bottom": null,
            "display": null,
            "flex": null,
            "flex_flow": null,
            "grid_area": null,
            "grid_auto_columns": null,
            "grid_auto_flow": null,
            "grid_auto_rows": null,
            "grid_column": null,
            "grid_gap": null,
            "grid_row": null,
            "grid_template_areas": null,
            "grid_template_columns": null,
            "grid_template_rows": null,
            "height": null,
            "justify_content": null,
            "justify_items": null,
            "left": null,
            "margin": null,
            "max_height": null,
            "max_width": null,
            "min_height": null,
            "min_width": null,
            "object_fit": null,
            "object_position": null,
            "order": null,
            "overflow": null,
            "overflow_x": null,
            "overflow_y": null,
            "padding": null,
            "right": null,
            "top": null,
            "visibility": null,
            "width": null
          }
        },
        "aa818c7f2c454d089cd5c38ed84dacf7": {
          "model_module": "@jupyter-widgets/base",
          "model_name": "LayoutModel",
          "model_module_version": "1.2.0",
          "state": {
            "_model_module": "@jupyter-widgets/base",
            "_model_module_version": "1.2.0",
            "_model_name": "LayoutModel",
            "_view_count": null,
            "_view_module": "@jupyter-widgets/base",
            "_view_module_version": "1.2.0",
            "_view_name": "LayoutView",
            "align_content": null,
            "align_items": null,
            "align_self": null,
            "border": null,
            "bottom": null,
            "display": null,
            "flex": null,
            "flex_flow": null,
            "grid_area": null,
            "grid_auto_columns": null,
            "grid_auto_flow": null,
            "grid_auto_rows": null,
            "grid_column": null,
            "grid_gap": null,
            "grid_row": null,
            "grid_template_areas": null,
            "grid_template_columns": null,
            "grid_template_rows": null,
            "height": null,
            "justify_content": null,
            "justify_items": null,
            "left": null,
            "margin": null,
            "max_height": null,
            "max_width": null,
            "min_height": null,
            "min_width": null,
            "object_fit": null,
            "object_position": null,
            "order": null,
            "overflow": null,
            "overflow_x": null,
            "overflow_y": null,
            "padding": null,
            "right": null,
            "top": null,
            "visibility": null,
            "width": null
          }
        },
        "f42db95d8b514b97b3eb44e7cbff87d4": {
          "model_module": "@jupyter-widgets/controls",
          "model_name": "DescriptionStyleModel",
          "model_module_version": "1.5.0",
          "state": {
            "_model_module": "@jupyter-widgets/controls",
            "_model_module_version": "1.5.0",
            "_model_name": "DescriptionStyleModel",
            "_view_count": null,
            "_view_module": "@jupyter-widgets/base",
            "_view_module_version": "1.2.0",
            "_view_name": "StyleView",
            "description_width": ""
          }
        },
        "ed1597e9f660483983bc2fdfbb701bf3": {
          "model_module": "@jupyter-widgets/base",
          "model_name": "LayoutModel",
          "model_module_version": "1.2.0",
          "state": {
            "_model_module": "@jupyter-widgets/base",
            "_model_module_version": "1.2.0",
            "_model_name": "LayoutModel",
            "_view_count": null,
            "_view_module": "@jupyter-widgets/base",
            "_view_module_version": "1.2.0",
            "_view_name": "LayoutView",
            "align_content": null,
            "align_items": null,
            "align_self": null,
            "border": null,
            "bottom": null,
            "display": null,
            "flex": null,
            "flex_flow": null,
            "grid_area": null,
            "grid_auto_columns": null,
            "grid_auto_flow": null,
            "grid_auto_rows": null,
            "grid_column": null,
            "grid_gap": null,
            "grid_row": null,
            "grid_template_areas": null,
            "grid_template_columns": null,
            "grid_template_rows": null,
            "height": null,
            "justify_content": null,
            "justify_items": null,
            "left": null,
            "margin": null,
            "max_height": null,
            "max_width": null,
            "min_height": null,
            "min_width": null,
            "object_fit": null,
            "object_position": null,
            "order": null,
            "overflow": null,
            "overflow_x": null,
            "overflow_y": null,
            "padding": null,
            "right": null,
            "top": null,
            "visibility": null,
            "width": null
          }
        },
        "fb292cf106a4467a8bf44dd5d45a72d1": {
          "model_module": "@jupyter-widgets/controls",
          "model_name": "ProgressStyleModel",
          "model_module_version": "1.5.0",
          "state": {
            "_model_module": "@jupyter-widgets/controls",
            "_model_module_version": "1.5.0",
            "_model_name": "ProgressStyleModel",
            "_view_count": null,
            "_view_module": "@jupyter-widgets/base",
            "_view_module_version": "1.2.0",
            "_view_name": "StyleView",
            "bar_color": null,
            "description_width": ""
          }
        },
        "c2ef1d628da14710be3ff97cf9bc8dd6": {
          "model_module": "@jupyter-widgets/base",
          "model_name": "LayoutModel",
          "model_module_version": "1.2.0",
          "state": {
            "_model_module": "@jupyter-widgets/base",
            "_model_module_version": "1.2.0",
            "_model_name": "LayoutModel",
            "_view_count": null,
            "_view_module": "@jupyter-widgets/base",
            "_view_module_version": "1.2.0",
            "_view_name": "LayoutView",
            "align_content": null,
            "align_items": null,
            "align_self": null,
            "border": null,
            "bottom": null,
            "display": null,
            "flex": null,
            "flex_flow": null,
            "grid_area": null,
            "grid_auto_columns": null,
            "grid_auto_flow": null,
            "grid_auto_rows": null,
            "grid_column": null,
            "grid_gap": null,
            "grid_row": null,
            "grid_template_areas": null,
            "grid_template_columns": null,
            "grid_template_rows": null,
            "height": null,
            "justify_content": null,
            "justify_items": null,
            "left": null,
            "margin": null,
            "max_height": null,
            "max_width": null,
            "min_height": null,
            "min_width": null,
            "object_fit": null,
            "object_position": null,
            "order": null,
            "overflow": null,
            "overflow_x": null,
            "overflow_y": null,
            "padding": null,
            "right": null,
            "top": null,
            "visibility": null,
            "width": null
          }
        },
        "f935f4916bd646debe4e3c6a7fa4d062": {
          "model_module": "@jupyter-widgets/controls",
          "model_name": "DescriptionStyleModel",
          "model_module_version": "1.5.0",
          "state": {
            "_model_module": "@jupyter-widgets/controls",
            "_model_module_version": "1.5.0",
            "_model_name": "DescriptionStyleModel",
            "_view_count": null,
            "_view_module": "@jupyter-widgets/base",
            "_view_module_version": "1.2.0",
            "_view_name": "StyleView",
            "description_width": ""
          }
        },
        "d41f1a7466054ef18008f27280b46863": {
          "model_module": "@jupyter-widgets/controls",
          "model_name": "HBoxModel",
          "model_module_version": "1.5.0",
          "state": {
            "_dom_classes": [],
            "_model_module": "@jupyter-widgets/controls",
            "_model_module_version": "1.5.0",
            "_model_name": "HBoxModel",
            "_view_count": null,
            "_view_module": "@jupyter-widgets/controls",
            "_view_module_version": "1.5.0",
            "_view_name": "HBoxView",
            "box_style": "",
            "children": [
              "IPY_MODEL_7d581cddb73d4f609962a1e53baf164e",
              "IPY_MODEL_962f6167c2654f8d8f843f3b2f024f11",
              "IPY_MODEL_bed4d365f2094dc69b7536883e822571"
            ],
            "layout": "IPY_MODEL_17edf9cade424454a9dcf50435ff01ca"
          }
        },
        "7d581cddb73d4f609962a1e53baf164e": {
          "model_module": "@jupyter-widgets/controls",
          "model_name": "HTMLModel",
          "model_module_version": "1.5.0",
          "state": {
            "_dom_classes": [],
            "_model_module": "@jupyter-widgets/controls",
            "_model_module_version": "1.5.0",
            "_model_name": "HTMLModel",
            "_view_count": null,
            "_view_module": "@jupyter-widgets/controls",
            "_view_module_version": "1.5.0",
            "_view_name": "HTMLView",
            "description": "",
            "description_tooltip": null,
            "layout": "IPY_MODEL_f28a9bc80a0e4713a9df3f36ccf16b9c",
            "placeholder": "​",
            "style": "IPY_MODEL_84777657dad14f648fef51ac89444386",
            "value": "100%"
          }
        },
        "962f6167c2654f8d8f843f3b2f024f11": {
          "model_module": "@jupyter-widgets/controls",
          "model_name": "FloatProgressModel",
          "model_module_version": "1.5.0",
          "state": {
            "_dom_classes": [],
            "_model_module": "@jupyter-widgets/controls",
            "_model_module_version": "1.5.0",
            "_model_name": "FloatProgressModel",
            "_view_count": null,
            "_view_module": "@jupyter-widgets/controls",
            "_view_module_version": "1.5.0",
            "_view_name": "ProgressView",
            "bar_style": "success",
            "description": "",
            "description_tooltip": null,
            "layout": "IPY_MODEL_06951e368daf451bb9cd6b4e9b280d8d",
            "max": 67,
            "min": 0,
            "orientation": "horizontal",
            "style": "IPY_MODEL_68f2c4d719f24b07bbf66ca4d16146bd",
            "value": 67
          }
        },
        "bed4d365f2094dc69b7536883e822571": {
          "model_module": "@jupyter-widgets/controls",
          "model_name": "HTMLModel",
          "model_module_version": "1.5.0",
          "state": {
            "_dom_classes": [],
            "_model_module": "@jupyter-widgets/controls",
            "_model_module_version": "1.5.0",
            "_model_name": "HTMLModel",
            "_view_count": null,
            "_view_module": "@jupyter-widgets/controls",
            "_view_module_version": "1.5.0",
            "_view_name": "HTMLView",
            "description": "",
            "description_tooltip": null,
            "layout": "IPY_MODEL_5848d9b95efa45e5915c7aa8523fc646",
            "placeholder": "​",
            "style": "IPY_MODEL_2f2ffe6ad5a6404cbed00592bf63b398",
            "value": " 67/67 [23:49&lt;00:00, 29.49s/it]"
          }
        },
        "17edf9cade424454a9dcf50435ff01ca": {
          "model_module": "@jupyter-widgets/base",
          "model_name": "LayoutModel",
          "model_module_version": "1.2.0",
          "state": {
            "_model_module": "@jupyter-widgets/base",
            "_model_module_version": "1.2.0",
            "_model_name": "LayoutModel",
            "_view_count": null,
            "_view_module": "@jupyter-widgets/base",
            "_view_module_version": "1.2.0",
            "_view_name": "LayoutView",
            "align_content": null,
            "align_items": null,
            "align_self": null,
            "border": null,
            "bottom": null,
            "display": null,
            "flex": null,
            "flex_flow": null,
            "grid_area": null,
            "grid_auto_columns": null,
            "grid_auto_flow": null,
            "grid_auto_rows": null,
            "grid_column": null,
            "grid_gap": null,
            "grid_row": null,
            "grid_template_areas": null,
            "grid_template_columns": null,
            "grid_template_rows": null,
            "height": null,
            "justify_content": null,
            "justify_items": null,
            "left": null,
            "margin": null,
            "max_height": null,
            "max_width": null,
            "min_height": null,
            "min_width": null,
            "object_fit": null,
            "object_position": null,
            "order": null,
            "overflow": null,
            "overflow_x": null,
            "overflow_y": null,
            "padding": null,
            "right": null,
            "top": null,
            "visibility": null,
            "width": null
          }
        },
        "f28a9bc80a0e4713a9df3f36ccf16b9c": {
          "model_module": "@jupyter-widgets/base",
          "model_name": "LayoutModel",
          "model_module_version": "1.2.0",
          "state": {
            "_model_module": "@jupyter-widgets/base",
            "_model_module_version": "1.2.0",
            "_model_name": "LayoutModel",
            "_view_count": null,
            "_view_module": "@jupyter-widgets/base",
            "_view_module_version": "1.2.0",
            "_view_name": "LayoutView",
            "align_content": null,
            "align_items": null,
            "align_self": null,
            "border": null,
            "bottom": null,
            "display": null,
            "flex": null,
            "flex_flow": null,
            "grid_area": null,
            "grid_auto_columns": null,
            "grid_auto_flow": null,
            "grid_auto_rows": null,
            "grid_column": null,
            "grid_gap": null,
            "grid_row": null,
            "grid_template_areas": null,
            "grid_template_columns": null,
            "grid_template_rows": null,
            "height": null,
            "justify_content": null,
            "justify_items": null,
            "left": null,
            "margin": null,
            "max_height": null,
            "max_width": null,
            "min_height": null,
            "min_width": null,
            "object_fit": null,
            "object_position": null,
            "order": null,
            "overflow": null,
            "overflow_x": null,
            "overflow_y": null,
            "padding": null,
            "right": null,
            "top": null,
            "visibility": null,
            "width": null
          }
        },
        "84777657dad14f648fef51ac89444386": {
          "model_module": "@jupyter-widgets/controls",
          "model_name": "DescriptionStyleModel",
          "model_module_version": "1.5.0",
          "state": {
            "_model_module": "@jupyter-widgets/controls",
            "_model_module_version": "1.5.0",
            "_model_name": "DescriptionStyleModel",
            "_view_count": null,
            "_view_module": "@jupyter-widgets/base",
            "_view_module_version": "1.2.0",
            "_view_name": "StyleView",
            "description_width": ""
          }
        },
        "06951e368daf451bb9cd6b4e9b280d8d": {
          "model_module": "@jupyter-widgets/base",
          "model_name": "LayoutModel",
          "model_module_version": "1.2.0",
          "state": {
            "_model_module": "@jupyter-widgets/base",
            "_model_module_version": "1.2.0",
            "_model_name": "LayoutModel",
            "_view_count": null,
            "_view_module": "@jupyter-widgets/base",
            "_view_module_version": "1.2.0",
            "_view_name": "LayoutView",
            "align_content": null,
            "align_items": null,
            "align_self": null,
            "border": null,
            "bottom": null,
            "display": null,
            "flex": null,
            "flex_flow": null,
            "grid_area": null,
            "grid_auto_columns": null,
            "grid_auto_flow": null,
            "grid_auto_rows": null,
            "grid_column": null,
            "grid_gap": null,
            "grid_row": null,
            "grid_template_areas": null,
            "grid_template_columns": null,
            "grid_template_rows": null,
            "height": null,
            "justify_content": null,
            "justify_items": null,
            "left": null,
            "margin": null,
            "max_height": null,
            "max_width": null,
            "min_height": null,
            "min_width": null,
            "object_fit": null,
            "object_position": null,
            "order": null,
            "overflow": null,
            "overflow_x": null,
            "overflow_y": null,
            "padding": null,
            "right": null,
            "top": null,
            "visibility": null,
            "width": null
          }
        },
        "68f2c4d719f24b07bbf66ca4d16146bd": {
          "model_module": "@jupyter-widgets/controls",
          "model_name": "ProgressStyleModel",
          "model_module_version": "1.5.0",
          "state": {
            "_model_module": "@jupyter-widgets/controls",
            "_model_module_version": "1.5.0",
            "_model_name": "ProgressStyleModel",
            "_view_count": null,
            "_view_module": "@jupyter-widgets/base",
            "_view_module_version": "1.2.0",
            "_view_name": "StyleView",
            "bar_color": null,
            "description_width": ""
          }
        },
        "5848d9b95efa45e5915c7aa8523fc646": {
          "model_module": "@jupyter-widgets/base",
          "model_name": "LayoutModel",
          "model_module_version": "1.2.0",
          "state": {
            "_model_module": "@jupyter-widgets/base",
            "_model_module_version": "1.2.0",
            "_model_name": "LayoutModel",
            "_view_count": null,
            "_view_module": "@jupyter-widgets/base",
            "_view_module_version": "1.2.0",
            "_view_name": "LayoutView",
            "align_content": null,
            "align_items": null,
            "align_self": null,
            "border": null,
            "bottom": null,
            "display": null,
            "flex": null,
            "flex_flow": null,
            "grid_area": null,
            "grid_auto_columns": null,
            "grid_auto_flow": null,
            "grid_auto_rows": null,
            "grid_column": null,
            "grid_gap": null,
            "grid_row": null,
            "grid_template_areas": null,
            "grid_template_columns": null,
            "grid_template_rows": null,
            "height": null,
            "justify_content": null,
            "justify_items": null,
            "left": null,
            "margin": null,
            "max_height": null,
            "max_width": null,
            "min_height": null,
            "min_width": null,
            "object_fit": null,
            "object_position": null,
            "order": null,
            "overflow": null,
            "overflow_x": null,
            "overflow_y": null,
            "padding": null,
            "right": null,
            "top": null,
            "visibility": null,
            "width": null
          }
        },
        "2f2ffe6ad5a6404cbed00592bf63b398": {
          "model_module": "@jupyter-widgets/controls",
          "model_name": "DescriptionStyleModel",
          "model_module_version": "1.5.0",
          "state": {
            "_model_module": "@jupyter-widgets/controls",
            "_model_module_version": "1.5.0",
            "_model_name": "DescriptionStyleModel",
            "_view_count": null,
            "_view_module": "@jupyter-widgets/base",
            "_view_module_version": "1.2.0",
            "_view_name": "StyleView",
            "description_width": ""
          }
        },
        "b74b46b78aba417a9368e405b499d777": {
          "model_module": "@jupyter-widgets/controls",
          "model_name": "HBoxModel",
          "model_module_version": "1.5.0",
          "state": {
            "_dom_classes": [],
            "_model_module": "@jupyter-widgets/controls",
            "_model_module_version": "1.5.0",
            "_model_name": "HBoxModel",
            "_view_count": null,
            "_view_module": "@jupyter-widgets/controls",
            "_view_module_version": "1.5.0",
            "_view_name": "HBoxView",
            "box_style": "",
            "children": [
              "IPY_MODEL_4fee809cdd2c42b8b3cb3f19b62cd0eb",
              "IPY_MODEL_6a7d4469f0fc4f25a8bcffd6db60c76a",
              "IPY_MODEL_cddfda38580f437181c99608e2a7dde1"
            ],
            "layout": "IPY_MODEL_84769cf08c6949d282f67a407f9f22fc"
          }
        },
        "4fee809cdd2c42b8b3cb3f19b62cd0eb": {
          "model_module": "@jupyter-widgets/controls",
          "model_name": "HTMLModel",
          "model_module_version": "1.5.0",
          "state": {
            "_dom_classes": [],
            "_model_module": "@jupyter-widgets/controls",
            "_model_module_version": "1.5.0",
            "_model_name": "HTMLModel",
            "_view_count": null,
            "_view_module": "@jupyter-widgets/controls",
            "_view_module_version": "1.5.0",
            "_view_name": "HTMLView",
            "description": "",
            "description_tooltip": null,
            "layout": "IPY_MODEL_6fe626dfe5e44808bcda8b4b5ab41566",
            "placeholder": "​",
            "style": "IPY_MODEL_c48d111d8b9b4b76873acefdc1ec7afc",
            "value": "Downloading builder script: 100%"
          }
        },
        "6a7d4469f0fc4f25a8bcffd6db60c76a": {
          "model_module": "@jupyter-widgets/controls",
          "model_name": "FloatProgressModel",
          "model_module_version": "1.5.0",
          "state": {
            "_dom_classes": [],
            "_model_module": "@jupyter-widgets/controls",
            "_model_module_version": "1.5.0",
            "_model_name": "FloatProgressModel",
            "_view_count": null,
            "_view_module": "@jupyter-widgets/controls",
            "_view_module_version": "1.5.0",
            "_view_name": "ProgressView",
            "bar_style": "success",
            "description": "",
            "description_tooltip": null,
            "layout": "IPY_MODEL_8879790729b64a59a2bbf4b7f0bc40e0",
            "max": 8146,
            "min": 0,
            "orientation": "horizontal",
            "style": "IPY_MODEL_19bf1805d5044701b5446d5de83cc253",
            "value": 8146
          }
        },
        "cddfda38580f437181c99608e2a7dde1": {
          "model_module": "@jupyter-widgets/controls",
          "model_name": "HTMLModel",
          "model_module_version": "1.5.0",
          "state": {
            "_dom_classes": [],
            "_model_module": "@jupyter-widgets/controls",
            "_model_module_version": "1.5.0",
            "_model_name": "HTMLModel",
            "_view_count": null,
            "_view_module": "@jupyter-widgets/controls",
            "_view_module_version": "1.5.0",
            "_view_name": "HTMLView",
            "description": "",
            "description_tooltip": null,
            "layout": "IPY_MODEL_706202a19f7744f7960d77a5a03232ad",
            "placeholder": "​",
            "style": "IPY_MODEL_4c6741e4600345b3ac1ffacf1935107d",
            "value": " 8.15k/8.15k [00:00&lt;00:00, 501kB/s]"
          }
        },
        "84769cf08c6949d282f67a407f9f22fc": {
          "model_module": "@jupyter-widgets/base",
          "model_name": "LayoutModel",
          "model_module_version": "1.2.0",
          "state": {
            "_model_module": "@jupyter-widgets/base",
            "_model_module_version": "1.2.0",
            "_model_name": "LayoutModel",
            "_view_count": null,
            "_view_module": "@jupyter-widgets/base",
            "_view_module_version": "1.2.0",
            "_view_name": "LayoutView",
            "align_content": null,
            "align_items": null,
            "align_self": null,
            "border": null,
            "bottom": null,
            "display": null,
            "flex": null,
            "flex_flow": null,
            "grid_area": null,
            "grid_auto_columns": null,
            "grid_auto_flow": null,
            "grid_auto_rows": null,
            "grid_column": null,
            "grid_gap": null,
            "grid_row": null,
            "grid_template_areas": null,
            "grid_template_columns": null,
            "grid_template_rows": null,
            "height": null,
            "justify_content": null,
            "justify_items": null,
            "left": null,
            "margin": null,
            "max_height": null,
            "max_width": null,
            "min_height": null,
            "min_width": null,
            "object_fit": null,
            "object_position": null,
            "order": null,
            "overflow": null,
            "overflow_x": null,
            "overflow_y": null,
            "padding": null,
            "right": null,
            "top": null,
            "visibility": null,
            "width": null
          }
        },
        "6fe626dfe5e44808bcda8b4b5ab41566": {
          "model_module": "@jupyter-widgets/base",
          "model_name": "LayoutModel",
          "model_module_version": "1.2.0",
          "state": {
            "_model_module": "@jupyter-widgets/base",
            "_model_module_version": "1.2.0",
            "_model_name": "LayoutModel",
            "_view_count": null,
            "_view_module": "@jupyter-widgets/base",
            "_view_module_version": "1.2.0",
            "_view_name": "LayoutView",
            "align_content": null,
            "align_items": null,
            "align_self": null,
            "border": null,
            "bottom": null,
            "display": null,
            "flex": null,
            "flex_flow": null,
            "grid_area": null,
            "grid_auto_columns": null,
            "grid_auto_flow": null,
            "grid_auto_rows": null,
            "grid_column": null,
            "grid_gap": null,
            "grid_row": null,
            "grid_template_areas": null,
            "grid_template_columns": null,
            "grid_template_rows": null,
            "height": null,
            "justify_content": null,
            "justify_items": null,
            "left": null,
            "margin": null,
            "max_height": null,
            "max_width": null,
            "min_height": null,
            "min_width": null,
            "object_fit": null,
            "object_position": null,
            "order": null,
            "overflow": null,
            "overflow_x": null,
            "overflow_y": null,
            "padding": null,
            "right": null,
            "top": null,
            "visibility": null,
            "width": null
          }
        },
        "c48d111d8b9b4b76873acefdc1ec7afc": {
          "model_module": "@jupyter-widgets/controls",
          "model_name": "DescriptionStyleModel",
          "model_module_version": "1.5.0",
          "state": {
            "_model_module": "@jupyter-widgets/controls",
            "_model_module_version": "1.5.0",
            "_model_name": "DescriptionStyleModel",
            "_view_count": null,
            "_view_module": "@jupyter-widgets/base",
            "_view_module_version": "1.2.0",
            "_view_name": "StyleView",
            "description_width": ""
          }
        },
        "8879790729b64a59a2bbf4b7f0bc40e0": {
          "model_module": "@jupyter-widgets/base",
          "model_name": "LayoutModel",
          "model_module_version": "1.2.0",
          "state": {
            "_model_module": "@jupyter-widgets/base",
            "_model_module_version": "1.2.0",
            "_model_name": "LayoutModel",
            "_view_count": null,
            "_view_module": "@jupyter-widgets/base",
            "_view_module_version": "1.2.0",
            "_view_name": "LayoutView",
            "align_content": null,
            "align_items": null,
            "align_self": null,
            "border": null,
            "bottom": null,
            "display": null,
            "flex": null,
            "flex_flow": null,
            "grid_area": null,
            "grid_auto_columns": null,
            "grid_auto_flow": null,
            "grid_auto_rows": null,
            "grid_column": null,
            "grid_gap": null,
            "grid_row": null,
            "grid_template_areas": null,
            "grid_template_columns": null,
            "grid_template_rows": null,
            "height": null,
            "justify_content": null,
            "justify_items": null,
            "left": null,
            "margin": null,
            "max_height": null,
            "max_width": null,
            "min_height": null,
            "min_width": null,
            "object_fit": null,
            "object_position": null,
            "order": null,
            "overflow": null,
            "overflow_x": null,
            "overflow_y": null,
            "padding": null,
            "right": null,
            "top": null,
            "visibility": null,
            "width": null
          }
        },
        "19bf1805d5044701b5446d5de83cc253": {
          "model_module": "@jupyter-widgets/controls",
          "model_name": "ProgressStyleModel",
          "model_module_version": "1.5.0",
          "state": {
            "_model_module": "@jupyter-widgets/controls",
            "_model_module_version": "1.5.0",
            "_model_name": "ProgressStyleModel",
            "_view_count": null,
            "_view_module": "@jupyter-widgets/base",
            "_view_module_version": "1.2.0",
            "_view_name": "StyleView",
            "bar_color": null,
            "description_width": ""
          }
        },
        "706202a19f7744f7960d77a5a03232ad": {
          "model_module": "@jupyter-widgets/base",
          "model_name": "LayoutModel",
          "model_module_version": "1.2.0",
          "state": {
            "_model_module": "@jupyter-widgets/base",
            "_model_module_version": "1.2.0",
            "_model_name": "LayoutModel",
            "_view_count": null,
            "_view_module": "@jupyter-widgets/base",
            "_view_module_version": "1.2.0",
            "_view_name": "LayoutView",
            "align_content": null,
            "align_items": null,
            "align_self": null,
            "border": null,
            "bottom": null,
            "display": null,
            "flex": null,
            "flex_flow": null,
            "grid_area": null,
            "grid_auto_columns": null,
            "grid_auto_flow": null,
            "grid_auto_rows": null,
            "grid_column": null,
            "grid_gap": null,
            "grid_row": null,
            "grid_template_areas": null,
            "grid_template_columns": null,
            "grid_template_rows": null,
            "height": null,
            "justify_content": null,
            "justify_items": null,
            "left": null,
            "margin": null,
            "max_height": null,
            "max_width": null,
            "min_height": null,
            "min_width": null,
            "object_fit": null,
            "object_position": null,
            "order": null,
            "overflow": null,
            "overflow_x": null,
            "overflow_y": null,
            "padding": null,
            "right": null,
            "top": null,
            "visibility": null,
            "width": null
          }
        },
        "4c6741e4600345b3ac1ffacf1935107d": {
          "model_module": "@jupyter-widgets/controls",
          "model_name": "DescriptionStyleModel",
          "model_module_version": "1.5.0",
          "state": {
            "_model_module": "@jupyter-widgets/controls",
            "_model_module_version": "1.5.0",
            "_model_name": "DescriptionStyleModel",
            "_view_count": null,
            "_view_module": "@jupyter-widgets/base",
            "_view_module_version": "1.2.0",
            "_view_name": "StyleView",
            "description_width": ""
          }
        }
      }
    },
    "accelerator": "GPU"
  },
  "nbformat": 4,
  "nbformat_minor": 0
}